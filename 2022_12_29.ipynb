{
  "nbformat": 4,
  "nbformat_minor": 0,
  "metadata": {
    "colab": {
      "provenance": []
    },
    "kernelspec": {
      "name": "python3",
      "display_name": "Python 3"
    },
    "language_info": {
      "name": "python"
    }
  },
  "cells": [
    {
      "cell_type": "code",
      "source": [],
      "metadata": {
        "id": "fAkJ9oHLNQ30"
      },
      "execution_count": null,
      "outputs": []
    },
    {
      "cell_type": "markdown",
      "source": [
        "######2022. 12. 29.\n",
        "#빅데이터 마케팅 전문가 과정\n",
        "####박경모\n"
      ],
      "metadata": {
        "id": "MpuRnj7_NSr2"
      }
    },
    {
      "cell_type": "code",
      "source": [],
      "metadata": {
        "id": "oEteBdI3NeYe"
      },
      "execution_count": null,
      "outputs": []
    },
    {
      "cell_type": "code",
      "execution_count": null,
      "metadata": {
        "colab": {
          "base_uri": "https://localhost:8080/"
        },
        "id": "0N9gHuHVMv6p",
        "outputId": "ba06cb12-4f0e-4681-ef98-05ca86429fb4"
      },
      "outputs": [
        {
          "output_type": "stream",
          "name": "stdout",
          "text": [
            "hello world\n"
          ]
        }
      ],
      "source": [
        "print(\"hello world\")"
      ]
    },
    {
      "cell_type": "code",
      "source": [],
      "metadata": {
        "id": "_EBYcsaWNHGC"
      },
      "execution_count": null,
      "outputs": []
    },
    {
      "cell_type": "code",
      "source": [
        "a = \"python\""
      ],
      "metadata": {
        "id": "dH08ey_uNCNz"
      },
      "execution_count": null,
      "outputs": []
    },
    {
      "cell_type": "code",
      "source": [
        "a"
      ],
      "metadata": {
        "colab": {
          "base_uri": "https://localhost:8080/",
          "height": 35
        },
        "id": "lI7ZUKayOygS",
        "outputId": "ad9448cb-d589-42ec-e7ab-6d849c129745"
      },
      "execution_count": null,
      "outputs": [
        {
          "output_type": "execute_result",
          "data": {
            "text/plain": [
              "'python'"
            ],
            "application/vnd.google.colaboratory.intrinsic+json": {
              "type": "string"
            }
          },
          "metadata": {},
          "execution_count": 3
        }
      ]
    },
    {
      "cell_type": "code",
      "source": [
        "print(a)"
      ],
      "metadata": {
        "colab": {
          "base_uri": "https://localhost:8080/"
        },
        "id": "vvHLxjMZPYwK",
        "outputId": "a48ae923-62ce-4fd2-827b-62301a65be2f"
      },
      "execution_count": null,
      "outputs": [
        {
          "output_type": "stream",
          "name": "stdout",
          "text": [
            "python\n"
          ]
        }
      ]
    },
    {
      "cell_type": "code",
      "source": [
        "del a"
      ],
      "metadata": {
        "id": "vzA7waxvP2T2"
      },
      "execution_count": null,
      "outputs": []
    },
    {
      "cell_type": "code",
      "source": [
        "print(a)"
      ],
      "metadata": {
        "colab": {
          "base_uri": "https://localhost:8080/",
          "height": 172
        },
        "id": "5CsyhQpaP5ax",
        "outputId": "5c2b1d89-690b-451d-f670-8ccb383fc39a"
      },
      "execution_count": null,
      "outputs": [
        {
          "output_type": "error",
          "ename": "NameError",
          "evalue": "ignored",
          "traceback": [
            "\u001b[0;31m---------------------------------------------------------------------------\u001b[0m",
            "\u001b[0;31mNameError\u001b[0m                                 Traceback (most recent call last)",
            "\u001b[0;32m<ipython-input-6-bca0e2660b9f>\u001b[0m in \u001b[0;36m<module>\u001b[0;34m\u001b[0m\n\u001b[0;32m----> 1\u001b[0;31m \u001b[0mprint\u001b[0m\u001b[0;34m(\u001b[0m\u001b[0ma\u001b[0m\u001b[0;34m)\u001b[0m\u001b[0;34m\u001b[0m\u001b[0;34m\u001b[0m\u001b[0m\n\u001b[0m",
            "\u001b[0;31mNameError\u001b[0m: name 'a' is not defined"
          ]
        }
      ]
    },
    {
      "cell_type": "code",
      "source": [
        "a = 2"
      ],
      "metadata": {
        "id": "OVXK8QAlP6qN"
      },
      "execution_count": null,
      "outputs": []
    },
    {
      "cell_type": "code",
      "source": [
        "print(a)"
      ],
      "metadata": {
        "colab": {
          "base_uri": "https://localhost:8080/"
        },
        "id": "3LIUeY9xQX14",
        "outputId": "1ad69b9a-2442-4cf4-d373-6a8085d7af80"
      },
      "execution_count": null,
      "outputs": [
        {
          "output_type": "stream",
          "name": "stdout",
          "text": [
            "1\n"
          ]
        }
      ]
    },
    {
      "cell_type": "code",
      "source": [
        "b = 4"
      ],
      "metadata": {
        "id": "ZB1HRCUgQltH"
      },
      "execution_count": null,
      "outputs": []
    },
    {
      "cell_type": "code",
      "source": [
        "print(b)"
      ],
      "metadata": {
        "colab": {
          "base_uri": "https://localhost:8080/"
        },
        "id": "WFAvB5sHQnel",
        "outputId": "5dad545b-9b96-45d3-d4ea-a773bc3b3f45"
      },
      "execution_count": null,
      "outputs": [
        {
          "output_type": "stream",
          "name": "stdout",
          "text": [
            "4\n"
          ]
        }
      ]
    },
    {
      "cell_type": "code",
      "source": [
        "a*b"
      ],
      "metadata": {
        "colab": {
          "base_uri": "https://localhost:8080/"
        },
        "id": "lya3x5KEQtSK",
        "outputId": "dd8dfa22-7f77-46db-b37b-c7eacf9b1aa0"
      },
      "execution_count": null,
      "outputs": [
        {
          "output_type": "execute_result",
          "data": {
            "text/plain": [
              "8"
            ]
          },
          "metadata": {},
          "execution_count": 15
        }
      ]
    },
    {
      "cell_type": "code",
      "source": [
        "a/b"
      ],
      "metadata": {
        "colab": {
          "base_uri": "https://localhost:8080/"
        },
        "id": "ZjFko-iXRBvm",
        "outputId": "2f3740af-896d-4550-dcea-38d0fc8ada41"
      },
      "execution_count": null,
      "outputs": [
        {
          "output_type": "execute_result",
          "data": {
            "text/plain": [
              "0.5"
            ]
          },
          "metadata": {},
          "execution_count": 16
        }
      ]
    },
    {
      "cell_type": "code",
      "source": [
        "a = 123"
      ],
      "metadata": {
        "id": "BWGp-wCURO9k"
      },
      "execution_count": null,
      "outputs": []
    },
    {
      "cell_type": "code",
      "source": [
        "type(a)"
      ],
      "metadata": {
        "colab": {
          "base_uri": "https://localhost:8080/"
        },
        "id": "HTZ3UbmdRWFO",
        "outputId": "bfb02359-d228-452f-d269-f36d0ac52790"
      },
      "execution_count": null,
      "outputs": [
        {
          "output_type": "execute_result",
          "data": {
            "text/plain": [
              "int"
            ]
          },
          "metadata": {},
          "execution_count": 19
        }
      ]
    },
    {
      "cell_type": "code",
      "source": [
        "b = 123.1"
      ],
      "metadata": {
        "id": "RuPfx2NlRhdN"
      },
      "execution_count": null,
      "outputs": []
    },
    {
      "cell_type": "code",
      "source": [
        "type(b)"
      ],
      "metadata": {
        "colab": {
          "base_uri": "https://localhost:8080/"
        },
        "id": "leCTSpm_RjHw",
        "outputId": "d4ecebb0-9c21-4b58-d2e7-e53f7656d522"
      },
      "execution_count": null,
      "outputs": [
        {
          "output_type": "execute_result",
          "data": {
            "text/plain": [
              "float"
            ]
          },
          "metadata": {},
          "execution_count": 22
        }
      ]
    },
    {
      "cell_type": "code",
      "source": [
        "c = a+b"
      ],
      "metadata": {
        "id": "2u1eP7oCRklO"
      },
      "execution_count": null,
      "outputs": []
    },
    {
      "cell_type": "code",
      "source": [
        "c"
      ],
      "metadata": {
        "colab": {
          "base_uri": "https://localhost:8080/"
        },
        "id": "SMG63-PcRtFb",
        "outputId": "7cc026c3-63ee-4de1-f48b-b28f7924e1bb"
      },
      "execution_count": null,
      "outputs": [
        {
          "output_type": "execute_result",
          "data": {
            "text/plain": [
              "246.1"
            ]
          },
          "metadata": {},
          "execution_count": 26
        }
      ]
    },
    {
      "cell_type": "code",
      "source": [
        "type(c)"
      ],
      "metadata": {
        "colab": {
          "base_uri": "https://localhost:8080/"
        },
        "id": "J97sjME9RvzZ",
        "outputId": "255b84b8-eda3-4023-9de5-a3841694ef93"
      },
      "execution_count": null,
      "outputs": [
        {
          "output_type": "execute_result",
          "data": {
            "text/plain": [
              "float"
            ]
          },
          "metadata": {},
          "execution_count": 27
        }
      ]
    },
    {
      "cell_type": "code",
      "source": [
        "type(int(c))"
      ],
      "metadata": {
        "colab": {
          "base_uri": "https://localhost:8080/"
        },
        "id": "o9sMOWH9Rx99",
        "outputId": "451693d6-f0aa-4461-e80b-ea037b520f6d"
      },
      "execution_count": null,
      "outputs": [
        {
          "output_type": "execute_result",
          "data": {
            "text/plain": [
              "int"
            ]
          },
          "metadata": {},
          "execution_count": 28
        }
      ]
    },
    {
      "cell_type": "code",
      "source": [
        "d = \"python\""
      ],
      "metadata": {
        "id": "RoJmfDjGR4zx"
      },
      "execution_count": null,
      "outputs": []
    },
    {
      "cell_type": "code",
      "source": [
        "type(d)"
      ],
      "metadata": {
        "colab": {
          "base_uri": "https://localhost:8080/"
        },
        "id": "p7P8cTS7SDuw",
        "outputId": "be9d5dc8-f720-4c25-a51d-cd687affcb8c"
      },
      "execution_count": null,
      "outputs": [
        {
          "output_type": "execute_result",
          "data": {
            "text/plain": [
              "str"
            ]
          },
          "metadata": {},
          "execution_count": 31
        }
      ]
    },
    {
      "cell_type": "code",
      "source": [
        "3**2"
      ],
      "metadata": {
        "colab": {
          "base_uri": "https://localhost:8080/"
        },
        "id": "vO5xAmh1SFi1",
        "outputId": "7339dd66-f180-413b-db02-dec5b6283e02"
      },
      "execution_count": null,
      "outputs": [
        {
          "output_type": "execute_result",
          "data": {
            "text/plain": [
              "9"
            ]
          },
          "metadata": {},
          "execution_count": 35
        }
      ]
    },
    {
      "cell_type": "code",
      "source": [
        "3**20"
      ],
      "metadata": {
        "colab": {
          "base_uri": "https://localhost:8080/"
        },
        "id": "ZBmxmlU1SZgA",
        "outputId": "8ebed576-23b6-4ede-89eb-eb4d58f89f72"
      },
      "execution_count": null,
      "outputs": [
        {
          "output_type": "execute_result",
          "data": {
            "text/plain": [
              "3486784401"
            ]
          },
          "metadata": {},
          "execution_count": 37
        }
      ]
    },
    {
      "cell_type": "code",
      "source": [
        "3**0.5"
      ],
      "metadata": {
        "colab": {
          "base_uri": "https://localhost:8080/"
        },
        "id": "7iTy549NSner",
        "outputId": "1d139406-a774-4147-d32a-135ec11df745"
      },
      "execution_count": null,
      "outputs": [
        {
          "output_type": "execute_result",
          "data": {
            "text/plain": [
              "1.7320508075688772"
            ]
          },
          "metadata": {},
          "execution_count": 40
        }
      ]
    },
    {
      "cell_type": "code",
      "source": [
        "int(13/4)"
      ],
      "metadata": {
        "colab": {
          "base_uri": "https://localhost:8080/"
        },
        "id": "0G7UCT5CSt1E",
        "outputId": "4539aac4-5ba5-44a3-d113-718d807c6a5a"
      },
      "execution_count": null,
      "outputs": [
        {
          "output_type": "execute_result",
          "data": {
            "text/plain": [
              "3"
            ]
          },
          "metadata": {},
          "execution_count": 41
        }
      ]
    },
    {
      "cell_type": "code",
      "source": [
        "13//4"
      ],
      "metadata": {
        "colab": {
          "base_uri": "https://localhost:8080/"
        },
        "id": "D3qajf90S7KP",
        "outputId": "d29d2088-a1cb-4315-c58e-2419d929caa6"
      },
      "execution_count": null,
      "outputs": [
        {
          "output_type": "execute_result",
          "data": {
            "text/plain": [
              "3"
            ]
          },
          "metadata": {},
          "execution_count": 42
        }
      ]
    },
    {
      "cell_type": "code",
      "source": [
        "13%4"
      ],
      "metadata": {
        "colab": {
          "base_uri": "https://localhost:8080/"
        },
        "id": "ERS4WxXmTAJQ",
        "outputId": "af72bd87-2d62-4e89-a739-e3b3203213d1"
      },
      "execution_count": null,
      "outputs": [
        {
          "output_type": "execute_result",
          "data": {
            "text/plain": [
              "1"
            ]
          },
          "metadata": {},
          "execution_count": 43
        }
      ]
    },
    {
      "cell_type": "code",
      "source": [
        "print(\"ubion's the best.\")"
      ],
      "metadata": {
        "colab": {
          "base_uri": "https://localhost:8080/"
        },
        "id": "r1w7rRjWTFme",
        "outputId": "d55a397a-8962-406b-a324-2b26f16a640c"
      },
      "execution_count": null,
      "outputs": [
        {
          "output_type": "stream",
          "name": "stdout",
          "text": [
            "ubion's the best.\n"
          ]
        }
      ]
    },
    {
      "cell_type": "code",
      "source": [
        "print(\"ubion isn't the best.\")"
      ],
      "metadata": {
        "colab": {
          "base_uri": "https://localhost:8080/"
        },
        "id": "zlRGpXJLTdrh",
        "outputId": "099d1f0e-060c-440e-fa4b-10848ba830e3"
      },
      "execution_count": null,
      "outputs": [
        {
          "output_type": "stream",
          "name": "stdout",
          "text": [
            "ubion isn't the best.\n"
          ]
        }
      ]
    },
    {
      "cell_type": "code",
      "source": [
        "print('ubion isn't the best.)"
      ],
      "metadata": {
        "colab": {
          "base_uri": "https://localhost:8080/",
          "height": 136
        },
        "id": "D_nfqKhXTyjr",
        "outputId": "d62eb2da-c753-4c49-cd84-f6e576ae6d2b"
      },
      "execution_count": null,
      "outputs": [
        {
          "output_type": "error",
          "ename": "SyntaxError",
          "evalue": "ignored",
          "traceback": [
            "\u001b[0;36m  File \u001b[0;32m\"<ipython-input-50-9320cbaf0bbb>\"\u001b[0;36m, line \u001b[0;32m1\u001b[0m\n\u001b[0;31m    print('ubion isn't the best.)\u001b[0m\n\u001b[0m                     ^\u001b[0m\n\u001b[0;31mSyntaxError\u001b[0m\u001b[0;31m:\u001b[0m invalid syntax\n"
          ]
        }
      ]
    },
    {
      "cell_type": "code",
      "source": [
        "print(\"ubion isn't the best.\")"
      ],
      "metadata": {
        "colab": {
          "base_uri": "https://localhost:8080/"
        },
        "id": "xjXUejM4UDKS",
        "outputId": "d48b4164-5bda-4d98-ccff-d0198ae7e065"
      },
      "execution_count": null,
      "outputs": [
        {
          "output_type": "stream",
          "name": "stdout",
          "text": [
            "ubion isn't the best.\n"
          ]
        }
      ]
    },
    {
      "cell_type": "code",
      "source": [
        "print('ubion isn't the best)"
      ],
      "metadata": {
        "colab": {
          "base_uri": "https://localhost:8080/",
          "height": 136
        },
        "id": "X4HdIdVUUGVu",
        "outputId": "abb29e67-89b4-43c0-f4da-99c0da96e963"
      },
      "execution_count": null,
      "outputs": [
        {
          "output_type": "error",
          "ename": "SyntaxError",
          "evalue": "ignored",
          "traceback": [
            "\u001b[0;36m  File \u001b[0;32m\"<ipython-input-53-7a6614ee82c0>\"\u001b[0;36m, line \u001b[0;32m1\u001b[0m\n\u001b[0;31m    print('ubion isn't the best)\u001b[0m\n\u001b[0m                     ^\u001b[0m\n\u001b[0;31mSyntaxError\u001b[0m\u001b[0;31m:\u001b[0m invalid syntax\n"
          ]
        }
      ]
    },
    {
      "cell_type": "code",
      "source": [
        "print(\"ubion is the best. \\n ubion isn't the best.\")"
      ],
      "metadata": {
        "colab": {
          "base_uri": "https://localhost:8080/"
        },
        "id": "UISJdq-1Uawd",
        "outputId": "49871399-fceb-4d83-dde8-6ea0274bf8b0"
      },
      "execution_count": null,
      "outputs": [
        {
          "output_type": "stream",
          "name": "stdout",
          "text": [
            "ubion is the best. \n",
            " ubion isn't the best.\n"
          ]
        }
      ]
    },
    {
      "cell_type": "code",
      "source": [
        "a = \"Ubion is the best. \""
      ],
      "metadata": {
        "id": "XL23YzKoVFZP"
      },
      "execution_count": null,
      "outputs": []
    },
    {
      "cell_type": "code",
      "source": [
        "b = \"Ubion isn't best.\""
      ],
      "metadata": {
        "id": "2DeeKsxNVt1N"
      },
      "execution_count": null,
      "outputs": []
    },
    {
      "cell_type": "code",
      "source": [
        "ubion = a+b"
      ],
      "metadata": {
        "id": "n2vy8rX-Vwum"
      },
      "execution_count": null,
      "outputs": []
    },
    {
      "cell_type": "code",
      "source": [
        "print(ubion)"
      ],
      "metadata": {
        "colab": {
          "base_uri": "https://localhost:8080/"
        },
        "id": "-PTh0dFYV3JS",
        "outputId": "63b0720d-5a1e-41c3-fcd8-e00ad171af19"
      },
      "execution_count": null,
      "outputs": [
        {
          "output_type": "stream",
          "name": "stdout",
          "text": [
            "Ubion is the best. Ubion isn't best.\n"
          ]
        }
      ]
    },
    {
      "cell_type": "code",
      "source": [
        "a*20"
      ],
      "metadata": {
        "colab": {
          "base_uri": "https://localhost:8080/",
          "height": 54
        },
        "id": "Cuo0xgWXV5Ii",
        "outputId": "90136640-fa51-45ab-ddf3-02fa82a755a3"
      },
      "execution_count": null,
      "outputs": [
        {
          "output_type": "execute_result",
          "data": {
            "text/plain": [
              "'Ubion is the best. Ubion is the best. Ubion is the best. Ubion is the best. Ubion is the best. Ubion is the best. Ubion is the best. Ubion is the best. Ubion is the best. Ubion is the best. Ubion is the best. Ubion is the best. Ubion is the best. Ubion is the best. Ubion is the best. Ubion is the best. Ubion is the best. Ubion is the best. Ubion is the best. Ubion is the best. '"
            ],
            "application/vnd.google.colaboratory.intrinsic+json": {
              "type": "string"
            }
          },
          "metadata": {},
          "execution_count": 77
        }
      ]
    },
    {
      "cell_type": "code",
      "source": [
        "print('-'*100)\n",
        "print(a*5)\n",
        "print('-'*100)\n",
        "#유비온은 최고의 교육기관이다."
      ],
      "metadata": {
        "colab": {
          "base_uri": "https://localhost:8080/"
        },
        "id": "ufGEQuVSZZST",
        "outputId": "3cb077a8-c9aa-4110-deea-0f2b9c8e32c8"
      },
      "execution_count": null,
      "outputs": [
        {
          "output_type": "stream",
          "name": "stdout",
          "text": [
            "----------------------------------------------------------------------------------------------------\n",
            "Ubion is the best. Ubion is the best. Ubion is the best. Ubion is the best. Ubion is the best. \n",
            "----------------------------------------------------------------------------------------------------\n"
          ]
        }
      ]
    },
    {
      "cell_type": "code",
      "source": [
        "\"유비온은 최고의 교육기관이다.\"[0:3]\n",
        "#[a:b] : a<= x <b\n",
        "# a보다 크거나 같고, b보다 작은 인덱스를 꺼내온다."
      ],
      "metadata": {
        "colab": {
          "base_uri": "https://localhost:8080/",
          "height": 35
        },
        "id": "DZlDQOD1Zqhe",
        "outputId": "aa9faec5-106f-4423-9a5e-fa4c04e89e41"
      },
      "execution_count": null,
      "outputs": [
        {
          "output_type": "execute_result",
          "data": {
            "text/plain": [
              "'유비온'"
            ],
            "application/vnd.google.colaboratory.intrinsic+json": {
              "type": "string"
            }
          },
          "metadata": {},
          "execution_count": 97
        }
      ]
    },
    {
      "cell_type": "code",
      "source": [
        "\"유비온은 최고의 교육기관이다.\"[-2]"
      ],
      "metadata": {
        "colab": {
          "base_uri": "https://localhost:8080/",
          "height": 35
        },
        "id": "jB-zXVd6abuK",
        "outputId": "3446f223-2ec7-443e-a64d-e9453140b9a9"
      },
      "execution_count": null,
      "outputs": [
        {
          "output_type": "execute_result",
          "data": {
            "text/plain": [
              "'다'"
            ],
            "application/vnd.google.colaboratory.intrinsic+json": {
              "type": "string"
            }
          },
          "metadata": {},
          "execution_count": 98
        }
      ]
    },
    {
      "cell_type": "code",
      "source": [
        "first_name = \"Kyungmo Park\"[:7]\n",
        "print(first_name)"
      ],
      "metadata": {
        "colab": {
          "base_uri": "https://localhost:8080/"
        },
        "id": "pT_xCdKldpvW",
        "outputId": "66582951-0bf9-42d0-f0e0-e6de6a95fcb9"
      },
      "execution_count": null,
      "outputs": [
        {
          "output_type": "stream",
          "name": "stdout",
          "text": [
            "Kyungmo\n"
          ]
        }
      ]
    },
    {
      "cell_type": "code",
      "source": [
        "last_name = \"Kyungmo Park\"[-4:]\n",
        "print(last_name)"
      ],
      "metadata": {
        "colab": {
          "base_uri": "https://localhost:8080/"
        },
        "id": "UL_6ieP2eYte",
        "outputId": "0301490d-3e18-4cc5-a254-f081f4bcbb83"
      },
      "execution_count": null,
      "outputs": [
        {
          "output_type": "stream",
          "name": "stdout",
          "text": [
            "Park\n"
          ]
        }
      ]
    },
    {
      "cell_type": "code",
      "source": [
        "name = \"Kyungmo Park\"\n",
        "len(name)"
      ],
      "metadata": {
        "colab": {
          "base_uri": "https://localhost:8080/"
        },
        "id": "412zi7CBfQUU",
        "outputId": "b17c5075-a108-4414-9c95-01561cce1582"
      },
      "execution_count": null,
      "outputs": [
        {
          "output_type": "execute_result",
          "data": {
            "text/plain": [
              "12"
            ]
          },
          "metadata": {},
          "execution_count": 112
        }
      ]
    },
    {
      "cell_type": "code",
      "source": [
        "minus_name = \"Kyungmo Park\"[-4:]\n",
        "print(minus_name)"
      ],
      "metadata": {
        "colab": {
          "base_uri": "https://localhost:8080/"
        },
        "id": "Kpt6MlTlc9cr",
        "outputId": "6b74b566-740c-4048-f15b-05ed5fcb7796"
      },
      "execution_count": null,
      "outputs": [
        {
          "output_type": "stream",
          "name": "stdout",
          "text": [
            "Par\n"
          ]
        }
      ]
    },
    {
      "cell_type": "code",
      "source": [
        "name = \"Kyungmo Park\"\n",
        "name.count(\"k\")"
      ],
      "metadata": {
        "colab": {
          "base_uri": "https://localhost:8080/"
        },
        "id": "PiXs4LuJgQEj",
        "outputId": "dbaf640f-41c4-44fe-edea-af672772c2fe"
      },
      "execution_count": null,
      "outputs": [
        {
          "output_type": "execute_result",
          "data": {
            "text/plain": [
              "1"
            ]
          },
          "metadata": {},
          "execution_count": 127
        }
      ]
    },
    {
      "cell_type": "code",
      "source": [
        "name.find(\"u\")"
      ],
      "metadata": {
        "colab": {
          "base_uri": "https://localhost:8080/"
        },
        "id": "x2FgFBeVhWwv",
        "outputId": "e3133e53-a9bc-4998-8671-dcd5ee4653ef"
      },
      "execution_count": null,
      "outputs": [
        {
          "output_type": "execute_result",
          "data": {
            "text/plain": [
              "2"
            ]
          },
          "metadata": {},
          "execution_count": 129
        }
      ]
    },
    {
      "cell_type": "code",
      "source": [
        "a = ' '\n",
        "a.join(\"KyungmoPark\")"
      ],
      "metadata": {
        "colab": {
          "base_uri": "https://localhost:8080/",
          "height": 35
        },
        "id": "f6yZqN7EhqSg",
        "outputId": "dacaab18-daa6-48ff-b545-d645b9a855f2"
      },
      "execution_count": null,
      "outputs": [
        {
          "output_type": "execute_result",
          "data": {
            "text/plain": [
              "'K y u n g m o P a r k'"
            ],
            "application/vnd.google.colaboratory.intrinsic+json": {
              "type": "string"
            }
          },
          "metadata": {},
          "execution_count": 130
        }
      ]
    },
    {
      "cell_type": "code",
      "source": [
        "name.upper()"
      ],
      "metadata": {
        "colab": {
          "base_uri": "https://localhost:8080/",
          "height": 35
        },
        "id": "ORwpyEdZiK7-",
        "outputId": "648f08ce-1477-40e0-da1f-4b111ffa71f0"
      },
      "execution_count": null,
      "outputs": [
        {
          "output_type": "execute_result",
          "data": {
            "text/plain": [
              "'KYUNGMO PARK'"
            ],
            "application/vnd.google.colaboratory.intrinsic+json": {
              "type": "string"
            }
          },
          "metadata": {},
          "execution_count": 131
        }
      ]
    },
    {
      "cell_type": "code",
      "source": [
        "name.lower()"
      ],
      "metadata": {
        "colab": {
          "base_uri": "https://localhost:8080/",
          "height": 35
        },
        "id": "2K2gzIQ1iZdr",
        "outputId": "f07866bb-82a8-4d1d-f1ea-746118e9c212"
      },
      "execution_count": null,
      "outputs": [
        {
          "output_type": "execute_result",
          "data": {
            "text/plain": [
              "'kyungmo park'"
            ],
            "application/vnd.google.colaboratory.intrinsic+json": {
              "type": "string"
            }
          },
          "metadata": {},
          "execution_count": 132
        }
      ]
    },
    {
      "cell_type": "code",
      "source": [
        "import os\n",
        "os.environ"
      ],
      "metadata": {
        "colab": {
          "base_uri": "https://localhost:8080/"
        },
        "id": "1tmEs1z8igZN",
        "outputId": "9ec670bf-703e-406a-d74f-2df37334fe8e"
      },
      "execution_count": null,
      "outputs": [
        {
          "output_type": "execute_result",
          "data": {
            "text/plain": [
              "environ{'NV_LIBCUBLAS_DEV_VERSION': '11.4.1.1043-1',\n",
              "        'NV_CUDA_COMPAT_PACKAGE': 'cuda-compat-11-2',\n",
              "        'NV_CUDNN_PACKAGE_DEV': 'libcudnn8-dev=8.1.1.33-1+cuda11.2',\n",
              "        'LD_LIBRARY_PATH': '/usr/local/nvidia/lib:/usr/local/nvidia/lib64',\n",
              "        'NV_LIBNCCL_DEV_PACKAGE': 'libnccl-dev=2.8.4-1+cuda11.2',\n",
              "        'TCLLIBPATH': '/usr/share/tcltk/tcllib1.19',\n",
              "        'CLOUDSDK_PYTHON': 'python3',\n",
              "        'LANG': 'en_US.UTF-8',\n",
              "        'NV_LIBNPP_DEV_PACKAGE': 'libnpp-dev-11-2=11.3.2.152-1',\n",
              "        'HOSTNAME': '8504a12c9d97',\n",
              "        'OLDPWD': '/',\n",
              "        'CLOUDSDK_CONFIG': '/content/.config',\n",
              "        'KMP_EXTRA_ARGS': '--listen_host=172.28.0.12 --target_host=172.28.0.12 --tunnel_background_save_url=https://colab.research.google.com/tun/m/cc48301118ce562b961b3c22d803539adc1e0c19/m-s-3n79ppazwq3t0 --tunnel_background_save_delay=10s --tunnel_periodic_background_save_frequency=30m0s --enable_output_coalescing=true --output_coalescing_required=true',\n",
              "        'NV_LIBNPP_VERSION': '11.3.2.152-1',\n",
              "        'NV_NVPROF_DEV_PACKAGE': 'cuda-nvprof-11-2=11.2.152-1',\n",
              "        'NVIDIA_VISIBLE_DEVICES': 'all',\n",
              "        'NV_NVPROF_VERSION': '11.2.152-1',\n",
              "        'NV_LIBCUSPARSE_VERSION': '11.4.1.1152-1',\n",
              "        'DATALAB_SETTINGS_OVERRIDES': '{\"kernelManagerProxyPort\":6000,\"kernelManagerProxyHost\":\"172.28.0.12\",\"jupyterArgs\":[\"--ip=172.28.0.12\",\"--transport=ipc\"],\"debugAdapterMultiplexerPath\":\"/usr/local/bin/dap_multiplexer\",\"enableLsp\":true}',\n",
              "        'NV_LIBCUBLAS_DEV_PACKAGE': 'libcublas-dev-11-2=11.4.1.1043-1',\n",
              "        'COLAB_RELEASE_TAG': 'release-colab-20221220-060108-RC02',\n",
              "        'ENV': '/root/.bashrc',\n",
              "        'NCCL_VERSION': '2.8.4-1',\n",
              "        'TF_FORCE_GPU_ALLOW_GROWTH': 'true',\n",
              "        'COLAB_BACKEND_VERSION': 'next',\n",
              "        'NO_GCE_CHECK': 'False',\n",
              "        'PWD': '/',\n",
              "        'NVARCH': 'x86_64',\n",
              "        'HOME': '/root',\n",
              "        'NV_LIBCUSPARSE_DEV_VERSION': '11.4.1.1152-1',\n",
              "        'KMP_LISTEN_PORT': '6000',\n",
              "        'LAST_FORCED_REBUILD': '20221207',\n",
              "        'NV_LIBNCCL_PACKAGE_VERSION': '2.8.4-1',\n",
              "        'NV_LIBNCCL_PACKAGE': 'libnccl2=2.8.4-1+cuda11.2',\n",
              "        'DEBIAN_FRONTEND': 'noninteractive',\n",
              "        'NV_LIBNCCL_DEV_PACKAGE_NAME': 'libnccl-dev',\n",
              "        'NV_CUDA_LIB_VERSION': '11.2.2-1',\n",
              "        'NV_LIBNPP_PACKAGE': 'libnpp-11-2=11.3.2.152-1',\n",
              "        'NV_LIBNCCL_PACKAGE_NAME': 'libnccl2',\n",
              "        'LIBRARY_PATH': '/usr/local/cuda/lib64/stubs',\n",
              "        'NV_NVTX_VERSION': '11.2.152-1',\n",
              "        'NV_LIBCUBLAS_VERSION': '11.4.1.1043-1',\n",
              "        'NV_LIBCUBLAS_PACKAGE': 'libcublas-11-2=11.4.1.1043-1',\n",
              "        'GCE_METADATA_TIMEOUT': '3',\n",
              "        'NV_CUDNN_VERSION': '8.1.1.33',\n",
              "        'VM_GCE_METADATA_HOST': '169.254.169.253',\n",
              "        'NV_CUDA_CUDART_DEV_VERSION': '11.2.152-1',\n",
              "        'KMP_TARGET_PORT': '9000',\n",
              "        'GLIBCPP_FORCE_NEW': '1',\n",
              "        'TBE_CREDS_ADDR': '172.28.0.1:8008',\n",
              "        'SHELL': '/bin/bash',\n",
              "        'GCS_READ_CACHE_BLOCK_SIZE_MB': '16',\n",
              "        'NV_NVML_DEV_VERSION': '11.2.152-1',\n",
              "        'PYTHONWARNINGS': 'ignore:::pip._internal.cli.base_command',\n",
              "        'CUDA_VERSION': '11.2.2',\n",
              "        'NV_LIBCUBLAS_PACKAGE_NAME': 'libcublas-11-2',\n",
              "        'NVIDIA_DRIVER_CAPABILITIES': 'compute,utility',\n",
              "        'TBE_RUNTIME_ADDR': '172.28.0.1:8011',\n",
              "        'SHLVL': '0',\n",
              "        'PYTHONPATH': '/env/python',\n",
              "        'NV_LIBCUBLAS_DEV_PACKAGE_NAME': 'libcublas-dev-11-2',\n",
              "        'NVIDIA_REQUIRE_CUDA': 'cuda>=11.2 brand=tesla,driver>=418,driver<419 brand=tesla,driver>=450,driver<451',\n",
              "        'NV_LIBNPP_DEV_VERSION': '11.3.2.152-1',\n",
              "        'TBE_EPHEM_CREDS_ADDR': '172.28.0.1:8009',\n",
              "        'NV_CUDA_CUDART_VERSION': '11.2.152-1',\n",
              "        'NV_CUDNN_PACKAGE_NAME': 'libcudnn8',\n",
              "        'GLIBCXX_FORCE_NEW': '1',\n",
              "        'PATH': '/opt/bin:/usr/local/nvidia/bin:/usr/local/cuda/bin:/usr/local/sbin:/usr/local/bin:/usr/sbin:/usr/bin:/sbin:/bin:/tools/node/bin:/tools/google-cloud-sdk/bin',\n",
              "        'NV_LIBNCCL_DEV_PACKAGE_VERSION': '2.8.4-1',\n",
              "        'LD_PRELOAD': '/usr/lib/x86_64-linux-gnu/libtcmalloc.so.4',\n",
              "        'NV_CUDNN_PACKAGE': 'libcudnn8=8.1.1.33-1+cuda11.2',\n",
              "        'CGROUP_MEMORY_EVENTS': '/sys/fs/cgroup/memory.events /var/colab/cgroup/jupyter-children/memory.events',\n",
              "        'JPY_PARENT_PID': '77',\n",
              "        'TERM': 'xterm-color',\n",
              "        'CLICOLOR': '1',\n",
              "        'PAGER': 'cat',\n",
              "        'GIT_PAGER': 'cat',\n",
              "        'MPLBACKEND': 'module://ipykernel.pylab.backend_inline',\n",
              "        'ENABLE_DIRECTORYPREFETCHER': '1',\n",
              "        'USE_AUTH_EPHEM': '1',\n",
              "        'PYDEVD_USE_FRAME_EVAL': 'NO'}"
            ]
          },
          "metadata": {},
          "execution_count": 134
        }
      ]
    },
    {
      "cell_type": "code",
      "source": [
        "os.getcwd()"
      ],
      "metadata": {
        "colab": {
          "base_uri": "https://localhost:8080/",
          "height": 35
        },
        "id": "oYoEypxIjxuE",
        "outputId": "66c30aaf-2851-475d-9813-bef115c9a62a"
      },
      "execution_count": null,
      "outputs": [
        {
          "output_type": "execute_result",
          "data": {
            "text/plain": [
              "'/content'"
            ],
            "application/vnd.google.colaboratory.intrinsic+json": {
              "type": "string"
            }
          },
          "metadata": {},
          "execution_count": 135
        }
      ]
    },
    {
      "cell_type": "code",
      "source": [
        "os.mkdir"
      ],
      "metadata": {
        "colab": {
          "base_uri": "https://localhost:8080/"
        },
        "id": "1ZKnkF7sj1AP",
        "outputId": "d09f012a-a372-4c2d-8ee1-40304eb7b7ec"
      },
      "execution_count": null,
      "outputs": [
        {
          "output_type": "execute_result",
          "data": {
            "text/plain": [
              "<function posix.mkdir(path, mode=511, *, dir_fd=None)>"
            ]
          },
          "metadata": {},
          "execution_count": 137
        }
      ]
    },
    {
      "cell_type": "code",
      "source": [
        "a = 1"
      ],
      "metadata": {
        "id": "gBwNyu8xkEXq"
      },
      "execution_count": null,
      "outputs": []
    },
    {
      "cell_type": "code",
      "source": [
        "a = 2"
      ],
      "metadata": {
        "id": "0Q3BLk2ZkGpp"
      },
      "execution_count": null,
      "outputs": []
    },
    {
      "cell_type": "code",
      "source": [
        "a"
      ],
      "metadata": {
        "colab": {
          "base_uri": "https://localhost:8080/"
        },
        "id": "DU1wb_pUkHtb",
        "outputId": "b2a3af1d-88a5-466f-b552-555b0654e888"
      },
      "execution_count": null,
      "outputs": [
        {
          "output_type": "execute_result",
          "data": {
            "text/plain": [
              "2"
            ]
          },
          "metadata": {},
          "execution_count": 140
        }
      ]
    },
    {
      "cell_type": "code",
      "source": [
        "calendar.prmonth(2023, 1)"
      ],
      "metadata": {
        "colab": {
          "base_uri": "https://localhost:8080/",
          "height": 172
        },
        "id": "SPjgdXu9kIKi",
        "outputId": "efdf5da0-efdf-4d59-f48a-407496a485fd"
      },
      "execution_count": null,
      "outputs": [
        {
          "output_type": "error",
          "ename": "NameError",
          "evalue": "ignored",
          "traceback": [
            "\u001b[0;31m---------------------------------------------------------------------------\u001b[0m",
            "\u001b[0;31mNameError\u001b[0m                                 Traceback (most recent call last)",
            "\u001b[0;32m<ipython-input-143-c59c26c1ae29>\u001b[0m in \u001b[0;36m<module>\u001b[0;34m\u001b[0m\n\u001b[0;32m----> 1\u001b[0;31m \u001b[0mcalendar\u001b[0m\u001b[0;34m.\u001b[0m\u001b[0mprmonth\u001b[0m\u001b[0;34m(\u001b[0m\u001b[0;36m2023\u001b[0m\u001b[0;34m,\u001b[0m \u001b[0;36m1\u001b[0m\u001b[0;34m)\u001b[0m\u001b[0;34m\u001b[0m\u001b[0;34m\u001b[0m\u001b[0m\n\u001b[0m",
            "\u001b[0;31mNameError\u001b[0m: name 'calendar' is not defined"
          ]
        }
      ]
    },
    {
      "cell_type": "code",
      "source": [
        "import calendar\n",
        "print(calendar.calendar(2023))"
      ],
      "metadata": {
        "colab": {
          "base_uri": "https://localhost:8080/"
        },
        "id": "qHEV4KHikag2",
        "outputId": "a987e6c7-4aeb-4a6d-bd35-7db2c3c28ccb"
      },
      "execution_count": null,
      "outputs": [
        {
          "output_type": "stream",
          "name": "stdout",
          "text": [
            "                                  2023\n",
            "\n",
            "      January                   February                   March\n",
            "Mo Tu We Th Fr Sa Su      Mo Tu We Th Fr Sa Su      Mo Tu We Th Fr Sa Su\n",
            "                   1             1  2  3  4  5             1  2  3  4  5\n",
            " 2  3  4  5  6  7  8       6  7  8  9 10 11 12       6  7  8  9 10 11 12\n",
            " 9 10 11 12 13 14 15      13 14 15 16 17 18 19      13 14 15 16 17 18 19\n",
            "16 17 18 19 20 21 22      20 21 22 23 24 25 26      20 21 22 23 24 25 26\n",
            "23 24 25 26 27 28 29      27 28                     27 28 29 30 31\n",
            "30 31\n",
            "\n",
            "       April                      May                       June\n",
            "Mo Tu We Th Fr Sa Su      Mo Tu We Th Fr Sa Su      Mo Tu We Th Fr Sa Su\n",
            "                1  2       1  2  3  4  5  6  7                1  2  3  4\n",
            " 3  4  5  6  7  8  9       8  9 10 11 12 13 14       5  6  7  8  9 10 11\n",
            "10 11 12 13 14 15 16      15 16 17 18 19 20 21      12 13 14 15 16 17 18\n",
            "17 18 19 20 21 22 23      22 23 24 25 26 27 28      19 20 21 22 23 24 25\n",
            "24 25 26 27 28 29 30      29 30 31                  26 27 28 29 30\n",
            "\n",
            "        July                     August                  September\n",
            "Mo Tu We Th Fr Sa Su      Mo Tu We Th Fr Sa Su      Mo Tu We Th Fr Sa Su\n",
            "                1  2          1  2  3  4  5  6                   1  2  3\n",
            " 3  4  5  6  7  8  9       7  8  9 10 11 12 13       4  5  6  7  8  9 10\n",
            "10 11 12 13 14 15 16      14 15 16 17 18 19 20      11 12 13 14 15 16 17\n",
            "17 18 19 20 21 22 23      21 22 23 24 25 26 27      18 19 20 21 22 23 24\n",
            "24 25 26 27 28 29 30      28 29 30 31               25 26 27 28 29 30\n",
            "31\n",
            "\n",
            "      October                   November                  December\n",
            "Mo Tu We Th Fr Sa Su      Mo Tu We Th Fr Sa Su      Mo Tu We Th Fr Sa Su\n",
            "                   1             1  2  3  4  5                   1  2  3\n",
            " 2  3  4  5  6  7  8       6  7  8  9 10 11 12       4  5  6  7  8  9 10\n",
            " 9 10 11 12 13 14 15      13 14 15 16 17 18 19      11 12 13 14 15 16 17\n",
            "16 17 18 19 20 21 22      20 21 22 23 24 25 26      18 19 20 21 22 23 24\n",
            "23 24 25 26 27 28 29      27 28 29 30               25 26 27 28 29 30 31\n",
            "30 31\n",
            "\n"
          ]
        }
      ]
    },
    {
      "cell_type": "code",
      "source": [
        "name =\" Kyungmo Park \"\n",
        "name\n",
        "a = ' '"
      ],
      "metadata": {
        "id": "nt0NDOQvkoyM"
      },
      "execution_count": null,
      "outputs": []
    },
    {
      "cell_type": "code",
      "source": [
        "name.strip(a)"
      ],
      "metadata": {
        "colab": {
          "base_uri": "https://localhost:8080/",
          "height": 35
        },
        "id": "fB9yr60Gm2nm",
        "outputId": "de95cbb2-1b80-4fdb-f8df-6dedf532f696"
      },
      "execution_count": null,
      "outputs": [
        {
          "output_type": "execute_result",
          "data": {
            "text/plain": [
              "'Kyungmo Park'"
            ],
            "application/vnd.google.colaboratory.intrinsic+json": {
              "type": "string"
            }
          },
          "metadata": {},
          "execution_count": 155
        }
      ]
    },
    {
      "cell_type": "code",
      "source": [
        "name.lstrip(a)"
      ],
      "metadata": {
        "colab": {
          "base_uri": "https://localhost:8080/",
          "height": 35
        },
        "id": "0DDgdwE4nGg8",
        "outputId": "6a9e9607-9bed-4238-bbac-e872cb29a63a"
      },
      "execution_count": null,
      "outputs": [
        {
          "output_type": "execute_result",
          "data": {
            "text/plain": [
              "'Kyungmo Park '"
            ],
            "application/vnd.google.colaboratory.intrinsic+json": {
              "type": "string"
            }
          },
          "metadata": {},
          "execution_count": 156
        }
      ]
    },
    {
      "cell_type": "code",
      "source": [
        "name.rstrip(a)"
      ],
      "metadata": {
        "colab": {
          "base_uri": "https://localhost:8080/",
          "height": 35
        },
        "id": "39ibNWBFnW3e",
        "outputId": "03ee74b2-b143-4dbf-fc11-cf2c3515d961"
      },
      "execution_count": null,
      "outputs": [
        {
          "output_type": "execute_result",
          "data": {
            "text/plain": [
              "' Kyungmo Park'"
            ],
            "application/vnd.google.colaboratory.intrinsic+json": {
              "type": "string"
            }
          },
          "metadata": {},
          "execution_count": 157
        }
      ]
    },
    {
      "cell_type": "code",
      "source": [
        "name.replace(\"Park\", \"Kyungmo\")"
      ],
      "metadata": {
        "colab": {
          "base_uri": "https://localhost:8080/",
          "height": 35
        },
        "id": "TG-pwGVZnY7J",
        "outputId": "72f41fbf-0a06-4b78-f84f-f21efcf789a2"
      },
      "execution_count": null,
      "outputs": [
        {
          "output_type": "execute_result",
          "data": {
            "text/plain": [
              "' Kyungmo Kyungmo '"
            ],
            "application/vnd.google.colaboratory.intrinsic+json": {
              "type": "string"
            }
          },
          "metadata": {},
          "execution_count": 158
        }
      ]
    },
    {
      "cell_type": "code",
      "source": [
        "name.split()"
      ],
      "metadata": {
        "colab": {
          "base_uri": "https://localhost:8080/"
        },
        "id": "EUyKTfiZnqQc",
        "outputId": "2b23e38d-f6fc-4938-dcd6-34c63e36ba37"
      },
      "execution_count": null,
      "outputs": [
        {
          "output_type": "execute_result",
          "data": {
            "text/plain": [
              "['Kyungmo', 'Park']"
            ]
          },
          "metadata": {},
          "execution_count": 159
        }
      ]
    },
    {
      "cell_type": "code",
      "source": [
        "ubion.split('.')"
      ],
      "metadata": {
        "colab": {
          "base_uri": "https://localhost:8080/"
        },
        "id": "dQNvDhLkoPhq",
        "outputId": "c0c01be7-6da8-46e1-bd1f-6711969deb44"
      },
      "execution_count": null,
      "outputs": [
        {
          "output_type": "execute_result",
          "data": {
            "text/plain": [
              "['Ubion is the best', \" Ubion isn't best\", '']"
            ]
          },
          "metadata": {},
          "execution_count": 161
        }
      ]
    },
    {
      "cell_type": "code",
      "source": [],
      "metadata": {
        "id": "Rh-6slPkpJen"
      },
      "execution_count": null,
      "outputs": []
    },
    {
      "cell_type": "code",
      "source": [
        "a = \"정확한 문제는 잘 기억이 안나지만 이런식이었던것 같네요.\""
      ],
      "metadata": {
        "id": "wPmR_H7oobtG"
      },
      "execution_count": null,
      "outputs": []
    },
    {
      "cell_type": "code",
      "source": [
        "a.split(' ')"
      ],
      "metadata": {
        "colab": {
          "base_uri": "https://localhost:8080/"
        },
        "id": "UW3XACz1o8lM",
        "outputId": "1b245b1f-639a-40ff-b66e-c07b79f09a5d"
      },
      "execution_count": null,
      "outputs": [
        {
          "output_type": "execute_result",
          "data": {
            "text/plain": [
              "['정확한', '문제는', '잘', '기억이', '안나지만', '이런식이었던것', '같네요.']"
            ]
          },
          "metadata": {},
          "execution_count": 167
        }
      ]
    },
    {
      "cell_type": "code",
      "source": [
        "a = [1, 2, 3, 4, 5]\n",
        "a"
      ],
      "metadata": {
        "colab": {
          "base_uri": "https://localhost:8080/"
        },
        "id": "s84bIZ59pM3z",
        "outputId": "021fc913-080f-4c30-8f98-3a52b4d61f2c"
      },
      "execution_count": null,
      "outputs": [
        {
          "output_type": "execute_result",
          "data": {
            "text/plain": [
              "[1, 2, 3, 4, 5]"
            ]
          },
          "metadata": {},
          "execution_count": 168
        }
      ]
    },
    {
      "cell_type": "code",
      "source": [
        "type(a)"
      ],
      "metadata": {
        "colab": {
          "base_uri": "https://localhost:8080/"
        },
        "id": "WaOPHEZhqtAF",
        "outputId": "d330ac26-74cd-4409-81e7-48e349cbcbe5"
      },
      "execution_count": null,
      "outputs": [
        {
          "output_type": "execute_result",
          "data": {
            "text/plain": [
              "list"
            ]
          },
          "metadata": {},
          "execution_count": 169
        }
      ]
    },
    {
      "cell_type": "code",
      "source": [
        "b = (1, 2, 3, 4, 5)\n",
        "b"
      ],
      "metadata": {
        "colab": {
          "base_uri": "https://localhost:8080/"
        },
        "id": "r0oo-TwnquSC",
        "outputId": "891433cf-6677-44b1-858a-129a08983e0b"
      },
      "execution_count": null,
      "outputs": [
        {
          "output_type": "execute_result",
          "data": {
            "text/plain": [
              "(1, 2, 3, 4, 5)"
            ]
          },
          "metadata": {},
          "execution_count": 170
        }
      ]
    },
    {
      "cell_type": "code",
      "source": [
        "type(b)"
      ],
      "metadata": {
        "colab": {
          "base_uri": "https://localhost:8080/"
        },
        "id": "Vt2v_GEBqyYl",
        "outputId": "3ec89408-f42a-43b6-9fc9-baa8843c3d42"
      },
      "execution_count": null,
      "outputs": [
        {
          "output_type": "execute_result",
          "data": {
            "text/plain": [
              "tuple"
            ]
          },
          "metadata": {},
          "execution_count": 171
        }
      ]
    },
    {
      "cell_type": "code",
      "source": [
        "b.replace(3, 4)"
      ],
      "metadata": {
        "colab": {
          "base_uri": "https://localhost:8080/",
          "height": 172
        },
        "id": "K1d5ODcGq26h",
        "outputId": "50e7cbdf-a1f0-42bc-e0e3-220bf197c41c"
      },
      "execution_count": null,
      "outputs": [
        {
          "output_type": "error",
          "ename": "AttributeError",
          "evalue": "ignored",
          "traceback": [
            "\u001b[0;31m---------------------------------------------------------------------------\u001b[0m",
            "\u001b[0;31mAttributeError\u001b[0m                            Traceback (most recent call last)",
            "\u001b[0;32m<ipython-input-172-b82021af05ea>\u001b[0m in \u001b[0;36m<module>\u001b[0;34m\u001b[0m\n\u001b[0;32m----> 1\u001b[0;31m \u001b[0mb\u001b[0m\u001b[0;34m.\u001b[0m\u001b[0mreplace\u001b[0m\u001b[0;34m(\u001b[0m\u001b[0;36m3\u001b[0m\u001b[0;34m,\u001b[0m \u001b[0;36m4\u001b[0m\u001b[0;34m)\u001b[0m\u001b[0;34m\u001b[0m\u001b[0;34m\u001b[0m\u001b[0m\n\u001b[0m",
            "\u001b[0;31mAttributeError\u001b[0m: 'tuple' object has no attribute 'replace'"
          ]
        }
      ]
    },
    {
      "cell_type": "code",
      "source": [
        "a.replace[3, 4]"
      ],
      "metadata": {
        "colab": {
          "base_uri": "https://localhost:8080/",
          "height": 172
        },
        "id": "fgKFocfNrQ5G",
        "outputId": "1bd55384-2dd5-4071-de12-334fdee47e3f"
      },
      "execution_count": null,
      "outputs": [
        {
          "output_type": "error",
          "ename": "AttributeError",
          "evalue": "ignored",
          "traceback": [
            "\u001b[0;31m---------------------------------------------------------------------------\u001b[0m",
            "\u001b[0;31mAttributeError\u001b[0m                            Traceback (most recent call last)",
            "\u001b[0;32m<ipython-input-174-0dbf00639b52>\u001b[0m in \u001b[0;36m<module>\u001b[0;34m\u001b[0m\n\u001b[0;32m----> 1\u001b[0;31m \u001b[0ma\u001b[0m\u001b[0;34m.\u001b[0m\u001b[0mreplace\u001b[0m\u001b[0;34m[\u001b[0m\u001b[0;36m3\u001b[0m\u001b[0;34m,\u001b[0m \u001b[0;36m4\u001b[0m\u001b[0;34m]\u001b[0m\u001b[0;34m\u001b[0m\u001b[0;34m\u001b[0m\u001b[0m\n\u001b[0m",
            "\u001b[0;31mAttributeError\u001b[0m: 'list' object has no attribute 'replace'"
          ]
        }
      ]
    },
    {
      "cell_type": "code",
      "source": [
        "a = [1, 2, 3, 4, 5]\n",
        "b = ['1','2','3']\n",
        "a+b"
      ],
      "metadata": {
        "colab": {
          "base_uri": "https://localhost:8080/"
        },
        "id": "X0KPz7HqrTnR",
        "outputId": "17ca8d0d-9a2d-405f-cbf8-0394f1dc9ebc"
      },
      "execution_count": null,
      "outputs": [
        {
          "output_type": "execute_result",
          "data": {
            "text/plain": [
              "[1, 2, 3, 4, 5, '1', '2', '3']"
            ]
          },
          "metadata": {},
          "execution_count": 175
        }
      ]
    },
    {
      "cell_type": "code",
      "source": [
        "a * 2"
      ],
      "metadata": {
        "colab": {
          "base_uri": "https://localhost:8080/"
        },
        "id": "wjoX4ajAri6k",
        "outputId": "939b927c-5eb0-4701-e6a7-244eef59cd65"
      },
      "execution_count": null,
      "outputs": [
        {
          "output_type": "execute_result",
          "data": {
            "text/plain": [
              "[1, 2, 3, 4, 5, 1, 2, 3, 4, 5]"
            ]
          },
          "metadata": {},
          "execution_count": 176
        }
      ]
    },
    {
      "cell_type": "code",
      "source": [
        "a - a"
      ],
      "metadata": {
        "colab": {
          "base_uri": "https://localhost:8080/",
          "height": 172
        },
        "id": "pKMKwPr_roZl",
        "outputId": "f8416701-5c30-4379-da3f-9849416ee99e"
      },
      "execution_count": null,
      "outputs": [
        {
          "output_type": "error",
          "ename": "TypeError",
          "evalue": "ignored",
          "traceback": [
            "\u001b[0;31m---------------------------------------------------------------------------\u001b[0m",
            "\u001b[0;31mTypeError\u001b[0m                                 Traceback (most recent call last)",
            "\u001b[0;32m<ipython-input-177-65de83fc0c8b>\u001b[0m in \u001b[0;36m<module>\u001b[0;34m\u001b[0m\n\u001b[0;32m----> 1\u001b[0;31m \u001b[0ma\u001b[0m \u001b[0;34m-\u001b[0m \u001b[0ma\u001b[0m\u001b[0;34m\u001b[0m\u001b[0;34m\u001b[0m\u001b[0m\n\u001b[0m",
            "\u001b[0;31mTypeError\u001b[0m: unsupported operand type(s) for -: 'list' and 'list'"
          ]
        }
      ]
    },
    {
      "cell_type": "code",
      "source": [
        "b * 2"
      ],
      "metadata": {
        "colab": {
          "base_uri": "https://localhost:8080/"
        },
        "id": "fDmFmPlTrqnA",
        "outputId": "2ec0505f-3184-42e3-8eb2-6bc879e44cda"
      },
      "execution_count": null,
      "outputs": [
        {
          "output_type": "execute_result",
          "data": {
            "text/plain": [
              "['1', '2', '3', '1', '2', '3']"
            ]
          },
          "metadata": {},
          "execution_count": 178
        }
      ]
    },
    {
      "cell_type": "code",
      "source": [
        "c = (1, 2, 3)"
      ],
      "metadata": {
        "id": "Qk3Y-eBAruQm"
      },
      "execution_count": null,
      "outputs": []
    },
    {
      "cell_type": "code",
      "source": [
        "c*2"
      ],
      "metadata": {
        "colab": {
          "base_uri": "https://localhost:8080/"
        },
        "id": "iYURKGwirykG",
        "outputId": "11a7440e-1b8e-4d1c-deb1-811e69bcd78f"
      },
      "execution_count": null,
      "outputs": [
        {
          "output_type": "execute_result",
          "data": {
            "text/plain": [
              "(1, 2, 3, 1, 2, 3)"
            ]
          },
          "metadata": {},
          "execution_count": 180
        }
      ]
    },
    {
      "cell_type": "code",
      "source": [
        "a+c"
      ],
      "metadata": {
        "colab": {
          "base_uri": "https://localhost:8080/",
          "height": 172
        },
        "id": "FvgRoAyurzjv",
        "outputId": "edb8d38b-02a1-44ec-ff65-b18d23e4a953"
      },
      "execution_count": null,
      "outputs": [
        {
          "output_type": "error",
          "ename": "TypeError",
          "evalue": "ignored",
          "traceback": [
            "\u001b[0;31m---------------------------------------------------------------------------\u001b[0m",
            "\u001b[0;31mTypeError\u001b[0m                                 Traceback (most recent call last)",
            "\u001b[0;32m<ipython-input-181-e200917bc55f>\u001b[0m in \u001b[0;36m<module>\u001b[0;34m\u001b[0m\n\u001b[0;32m----> 1\u001b[0;31m \u001b[0ma\u001b[0m\u001b[0;34m+\u001b[0m\u001b[0mc\u001b[0m\u001b[0;34m\u001b[0m\u001b[0;34m\u001b[0m\u001b[0m\n\u001b[0m",
            "\u001b[0;31mTypeError\u001b[0m: can only concatenate list (not \"tuple\") to list"
          ]
        }
      ]
    },
    {
      "cell_type": "code",
      "source": [
        "c = b * 2\n",
        "c"
      ],
      "metadata": {
        "colab": {
          "base_uri": "https://localhost:8080/"
        },
        "id": "hnDL3LmNr3MY",
        "outputId": "387401a7-f46c-4332-c856-2e4504561455"
      },
      "execution_count": null,
      "outputs": [
        {
          "output_type": "execute_result",
          "data": {
            "text/plain": [
              "['1', '2', '3', '1', '2', '3']"
            ]
          },
          "metadata": {},
          "execution_count": 183
        }
      ]
    },
    {
      "cell_type": "code",
      "source": [
        "c[1] = \"3\""
      ],
      "metadata": {
        "id": "BpvLb6hRr9VR"
      },
      "execution_count": null,
      "outputs": []
    },
    {
      "cell_type": "code",
      "source": [
        "c"
      ],
      "metadata": {
        "colab": {
          "base_uri": "https://localhost:8080/"
        },
        "id": "nVem6RFhsDCy",
        "outputId": "3c1dd8b5-b582-4c87-d157-e6846b12eb30"
      },
      "execution_count": null,
      "outputs": [
        {
          "output_type": "execute_result",
          "data": {
            "text/plain": [
              "['1', '3', '3', '1', '2', '3']"
            ]
          },
          "metadata": {},
          "execution_count": 186
        }
      ]
    },
    {
      "cell_type": "code",
      "source": [
        "b = ('1','2','3')\n",
        "b[2]"
      ],
      "metadata": {
        "colab": {
          "base_uri": "https://localhost:8080/",
          "height": 35
        },
        "id": "zZeZoH_xsKtm",
        "outputId": "5921b3c8-87a9-4df4-fc85-9a42128965f4"
      },
      "execution_count": null,
      "outputs": [
        {
          "output_type": "execute_result",
          "data": {
            "text/plain": [
              "'3'"
            ],
            "application/vnd.google.colaboratory.intrinsic+json": {
              "type": "string"
            }
          },
          "metadata": {},
          "execution_count": 187
        }
      ]
    },
    {
      "cell_type": "code",
      "source": [
        "b[2] = \"3\""
      ],
      "metadata": {
        "colab": {
          "base_uri": "https://localhost:8080/",
          "height": 136
        },
        "id": "ZPTc9isQsXd0",
        "outputId": "17929541-2386-472a-dee3-62f50ca7e823"
      },
      "execution_count": null,
      "outputs": [
        {
          "output_type": "error",
          "ename": "SyntaxError",
          "evalue": "ignored",
          "traceback": [
            "\u001b[0;36m  File \u001b[0;32m\"<ipython-input-191-c5745e4c2e5c>\"\u001b[0;36m, line \u001b[0;32m1\u001b[0m\n\u001b[0;31m    b(2) = \"3\"\u001b[0m\n\u001b[0m    ^\u001b[0m\n\u001b[0;31mSyntaxError\u001b[0m\u001b[0;31m:\u001b[0m cannot assign to function call\n"
          ]
        }
      ]
    },
    {
      "cell_type": "code",
      "source": [
        "len(a)"
      ],
      "metadata": {
        "colab": {
          "base_uri": "https://localhost:8080/"
        },
        "id": "YtdmUrelsZsq",
        "outputId": "4d0ecd9c-55e2-4099-fd50-56b7a055bc8a"
      },
      "execution_count": null,
      "outputs": [
        {
          "output_type": "execute_result",
          "data": {
            "text/plain": [
              "5"
            ]
          },
          "metadata": {},
          "execution_count": 192
        }
      ]
    },
    {
      "cell_type": "code",
      "source": [
        "len(b)"
      ],
      "metadata": {
        "colab": {
          "base_uri": "https://localhost:8080/"
        },
        "id": "_zzz1HBztuIq",
        "outputId": "03bd4f3c-c4a6-47e3-cac2-66369fbcdfee"
      },
      "execution_count": null,
      "outputs": [
        {
          "output_type": "execute_result",
          "data": {
            "text/plain": [
              "3"
            ]
          },
          "metadata": {},
          "execution_count": 193
        }
      ]
    },
    {
      "cell_type": "code",
      "source": [
        "a[0:3]"
      ],
      "metadata": {
        "colab": {
          "base_uri": "https://localhost:8080/"
        },
        "id": "ms2Rp11Ytv7F",
        "outputId": "f044e6df-1a30-4ea3-b641-6502a56c1726"
      },
      "execution_count": null,
      "outputs": [
        {
          "output_type": "execute_result",
          "data": {
            "text/plain": [
              "[1, 2, 3]"
            ]
          },
          "metadata": {},
          "execution_count": 194
        }
      ]
    },
    {
      "cell_type": "code",
      "source": [],
      "metadata": {
        "id": "eC2TZoTpt3Ji"
      },
      "execution_count": null,
      "outputs": []
    },
    {
      "cell_type": "code",
      "source": [],
      "metadata": {
        "id": "Tv06ZG73t9R9"
      },
      "execution_count": null,
      "outputs": []
    },
    {
      "cell_type": "code",
      "source": [
        "a = [1, 2, 3, 4, 5]\n",
        "del a[0]\n",
        "a"
      ],
      "metadata": {
        "colab": {
          "base_uri": "https://localhost:8080/"
        },
        "id": "Pn8mK__kt-RE",
        "outputId": "911b6ce6-200a-4db7-d6ad-01ac7b7e8813"
      },
      "execution_count": null,
      "outputs": [
        {
          "output_type": "execute_result",
          "data": {
            "text/plain": [
              "[2, 3, 4, 5]"
            ]
          },
          "metadata": {},
          "execution_count": 201
        }
      ]
    },
    {
      "cell_type": "code",
      "source": [
        "a = list (range(10))\n",
        "a"
      ],
      "metadata": {
        "colab": {
          "base_uri": "https://localhost:8080/"
        },
        "id": "Dgtz0ej0uHgD",
        "outputId": "b7b72380-6720-4d80-8130-d0deaf894075"
      },
      "execution_count": null,
      "outputs": [
        {
          "output_type": "execute_result",
          "data": {
            "text/plain": [
              "[0, 1, 2, 3, 4, 5, 6, 7, 8, 9]"
            ]
          },
          "metadata": {},
          "execution_count": 206
        }
      ]
    },
    {
      "cell_type": "code",
      "source": [
        "a = range(10)\n",
        "a"
      ],
      "metadata": {
        "colab": {
          "base_uri": "https://localhost:8080/"
        },
        "id": "QJaB7i2cvDGj",
        "outputId": "ca62fae9-17da-4e01-d86f-52a6f7a13989"
      },
      "execution_count": null,
      "outputs": [
        {
          "output_type": "execute_result",
          "data": {
            "text/plain": [
              "range(0, 10)"
            ]
          },
          "metadata": {},
          "execution_count": 207
        }
      ]
    },
    {
      "cell_type": "code",
      "source": [
        "a = list(range(-6, 7, 3))\n",
        "a"
      ],
      "metadata": {
        "colab": {
          "base_uri": "https://localhost:8080/"
        },
        "id": "6bipqAUMvzIq",
        "outputId": "989e8653-2aab-431c-998f-dddf3adf79cb"
      },
      "execution_count": null,
      "outputs": [
        {
          "output_type": "execute_result",
          "data": {
            "text/plain": [
              "[-6, -3, 0, 3, 6]"
            ]
          },
          "metadata": {},
          "execution_count": 209
        }
      ]
    },
    {
      "cell_type": "code",
      "source": [
        "a = (1, 2, 3)\n",
        "list(a)"
      ],
      "metadata": {
        "colab": {
          "base_uri": "https://localhost:8080/"
        },
        "id": "AHCfban3wEgc",
        "outputId": "f42f2e36-2c36-4d8b-ec61-a314633ec556"
      },
      "execution_count": null,
      "outputs": [
        {
          "output_type": "execute_result",
          "data": {
            "text/plain": [
              "[1, 2, 3]"
            ]
          },
          "metadata": {},
          "execution_count": 210
        }
      ]
    },
    {
      "cell_type": "code",
      "source": [
        "b = [1, 2, 3]\n",
        "tuple(b)"
      ],
      "metadata": {
        "colab": {
          "base_uri": "https://localhost:8080/"
        },
        "id": "lD4zw4ZLxiKJ",
        "outputId": "75408026-937c-453c-e046-1c8b2084ad43"
      },
      "execution_count": null,
      "outputs": [
        {
          "output_type": "execute_result",
          "data": {
            "text/plain": [
              "(1, 2, 3)"
            ]
          },
          "metadata": {},
          "execution_count": 211
        }
      ]
    },
    {
      "cell_type": "code",
      "source": [
        "a, b, c = (1, 2, 3)\n",
        "c"
      ],
      "metadata": {
        "colab": {
          "base_uri": "https://localhost:8080/"
        },
        "id": "Aj_9gX--xldg",
        "outputId": "0e8688bf-b9ca-433c-ac07-7ff135bc1a2f"
      },
      "execution_count": null,
      "outputs": [
        {
          "output_type": "execute_result",
          "data": {
            "text/plain": [
              "3"
            ]
          },
          "metadata": {},
          "execution_count": 215
        }
      ]
    },
    {
      "cell_type": "code",
      "source": [
        "a"
      ],
      "metadata": {
        "colab": {
          "base_uri": "https://localhost:8080/"
        },
        "id": "DGFgLF8Lx6Zk",
        "outputId": "3a20d338-bc66-4188-fd8d-48316987f68e"
      },
      "execution_count": null,
      "outputs": [
        {
          "output_type": "execute_result",
          "data": {
            "text/plain": [
              "1"
            ]
          },
          "metadata": {},
          "execution_count": 216
        }
      ]
    },
    {
      "cell_type": "code",
      "source": [
        "input().split()\n",
        "10 20"
      ],
      "metadata": {
        "colab": {
          "base_uri": "https://localhost:8080/",
          "height": 136
        },
        "id": "hSimSMekyAAL",
        "outputId": "24316bce-a5e4-4749-96c4-e153f765eb9e"
      },
      "execution_count": null,
      "outputs": [
        {
          "output_type": "error",
          "ename": "SyntaxError",
          "evalue": "ignored",
          "traceback": [
            "\u001b[0;36m  File \u001b[0;32m\"<ipython-input-218-2a594810801a>\"\u001b[0;36m, line \u001b[0;32m2\u001b[0m\n\u001b[0;31m    10 20\u001b[0m\n\u001b[0m       ^\u001b[0m\n\u001b[0;31mSyntaxError\u001b[0m\u001b[0;31m:\u001b[0m invalid syntax\n"
          ]
        }
      ]
    },
    {
      "cell_type": "code",
      "source": [
        "a = [1, 4, 3, 2, 5, 6, 7, 8, 9, 10]\n",
        "a.append(11)\n",
        "a"
      ],
      "metadata": {
        "colab": {
          "base_uri": "https://localhost:8080/"
        },
        "id": "6jL5LhtyyvvV",
        "outputId": "aa451820-25cd-43e6-a4bd-bac744f27f42"
      },
      "execution_count": null,
      "outputs": [
        {
          "output_type": "execute_result",
          "data": {
            "text/plain": [
              "[1, 2, 3, 4, 5, 6, 7, 8, 9, 10, 11]"
            ]
          },
          "metadata": {},
          "execution_count": 220
        }
      ]
    },
    {
      "cell_type": "code",
      "source": [
        "a.sort()\n",
        "a"
      ],
      "metadata": {
        "colab": {
          "base_uri": "https://localhost:8080/"
        },
        "id": "aCOtN4WczBjJ",
        "outputId": "ccfe6767-28b2-4ed7-ef8f-f884c113a270"
      },
      "execution_count": null,
      "outputs": [
        {
          "output_type": "execute_result",
          "data": {
            "text/plain": [
              "[1, 2, 3, 4, 5, 6, 7, 8, 9, 10, 11]"
            ]
          },
          "metadata": {},
          "execution_count": 222
        }
      ]
    },
    {
      "cell_type": "code",
      "source": [
        "a.reverse()\n",
        "a"
      ],
      "metadata": {
        "colab": {
          "base_uri": "https://localhost:8080/"
        },
        "id": "YFjrumqQzb9a",
        "outputId": "6f95bd61-2d1d-42ab-877a-905bbdd8ad18"
      },
      "execution_count": null,
      "outputs": [
        {
          "output_type": "execute_result",
          "data": {
            "text/plain": [
              "[11, 10, 9, 8, 7, 6, 5, 4, 3, 2, 1]"
            ]
          },
          "metadata": {},
          "execution_count": 223
        }
      ]
    },
    {
      "cell_type": "code",
      "source": [
        "a.index(6)"
      ],
      "metadata": {
        "colab": {
          "base_uri": "https://localhost:8080/"
        },
        "id": "W3Yx0sg6zn_N",
        "outputId": "fafd6696-9542-414c-9d50-5455c92a46f3"
      },
      "execution_count": null,
      "outputs": [
        {
          "output_type": "execute_result",
          "data": {
            "text/plain": [
              "5"
            ]
          },
          "metadata": {},
          "execution_count": 224
        }
      ]
    },
    {
      "cell_type": "code",
      "source": [
        "a.index(2)"
      ],
      "metadata": {
        "colab": {
          "base_uri": "https://localhost:8080/"
        },
        "id": "3C496oFJ0BYt",
        "outputId": "3138174b-aad8-42ab-ebc3-cdaa523e851c"
      },
      "execution_count": null,
      "outputs": [
        {
          "output_type": "execute_result",
          "data": {
            "text/plain": [
              "9"
            ]
          },
          "metadata": {},
          "execution_count": 225
        }
      ]
    },
    {
      "cell_type": "code",
      "source": [
        "a.insert(2, 30)\n",
        "a"
      ],
      "metadata": {
        "colab": {
          "base_uri": "https://localhost:8080/"
        },
        "id": "emgAoe5i0XyX",
        "outputId": "48748a0a-d03b-4139-fb7e-2b26ad3403c8"
      },
      "execution_count": null,
      "outputs": [
        {
          "output_type": "execute_result",
          "data": {
            "text/plain": [
              "[11, 10, 30, 9, 8, 7, 6, 5, 4, 3, 2, 1]"
            ]
          },
          "metadata": {},
          "execution_count": 226
        }
      ]
    },
    {
      "cell_type": "code",
      "source": [
        "a.remove(30)\n",
        "a"
      ],
      "metadata": {
        "colab": {
          "base_uri": "https://localhost:8080/"
        },
        "id": "ZprHEQu50trr",
        "outputId": "7024e0b8-7fe4-4ca9-de4e-ae2b49604398"
      },
      "execution_count": null,
      "outputs": [
        {
          "output_type": "execute_result",
          "data": {
            "text/plain": [
              "[11, 10, 9, 8, 7, 6, 5, 4, 3, 2, 1]"
            ]
          },
          "metadata": {},
          "execution_count": 227
        }
      ]
    },
    {
      "cell_type": "code",
      "source": [
        "a.pop(4)"
      ],
      "metadata": {
        "colab": {
          "base_uri": "https://localhost:8080/"
        },
        "id": "iwa82VVA03RZ",
        "outputId": "6bad6e2a-f85d-4462-fd7c-a26e023aefb3"
      },
      "execution_count": null,
      "outputs": [
        {
          "output_type": "execute_result",
          "data": {
            "text/plain": [
              "4"
            ]
          },
          "metadata": {},
          "execution_count": 231
        }
      ]
    },
    {
      "cell_type": "code",
      "source": [
        "a.pop()"
      ],
      "metadata": {
        "colab": {
          "base_uri": "https://localhost:8080/"
        },
        "id": "94ZIj5E91dgW",
        "outputId": "c46547de-c17b-42f8-e34d-3237e37a9e25"
      },
      "execution_count": null,
      "outputs": [
        {
          "output_type": "execute_result",
          "data": {
            "text/plain": [
              "1"
            ]
          },
          "metadata": {},
          "execution_count": 232
        }
      ]
    },
    {
      "cell_type": "code",
      "source": [
        "a"
      ],
      "metadata": {
        "colab": {
          "base_uri": "https://localhost:8080/"
        },
        "id": "gQUTFZ0V14we",
        "outputId": "523f4a9e-650f-4299-ba17-faf6ecbab88c"
      },
      "execution_count": null,
      "outputs": [
        {
          "output_type": "execute_result",
          "data": {
            "text/plain": [
              "[11, 10, 7, 5, 3, 2]"
            ]
          },
          "metadata": {},
          "execution_count": 233
        }
      ]
    },
    {
      "cell_type": "code",
      "source": [
        "a.pop(1)"
      ],
      "metadata": {
        "colab": {
          "base_uri": "https://localhost:8080/"
        },
        "id": "BLNN3Lst16dq",
        "outputId": "23c68b91-2539-4c3d-e62a-ec0400ab031e"
      },
      "execution_count": null,
      "outputs": [
        {
          "output_type": "execute_result",
          "data": {
            "text/plain": [
              "10"
            ]
          },
          "metadata": {},
          "execution_count": 234
        }
      ]
    },
    {
      "cell_type": "code",
      "source": [
        "a.pop(1)"
      ],
      "metadata": {
        "colab": {
          "base_uri": "https://localhost:8080/"
        },
        "id": "-_C__uUh2FBX",
        "outputId": "c736bdaa-4964-4419-83ff-7b883ae0c7e1"
      },
      "execution_count": null,
      "outputs": [
        {
          "output_type": "execute_result",
          "data": {
            "text/plain": [
              "7"
            ]
          },
          "metadata": {},
          "execution_count": 235
        }
      ]
    },
    {
      "cell_type": "code",
      "source": [
        "a.count(11)"
      ],
      "metadata": {
        "colab": {
          "base_uri": "https://localhost:8080/"
        },
        "id": "hxb1Z0-02Grh",
        "outputId": "695329d5-134a-472f-bb09-9237bb493928"
      },
      "execution_count": null,
      "outputs": [
        {
          "output_type": "execute_result",
          "data": {
            "text/plain": [
              "1"
            ]
          },
          "metadata": {},
          "execution_count": 238
        }
      ]
    },
    {
      "cell_type": "code",
      "source": [],
      "metadata": {
        "colab": {
          "base_uri": "https://localhost:8080/"
        },
        "id": "ykLhzlUf2IS8",
        "outputId": "6753eebf-9ba2-4abc-ac0d-3fa14d6c8f15"
      },
      "execution_count": null,
      "outputs": [
        {
          "output_type": "execute_result",
          "data": {
            "text/plain": [
              "[11, 5, 3, 2]"
            ]
          },
          "metadata": {},
          "execution_count": 237
        }
      ]
    },
    {
      "cell_type": "code",
      "source": [
        "len(a)"
      ],
      "metadata": {
        "colab": {
          "base_uri": "https://localhost:8080/"
        },
        "id": "5WLyMA6V2I-6",
        "outputId": "21f789ec-4452-48ef-b206-635fd39bc1e7"
      },
      "execution_count": null,
      "outputs": [
        {
          "output_type": "execute_result",
          "data": {
            "text/plain": [
              "4"
            ]
          },
          "metadata": {},
          "execution_count": 239
        }
      ]
    },
    {
      "cell_type": "code",
      "source": [
        "import numpy as np"
      ],
      "metadata": {
        "id": "TnzE1xVf2Yhk"
      },
      "execution_count": null,
      "outputs": []
    },
    {
      "cell_type": "code",
      "source": [
        "matrix = [1, 2, 3, 4],[5, 6, 7, 8],[9, 10, 11, 12]\n",
        "matrix\n",
        "np.array(matrix, int).shape"
      ],
      "metadata": {
        "colab": {
          "base_uri": "https://localhost:8080/"
        },
        "id": "kB9msYYD2iXb",
        "outputId": "ea56d556-557e-4676-ab85-0807d18ee16f"
      },
      "execution_count": null,
      "outputs": [
        {
          "output_type": "execute_result",
          "data": {
            "text/plain": [
              "(3, 4)"
            ]
          },
          "metadata": {},
          "execution_count": 243
        }
      ]
    },
    {
      "cell_type": "code",
      "source": [
        "np.array(matrix)"
      ],
      "metadata": {
        "colab": {
          "base_uri": "https://localhost:8080/"
        },
        "id": "F4sFDVPB3haN",
        "outputId": "b3f77fb0-1e44-488b-ea6f-04bce9a7c1f6"
      },
      "execution_count": null,
      "outputs": [
        {
          "output_type": "execute_result",
          "data": {
            "text/plain": [
              "array([[ 1,  2,  3,  4],\n",
              "       [ 5,  6,  7,  8],\n",
              "       [ 9, 10, 11, 12]])"
            ]
          },
          "metadata": {},
          "execution_count": 244
        }
      ]
    },
    {
      "cell_type": "code",
      "source": [
        "a = ()\n",
        "b = (1,2,3)\n",
        "c = ('x','y','z')\n",
        "d = b+c\n",
        "d\n",
        "# a, b, c에 튜플을 지정하고 b와 c를 더한다."
      ],
      "metadata": {
        "colab": {
          "base_uri": "https://localhost:8080/"
        },
        "id": "tsOj2Wga37VY",
        "outputId": "5b7974ae-0eff-4ed0-a75d-0b47cad4453d"
      },
      "execution_count": null,
      "outputs": [
        {
          "output_type": "execute_result",
          "data": {
            "text/plain": [
              "(1, 2, 3, 'x', 'y', 'z')"
            ]
          },
          "metadata": {},
          "execution_count": 245
        }
      ]
    },
    {
      "cell_type": "code",
      "source": [
        "a, b, c = (1),(2,3),(4,5)\n",
        "a\n",
        "# a, b, c 에 각각의 튜플을 지정한다."
      ],
      "metadata": {
        "colab": {
          "base_uri": "https://localhost:8080/"
        },
        "id": "3WndD7T04LJq",
        "outputId": "cd5b3738-5b08-402f-fe5c-4924073ceb63"
      },
      "execution_count": null,
      "outputs": [
        {
          "output_type": "execute_result",
          "data": {
            "text/plain": [
              "1"
            ]
          },
          "metadata": {},
          "execution_count": 247
        }
      ]
    },
    {
      "cell_type": "code",
      "source": [
        "b\n",
        "# b의 값을 츌력한다."
      ],
      "metadata": {
        "colab": {
          "base_uri": "https://localhost:8080/"
        },
        "id": "2dl_pu9V4RmQ",
        "outputId": "b41f7d86-0e52-4209-d2e9-227d43acd6a3"
      },
      "execution_count": null,
      "outputs": [
        {
          "output_type": "execute_result",
          "data": {
            "text/plain": [
              "(2, 3)"
            ]
          },
          "metadata": {},
          "execution_count": 248
        }
      ]
    },
    {
      "cell_type": "code",
      "source": [
        "c\n",
        "# c의 값을 출력한다."
      ],
      "metadata": {
        "colab": {
          "base_uri": "https://localhost:8080/"
        },
        "id": "COzoEXjg4aWx",
        "outputId": "3ae1e500-02fe-49e6-c6b4-dca80f156f9a"
      },
      "execution_count": null,
      "outputs": [
        {
          "output_type": "execute_result",
          "data": {
            "text/plain": [
              "(4, 5)"
            ]
          },
          "metadata": {},
          "execution_count": 249
        }
      ]
    },
    {
      "cell_type": "code",
      "source": [
        "a = (1,2,3,4)\n",
        "del a[1]\n",
        "# 튜플 값은 삭제가 안된다."
      ],
      "metadata": {
        "colab": {
          "base_uri": "https://localhost:8080/",
          "height": 190
        },
        "id": "yVTXEif44ax3",
        "outputId": "a03d74be-fb3e-4fab-dd94-4519d9ee8c06"
      },
      "execution_count": null,
      "outputs": [
        {
          "output_type": "error",
          "ename": "TypeError",
          "evalue": "ignored",
          "traceback": [
            "\u001b[0;31m---------------------------------------------------------------------------\u001b[0m",
            "\u001b[0;31mTypeError\u001b[0m                                 Traceback (most recent call last)",
            "\u001b[0;32m<ipython-input-250-da5f14ef1422>\u001b[0m in \u001b[0;36m<module>\u001b[0;34m\u001b[0m\n\u001b[1;32m      1\u001b[0m \u001b[0ma\u001b[0m \u001b[0;34m=\u001b[0m \u001b[0;34m(\u001b[0m\u001b[0;36m1\u001b[0m\u001b[0;34m,\u001b[0m\u001b[0;36m2\u001b[0m\u001b[0;34m,\u001b[0m\u001b[0;36m3\u001b[0m\u001b[0;34m,\u001b[0m\u001b[0;36m4\u001b[0m\u001b[0;34m)\u001b[0m\u001b[0;34m\u001b[0m\u001b[0;34m\u001b[0m\u001b[0m\n\u001b[0;32m----> 2\u001b[0;31m \u001b[0;32mdel\u001b[0m \u001b[0ma\u001b[0m\u001b[0;34m[\u001b[0m\u001b[0;36m1\u001b[0m\u001b[0;34m]\u001b[0m\u001b[0;34m\u001b[0m\u001b[0;34m\u001b[0m\u001b[0m\n\u001b[0m",
            "\u001b[0;31mTypeError\u001b[0m: 'tuple' object doesn't support item deletion"
          ]
        }
      ]
    },
    {
      "cell_type": "markdown",
      "source": [
        "딕셔너리"
      ],
      "metadata": {
        "id": "T5Hdwae2enfP"
      }
    },
    {
      "cell_type": "code",
      "source": [
        "a = {\"달러\" : 1400, \"엔화\" : 100}\n",
        "a\n",
        "# a에 달러와 엔화로 각각 딕셔너리 지정"
      ],
      "metadata": {
        "colab": {
          "base_uri": "https://localhost:8080/"
        },
        "id": "6H4Hx3lH4j-B",
        "outputId": "dfa681ea-12b6-43fc-bd06-a239fa265b4c"
      },
      "execution_count": null,
      "outputs": [
        {
          "output_type": "execute_result",
          "data": {
            "text/plain": [
              "{'달러': 1400, '엔화': 100}"
            ]
          },
          "metadata": {},
          "execution_count": 253
        }
      ]
    },
    {
      "cell_type": "code",
      "source": [
        "a{달러}\n",
        "# a에서 키를 중괄호로 하면 오류"
      ],
      "metadata": {
        "colab": {
          "base_uri": "https://localhost:8080/",
          "height": 136
        },
        "id": "WaI_Le5E9FWy",
        "outputId": "20618ce5-4548-4b33-b7c3-e1bf0dca6f1c"
      },
      "execution_count": null,
      "outputs": [
        {
          "output_type": "error",
          "ename": "SyntaxError",
          "evalue": "ignored",
          "traceback": [
            "\u001b[0;36m  File \u001b[0;32m\"<ipython-input-254-1261f390e48a>\"\u001b[0;36m, line \u001b[0;32m1\u001b[0m\n\u001b[0;31m    a{달러}\u001b[0m\n\u001b[0m     ^\u001b[0m\n\u001b[0;31mSyntaxError\u001b[0m\u001b[0;31m:\u001b[0m invalid syntax\n"
          ]
        }
      ]
    },
    {
      "cell_type": "code",
      "source": [
        "a[달러]\n",
        "# a에서 키를 대괄호로 하더라도 문자열로 출력하지 않으면 오류"
      ],
      "metadata": {
        "colab": {
          "base_uri": "https://localhost:8080/",
          "height": 172
        },
        "id": "Ms5n1Lr59Ylp",
        "outputId": "73d3e5d7-9c11-45f3-cfd3-d9a3c9e68018"
      },
      "execution_count": null,
      "outputs": [
        {
          "output_type": "error",
          "ename": "NameError",
          "evalue": "ignored",
          "traceback": [
            "\u001b[0;31m---------------------------------------------------------------------------\u001b[0m",
            "\u001b[0;31mNameError\u001b[0m                                 Traceback (most recent call last)",
            "\u001b[0;32m<ipython-input-255-43ca7fc13382>\u001b[0m in \u001b[0;36m<module>\u001b[0;34m\u001b[0m\n\u001b[0;32m----> 1\u001b[0;31m \u001b[0ma\u001b[0m\u001b[0;34m[\u001b[0m\u001b[0m달러\u001b[0m\u001b[0;34m]\u001b[0m\u001b[0;34m\u001b[0m\u001b[0;34m\u001b[0m\u001b[0m\n\u001b[0m",
            "\u001b[0;31mNameError\u001b[0m: name '달러' is not defined"
          ]
        }
      ]
    },
    {
      "cell_type": "code",
      "source": [
        "a['달러']\n",
        "# a에서 키를 문자열로 잘 출력함"
      ],
      "metadata": {
        "colab": {
          "base_uri": "https://localhost:8080/"
        },
        "id": "nU7XGLZh9aZV",
        "outputId": "ba9aff39-c0f7-46e9-8429-7d993f163252"
      },
      "execution_count": null,
      "outputs": [
        {
          "output_type": "execute_result",
          "data": {
            "text/plain": [
              "1400"
            ]
          },
          "metadata": {},
          "execution_count": 256
        }
      ]
    },
    {
      "cell_type": "code",
      "source": [
        "print(a.get(\"달러\"))\n",
        "# 딕셔너리 a의 키인 달러의 값을 출력"
      ],
      "metadata": {
        "colab": {
          "base_uri": "https://localhost:8080/"
        },
        "id": "DQzPVbwi9fMH",
        "outputId": "8322487a-0d39-4f60-9631-60c20d049826"
      },
      "execution_count": null,
      "outputs": [
        {
          "output_type": "stream",
          "name": "stdout",
          "text": [
            "1400\n"
          ]
        }
      ]
    },
    {
      "cell_type": "code",
      "source": [
        "a.get('위안','그런거 없어.')\n",
        "# 딕셔너리 a에서 위안이 없으면 그런거 없어를 출력"
      ],
      "metadata": {
        "colab": {
          "base_uri": "https://localhost:8080/",
          "height": 35
        },
        "id": "96BQu7If9i8a",
        "outputId": "ab22cd9f-1969-478b-dd10-60d645356053"
      },
      "execution_count": null,
      "outputs": [
        {
          "output_type": "execute_result",
          "data": {
            "text/plain": [
              "'그런거 없어.'"
            ],
            "application/vnd.google.colaboratory.intrinsic+json": {
              "type": "string"
            }
          },
          "metadata": {},
          "execution_count": 259
        }
      ]
    },
    {
      "cell_type": "code",
      "source": [
        "a['위안']=300\n",
        "a\n",
        "# a에 키 위안과 값 300을 추가 입력"
      ],
      "metadata": {
        "colab": {
          "base_uri": "https://localhost:8080/"
        },
        "id": "p2UKS2tC9paf",
        "outputId": "53e7070b-8bb1-4d9b-80f6-13310ed97aca"
      },
      "execution_count": null,
      "outputs": [
        {
          "output_type": "execute_result",
          "data": {
            "text/plain": [
              "{'달러': 1400, '엔화': 100, '위안': 300}"
            ]
          },
          "metadata": {},
          "execution_count": 260
        }
      ]
    },
    {
      "cell_type": "code",
      "source": [
        "a.get('위안', '그런거 없어')\n",
        "# 키에 위안이 있으면 값을 출력"
      ],
      "metadata": {
        "colab": {
          "base_uri": "https://localhost:8080/"
        },
        "id": "MK5UvVqk9_1e",
        "outputId": "c15a4995-3f45-4282-b5c9-2cd0a6cd88a2"
      },
      "execution_count": null,
      "outputs": [
        {
          "output_type": "execute_result",
          "data": {
            "text/plain": [
              "300"
            ]
          },
          "metadata": {},
          "execution_count": 261
        }
      ]
    },
    {
      "cell_type": "code",
      "source": [
        "del a['엔화']\n",
        "a\n",
        "# 딕셔너리 a에서 엔화의 키와 값을 삭제"
      ],
      "metadata": {
        "colab": {
          "base_uri": "https://localhost:8080/"
        },
        "id": "FMFWRufY-IK-",
        "outputId": "7d59910a-8f96-402f-dbe8-10409b1c61b5"
      },
      "execution_count": null,
      "outputs": [
        {
          "output_type": "execute_result",
          "data": {
            "text/plain": [
              "{'달러': 1400, '위안': 300}"
            ]
          },
          "metadata": {},
          "execution_count": 262
        }
      ]
    },
    {
      "cell_type": "code",
      "source": [
        "# 키값이 중복되면 뒤에것만 나온다."
      ],
      "metadata": {
        "id": "VwGnIIcZ-K07"
      },
      "execution_count": null,
      "outputs": []
    },
    {
      "cell_type": "code",
      "source": [
        "a['달러'] = 1500\n",
        "a\n",
        "# 딕셔너리 a에서 달러의 값을 변경하고 a를 출력"
      ],
      "metadata": {
        "colab": {
          "base_uri": "https://localhost:8080/"
        },
        "id": "S0ALtYsx-jfv",
        "outputId": "15543c73-adda-40e8-a74e-90a6dea943e2"
      },
      "execution_count": null,
      "outputs": [
        {
          "output_type": "execute_result",
          "data": {
            "text/plain": [
              "{'달러': 1500, '위안': 300}"
            ]
          },
          "metadata": {},
          "execution_count": 265
        }
      ]
    },
    {
      "cell_type": "code",
      "source": [
        "a.keys()\n",
        "# a의 키들을 출력"
      ],
      "metadata": {
        "colab": {
          "base_uri": "https://localhost:8080/"
        },
        "id": "_IsL2LP4-pqG",
        "outputId": "73dd9ca9-0f7e-4249-d77a-2a1d2d85832b"
      },
      "execution_count": null,
      "outputs": [
        {
          "output_type": "execute_result",
          "data": {
            "text/plain": [
              "dict_keys(['달러', '위안'])"
            ]
          },
          "metadata": {},
          "execution_count": 266
        }
      ]
    },
    {
      "cell_type": "code",
      "source": [
        "a.values()\n",
        "# a의 값들을 출력"
      ],
      "metadata": {
        "colab": {
          "base_uri": "https://localhost:8080/"
        },
        "id": "A983zWND-xmb",
        "outputId": "5a611703-ca83-4cee-9a76-b94bbc926647"
      },
      "execution_count": null,
      "outputs": [
        {
          "output_type": "execute_result",
          "data": {
            "text/plain": [
              "dict_values([1500, 300])"
            ]
          },
          "metadata": {},
          "execution_count": 268
        }
      ]
    },
    {
      "cell_type": "code",
      "source": [
        "a = \"statistics\"\n",
        "s = set(a)\n",
        "s\n",
        "# a에 문자열을 입력하고 set로 a의 알파벳을 중복없이 출력"
      ],
      "metadata": {
        "colab": {
          "base_uri": "https://localhost:8080/"
        },
        "id": "aFd8KqGY-4ju",
        "outputId": "40ee61c3-ce2c-49b2-872a-33db402df53d"
      },
      "execution_count": null,
      "outputs": [
        {
          "output_type": "execute_result",
          "data": {
            "text/plain": [
              "{'a', 'c', 'i', 's', 't'}"
            ]
          },
          "metadata": {},
          "execution_count": 269
        }
      ]
    },
    {
      "cell_type": "code",
      "source": [
        "com = [\"사원\", \"대리\", \"과장\", \"차장\", \"팀장\", \"대리\", \"과장\"]\n",
        "s_com = set(com)\n",
        "s_com\n",
        "# com의 직급을 set로 중복없이 출력"
      ],
      "metadata": {
        "colab": {
          "base_uri": "https://localhost:8080/"
        },
        "id": "eBZMjTS3_Poz",
        "outputId": "b1c38fb2-02a9-428a-f4d2-06c99cdc8ec9"
      },
      "execution_count": null,
      "outputs": [
        {
          "output_type": "execute_result",
          "data": {
            "text/plain": [
              "{'과장', '대리', '사원', '차장', '팀장'}"
            ]
          },
          "metadata": {},
          "execution_count": 270
        }
      ]
    },
    {
      "cell_type": "code",
      "source": [
        "a = set([1, 2, 3])\n",
        "b = set([2, 3, 4])\n",
        "# a와 b를 set로 지정"
      ],
      "metadata": {
        "id": "cFwtsiUd_qbR"
      },
      "execution_count": null,
      "outputs": []
    },
    {
      "cell_type": "code",
      "source": [
        "a\n",
        "# set a값 출력"
      ],
      "metadata": {
        "colab": {
          "base_uri": "https://localhost:8080/"
        },
        "id": "KuNkmQRlABEC",
        "outputId": "1285b8d9-f6cf-4698-9142-6813eec7d902"
      },
      "execution_count": null,
      "outputs": [
        {
          "output_type": "execute_result",
          "data": {
            "text/plain": [
              "{1, 2, 3}"
            ]
          },
          "metadata": {},
          "execution_count": 273
        }
      ]
    },
    {
      "cell_type": "code",
      "source": [
        "b\n",
        "# set b값 출력"
      ],
      "metadata": {
        "colab": {
          "base_uri": "https://localhost:8080/"
        },
        "id": "Cz80t01qAJub",
        "outputId": "3ba1ae6c-1101-4ab8-a015-2b8ad7b5f013"
      },
      "execution_count": null,
      "outputs": [
        {
          "output_type": "execute_result",
          "data": {
            "text/plain": [
              "{2, 3, 4}"
            ]
          },
          "metadata": {},
          "execution_count": 274
        }
      ]
    },
    {
      "cell_type": "code",
      "source": [
        "a&b\n",
        "# set a와 b의 교집합 출력"
      ],
      "metadata": {
        "colab": {
          "base_uri": "https://localhost:8080/"
        },
        "id": "KydgUOXBAKJv",
        "outputId": "ddb0b844-bf83-4d03-8d6d-fc151bd9e86a"
      },
      "execution_count": null,
      "outputs": [
        {
          "output_type": "execute_result",
          "data": {
            "text/plain": [
              "{2, 3}"
            ]
          },
          "metadata": {},
          "execution_count": 275
        }
      ]
    },
    {
      "cell_type": "code",
      "source": [
        "a|b\n",
        "# set a와 b의 합집합 출력"
      ],
      "metadata": {
        "colab": {
          "base_uri": "https://localhost:8080/"
        },
        "id": "UBFVQI_BAMwn",
        "outputId": "38a3b0eb-cd9d-4007-e16d-e7060e594b57"
      },
      "execution_count": null,
      "outputs": [
        {
          "output_type": "execute_result",
          "data": {
            "text/plain": [
              "{1, 2, 3, 4}"
            ]
          },
          "metadata": {},
          "execution_count": 276
        }
      ]
    },
    {
      "cell_type": "code",
      "source": [
        "a-b\n",
        "# set a와 b의 차집합 출력"
      ],
      "metadata": {
        "colab": {
          "base_uri": "https://localhost:8080/"
        },
        "id": "HMPw0nbTAQGa",
        "outputId": "06ac93c1-9315-41ac-923e-b892b8091b8f"
      },
      "execution_count": null,
      "outputs": [
        {
          "output_type": "execute_result",
          "data": {
            "text/plain": [
              "{1}"
            ]
          },
          "metadata": {},
          "execution_count": 277
        }
      ]
    },
    {
      "cell_type": "code",
      "source": [
        "a.update([5, 6, 7])\n",
        "# set a에 5, 6, 7을 업데이트"
      ],
      "metadata": {
        "id": "qkgXAoVAASaT"
      },
      "execution_count": null,
      "outputs": []
    },
    {
      "cell_type": "code",
      "source": [
        "a\n",
        "# set a를 출력"
      ],
      "metadata": {
        "colab": {
          "base_uri": "https://localhost:8080/"
        },
        "id": "x5jTLjjiAdzA",
        "outputId": "73ecbe91-d9e2-4c20-eb54-42520c77fbd0"
      },
      "execution_count": null,
      "outputs": [
        {
          "output_type": "execute_result",
          "data": {
            "text/plain": [
              "{1, 2, 3, 5, 6, 7}"
            ]
          },
          "metadata": {},
          "execution_count": 279
        }
      ]
    },
    {
      "cell_type": "code",
      "source": [
        "a.remove(5)\n",
        "# set a에서 요소 5를 제거"
      ],
      "metadata": {
        "id": "kvadngJrAeSK"
      },
      "execution_count": null,
      "outputs": []
    },
    {
      "cell_type": "code",
      "source": [
        "a\n",
        "# set a를 출력"
      ],
      "metadata": {
        "colab": {
          "base_uri": "https://localhost:8080/"
        },
        "id": "20AGYhWmAksc",
        "outputId": "4a5da959-0873-4a8d-9fd6-5c749a75ba99"
      },
      "execution_count": null,
      "outputs": [
        {
          "output_type": "execute_result",
          "data": {
            "text/plain": [
              "{1, 2, 3, 6, 7}"
            ]
          },
          "metadata": {},
          "execution_count": 283
        }
      ]
    },
    {
      "cell_type": "code",
      "source": [
        "a.remove(7)\n",
        "# set a 에서 요소 7을 제거"
      ],
      "metadata": {
        "id": "kIDT9opWAvfd"
      },
      "execution_count": null,
      "outputs": []
    },
    {
      "cell_type": "code",
      "source": [
        "a\n",
        "# 요소들 몇개가 제거된 a를 출력"
      ],
      "metadata": {
        "colab": {
          "base_uri": "https://localhost:8080/"
        },
        "id": "Pt3wqXnNA4K_",
        "outputId": "91ebca46-2c7a-4f4f-c02d-9039e3b922bb"
      },
      "execution_count": null,
      "outputs": [
        {
          "output_type": "execute_result",
          "data": {
            "text/plain": [
              "{1, 2, 3, 6}"
            ]
          },
          "metadata": {},
          "execution_count": 285
        }
      ]
    },
    {
      "cell_type": "markdown",
      "source": [
        "문자열을 함수로 입력 연습"
      ],
      "metadata": {
        "id": "QRXeVOWkg1j-"
      }
    },
    {
      "cell_type": "code",
      "source": [
        "a = 100.05\n",
        "b = 150.05\n",
        "c = 200\n",
        "# a, b, c를 각각 지정"
      ],
      "metadata": {
        "id": "W537SmdXA5b2"
      },
      "execution_count": null,
      "outputs": []
    },
    {
      "cell_type": "code",
      "source": [
        "print(\"사과 1개의 가격은 %d원 입니다.\" %a)\n",
        "# 문자열에 함수를 넣고 a를 출력"
      ],
      "metadata": {
        "colab": {
          "base_uri": "https://localhost:8080/"
        },
        "id": "dt8Quma2BUld",
        "outputId": "55bb213c-5ed0-468a-8961-fe186d1decaf"
      },
      "execution_count": null,
      "outputs": [
        {
          "output_type": "stream",
          "name": "stdout",
          "text": [
            "사과 1개의 가격은 100원 입니다.\n"
          ]
        }
      ]
    },
    {
      "cell_type": "code",
      "source": [
        "print(\"사과 1개의 가격은 %f원 입니다. 사과 2개의 가격은 %f원 입니다.\" %(a,b))\n",
        "# 문자열에 함수를 넣고 a와 b를 출력"
      ],
      "metadata": {
        "colab": {
          "base_uri": "https://localhost:8080/"
        },
        "id": "_QsOPkaTBfK2",
        "outputId": "0870d62d-5936-4ece-cfea-02cf0b6937b1"
      },
      "execution_count": null,
      "outputs": [
        {
          "output_type": "stream",
          "name": "stdout",
          "text": [
            "사과 1개의 가격은 100.050000원 입니다. 사과 2개의 가격은 150.050000원 입니다.\n"
          ]
        }
      ]
    },
    {
      "cell_type": "code",
      "source": [
        "d = '박경모'\n",
        "print(\"%s 고객님, 안녕하세요\" %d)\n",
        "# d에 이름을 넣고 문자열에 함수를 지정한 후 출력"
      ],
      "metadata": {
        "colab": {
          "base_uri": "https://localhost:8080/"
        },
        "id": "4cEDQpvMB4D8",
        "outputId": "d6812213-aeee-4237-87ad-831eb229c229"
      },
      "execution_count": null,
      "outputs": [
        {
          "output_type": "stream",
          "name": "stdout",
          "text": [
            "박경모 고객님, 안녕하세요\n"
          ]
        }
      ]
    },
    {
      "cell_type": "code",
      "source": [],
      "metadata": {
        "id": "UsvjNNlGC3h4"
      },
      "execution_count": null,
      "outputs": []
    }
  ]
}
