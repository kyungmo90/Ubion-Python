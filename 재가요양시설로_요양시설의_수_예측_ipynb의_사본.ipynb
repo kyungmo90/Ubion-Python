{
  "nbformat": 4,
  "nbformat_minor": 0,
  "metadata": {
    "colab": {
      "provenance": [],
      "include_colab_link": true
    },
    "kernelspec": {
      "name": "python3",
      "display_name": "Python 3"
    },
    "language_info": {
      "name": "python"
    }
  },
  "cells": [
    {
      "cell_type": "markdown",
      "metadata": {
        "id": "view-in-github",
        "colab_type": "text"
      },
      "source": [
        "<a href=\"https://colab.research.google.com/github/kyungmo90/Ubion-Python/blob/main/%EC%9E%AC%EA%B0%80%EC%9A%94%EC%96%91%EC%8B%9C%EC%84%A4%EB%A1%9C_%EC%9A%94%EC%96%91%EC%8B%9C%EC%84%A4%EC%9D%98_%EC%88%98_%EC%98%88%EC%B8%A1_ipynb%EC%9D%98_%EC%82%AC%EB%B3%B8.ipynb\" target=\"_parent\"><img src=\"https://colab.research.google.com/assets/colab-badge.svg\" alt=\"Open In Colab\"/></a>"
      ]
    },
    {
      "cell_type": "markdown",
      "source": [
        "# 재가요양시설로 요양시설의 수 예측"
      ],
      "metadata": {
        "id": "SrmtyJLuFnTf"
      }
    },
    {
      "cell_type": "markdown",
      "source": [
        "구글 마운트"
      ],
      "metadata": {
        "id": "y__me0IFlXDC"
      }
    },
    {
      "cell_type": "code",
      "source": [
        "from google.colab import drive\n",
        "drive.mount('/content/drive')\n",
        "\n",
        "#구글 드라이브 마운트"
      ],
      "metadata": {
        "colab": {
          "base_uri": "https://localhost:8080/"
        },
        "id": "V0wzqqNfGXf1",
        "outputId": "eddd6910-27c6-4750-a2af-b6dbd7a4f2a4"
      },
      "execution_count": 1,
      "outputs": [
        {
          "output_type": "stream",
          "name": "stdout",
          "text": [
            "Mounted at /content/drive\n"
          ]
        }
      ]
    },
    {
      "cell_type": "markdown",
      "source": [
        "판다스 함수 호출 및 데이터 로드, 한글 인코딩"
      ],
      "metadata": {
        "id": "9E23mrdIlZ0d"
      }
    },
    {
      "cell_type": "code",
      "source": [
        "import pandas as pd\n",
        "\n",
        "df = pd.read_csv(\"/content/drive/MyDrive/2022년_9월_시군구별_장기요양기관_현황.CSV\", encoding = \"cp949\")\n",
        "df\n",
        "\n",
        "# 판다스 불러오고 csv파일을 한글 인코딩하고 df에 입력"
      ],
      "metadata": {
        "colab": {
          "base_uri": "https://localhost:8080/",
          "height": 423
        },
        "id": "bv_iG8-RHCSX",
        "outputId": "e97800b2-e547-498d-f4b9-073275b13b58"
      },
      "execution_count": 2,
      "outputs": [
        {
          "output_type": "execute_result",
          "data": {
            "text/plain": [
              "          시도  노인요양시설  공동생활가정  방문요양   방문목욕  주야간보호  복지용구\n",
              "0      서울특별시       5     3.0    92   71.0   17.0  18.0\n",
              "1      서울특별시       9    13.0   111  102.0   19.0  20.0\n",
              "2      서울특별시       8    23.0    96   81.0   22.0   9.0\n",
              "3      서울특별시      20    14.0   185  144.0   31.0  30.0\n",
              "4      서울특별시      10    19.0   120  103.0   26.0  13.0\n",
              "..       ...     ...     ...   ...    ...    ...   ...\n",
              "245     경상남도      10     4.0    54   33.0    9.0   4.0\n",
              "246     경상남도       9     NaN    25   19.0   12.0   NaN\n",
              "247     경상남도       6     NaN    23   13.0    7.0   4.0\n",
              "248  제주특별자치도      19     2.0    24   19.0   20.0   4.0\n",
              "249  제주특별자치도      42     8.0    84   64.0   48.0  24.0\n",
              "\n",
              "[250 rows x 7 columns]"
            ],
            "text/html": [
              "\n",
              "  <div id=\"df-b9c0cfc0-9166-4688-85e5-02b1793a662c\">\n",
              "    <div class=\"colab-df-container\">\n",
              "      <div>\n",
              "<style scoped>\n",
              "    .dataframe tbody tr th:only-of-type {\n",
              "        vertical-align: middle;\n",
              "    }\n",
              "\n",
              "    .dataframe tbody tr th {\n",
              "        vertical-align: top;\n",
              "    }\n",
              "\n",
              "    .dataframe thead th {\n",
              "        text-align: right;\n",
              "    }\n",
              "</style>\n",
              "<table border=\"1\" class=\"dataframe\">\n",
              "  <thead>\n",
              "    <tr style=\"text-align: right;\">\n",
              "      <th></th>\n",
              "      <th>시도</th>\n",
              "      <th>노인요양시설</th>\n",
              "      <th>공동생활가정</th>\n",
              "      <th>방문요양</th>\n",
              "      <th>방문목욕</th>\n",
              "      <th>주야간보호</th>\n",
              "      <th>복지용구</th>\n",
              "    </tr>\n",
              "  </thead>\n",
              "  <tbody>\n",
              "    <tr>\n",
              "      <th>0</th>\n",
              "      <td>서울특별시</td>\n",
              "      <td>5</td>\n",
              "      <td>3.0</td>\n",
              "      <td>92</td>\n",
              "      <td>71.0</td>\n",
              "      <td>17.0</td>\n",
              "      <td>18.0</td>\n",
              "    </tr>\n",
              "    <tr>\n",
              "      <th>1</th>\n",
              "      <td>서울특별시</td>\n",
              "      <td>9</td>\n",
              "      <td>13.0</td>\n",
              "      <td>111</td>\n",
              "      <td>102.0</td>\n",
              "      <td>19.0</td>\n",
              "      <td>20.0</td>\n",
              "    </tr>\n",
              "    <tr>\n",
              "      <th>2</th>\n",
              "      <td>서울특별시</td>\n",
              "      <td>8</td>\n",
              "      <td>23.0</td>\n",
              "      <td>96</td>\n",
              "      <td>81.0</td>\n",
              "      <td>22.0</td>\n",
              "      <td>9.0</td>\n",
              "    </tr>\n",
              "    <tr>\n",
              "      <th>3</th>\n",
              "      <td>서울특별시</td>\n",
              "      <td>20</td>\n",
              "      <td>14.0</td>\n",
              "      <td>185</td>\n",
              "      <td>144.0</td>\n",
              "      <td>31.0</td>\n",
              "      <td>30.0</td>\n",
              "    </tr>\n",
              "    <tr>\n",
              "      <th>4</th>\n",
              "      <td>서울특별시</td>\n",
              "      <td>10</td>\n",
              "      <td>19.0</td>\n",
              "      <td>120</td>\n",
              "      <td>103.0</td>\n",
              "      <td>26.0</td>\n",
              "      <td>13.0</td>\n",
              "    </tr>\n",
              "    <tr>\n",
              "      <th>...</th>\n",
              "      <td>...</td>\n",
              "      <td>...</td>\n",
              "      <td>...</td>\n",
              "      <td>...</td>\n",
              "      <td>...</td>\n",
              "      <td>...</td>\n",
              "      <td>...</td>\n",
              "    </tr>\n",
              "    <tr>\n",
              "      <th>245</th>\n",
              "      <td>경상남도</td>\n",
              "      <td>10</td>\n",
              "      <td>4.0</td>\n",
              "      <td>54</td>\n",
              "      <td>33.0</td>\n",
              "      <td>9.0</td>\n",
              "      <td>4.0</td>\n",
              "    </tr>\n",
              "    <tr>\n",
              "      <th>246</th>\n",
              "      <td>경상남도</td>\n",
              "      <td>9</td>\n",
              "      <td>NaN</td>\n",
              "      <td>25</td>\n",
              "      <td>19.0</td>\n",
              "      <td>12.0</td>\n",
              "      <td>NaN</td>\n",
              "    </tr>\n",
              "    <tr>\n",
              "      <th>247</th>\n",
              "      <td>경상남도</td>\n",
              "      <td>6</td>\n",
              "      <td>NaN</td>\n",
              "      <td>23</td>\n",
              "      <td>13.0</td>\n",
              "      <td>7.0</td>\n",
              "      <td>4.0</td>\n",
              "    </tr>\n",
              "    <tr>\n",
              "      <th>248</th>\n",
              "      <td>제주특별자치도</td>\n",
              "      <td>19</td>\n",
              "      <td>2.0</td>\n",
              "      <td>24</td>\n",
              "      <td>19.0</td>\n",
              "      <td>20.0</td>\n",
              "      <td>4.0</td>\n",
              "    </tr>\n",
              "    <tr>\n",
              "      <th>249</th>\n",
              "      <td>제주특별자치도</td>\n",
              "      <td>42</td>\n",
              "      <td>8.0</td>\n",
              "      <td>84</td>\n",
              "      <td>64.0</td>\n",
              "      <td>48.0</td>\n",
              "      <td>24.0</td>\n",
              "    </tr>\n",
              "  </tbody>\n",
              "</table>\n",
              "<p>250 rows × 7 columns</p>\n",
              "</div>\n",
              "      <button class=\"colab-df-convert\" onclick=\"convertToInteractive('df-b9c0cfc0-9166-4688-85e5-02b1793a662c')\"\n",
              "              title=\"Convert this dataframe to an interactive table.\"\n",
              "              style=\"display:none;\">\n",
              "        \n",
              "  <svg xmlns=\"http://www.w3.org/2000/svg\" height=\"24px\"viewBox=\"0 0 24 24\"\n",
              "       width=\"24px\">\n",
              "    <path d=\"M0 0h24v24H0V0z\" fill=\"none\"/>\n",
              "    <path d=\"M18.56 5.44l.94 2.06.94-2.06 2.06-.94-2.06-.94-.94-2.06-.94 2.06-2.06.94zm-11 1L8.5 8.5l.94-2.06 2.06-.94-2.06-.94L8.5 2.5l-.94 2.06-2.06.94zm10 10l.94 2.06.94-2.06 2.06-.94-2.06-.94-.94-2.06-.94 2.06-2.06.94z\"/><path d=\"M17.41 7.96l-1.37-1.37c-.4-.4-.92-.59-1.43-.59-.52 0-1.04.2-1.43.59L10.3 9.45l-7.72 7.72c-.78.78-.78 2.05 0 2.83L4 21.41c.39.39.9.59 1.41.59.51 0 1.02-.2 1.41-.59l7.78-7.78 2.81-2.81c.8-.78.8-2.07 0-2.86zM5.41 20L4 18.59l7.72-7.72 1.47 1.35L5.41 20z\"/>\n",
              "  </svg>\n",
              "      </button>\n",
              "      \n",
              "  <style>\n",
              "    .colab-df-container {\n",
              "      display:flex;\n",
              "      flex-wrap:wrap;\n",
              "      gap: 12px;\n",
              "    }\n",
              "\n",
              "    .colab-df-convert {\n",
              "      background-color: #E8F0FE;\n",
              "      border: none;\n",
              "      border-radius: 50%;\n",
              "      cursor: pointer;\n",
              "      display: none;\n",
              "      fill: #1967D2;\n",
              "      height: 32px;\n",
              "      padding: 0 0 0 0;\n",
              "      width: 32px;\n",
              "    }\n",
              "\n",
              "    .colab-df-convert:hover {\n",
              "      background-color: #E2EBFA;\n",
              "      box-shadow: 0px 1px 2px rgba(60, 64, 67, 0.3), 0px 1px 3px 1px rgba(60, 64, 67, 0.15);\n",
              "      fill: #174EA6;\n",
              "    }\n",
              "\n",
              "    [theme=dark] .colab-df-convert {\n",
              "      background-color: #3B4455;\n",
              "      fill: #D2E3FC;\n",
              "    }\n",
              "\n",
              "    [theme=dark] .colab-df-convert:hover {\n",
              "      background-color: #434B5C;\n",
              "      box-shadow: 0px 1px 3px 1px rgba(0, 0, 0, 0.15);\n",
              "      filter: drop-shadow(0px 1px 2px rgba(0, 0, 0, 0.3));\n",
              "      fill: #FFFFFF;\n",
              "    }\n",
              "  </style>\n",
              "\n",
              "      <script>\n",
              "        const buttonEl =\n",
              "          document.querySelector('#df-b9c0cfc0-9166-4688-85e5-02b1793a662c button.colab-df-convert');\n",
              "        buttonEl.style.display =\n",
              "          google.colab.kernel.accessAllowed ? 'block' : 'none';\n",
              "\n",
              "        async function convertToInteractive(key) {\n",
              "          const element = document.querySelector('#df-b9c0cfc0-9166-4688-85e5-02b1793a662c');\n",
              "          const dataTable =\n",
              "            await google.colab.kernel.invokeFunction('convertToInteractive',\n",
              "                                                     [key], {});\n",
              "          if (!dataTable) return;\n",
              "\n",
              "          const docLinkHtml = 'Like what you see? Visit the ' +\n",
              "            '<a target=\"_blank\" href=https://colab.research.google.com/notebooks/data_table.ipynb>data table notebook</a>'\n",
              "            + ' to learn more about interactive tables.';\n",
              "          element.innerHTML = '';\n",
              "          dataTable['output_type'] = 'display_data';\n",
              "          await google.colab.output.renderOutput(dataTable, element);\n",
              "          const docLink = document.createElement('div');\n",
              "          docLink.innerHTML = docLinkHtml;\n",
              "          element.appendChild(docLink);\n",
              "        }\n",
              "      </script>\n",
              "    </div>\n",
              "  </div>\n",
              "  "
            ]
          },
          "metadata": {},
          "execution_count": 2
        }
      ]
    },
    {
      "cell_type": "markdown",
      "source": [
        "기술통계 및 null값 확인과 제거\n"
      ],
      "metadata": {
        "id": "JlkjDOnx-iwh"
      }
    },
    {
      "cell_type": "code",
      "source": [
        "df.info()\n",
        "\n",
        "# df 정보 불러오기기"
      ],
      "metadata": {
        "colab": {
          "base_uri": "https://localhost:8080/"
        },
        "id": "3WwNeZpYHCxv",
        "outputId": "c7225667-23c0-433f-98db-3ff1694e16bf"
      },
      "execution_count": 3,
      "outputs": [
        {
          "output_type": "stream",
          "name": "stdout",
          "text": [
            "<class 'pandas.core.frame.DataFrame'>\n",
            "RangeIndex: 250 entries, 0 to 249\n",
            "Data columns (total 7 columns):\n",
            " #   Column  Non-Null Count  Dtype  \n",
            "---  ------  --------------  -----  \n",
            " 0   시도      250 non-null    object \n",
            " 1   노인요양시설  250 non-null    int64  \n",
            " 2   공동생활가정  221 non-null    float64\n",
            " 3   방문요양    250 non-null    int64  \n",
            " 4   방문목욕    248 non-null    float64\n",
            " 5   주야간보호   248 non-null    float64\n",
            " 6   복지용구    239 non-null    float64\n",
            "dtypes: float64(4), int64(2), object(1)\n",
            "memory usage: 13.8+ KB\n"
          ]
        }
      ]
    },
    {
      "cell_type": "code",
      "source": [
        "df.isnull().sum()\n",
        "\n",
        "# df null값 확인"
      ],
      "metadata": {
        "colab": {
          "base_uri": "https://localhost:8080/"
        },
        "id": "8LdOiN32Hei1",
        "outputId": "97b42ce3-2049-46a4-82e4-43d9262bbbda"
      },
      "execution_count": 4,
      "outputs": [
        {
          "output_type": "execute_result",
          "data": {
            "text/plain": [
              "시도         0\n",
              "노인요양시설     0\n",
              "공동생활가정    29\n",
              "방문요양       0\n",
              "방문목욕       2\n",
              "주야간보호      2\n",
              "복지용구      11\n",
              "dtype: int64"
            ]
          },
          "metadata": {},
          "execution_count": 4
        }
      ]
    },
    {
      "cell_type": "code",
      "source": [
        "df.fillna(0, inplace = True)\n",
        "\n",
        "# df null값 삭제"
      ],
      "metadata": {
        "id": "6599C6GQHgQ-"
      },
      "execution_count": 5,
      "outputs": []
    },
    {
      "cell_type": "code",
      "source": [
        "df.isnull().sum()\n",
        "\n",
        "# df null값 삭제됐는지 확인"
      ],
      "metadata": {
        "colab": {
          "base_uri": "https://localhost:8080/"
        },
        "id": "BaVZQUNBJhLG",
        "outputId": "b968c2ef-0322-43d5-ca66-f75ee9a0f603"
      },
      "execution_count": 6,
      "outputs": [
        {
          "output_type": "execute_result",
          "data": {
            "text/plain": [
              "시도        0\n",
              "노인요양시설    0\n",
              "공동생활가정    0\n",
              "방문요양      0\n",
              "방문목욕      0\n",
              "주야간보호     0\n",
              "복지용구      0\n",
              "dtype: int64"
            ]
          },
          "metadata": {},
          "execution_count": 6
        }
      ]
    },
    {
      "cell_type": "code",
      "source": [
        "df.describe()\n",
        "\n",
        "# df 기술통계"
      ],
      "metadata": {
        "colab": {
          "base_uri": "https://localhost:8080/",
          "height": 300
        },
        "id": "B9SVkp9dJnV-",
        "outputId": "75f0fb2c-28e8-4510-c70a-1073eaab94f6"
      },
      "execution_count": 7,
      "outputs": [
        {
          "output_type": "execute_result",
          "data": {
            "text/plain": [
              "           노인요양시설      공동생활가정       방문요양        방문목욕       주야간보호        복지용구\n",
              "count  250.000000  250.000000  250.00000  250.000000  250.000000  250.000000\n",
              "mean    17.248000    7.172000   66.61600   46.684000   20.052000    7.892000\n",
              "std     18.427174    8.699722   47.32631   36.347499   15.023185    6.740778\n",
              "min      1.000000    0.000000    2.00000    0.000000    0.000000    0.000000\n",
              "25%      6.000000    1.250000   29.00000   19.000000    9.000000    2.250000\n",
              "50%     11.500000    4.000000   55.50000   35.000000   17.000000    6.000000\n",
              "75%     21.000000    9.000000   92.00000   66.750000   27.750000   12.000000\n",
              "max    129.000000   55.000000  236.00000  199.000000   88.000000   38.000000"
            ],
            "text/html": [
              "\n",
              "  <div id=\"df-31ffed16-d9f4-4c90-9abe-7b81bc2cc143\">\n",
              "    <div class=\"colab-df-container\">\n",
              "      <div>\n",
              "<style scoped>\n",
              "    .dataframe tbody tr th:only-of-type {\n",
              "        vertical-align: middle;\n",
              "    }\n",
              "\n",
              "    .dataframe tbody tr th {\n",
              "        vertical-align: top;\n",
              "    }\n",
              "\n",
              "    .dataframe thead th {\n",
              "        text-align: right;\n",
              "    }\n",
              "</style>\n",
              "<table border=\"1\" class=\"dataframe\">\n",
              "  <thead>\n",
              "    <tr style=\"text-align: right;\">\n",
              "      <th></th>\n",
              "      <th>노인요양시설</th>\n",
              "      <th>공동생활가정</th>\n",
              "      <th>방문요양</th>\n",
              "      <th>방문목욕</th>\n",
              "      <th>주야간보호</th>\n",
              "      <th>복지용구</th>\n",
              "    </tr>\n",
              "  </thead>\n",
              "  <tbody>\n",
              "    <tr>\n",
              "      <th>count</th>\n",
              "      <td>250.000000</td>\n",
              "      <td>250.000000</td>\n",
              "      <td>250.00000</td>\n",
              "      <td>250.000000</td>\n",
              "      <td>250.000000</td>\n",
              "      <td>250.000000</td>\n",
              "    </tr>\n",
              "    <tr>\n",
              "      <th>mean</th>\n",
              "      <td>17.248000</td>\n",
              "      <td>7.172000</td>\n",
              "      <td>66.61600</td>\n",
              "      <td>46.684000</td>\n",
              "      <td>20.052000</td>\n",
              "      <td>7.892000</td>\n",
              "    </tr>\n",
              "    <tr>\n",
              "      <th>std</th>\n",
              "      <td>18.427174</td>\n",
              "      <td>8.699722</td>\n",
              "      <td>47.32631</td>\n",
              "      <td>36.347499</td>\n",
              "      <td>15.023185</td>\n",
              "      <td>6.740778</td>\n",
              "    </tr>\n",
              "    <tr>\n",
              "      <th>min</th>\n",
              "      <td>1.000000</td>\n",
              "      <td>0.000000</td>\n",
              "      <td>2.00000</td>\n",
              "      <td>0.000000</td>\n",
              "      <td>0.000000</td>\n",
              "      <td>0.000000</td>\n",
              "    </tr>\n",
              "    <tr>\n",
              "      <th>25%</th>\n",
              "      <td>6.000000</td>\n",
              "      <td>1.250000</td>\n",
              "      <td>29.00000</td>\n",
              "      <td>19.000000</td>\n",
              "      <td>9.000000</td>\n",
              "      <td>2.250000</td>\n",
              "    </tr>\n",
              "    <tr>\n",
              "      <th>50%</th>\n",
              "      <td>11.500000</td>\n",
              "      <td>4.000000</td>\n",
              "      <td>55.50000</td>\n",
              "      <td>35.000000</td>\n",
              "      <td>17.000000</td>\n",
              "      <td>6.000000</td>\n",
              "    </tr>\n",
              "    <tr>\n",
              "      <th>75%</th>\n",
              "      <td>21.000000</td>\n",
              "      <td>9.000000</td>\n",
              "      <td>92.00000</td>\n",
              "      <td>66.750000</td>\n",
              "      <td>27.750000</td>\n",
              "      <td>12.000000</td>\n",
              "    </tr>\n",
              "    <tr>\n",
              "      <th>max</th>\n",
              "      <td>129.000000</td>\n",
              "      <td>55.000000</td>\n",
              "      <td>236.00000</td>\n",
              "      <td>199.000000</td>\n",
              "      <td>88.000000</td>\n",
              "      <td>38.000000</td>\n",
              "    </tr>\n",
              "  </tbody>\n",
              "</table>\n",
              "</div>\n",
              "      <button class=\"colab-df-convert\" onclick=\"convertToInteractive('df-31ffed16-d9f4-4c90-9abe-7b81bc2cc143')\"\n",
              "              title=\"Convert this dataframe to an interactive table.\"\n",
              "              style=\"display:none;\">\n",
              "        \n",
              "  <svg xmlns=\"http://www.w3.org/2000/svg\" height=\"24px\"viewBox=\"0 0 24 24\"\n",
              "       width=\"24px\">\n",
              "    <path d=\"M0 0h24v24H0V0z\" fill=\"none\"/>\n",
              "    <path d=\"M18.56 5.44l.94 2.06.94-2.06 2.06-.94-2.06-.94-.94-2.06-.94 2.06-2.06.94zm-11 1L8.5 8.5l.94-2.06 2.06-.94-2.06-.94L8.5 2.5l-.94 2.06-2.06.94zm10 10l.94 2.06.94-2.06 2.06-.94-2.06-.94-.94-2.06-.94 2.06-2.06.94z\"/><path d=\"M17.41 7.96l-1.37-1.37c-.4-.4-.92-.59-1.43-.59-.52 0-1.04.2-1.43.59L10.3 9.45l-7.72 7.72c-.78.78-.78 2.05 0 2.83L4 21.41c.39.39.9.59 1.41.59.51 0 1.02-.2 1.41-.59l7.78-7.78 2.81-2.81c.8-.78.8-2.07 0-2.86zM5.41 20L4 18.59l7.72-7.72 1.47 1.35L5.41 20z\"/>\n",
              "  </svg>\n",
              "      </button>\n",
              "      \n",
              "  <style>\n",
              "    .colab-df-container {\n",
              "      display:flex;\n",
              "      flex-wrap:wrap;\n",
              "      gap: 12px;\n",
              "    }\n",
              "\n",
              "    .colab-df-convert {\n",
              "      background-color: #E8F0FE;\n",
              "      border: none;\n",
              "      border-radius: 50%;\n",
              "      cursor: pointer;\n",
              "      display: none;\n",
              "      fill: #1967D2;\n",
              "      height: 32px;\n",
              "      padding: 0 0 0 0;\n",
              "      width: 32px;\n",
              "    }\n",
              "\n",
              "    .colab-df-convert:hover {\n",
              "      background-color: #E2EBFA;\n",
              "      box-shadow: 0px 1px 2px rgba(60, 64, 67, 0.3), 0px 1px 3px 1px rgba(60, 64, 67, 0.15);\n",
              "      fill: #174EA6;\n",
              "    }\n",
              "\n",
              "    [theme=dark] .colab-df-convert {\n",
              "      background-color: #3B4455;\n",
              "      fill: #D2E3FC;\n",
              "    }\n",
              "\n",
              "    [theme=dark] .colab-df-convert:hover {\n",
              "      background-color: #434B5C;\n",
              "      box-shadow: 0px 1px 3px 1px rgba(0, 0, 0, 0.15);\n",
              "      filter: drop-shadow(0px 1px 2px rgba(0, 0, 0, 0.3));\n",
              "      fill: #FFFFFF;\n",
              "    }\n",
              "  </style>\n",
              "\n",
              "      <script>\n",
              "        const buttonEl =\n",
              "          document.querySelector('#df-31ffed16-d9f4-4c90-9abe-7b81bc2cc143 button.colab-df-convert');\n",
              "        buttonEl.style.display =\n",
              "          google.colab.kernel.accessAllowed ? 'block' : 'none';\n",
              "\n",
              "        async function convertToInteractive(key) {\n",
              "          const element = document.querySelector('#df-31ffed16-d9f4-4c90-9abe-7b81bc2cc143');\n",
              "          const dataTable =\n",
              "            await google.colab.kernel.invokeFunction('convertToInteractive',\n",
              "                                                     [key], {});\n",
              "          if (!dataTable) return;\n",
              "\n",
              "          const docLinkHtml = 'Like what you see? Visit the ' +\n",
              "            '<a target=\"_blank\" href=https://colab.research.google.com/notebooks/data_table.ipynb>data table notebook</a>'\n",
              "            + ' to learn more about interactive tables.';\n",
              "          element.innerHTML = '';\n",
              "          dataTable['output_type'] = 'display_data';\n",
              "          await google.colab.output.renderOutput(dataTable, element);\n",
              "          const docLink = document.createElement('div');\n",
              "          docLink.innerHTML = docLinkHtml;\n",
              "          element.appendChild(docLink);\n",
              "        }\n",
              "      </script>\n",
              "    </div>\n",
              "  </div>\n",
              "  "
            ]
          },
          "metadata": {},
          "execution_count": 7
        }
      ]
    },
    {
      "cell_type": "markdown",
      "source": [
        "박스플롯으로 이상치 확인"
      ],
      "metadata": {
        "id": "bsrywQkjlk3q"
      }
    },
    {
      "cell_type": "code",
      "source": [
        "df.boxplot(column=\"노인요양시설\", return_type=\"both\")\n",
        "#boxplot: 최솟값,Q1(lower), Q2(중앙값), Q3(upper), 최댓값\n",
        "#통계를 낼 때 평균이나 표준편차를 많이 사용하는데 데이터에 이상치가 있으면 왜곡된 의미 전달 가능성 높음\n",
        "#이상치가 있는지 확인하기 위해 박스플롯을 활용하여 이상치가 얼마나 포함되어 있는지 판단"
      ],
      "metadata": {
        "colab": {
          "base_uri": "https://localhost:8080/",
          "height": 753
        },
        "id": "YlAwBWbrhYvj",
        "outputId": "ace1818a-fb53-4fe3-f67d-544acf8db6b5"
      },
      "execution_count": 8,
      "outputs": [
        {
          "output_type": "execute_result",
          "data": {
            "text/plain": [
              "BP(ax=<matplotlib.axes._subplots.AxesSubplot object at 0x7f576492a880>, lines={'whiskers': [<matplotlib.lines.Line2D object at 0x7f5764895520>, <matplotlib.lines.Line2D object at 0x7f5764895880>], 'caps': [<matplotlib.lines.Line2D object at 0x7f5764895be0>, <matplotlib.lines.Line2D object at 0x7f5764895f40>], 'boxes': [<matplotlib.lines.Line2D object at 0x7f57648951c0>], 'medians': [<matplotlib.lines.Line2D object at 0x7f57648a32e0>], 'fliers': [<matplotlib.lines.Line2D object at 0x7f57648a35e0>], 'means': []})"
            ]
          },
          "metadata": {},
          "execution_count": 8
        },
        {
          "output_type": "stream",
          "name": "stderr",
          "text": [
            "/usr/local/lib/python3.8/dist-packages/matplotlib/backends/backend_agg.py:214: RuntimeWarning: Glyph 45432 missing from current font.\n",
            "  font.set_text(s, 0.0, flags=flags)\n",
            "/usr/local/lib/python3.8/dist-packages/matplotlib/backends/backend_agg.py:214: RuntimeWarning: Glyph 51064 missing from current font.\n",
            "  font.set_text(s, 0.0, flags=flags)\n",
            "/usr/local/lib/python3.8/dist-packages/matplotlib/backends/backend_agg.py:214: RuntimeWarning: Glyph 50836 missing from current font.\n",
            "  font.set_text(s, 0.0, flags=flags)\n",
            "/usr/local/lib/python3.8/dist-packages/matplotlib/backends/backend_agg.py:214: RuntimeWarning: Glyph 50577 missing from current font.\n",
            "  font.set_text(s, 0.0, flags=flags)\n",
            "/usr/local/lib/python3.8/dist-packages/matplotlib/backends/backend_agg.py:214: RuntimeWarning: Glyph 49884 missing from current font.\n",
            "  font.set_text(s, 0.0, flags=flags)\n",
            "/usr/local/lib/python3.8/dist-packages/matplotlib/backends/backend_agg.py:214: RuntimeWarning: Glyph 49444 missing from current font.\n",
            "  font.set_text(s, 0.0, flags=flags)\n",
            "/usr/local/lib/python3.8/dist-packages/matplotlib/backends/backend_agg.py:183: RuntimeWarning: Glyph 45432 missing from current font.\n",
            "  font.set_text(s, 0, flags=flags)\n",
            "/usr/local/lib/python3.8/dist-packages/matplotlib/backends/backend_agg.py:183: RuntimeWarning: Glyph 51064 missing from current font.\n",
            "  font.set_text(s, 0, flags=flags)\n",
            "/usr/local/lib/python3.8/dist-packages/matplotlib/backends/backend_agg.py:183: RuntimeWarning: Glyph 50836 missing from current font.\n",
            "  font.set_text(s, 0, flags=flags)\n",
            "/usr/local/lib/python3.8/dist-packages/matplotlib/backends/backend_agg.py:183: RuntimeWarning: Glyph 50577 missing from current font.\n",
            "  font.set_text(s, 0, flags=flags)\n",
            "/usr/local/lib/python3.8/dist-packages/matplotlib/backends/backend_agg.py:183: RuntimeWarning: Glyph 49884 missing from current font.\n",
            "  font.set_text(s, 0, flags=flags)\n",
            "/usr/local/lib/python3.8/dist-packages/matplotlib/backends/backend_agg.py:183: RuntimeWarning: Glyph 49444 missing from current font.\n",
            "  font.set_text(s, 0, flags=flags)\n"
          ]
        },
        {
          "output_type": "display_data",
          "data": {
            "text/plain": [
              "<Figure size 432x288 with 1 Axes>"
            ],
            "image/png": "[encoded data removed]"
          },
          "metadata": {
            "needs_background": "light"
          }
        }
      ]
    },
    {
      "cell_type": "code",
      "source": [
        "df[\"노인요양시설\"].hist() #hist는 막대그래프"
      ],
      "metadata": {
        "colab": {
          "base_uri": "https://localhost:8080/",
          "height": 283
        },
        "id": "UFd55qY8jb6m",
        "outputId": "28510b4f-3cf5-471b-a6e3-7ca090b50625"
      },
      "execution_count": 9,
      "outputs": [
        {
          "output_type": "execute_result",
          "data": {
            "text/plain": [
              "<matplotlib.axes._subplots.AxesSubplot at 0x7f576487e490>"
            ]
          },
          "metadata": {},
          "execution_count": 9
        },
        {
          "output_type": "display_data",
          "data": {
            "text/plain": [
              "<Figure size 432x288 with 1 Axes>"
            ],
            "image/png": "[encoded data removed]"
          },
          "metadata": {
            "needs_background": "light"
          }
        }
      ]
    },
    {
      "cell_type": "markdown",
      "source": [
        "df를 사분면으로 가정한 후 df를 Q3과 Q1으로 나눴습니다.\n",
        "그리고 Q3-Q1을 해서 4사분면과 1사분면을 날려버리고 IQR로 지정했습니다."
      ],
      "metadata": {
        "id": "LsyLtGFDl3-S"
      }
    },
    {
      "cell_type": "code",
      "source": [
        "# q1 = df[\"노인요양시설\"].quantile(q=0.25)\n",
        "# q3 = df[\"노인요양시설\"].quantile(q=0.75)\n",
        "# IQR = q3-q1 #Q3 - Q1: 사분위수의 상위 75% 지점의 값과 하위 25% 지점의 값 차이\n",
        "# IQR #Interquartile range(사분위간 범위)"
      ],
      "metadata": {
        "id": "TN_hM_0ejqZ4"
      },
      "execution_count": 10,
      "outputs": []
    },
    {
      "cell_type": "markdown",
      "source": [
        "Y값인 노인요양시설의 3사분면과 IQR에 1.5배수 한 것을 더한 구간과 1사분면과 IQR을 1.5배수 한 것을 뺀 구간 사이를 Data_IQR로 지정했습니다."
      ],
      "metadata": {
        "id": "lFGun3GJ_cXn"
      }
    },
    {
      "cell_type": "code",
      "source": [
        "# data_IQR = df[(df[\"노인요양시설\"] < q3 + IQR * 1.5) & (df[\"노인요양시설\"] > q1 - IQR * 1.5)] #1.5는 약속\n",
        "# data_IQR"
      ],
      "metadata": {
        "id": "zMgK2c41jvRI"
      },
      "execution_count": 11,
      "outputs": []
    },
    {
      "cell_type": "code",
      "source": [
        "df.groupby"
      ],
      "metadata": {
        "colab": {
          "base_uri": "https://localhost:8080/"
        },
        "id": "8oa2-zGbMMDe",
        "outputId": "9914cd16-b154-43d8-d2f0-21d830210977"
      },
      "execution_count": 12,
      "outputs": [
        {
          "output_type": "execute_result",
          "data": {
            "text/plain": [
              "<bound method DataFrame.groupby of           시도  노인요양시설  공동생활가정  방문요양   방문목욕  주야간보호  복지용구\n",
              "0      서울특별시       5     3.0    92   71.0   17.0  18.0\n",
              "1      서울특별시       9    13.0   111  102.0   19.0  20.0\n",
              "2      서울특별시       8    23.0    96   81.0   22.0   9.0\n",
              "3      서울특별시      20    14.0   185  144.0   31.0  30.0\n",
              "4      서울특별시      10    19.0   120  103.0   26.0  13.0\n",
              "..       ...     ...     ...   ...    ...    ...   ...\n",
              "245     경상남도      10     4.0    54   33.0    9.0   4.0\n",
              "246     경상남도       9     0.0    25   19.0   12.0   0.0\n",
              "247     경상남도       6     0.0    23   13.0    7.0   4.0\n",
              "248  제주특별자치도      19     2.0    24   19.0   20.0   4.0\n",
              "249  제주특별자치도      42     8.0    84   64.0   48.0  24.0\n",
              "\n",
              "[250 rows x 7 columns]>"
            ]
          },
          "metadata": {},
          "execution_count": 12
        }
      ]
    },
    {
      "cell_type": "markdown",
      "source": [
        "생각해보니까 비정상적으로 영향을 줄만큼 엄청 큰 요양시설이 없을것 같아서 주석처리 했습니다."
      ],
      "metadata": {
        "id": "Ci9aY9UPLrKb"
      }
    },
    {
      "cell_type": "markdown",
      "source": [
        "폰트 설치했습니다."
      ],
      "metadata": {
        "id": "C8zpmdJBAQS2"
      }
    },
    {
      "cell_type": "code",
      "source": [
        "!sudo apt-get install -y fonts-nanum #폰트 다운로드 리눅스 명령어\n",
        "!sudo fc-cache -f -vv\n",
        "!rm ~/.cache/matplotlib -rf"
      ],
      "metadata": {
        "colab": {
          "base_uri": "https://localhost:8080/"
        },
        "id": "ZQVD0rjwk3qx",
        "outputId": "1ce3e852-ed15-4de6-eeb1-f3e832ad6d56"
      },
      "execution_count": 13,
      "outputs": [
        {
          "output_type": "stream",
          "name": "stdout",
          "text": [
            "Reading package lists... Done\n",
            "Building dependency tree       \n",
            "Reading state information... Done\n",
            "The following package was automatically installed and is no longer required:\n",
            "  libnvidia-common-460\n",
            "Use 'sudo apt autoremove' to remove it.\n",
            "The following NEW packages will be installed:\n",
            "  fonts-nanum\n",
            "0 upgraded, 1 newly installed, 0 to remove and 21 not upgraded.\n",
            "Need to get 9,604 kB of archives.\n",
            "After this operation, 29.5 MB of additional disk space will be used.\n",
            "Get:1 http://archive.ubuntu.com/ubuntu bionic/universe amd64 fonts-nanum all 20170925-1 [9,604 kB]\n",
            "Fetched 9,604 kB in 1s (6,734 kB/s)\n",
            "debconf: unable to initialize frontend: Dialog\n",
            "debconf: (No usable dialog-like program is installed, so the dialog based frontend cannot be used. at /usr/share/perl5/Debconf/FrontEnd/Dialog.pm line 76, <> line 1.)\n",
            "debconf: falling back to frontend: Readline\n",
            "debconf: unable to initialize frontend: Readline\n",
            "debconf: (This frontend requires a controlling tty.)\n",
            "debconf: falling back to frontend: Teletype\n",
            "dpkg-preconfigure: unable to re-open stdin: \n",
            "Selecting previously unselected package fonts-nanum.\n",
            "(Reading database ... 124016 files and directories currently installed.)\n",
            "Preparing to unpack .../fonts-nanum_20170925-1_all.deb ...\n",
            "Unpacking fonts-nanum (20170925-1) ...\n",
            "Setting up fonts-nanum (20170925-1) ...\n",
            "Processing triggers for fontconfig (2.12.6-0ubuntu2) ...\n",
            "/usr/share/fonts: caching, new cache contents: 0 fonts, 1 dirs\n",
            "/usr/share/fonts/truetype: caching, new cache contents: 0 fonts, 3 dirs\n",
            "/usr/share/fonts/truetype/humor-sans: caching, new cache contents: 1 fonts, 0 dirs\n",
            "/usr/share/fonts/truetype/liberation: caching, new cache contents: 16 fonts, 0 dirs\n",
            "/usr/share/fonts/truetype/nanum: caching, new cache contents: 10 fonts, 0 dirs\n",
            "/usr/local/share/fonts: caching, new cache contents: 0 fonts, 0 dirs\n",
            "/root/.local/share/fonts: skipping, no such directory\n",
            "/root/.fonts: skipping, no such directory\n",
            "/var/cache/fontconfig: cleaning cache directory\n",
            "/root/.cache/fontconfig: not cleaning non-existent cache directory\n",
            "/root/.fontconfig: not cleaning non-existent cache directory\n",
            "fc-cache: succeeded\n"
          ]
        }
      ]
    },
    {
      "cell_type": "code",
      "source": [
        "import matplotlib.pyplot as plt\n",
        "plt.rc('font', family = 'NanumBarunGothic') #폰트 지정"
      ],
      "metadata": {
        "id": "LJZDT0DokNom"
      },
      "execution_count": 14,
      "outputs": []
    },
    {
      "cell_type": "markdown",
      "source": [
        "seaborn 패키지의 sns로 이상치 제거한 Y값(노인요양시설의 수) 그래프를 이전 그래프와 비교했습니다.\n",
        "\n",
        "이것도 주석처리 했습니다."
      ],
      "metadata": {
        "id": "Gmcpx1tQl9zg"
      }
    },
    {
      "cell_type": "code",
      "source": [
        "import seaborn as sns"
      ],
      "metadata": {
        "id": "7fjEvXQinCrz"
      },
      "execution_count": 15,
      "outputs": []
    },
    {
      "cell_type": "code",
      "source": [
        "# fig, ax = plt.subplots(ncols=2, figsize=(10,10))\n",
        "# sns.histplot(df[\"노인요양시설\"], ax=ax[0])\n",
        "# sns.histplot(data_IQR[\"노인요양시설\"], ax=ax[1])"
      ],
      "metadata": {
        "id": "IZo3HRL7kKOb"
      },
      "execution_count": 16,
      "outputs": []
    },
    {
      "cell_type": "markdown",
      "source": [
        "# 회귀분석모델 돌려보기"
      ],
      "metadata": {
        "id": "Zp18AegFcLUX"
      }
    },
    {
      "cell_type": "code",
      "source": [
        "import pandas as pd\n",
        "from sklearn.model_selection import train_test_split\n",
        "from sklearn.model_selection import cross_val_score\n",
        "from sklearn.neighbors import KNeighborsRegressor"
      ],
      "metadata": {
        "id": "hUJwSxKwcOMf"
      },
      "execution_count": 17,
      "outputs": []
    },
    {
      "cell_type": "markdown",
      "source": [
        "로그 씌워서 정규분포 모양으로 만들었습니다."
      ],
      "metadata": {
        "id": "sPusBOpccT0F"
      }
    },
    {
      "cell_type": "code",
      "source": [
        "import numpy as np\n",
        "\n",
        "df[\"노인요양시설\"] = np.log1p(df[\"노인요양시설\"])\n",
        "sns.distplot(df[\"노인요양시설\"])"
      ],
      "metadata": {
        "colab": {
          "base_uri": "https://localhost:8080/",
          "height": 805
        },
        "id": "mOyMlQtqcSk3",
        "outputId": "05976f72-9885-4c95-ba25-809cf68e438b"
      },
      "execution_count": 21,
      "outputs": [
        {
          "output_type": "stream",
          "name": "stderr",
          "text": [
            "/usr/local/lib/python3.8/dist-packages/seaborn/distributions.py:2619: FutureWarning: `distplot` is a deprecated function and will be removed in a future version. Please adapt your code to use either `displot` (a figure-level function with similar flexibility) or `histplot` (an axes-level function for histograms).\n",
            "  warnings.warn(msg, FutureWarning)\n"
          ]
        },
        {
          "output_type": "execute_result",
          "data": {
            "text/plain": [
              "<matplotlib.axes._subplots.AxesSubplot at 0x7f575b50de20>"
            ]
          },
          "metadata": {},
          "execution_count": 21
        },
        {
          "output_type": "stream",
          "name": "stderr",
          "text": [
            "WARNING:matplotlib.font_manager:findfont: Font family ['NanumBarunGothic'] not found. Falling back to DejaVu Sans.\n",
            "/usr/local/lib/python3.8/dist-packages/matplotlib/backends/backend_agg.py:214: RuntimeWarning: Glyph 45432 missing from current font.\n",
            "  font.set_text(s, 0.0, flags=flags)\n",
            "/usr/local/lib/python3.8/dist-packages/matplotlib/backends/backend_agg.py:214: RuntimeWarning: Glyph 51064 missing from current font.\n",
            "  font.set_text(s, 0.0, flags=flags)\n",
            "/usr/local/lib/python3.8/dist-packages/matplotlib/backends/backend_agg.py:214: RuntimeWarning: Glyph 50836 missing from current font.\n",
            "  font.set_text(s, 0.0, flags=flags)\n",
            "/usr/local/lib/python3.8/dist-packages/matplotlib/backends/backend_agg.py:214: RuntimeWarning: Glyph 50577 missing from current font.\n",
            "  font.set_text(s, 0.0, flags=flags)\n",
            "/usr/local/lib/python3.8/dist-packages/matplotlib/backends/backend_agg.py:214: RuntimeWarning: Glyph 49884 missing from current font.\n",
            "  font.set_text(s, 0.0, flags=flags)\n",
            "/usr/local/lib/python3.8/dist-packages/matplotlib/backends/backend_agg.py:214: RuntimeWarning: Glyph 49444 missing from current font.\n",
            "  font.set_text(s, 0.0, flags=flags)\n",
            "/usr/local/lib/python3.8/dist-packages/matplotlib/backends/backend_agg.py:183: RuntimeWarning: Glyph 45432 missing from current font.\n",
            "  font.set_text(s, 0, flags=flags)\n",
            "/usr/local/lib/python3.8/dist-packages/matplotlib/backends/backend_agg.py:183: RuntimeWarning: Glyph 51064 missing from current font.\n",
            "  font.set_text(s, 0, flags=flags)\n",
            "/usr/local/lib/python3.8/dist-packages/matplotlib/backends/backend_agg.py:183: RuntimeWarning: Glyph 50836 missing from current font.\n",
            "  font.set_text(s, 0, flags=flags)\n",
            "/usr/local/lib/python3.8/dist-packages/matplotlib/backends/backend_agg.py:183: RuntimeWarning: Glyph 50577 missing from current font.\n",
            "  font.set_text(s, 0, flags=flags)\n",
            "/usr/local/lib/python3.8/dist-packages/matplotlib/backends/backend_agg.py:183: RuntimeWarning: Glyph 49884 missing from current font.\n",
            "  font.set_text(s, 0, flags=flags)\n",
            "/usr/local/lib/python3.8/dist-packages/matplotlib/backends/backend_agg.py:183: RuntimeWarning: Glyph 49444 missing from current font.\n",
            "  font.set_text(s, 0, flags=flags)\n"
          ]
        },
        {
          "output_type": "display_data",
          "data": {
            "text/plain": [
              "<Figure size 432x288 with 1 Axes>"
            ],
            "image/png": "[encoded data removed]"
          },
          "metadata": {
            "needs_background": "light"
          }
        }
      ]
    },
    {
      "cell_type": "markdown",
      "source": [
        "knn 모델"
      ],
      "metadata": {
        "id": "wzHTYTD2c7vn"
      }
    },
    {
      "cell_type": "code",
      "source": [
        "from sklearn.model_selection import train_test_split\n",
        "from sklearn.compose import ColumnTransformer\n",
        "from sklearn.preprocessing import StandardScaler\n",
        "from sklearn.metrics import mean_squared_error\n",
        "from math import sqrt"
      ],
      "metadata": {
        "id": "LAIEyYZ06qoh"
      },
      "execution_count": 27,
      "outputs": []
    },
    {
      "cell_type": "code",
      "source": [
        "# 변수선택\n",
        "X = df[['방문요양', '공동생활가정', '방문목욕', '주야간보호','복지용구']]\n",
        "Y = df[\"노인요양시설\"]"
      ],
      "metadata": {
        "id": "uGG48n5sjHA2"
      },
      "execution_count": 28,
      "outputs": []
    },
    {
      "cell_type": "code",
      "source": [
        "#numeric value(Y)\n",
        "\n",
        "import numpy as np\n",
        "\n",
        "X_train, X_test, Y_train, Y_test = train_test_split(X, Y, test_size=0.3, random_state=0)\n",
        "\n",
        "scaler = StandardScaler().fit(X_train, Y_train)\n",
        "X_test = scaler.transform(X_test)\n",
        "X_train  = scaler.transform(X_train)\n",
        "\n",
        "from sklearn.neighbors import KNeighborsRegressor\n",
        "knn_reg = KNeighborsRegressor(n_neighbors=2, p=1)\n",
        "#p : int, default=2\n",
        "#Power parameter for the Minkowski metric. When p = 1, \n",
        "#this is equivalent to using manhattan_distance (l1), and euclidean_distance(l2) for p = 2. For arbitrary p, minkowski_distance \n",
        "\n",
        "knn_reg.fit(X_train, Y_train)\n",
        "Y_pred = knn_reg.predict(X_test)\n",
        "print(\"accuracy: {:.3f}\".format(knn_reg.score(X_train, Y_train)))\n",
        "rmse = sqrt(mean_squared_error(Y_test, Y_pred))\n",
        "print(\"RMSE: {:.3f}\".format(rmse))\n"
      ],
      "metadata": {
        "colab": {
          "base_uri": "https://localhost:8080/"
        },
        "id": "0fM3vqBNdvKG",
        "outputId": "d8d83d3c-b0bd-4833-d153-567e491ce30a"
      },
      "execution_count": 29,
      "outputs": [
        {
          "output_type": "stream",
          "name": "stdout",
          "text": [
            "accuracy: 0.820\n",
            "RMSE: 0.624\n"
          ]
        }
      ]
    },
    {
      "cell_type": "markdown",
      "source": [
        "선형회귀"
      ],
      "metadata": {
        "id": "cviPJnBjhWpw"
      }
    },
    {
      "cell_type": "code",
      "source": [
        "from sklearn.linear_model import LinearRegression\n",
        "\n",
        "# 모델 생성\n",
        "model = LinearRegression()\n",
        "\n",
        "# 학습\n",
        "model.fit(X, Y)\n",
        "\n",
        "# 예측\n",
        "print(model.predict(X))"
      ],
      "metadata": {
        "colab": {
          "base_uri": "https://localhost:8080/"
        },
        "id": "YHHA5f1_hV95",
        "outputId": "dbaf0445-50d0-4449-f29e-6fa0efd704b7"
      },
      "execution_count": 30,
      "outputs": [
        {
          "output_type": "stream",
          "name": "stdout",
          "text": [
            "[2.47014015 2.85985965 3.0460617  3.2330563  3.09221562 2.60845305\n",
            " 2.48079431 2.41318504 3.17339741 3.68773949 3.26753599 2.34490155\n",
            " 2.31963337 2.484893   2.10427103 2.22975459 2.61477743 2.81596622\n",
            " 2.82590193 2.74502586 2.02652659 2.95461389 1.95463512 1.95369724\n",
            " 3.72134493 2.0007037  2.36337935 2.35656215 2.11913981 2.01095773\n",
            " 2.3372392  2.2027744  2.50305027 2.20208079 2.43005296 1.87768982\n",
            " 2.02592441 2.32086378 2.04067899 1.92010985 2.68811812 2.75967127\n",
            " 4.13526843 2.8553889  3.82882759 4.31919031 3.0092661  3.02025475\n",
            " 2.1681995  2.17293257 2.90067575 4.27148422 1.98255903 2.92066146\n",
            " 2.89232802 3.2229943  2.77856448 1.8024068  2.21886092 2.97610404\n",
            " 2.36429121 2.16222777 3.69343716 2.30231691 2.36659037 2.87169314\n",
            " 3.57794716 2.75157646 3.33367722 2.69185507 2.07618963 2.37635972\n",
            " 2.76011741 2.46312425 2.38746889 2.29427097 3.46465637 2.88428424\n",
            " 3.01333172 1.87895857 2.20697507 2.9700018  2.51080111 2.8314168\n",
            " 3.28323446 5.79675128 2.49689167 4.83178597 2.63405922 2.3406788\n",
            " 2.19987676 2.70257914 2.10584142 2.36362901 2.3657767  3.66906984\n",
            " 2.76277954 3.28568674 2.6543942  2.2581551  2.80275511 3.42998502\n",
            " 2.20020188 2.33777518 2.0018855  2.26295498 2.9508182  2.82140007\n",
            " 2.3892486  2.15559208 4.01908584 2.42180447 4.4884916  3.64277299\n",
            " 3.25596507 2.61015767 4.23940244 3.40923177 1.88961581 1.97802947\n",
            " 1.90464115 2.31883965 1.84118483 2.02310263 1.76910793 3.00671107\n",
            " 1.78555573 1.89100937 1.97469686 3.37201393 1.85070355 2.01269557\n",
            " 2.04598816 1.86331931 2.14605131 2.10652341 1.9369386  1.86623118\n",
            " 2.15990467 2.07305972 2.39982223 2.57766987 1.98495969 2.39923373\n",
            " 3.16135956 2.9526787  3.32122757 2.76922166 2.56264476 2.14346628\n",
            " 2.09229489 2.74568944 3.31335606 2.95037446 2.17550785 2.32234056\n",
            " 2.52053165 2.0611958  2.7107873  2.39849567 2.77878792 3.32753055\n",
            " 1.99487281 1.96212177 2.44773804 2.11416261 3.21599979 2.67455643\n",
            " 2.28164067 1.93456593 2.27116573 1.94739606 2.45432994 3.84651867\n",
            " 2.10352024 1.90069751 3.05160887 3.45078892 2.91172245 2.01195571\n",
            " 2.03396683 2.27811542 2.15060146 2.56899403 2.09093709 2.64258184\n",
            " 2.05421919 2.67406046 2.12340654 2.03152289 3.10536186 1.98324048\n",
            " 2.84707083 1.97839553 1.95213111 1.88682473 1.89323493 1.95283142\n",
            " 1.90005927 1.98609768 2.18003054 2.17991345 3.92035433 3.02088249\n",
            " 1.93273189 4.11687637 1.96449296 3.29804966 2.42130871 1.81259322\n",
            " 2.58461895 2.12867875 2.23877101 2.18043774 1.82470756 2.11228248\n",
            " 2.70455905 1.95267286 1.75081723 2.04777205 2.0302836  2.46035321\n",
            " 1.86875467 2.42284851 2.60809177 2.53227304 2.2798753  2.30139955\n",
            " 1.97490382 3.17029473 2.00396652 2.60352503 2.22697552 2.13692098\n",
            " 2.97710228 1.92451433 2.87968044 2.05158207 2.37283652 2.15144464\n",
            " 1.90796064 2.57978555 2.21607098 2.05550913 2.08577735 2.08792851\n",
            " 2.06893256 1.97050562 2.40861822 3.57099762]\n"
          ]
        }
      ]
    },
    {
      "cell_type": "code",
      "source": [
        "from sklearn.linear_model import LinearRegression\n",
        "from sklearn.metrics import mean_squared_error\n",
        "from math import sqrt\n",
        "lr = LinearRegression().fit(X_train, Y_train)\n",
        "\n",
        "Y_pred = lr.predict(X_test)\n",
        "print(\"predict value\\n\", Y_pred)\n",
        "print(\"train R2 : {:.3f}\".format(lr.score(X_train, Y_train)))\n",
        "print(\"train R2 : {:.3f}\".format(lr.score(X_test, Y_test)))\n",
        "\n",
        "rmse = sqrt(mean_squared_error(Y_test, Y_pred))\n",
        "print(\"RMSE: {:.3f}\".format(rmse))\n",
        "print(\"절편\", np.round(lr.intercept_, 3))\n",
        "print(\"가중치(beta)\", np.round(lr.coef_, 3))"
      ],
      "metadata": {
        "colab": {
          "base_uri": "https://localhost:8080/"
        },
        "id": "TJ7Ds9OWjUi7",
        "outputId": "a0ce0d91-325f-4690-8a75-7f6f2dc50d2c"
      },
      "execution_count": 31,
      "outputs": [
        {
          "output_type": "stream",
          "name": "stdout",
          "text": [
            "predict value\n",
            " [2.50633329 1.85739123 2.11459268 2.06315477 2.17627451 3.28633085\n",
            " 1.91071515 2.77103441 2.29214823 2.3189818  1.77087635 2.59926366\n",
            " 2.37659153 2.05723781 4.16361352 2.47002587 2.97528497 2.06653075\n",
            " 3.29512771 2.71380374 2.51504173 4.20606004 2.05171116 2.41197835\n",
            " 2.08599721 2.20336227 3.08447508 3.17572967 1.95797678 2.31505876\n",
            " 1.95039332 3.39038563 3.91869591 3.80886958 3.22765856 1.94358588\n",
            " 1.86828782 2.58361908 1.97195299 1.80422448 1.90418767 2.32162169\n",
            " 2.78246564 3.05049084 2.33673507 3.19097976 2.00415432 3.7619233\n",
            " 2.34770553 2.0187616  2.3783208  2.77522975 2.03913214 2.2966811\n",
            " 2.95470278 3.36531254 3.14128552 2.7953417  2.12604524 2.22359617\n",
            " 1.96554379 2.3931372  2.38288895 2.3163281  2.27888285 1.97599571\n",
            " 2.22268763 3.84278628 2.98374163 2.60161693 1.91226301 2.59239134\n",
            " 2.27674909 2.58429742 3.30933394]\n",
            "train R2 : 0.526\n",
            "train R2 : 0.599\n",
            "RMSE: 0.560\n",
            "절편 2.511\n",
            "가중치(beta) [-0.184  0.217  0.114  0.406  0.111]\n"
          ]
        }
      ]
    },
    {
      "cell_type": "markdown",
      "source": [
        "# 머신러닝, 딥러닝 모델 돌려보기"
      ],
      "metadata": {
        "id": "prykMzs8BV20"
      }
    },
    {
      "cell_type": "code",
      "source": [
        "\n",
        "from matplotlib import pyplot as plt\n",
        "#matplotlib: 정적, 애니메이션 및 대화형 시각화를 생성하기 위한 포괄적인 라이브러리\n",
        "#pyplot:matplotlib가 MATLAB처럼 작동하도록 하는 함수 모음\n",
        "from pandas import DataFrame\n",
        "#pandas:오픈 소스 데이터 분석 및 조작 도구\n",
        "#DataFrame:행과 열로 이루어진 데이터 객체를 만들어 다룰 수 있으며 안정적으로 대용량의 데이터들을 처리하는데 매우 편리한 도구\n",
        "import numpy as np\n",
        "#numpy:행렬/배열 처리 및 연산\n",
        "from pandas import *\n",
        "     "
      ],
      "metadata": {
        "id": "Wp6oJyYliV5e"
      },
      "execution_count": 32,
      "outputs": []
    },
    {
      "cell_type": "code",
      "source": [
        "from sklearn.model_selection import train_test_split\n",
        "from sklearn.compose import ColumnTransformer\n",
        "from sklearn.preprocessing import StandardScaler\n",
        "from sklearn.preprocessing import OneHotEncoder\n",
        "from imblearn.over_sampling import SMOTE\n",
        "\n",
        "# 트레인셋 나누는 것과 칼럼트랜스포머, 스케일러 모듈 불러오기"
      ],
      "metadata": {
        "id": "LJ697aDdKNXi"
      },
      "execution_count": 33,
      "outputs": []
    },
    {
      "cell_type": "code",
      "source": [
        "df.columns\n",
        "\n",
        "# 칼럼 확인해보기"
      ],
      "metadata": {
        "colab": {
          "base_uri": "https://localhost:8080/"
        },
        "id": "Hlbi4XJVKWtV",
        "outputId": "de406e75-0931-4ead-9a25-96f2238991c3"
      },
      "execution_count": 34,
      "outputs": [
        {
          "output_type": "execute_result",
          "data": {
            "text/plain": [
              "Index(['시도', '노인요양시설', '공동생활가정', '방문요양', '방문목욕', '주야간보호', '복지용구'], dtype='object')"
            ]
          },
          "metadata": {},
          "execution_count": 34
        }
      ]
    },
    {
      "cell_type": "markdown",
      "source": [
        "인공신경망"
      ],
      "metadata": {
        "id": "6FqlpDvWMT_s"
      }
    },
    {
      "cell_type": "code",
      "source": [
        "import numpy as np\n",
        "\n",
        "#1. 변수선택\n",
        "X = df[['방문요양', '공동생활가정', '방문목욕', '주야간보호','복지용구']]\n",
        "Y = df[\"노인요양시설\"]\n",
        "\n",
        "#2. train = test split\n",
        "X_train, X_test, Y_train, Y_test = train_test_split(X, Y, test_size=0.3, random_state=0)\n",
        "\n",
        "#3. 데이터 전처리(preprocessing)\n",
        "ct = ColumnTransformer([(\"scaling\", StandardScaler(), ['방문요양', '공동생활가정', '방문목욕', '주야간보호','복지용구'])])\n",
        "ct.fit(X_train)\n",
        "X_train = ct.transform(X_train)\n",
        "X_test = ct.transform(X_test)"
      ],
      "metadata": {
        "id": "CwE_tK1aKYgZ"
      },
      "execution_count": 35,
      "outputs": []
    },
    {
      "cell_type": "code",
      "source": [
        "#4. 모델링\n",
        "from sklearn.neural_network import MLPRegressor\n",
        "\n",
        "#4-1. 모델 생성\n",
        "nn_reg_model = MLPRegressor(random_state=0, alpha=1, max_iter=1000, hidden_layer_sizes=[50, 50])\n",
        "                            \n",
        "#5. 모형학습 및 예측\n",
        "nn_reg_model.fit(X_train, Y_train)\n",
        "Y_pred = nn_reg_model.predict(X_test)\n",
        "\n",
        "#6. 결과값 보고\n",
        "print(\"Y predict value: \\n\", Y_pred)\n",
        "print(\"trian accuracy : {:.3f}\".format(nn_reg_model.score(X_train, Y_train)))\n",
        "from sklearn.metrics import mean_squared_error\n",
        "from math import sqrt\n",
        "rmse = sqrt(mean_squared_error(Y_test, Y_pred))\n",
        "print(\"RMSE : {:3f}\".format(rmse)) "
      ],
      "metadata": {
        "colab": {
          "base_uri": "https://localhost:8080/"
        },
        "id": "yuLczyujLOhQ",
        "outputId": "723c9d2e-b3c2-4308-f8a9-a833c6529aae"
      },
      "execution_count": 36,
      "outputs": [
        {
          "output_type": "stream",
          "name": "stdout",
          "text": [
            "Y predict value: \n",
            " [2.48164554 1.50117442 1.85202104 2.12940524 2.41789097 3.39612609\n",
            " 1.66291257 2.75659271 2.038648   2.56848102 1.39602929 2.87073029\n",
            " 2.7753438  2.02926095 3.96219545 2.4719702  3.04768357 2.11717659\n",
            " 3.27850275 2.63902204 2.46474064 4.06242209 2.07751167 2.72828144\n",
            " 2.3593835  2.25010427 3.05410508 3.03316028 1.82773154 2.46119493\n",
            " 1.69567002 3.4434059  3.66906048 3.82551474 2.83018361 1.73080422\n",
            " 1.50771382 2.39965877 1.7036706  1.443944   1.61073028 2.23897486\n",
            " 3.13014967 2.9639124  2.4907297  3.12957363 1.86402588 3.41273113\n",
            " 2.80012214 1.82886739 2.54612227 3.04504645 1.98480223 2.44202258\n",
            " 2.43154824 3.53775842 2.63586082 2.82123235 2.17616919 2.53427804\n",
            " 1.89318171 2.45291567 2.77191556 2.27288235 2.40623333 1.97355091\n",
            " 1.96787422 3.54852245 3.27849441 2.49757413 1.75470533 2.6558353\n",
            " 2.29011833 2.69503006 3.20308924]\n",
            "trian accuracy : 0.727\n",
            "RMSE : 0.521015\n"
          ]
        }
      ]
    },
    {
      "cell_type": "markdown",
      "source": [
        "*predict값과 train 정확도 RMSE값 어느정도 잘 나온것 확인*"
      ],
      "metadata": {
        "id": "kuZjL35J3U0-"
      }
    },
    {
      "cell_type": "code",
      "source": [],
      "metadata": {
        "id": "l_2_RX0JL8-r"
      },
      "execution_count": 36,
      "outputs": []
    },
    {
      "cell_type": "markdown",
      "source": [
        "딥러닝"
      ],
      "metadata": {
        "id": "xt81nOYmMW4a"
      }
    },
    {
      "cell_type": "code",
      "source": [
        "import warnings\n",
        "warnings.filterwarnings(\"ignore\")\n",
        "\n",
        "# 딥러닝 할 때 경고문이 잘 떠서 무시하는 모듈 소환"
      ],
      "metadata": {
        "id": "B5JG0zmKMdkq"
      },
      "execution_count": 37,
      "outputs": []
    },
    {
      "cell_type": "markdown",
      "source": [
        "DNN(Deep learning : Deep Neural Network)"
      ],
      "metadata": {
        "id": "2TgwKyzzMhux"
      }
    },
    {
      "cell_type": "markdown",
      "source": [
        "회귀예측"
      ],
      "metadata": {
        "id": "Gpdt3qYkMkAc"
      }
    },
    {
      "cell_type": "code",
      "source": [
        "df.info()\n",
        "\n",
        "# 예의상 정보 확인인"
      ],
      "metadata": {
        "colab": {
          "base_uri": "https://localhost:8080/"
        },
        "id": "OAoAQnVlyd27",
        "outputId": "8019a421-ebf4-4a3d-96c3-5295da684296"
      },
      "execution_count": 38,
      "outputs": [
        {
          "output_type": "stream",
          "name": "stdout",
          "text": [
            "<class 'pandas.core.frame.DataFrame'>\n",
            "RangeIndex: 250 entries, 0 to 249\n",
            "Data columns (total 7 columns):\n",
            " #   Column  Non-Null Count  Dtype  \n",
            "---  ------  --------------  -----  \n",
            " 0   시도      250 non-null    object \n",
            " 1   노인요양시설  250 non-null    float64\n",
            " 2   공동생활가정  250 non-null    float64\n",
            " 3   방문요양    250 non-null    int64  \n",
            " 4   방문목욕    250 non-null    float64\n",
            " 5   주야간보호   250 non-null    float64\n",
            " 6   복지용구    250 non-null    float64\n",
            "dtypes: float64(5), int64(1), object(1)\n",
            "memory usage: 13.8+ KB\n"
          ]
        }
      ]
    },
    {
      "cell_type": "code",
      "source": [
        "import keras\n",
        "import tensorflow as tf\n",
        "\n",
        "#1. 변수선택\n",
        "X = df[['방문요양', '공동생활가정', '방문목욕', '주야간보호','복지용구']]\n",
        "Y = np.log1p(df['노인요양시설'])"
      ],
      "metadata": {
        "id": "WWALMfa7MfmA"
      },
      "execution_count": 39,
      "outputs": []
    },
    {
      "cell_type": "code",
      "source": [
        "#2. train - test split\n",
        "X_train, X_test, Y_train, Y_test = train_test_split(X,Y,test_size=0.3, random_state=0)\n",
        "\n",
        "#3 데이터 전처러(preprocessing)\n",
        "scaler = StandardScaler().fit(X_train)\n",
        "X_train = scaler.transform(X_train)\n",
        "X_test = scaler.transform(X_test)\n",
        "\n",
        "#4. seed 값 설정\n",
        "np.random.seed(0)\n",
        "tf.random.set_seed(0)\n",
        "\n",
        "#5. 모형생성\n",
        "model = keras.models.Sequential()\n",
        "model.add(keras.layers.Dense(64, input_dim=5, activation=\"relu\"))\n",
        "model.add(keras.layers.Dense(64, activation=\"relu\"))\n",
        "model.add(keras.layers.Dense(64, activation=\"relu\"))\n",
        "\n",
        "#6. 모형 학습\n",
        "model.compile(loss = \"mse\", optimizer = \"SGD\") # 확률적 경사 하강법(SGD): \n",
        "Y_pred = np.round(model.predict(X_test[:5], verbose=0), 3)\n",
        "print(\"Y predict value \\n\", Y_pred)\n",
        "\n",
        "#7. 모형 평가\n",
        "train_score = model.evaluate(X_train, Y_train,verbose=0)\n",
        "test_score = model.evaluate(X_test, Y_test, verbose=0)\n",
        "print(\"train mse: {:.3f}\".format(train_score))\n",
        "print(\"test mse: {:.3f}\".format(test_score))"
      ],
      "metadata": {
        "colab": {
          "base_uri": "https://localhost:8080/"
        },
        "id": "pofUXe7kxY6a",
        "outputId": "25eea5e9-18a3-458e-c8f1-d37a9ceddee2"
      },
      "execution_count": 40,
      "outputs": [
        {
          "output_type": "stream",
          "name": "stdout",
          "text": [
            "Y predict value \n",
            " [[0.    0.023 0.    0.    0.    0.223 0.    0.    0.    0.    0.    0.\n",
            "  0.    0.    0.119 0.04  0.001 0.    0.019 0.    0.103 0.    0.236 0.141\n",
            "  0.    0.    0.    0.01  0.    0.    0.077 0.061 0.016 0.068 0.    0.015\n",
            "  0.112 0.    0.    0.    0.022 0.045 0.    0.    0.    0.    0.    0.\n",
            "  0.12  0.108 0.035 0.206 0.    0.    0.038 0.    0.    0.    0.    0.011\n",
            "  0.085 0.    0.01  0.026]\n",
            " [0.    0.    0.092 0.083 0.    0.    0.149 0.    0.202 0.    0.098 0.224\n",
            "  0.015 0.    0.382 0.035 0.044 0.165 0.149 0.    0.    0.    0.488 0.134\n",
            "  0.    0.    0.    0.    0.    0.    0.31  0.    0.    0.09  0.    0.\n",
            "  0.    0.    0.    0.26  0.045 0.    0.    0.    0.    0.    0.065 0.045\n",
            "  0.    0.231 0.004 0.    0.    0.432 0.033 0.    0.284 0.438 0.    0.669\n",
            "  0.    0.    0.345 0.   ]\n",
            " [0.    0.    0.005 0.077 0.    0.    0.001 0.    0.035 0.    0.    0.125\n",
            "  0.003 0.02  0.162 0.111 0.    0.    0.052 0.018 0.009 0.    0.167 0.068\n",
            "  0.    0.    0.    0.045 0.    0.    0.096 0.    0.017 0.036 0.    0.005\n",
            "  0.    0.003 0.    0.02  0.005 0.    0.    0.    0.    0.    0.    0.025\n",
            "  0.    0.08  0.057 0.018 0.    0.105 0.    0.    0.01  0.1   0.    0.162\n",
            "  0.    0.    0.059 0.025]\n",
            " [0.    0.    0.02  0.059 0.    0.    0.088 0.    0.071 0.    0.009 0.147\n",
            "  0.    0.    0.168 0.046 0.    0.068 0.055 0.    0.    0.    0.28  0.088\n",
            "  0.    0.    0.    0.    0.    0.    0.137 0.    0.    0.07  0.    0.\n",
            "  0.    0.    0.    0.141 0.    0.    0.    0.    0.    0.    0.04  0.028\n",
            "  0.    0.124 0.    0.    0.    0.144 0.008 0.    0.079 0.202 0.    0.234\n",
            "  0.    0.    0.124 0.   ]\n",
            " [0.    0.    0.035 0.029 0.    0.    0.059 0.    0.076 0.    0.043 0.099\n",
            "  0.005 0.    0.168 0.027 0.03  0.069 0.062 0.    0.    0.    0.21  0.048\n",
            "  0.    0.    0.    0.    0.    0.    0.12  0.    0.    0.042 0.    0.\n",
            "  0.    0.    0.    0.106 0.    0.    0.    0.    0.    0.    0.024 0.013\n",
            "  0.    0.096 0.01  0.    0.    0.151 0.016 0.    0.115 0.183 0.    0.267\n",
            "  0.    0.    0.149 0.   ]]\n",
            "train mse: 1.447\n",
            "test mse: 1.513\n"
          ]
        }
      ]
    },
    {
      "cell_type": "markdown",
      "source": [
        "train mse와 test mse 확인"
      ],
      "metadata": {
        "id": "I40KWSrH31MW"
      }
    },
    {
      "cell_type": "code",
      "source": [],
      "metadata": {
        "id": "QDL7OAVzkHJ_"
      },
      "execution_count": 40,
      "outputs": []
    },
    {
      "cell_type": "markdown",
      "source": [
        "# 앙상블"
      ],
      "metadata": {
        "id": "DuIJsG4qzqtj"
      }
    },
    {
      "cell_type": "markdown",
      "source": [
        "회귀예측"
      ],
      "metadata": {
        "id": "5ySfVE6WzsYZ"
      }
    },
    {
      "cell_type": "code",
      "source": [
        "#1. 변수선택\n",
        "X = df[['방문요양', '공동생활가정', '방문목욕', '주야간보호','복지용구']]\n",
        "Y = np.log1p(df['노인요양시설'])\n",
        "\n",
        "#2. train - test split\n",
        "X_train, X_test, Y_train, Y_test = train_test_split(X,Y,test_size=0.3, random_state=0)\n",
        "\n",
        "#3 데이터 전처러(preprocessing)\n",
        "scaler = StandardScaler().fit(X_train)\n",
        "X_train = scaler.transform(X_train)\n",
        "X_test = scaler.transform(X_test)"
      ],
      "metadata": {
        "id": "GhBWdhPEzxL1"
      },
      "execution_count": 44,
      "outputs": []
    },
    {
      "cell_type": "code",
      "source": [
        "#4. 단일 모형 생성\n",
        "from sklearn.ensemble import VotingRegressor\n",
        "from sklearn.neural_network import MLPRegressor\n",
        "from sklearn.svm import SVR\n",
        "\n",
        "svr = SVR()\n",
        "mlp = MLPRegressor(random_state=0)\n",
        "\n",
        "#5. voting model 생성\n",
        "model = VotingRegressor(estimators = [(\"SVR\", svr), (\"MLP\", mlp)])\n",
        "\n",
        "#6. 모형학습\n",
        "model.fit(X_train, Y_train)\n",
        "\n",
        "#7. 예측 및 모형 성능 평가\n",
        "Y_pred = model.predict(X_test)\n",
        "print(\"Y predict value: \\n\", Y_pred)\n",
        "#8-1. 보팅모형 정확도\n",
        "print(\"voting regressor accuracy(R2) : {0:.3f}\".format(model.score(X_test, Y_test)))\n",
        "#8-2. 개별모형 정확도\n",
        "Regressors = [svr, mlp]\n",
        "for Regressor in Regressors :\n",
        "  Regressor.fit(X_train, Y_train)\n",
        "  Regressor.fit(X_train, Y_train)\n",
        "  class_name = Regressor.__class__.__name__\n",
        "  print(\"{0} accuracy : {1:3f}\".format(class_name, Regressor.score(X_test, Y_test)))"
      ],
      "metadata": {
        "id": "hukb3WSwz7lj",
        "colab": {
          "base_uri": "https://localhost:8080/"
        },
        "outputId": "0495ff7c-f560-4098-f740-bcf2869aaac3"
      },
      "execution_count": 45,
      "outputs": [
        {
          "output_type": "stream",
          "name": "stdout",
          "text": [
            "Y predict value: \n",
            " [1.22241712 1.00199898 1.05164479 1.07101018 1.10822076 1.39412378\n",
            " 0.99367465 1.40555424 1.26310993 1.18984981 0.98501481 1.27660398\n",
            " 1.17698296 1.07190505 1.45607499 1.22864115 1.40201418 1.07015807\n",
            " 1.42341444 1.29310394 1.18074663 1.64958504 1.10195432 1.16881072\n",
            " 1.10808261 1.08693418 1.45345555 1.45376475 1.01398034 1.13089735\n",
            " 1.02820029 1.36350838 1.46360018 1.47799246 1.52761221 1.05154583\n",
            " 0.99084958 1.12011451 1.01793357 0.9821786  1.01607345 1.19093818\n",
            " 1.30726294 1.404136   1.18303552 1.53872935 1.04737449 1.40937188\n",
            " 1.23757064 1.04348484 1.22979798 1.31632287 1.05060011 1.20846566\n",
            " 1.3777319  1.45797499 1.37333507 1.4361098  1.09310383 1.12235993\n",
            " 1.05482873 1.18800987 1.23381391 1.19517667 1.16889622 1.01938882\n",
            " 1.15664282 1.45866461 1.33092056 1.24134531 1.02489379 1.30020832\n",
            " 1.11151677 1.32785388 1.51329499]\n",
            "voting regressor accuracy(R2) : 0.552\n",
            "SVR accuracy : 0.651657\n",
            "MLPRegressor accuracy : 0.252611\n"
          ]
        }
      ]
    },
    {
      "cell_type": "markdown",
      "source": [
        "정확도가 전반적으로 잘 안나오고 MLP accuracy는 완전 이상합니다."
      ],
      "metadata": {
        "id": "OjSMWXHB4xF8"
      }
    },
    {
      "cell_type": "code",
      "source": [],
      "metadata": {
        "id": "A_Ktq4HK0FUL"
      },
      "execution_count": 45,
      "outputs": []
    },
    {
      "cell_type": "markdown",
      "source": [
        "# 랜덤포레스트"
      ],
      "metadata": {
        "id": "P9sXzE6Z0bdm"
      }
    },
    {
      "cell_type": "markdown",
      "source": [
        "회귀예측"
      ],
      "metadata": {
        "id": "oU486IwB0eB4"
      }
    },
    {
      "cell_type": "code",
      "source": [
        "#1. 변수선택\n",
        "X = df[['방문요양', '공동생활가정', '방문목욕', '주야간보호','복지용구']]\n",
        "Y = np.log1p(df['노인요양시설'])\n",
        "\n",
        "#2. train - test split\n",
        "X_train, X_test, Y_train, Y_test = train_test_split(X,Y,test_size=0.3, random_state=0)\n",
        "\n",
        "#3 데이터 전처러(preprocessing)\n",
        "scaler = StandardScaler().fit(X_train)\n",
        "X_train = scaler.transform(X_train)\n",
        "X_test = scaler.transform(X_test)"
      ],
      "metadata": {
        "id": "T8z-aXlU0dmu"
      },
      "execution_count": 46,
      "outputs": []
    },
    {
      "cell_type": "code",
      "source": [
        "#4. 모형 생성\n",
        "from sklearn.ensemble import RandomForestRegressor\n",
        "model = RandomForestRegressor(random_state = 0, n_estimators = 100, max_depth = 4)\n",
        "\n",
        "#5. 모형 예측 평가\n",
        "model.fit(X_train, Y_train)\n",
        "Y_pred = model.predict(X_test)\n",
        "print(\"Y predict value : \\n\",Y_pred)\n",
        "print(\"accuracy(R2) : {:.3f}\".format(model.score(X_train, Y_train)))\n",
        "rmse = sqrt(mean_squared_error(Y_test, Y_pred))\n",
        "print(\"RMSE :\", rmse)"
      ],
      "metadata": {
        "id": "w2cLJi350q1o",
        "colab": {
          "base_uri": "https://localhost:8080/"
        },
        "outputId": "588971cb-dd71-4ed9-b1d2-91c567f91782"
      },
      "execution_count": 47,
      "outputs": [
        {
          "output_type": "stream",
          "name": "stdout",
          "text": [
            "Y predict value : \n",
            " [1.30856698 0.93030031 0.99827979 1.04718516 1.21680189 1.43200692\n",
            " 0.99117742 1.28672292 1.20277321 1.28208838 0.92915243 1.26730062\n",
            " 1.3308438  1.07270933 1.58353624 1.25072603 1.36857917 1.16460893\n",
            " 1.41267506 1.1610768  1.21686894 1.50382983 1.12785641 1.33255629\n",
            " 1.15952516 1.17138888 1.40875684 1.36751568 1.01813244 1.29834187\n",
            " 0.98017195 1.41007782 1.48587383 1.48951452 1.31336496 0.95748955\n",
            " 0.95043787 1.29343324 0.98353896 0.94370403 0.93937345 1.2106025\n",
            " 1.39096627 1.23586741 1.25149599 1.38285992 0.97084286 1.39989739\n",
            " 1.29180166 0.95195184 1.29801722 1.37468299 1.10334682 1.27052046\n",
            " 1.23327296 1.41337548 1.3580566  1.32740709 1.15831123 1.27210013\n",
            " 1.02561827 1.23854283 1.32658141 1.26577905 1.2645037  1.11009147\n",
            " 1.21721922 1.40965615 1.42949346 1.22731316 0.92499545 1.26348061\n",
            " 1.228899   1.30226535 1.41066731]\n",
            "accuracy(R2) : 0.751\n",
            "RMSE : 0.17446802864730493\n"
          ]
        }
      ]
    },
    {
      "cell_type": "markdown",
      "source": [
        "회귀모델 예측 정확도를 나타내는 R2 accuracy와 실제값과 예측값 사이의 오차를 나타내는 RMSE 모두 만족할만한 수치가 나왔습니다."
      ],
      "metadata": {
        "id": "vzLeO-7Q470F"
      }
    },
    {
      "cell_type": "markdown",
      "source": [
        "# 그래디언트 회귀예측"
      ],
      "metadata": {
        "id": "iy7aWS5i5pOE"
      }
    },
    {
      "cell_type": "code",
      "source": [
        "#1. 변수선택\n",
        "X = df[['방문요양', '공동생활가정', '방문목욕', '주야간보호','복지용구']]\n",
        "Y = np.log1p(df['노인요양시설'])\n",
        "\n",
        "#2. train - test split\n",
        "X_train, X_test, Y_train, Y_test = train_test_split(X,Y,test_size=0.3, random_state=0)\n",
        "\n",
        "#3 데이터 전처러(preprocessing)\n",
        "scaler = StandardScaler().fit(X_train)\n",
        "X_train = scaler.transform(X_train)\n",
        "X_test = scaler.transform(X_test)"
      ],
      "metadata": {
        "id": "56XYLb2i5qlL"
      },
      "execution_count": 48,
      "outputs": []
    },
    {
      "cell_type": "code",
      "source": [
        "#4. 모형생성\n",
        "from sklearn.ensemble import GradientBoostingRegressor\n",
        "model = GradientBoostingRegressor(random_state = 0, n_estimators = 100, max_depth = 4, learning_rate = 0.1)\n",
        "\n",
        "#5. 모형 학습 예측\n",
        "model.fit(X_train, Y_train)\n",
        "Y_pred = model.predict(X_test)\n",
        "print(\"Y predict value: \\n\", Y_pred)\n",
        "print(\"accuracy(test) : {:.3f}\".format(model.score(X_test, Y_test)))\n",
        "rmse = sqrt(mean_squared_error(Y_test, Y_pred))\n",
        "print(\"RMSE :\", rmse)"
      ],
      "metadata": {
        "id": "XcxiymBO5rP3",
        "colab": {
          "base_uri": "https://localhost:8080/"
        },
        "outputId": "767159b8-24e3-4fa5-930a-abb38e6f9be1"
      },
      "execution_count": 49,
      "outputs": [
        {
          "output_type": "stream",
          "name": "stdout",
          "text": [
            "Y predict value: \n",
            " [1.2580717  0.86482042 0.96491322 1.14170781 1.29502783 1.47149668\n",
            " 1.0337369  1.25658315 1.22562039 1.18668999 0.77555741 1.25096794\n",
            " 1.31926855 1.04020135 1.75348333 1.22686103 1.29500922 1.11221856\n",
            " 1.44283713 1.13125098 1.26867844 1.45929688 1.07810839 1.31096187\n",
            " 1.09097652 1.14982738 1.35482527 1.33112886 0.96685906 1.34619221\n",
            " 1.10437018 1.43238658 1.50855004 1.6113445  1.30938467 1.03317638\n",
            " 0.90205912 1.40461506 0.84552759 0.87567408 0.91676568 1.20786915\n",
            " 1.44478027 1.16587304 1.20414474 1.43168    0.91923795 1.4751824\n",
            " 1.24605793 0.97634745 1.3554165  1.40405043 1.07807004 1.12850943\n",
            " 1.1872492  1.40062148 1.33768377 1.32154754 1.15423592 1.30391409\n",
            " 1.03232979 1.14861347 1.31625296 1.27704497 1.16495558 1.0007692\n",
            " 1.28992495 1.4159136  1.435315   1.22308193 0.76688187 1.21941287\n",
            " 1.21859335 1.25674621 1.44324902]\n",
            "accuracy(test) : 0.528\n",
            "RMSE : 0.18119587938161877\n"
          ]
        }
      ]
    },
    {
      "cell_type": "markdown",
      "source": [],
      "metadata": {
        "id": "UUXO6cGb5x70"
      }
    },
    {
      "cell_type": "code",
      "source": [],
      "metadata": {
        "id": "K7vOueXm5wYU"
      },
      "execution_count": 49,
      "outputs": []
    }
  ]
}