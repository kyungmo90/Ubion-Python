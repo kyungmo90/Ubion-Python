{
  "nbformat": 4,
  "nbformat_minor": 0,
  "metadata": {
    "colab": {
      "provenance": [],
      "include_colab_link": true
    },
    "kernelspec": {
      "name": "python3",
      "display_name": "Python 3"
    },
    "language_info": {
      "name": "python"
    }
  },
  "cells": [
    {
      "cell_type": "markdown",
      "metadata": {
        "id": "view-in-github",
        "colab_type": "text"
      },
      "source": [
        "<a href=\"https://colab.research.google.com/github/kyungmo90/Ubion-Python/blob/main/%EC%97%B0%EC%8A%B5_%ED%85%8D%EC%8A%A4%ED%8A%B8.ipynb\" target=\"_parent\"><img src=\"https://colab.research.google.com/assets/colab-badge.svg\" alt=\"Open In Colab\"/></a>"
      ]
    },
    {
      "cell_type": "code",
      "execution_count": null,
      "metadata": {
        "colab": {
          "base_uri": "https://localhost:8080/",
          "height": 36
        },
        "id": "jE-BXXrxrCFu",
        "outputId": "d890afb2-5968-4d00-d586-df648cae5d69"
      },
      "outputs": [
        {
          "output_type": "execute_result",
          "data": {
            "text/plain": [
              "' 1234 jimhyosung kim'"
            ],
            "application/vnd.google.colaboratory.intrinsic+json": {
              "type": "string"
            }
          },
          "metadata": {},
          "execution_count": 7
        }
      ],
      "source": [
        "a = \" 1234 jim\"\n",
        "b = \"hyosung kim\"\n",
        "a+b"
      ]
    },
    {
      "cell_type": "code",
      "source": [
        "print(\"hello world!\")"
      ],
      "metadata": {
        "colab": {
          "base_uri": "https://localhost:8080/"
        },
        "id": "NssIzAcR00On",
        "outputId": "f4a4add1-dc7b-4165-cc48-e803936ede42"
      },
      "execution_count": null,
      "outputs": [
        {
          "output_type": "stream",
          "name": "stdout",
          "text": [
            "hello world!\n"
          ]
        }
      ]
    },
    {
      "cell_type": "code",
      "source": [
        "a = \"python\""
      ],
      "metadata": {
        "id": "34BDIe4E06Nc"
      },
      "execution_count": null,
      "outputs": []
    },
    {
      "cell_type": "code",
      "source": [
        "a"
      ],
      "metadata": {
        "colab": {
          "base_uri": "https://localhost:8080/",
          "height": 36
        },
        "id": "g1ipHi5z099K",
        "outputId": "adb30aa8-3c73-4f02-f315-1fb051367e13"
      },
      "execution_count": null,
      "outputs": [
        {
          "output_type": "execute_result",
          "data": {
            "text/plain": [
              "'python'"
            ],
            "application/vnd.google.colaboratory.intrinsic+json": {
              "type": "string"
            }
          },
          "metadata": {},
          "execution_count": 10
        }
      ]
    },
    {
      "cell_type": "code",
      "source": [
        "del a"
      ],
      "metadata": {
        "id": "OWwNLgK10_Cy"
      },
      "execution_count": null,
      "outputs": []
    },
    {
      "cell_type": "code",
      "source": [
        "a"
      ],
      "metadata": {
        "colab": {
          "base_uri": "https://localhost:8080/",
          "height": 180
        },
        "id": "gnaj2RRf4Hmq",
        "outputId": "0f06cd4d-d779-45a3-fb8c-7588a2cb61c4"
      },
      "execution_count": null,
      "outputs": [
        {
          "output_type": "error",
          "ename": "NameError",
          "evalue": "ignored",
          "traceback": [
            "\u001b[0;31m---------------------------------------------------------------------------\u001b[0m",
            "\u001b[0;31mNameError\u001b[0m                                 Traceback (most recent call last)",
            "\u001b[0;32m<ipython-input-12-3f786850e387>\u001b[0m in \u001b[0;36m<module>\u001b[0;34m\u001b[0m\n\u001b[0;32m----> 1\u001b[0;31m \u001b[0ma\u001b[0m\u001b[0;34m\u001b[0m\u001b[0;34m\u001b[0m\u001b[0m\n\u001b[0m",
            "\u001b[0;31mNameError\u001b[0m: name 'a' is not defined"
          ]
        }
      ]
    },
    {
      "cell_type": "code",
      "source": [
        "a = 2"
      ],
      "metadata": {
        "id": "U7mv-as94I-H"
      },
      "execution_count": null,
      "outputs": []
    },
    {
      "cell_type": "code",
      "source": [
        "print (a)"
      ],
      "metadata": {
        "colab": {
          "base_uri": "https://localhost:8080/"
        },
        "id": "_0fXKAvg4PJi",
        "outputId": "358d524c-e4d2-4f64-9c46-8213ef93c760"
      },
      "execution_count": null,
      "outputs": [
        {
          "output_type": "stream",
          "name": "stdout",
          "text": [
            "2\n"
          ]
        }
      ]
    },
    {
      "cell_type": "code",
      "source": [
        "b = 4"
      ],
      "metadata": {
        "id": "B_weXPrI4Ygx"
      },
      "execution_count": null,
      "outputs": []
    },
    {
      "cell_type": "code",
      "source": [
        "print (b)"
      ],
      "metadata": {
        "colab": {
          "base_uri": "https://localhost:8080/"
        },
        "id": "6YrF03tg4iwZ",
        "outputId": "4f3210d9-1f47-458f-9e91-01d3423bcdfe"
      },
      "execution_count": null,
      "outputs": [
        {
          "output_type": "stream",
          "name": "stdout",
          "text": [
            "4\n"
          ]
        }
      ]
    },
    {
      "cell_type": "code",
      "source": [
        "a+b"
      ],
      "metadata": {
        "colab": {
          "base_uri": "https://localhost:8080/"
        },
        "id": "U2DqXEsI4lAL",
        "outputId": "37b85d7f-22af-4bbb-e265-c90cd173a982"
      },
      "execution_count": null,
      "outputs": [
        {
          "output_type": "execute_result",
          "data": {
            "text/plain": [
              "6"
            ]
          },
          "metadata": {},
          "execution_count": 17
        }
      ]
    },
    {
      "cell_type": "code",
      "source": [
        "a*b"
      ],
      "metadata": {
        "colab": {
          "base_uri": "https://localhost:8080/"
        },
        "id": "UQjnDn3z4nks",
        "outputId": "ac026bab-ce45-4e1a-8c4d-96015847a40c"
      },
      "execution_count": null,
      "outputs": [
        {
          "output_type": "execute_result",
          "data": {
            "text/plain": [
              "8"
            ]
          },
          "metadata": {},
          "execution_count": 18
        }
      ]
    },
    {
      "cell_type": "code",
      "source": [
        "a/b"
      ],
      "metadata": {
        "colab": {
          "base_uri": "https://localhost:8080/"
        },
        "id": "mCexjgnz4qij",
        "outputId": "bea35092-cd11-4acd-bd66-d50e693f7c2a"
      },
      "execution_count": null,
      "outputs": [
        {
          "output_type": "execute_result",
          "data": {
            "text/plain": [
              "0.5"
            ]
          },
          "metadata": {},
          "execution_count": 19
        }
      ]
    },
    {
      "cell_type": "code",
      "source": [
        "a = 123"
      ],
      "metadata": {
        "id": "WxUvqXm04tBa"
      },
      "execution_count": null,
      "outputs": []
    },
    {
      "cell_type": "code",
      "source": [
        "type(a)"
      ],
      "metadata": {
        "colab": {
          "base_uri": "https://localhost:8080/"
        },
        "id": "hAtyCNaj4wPk",
        "outputId": "05d8528e-19f7-4225-81c6-ab7e4136cb99"
      },
      "execution_count": null,
      "outputs": [
        {
          "output_type": "execute_result",
          "data": {
            "text/plain": [
              "int"
            ]
          },
          "metadata": {},
          "execution_count": 21
        }
      ]
    },
    {
      "cell_type": "code",
      "source": [
        "b = 123.1"
      ],
      "metadata": {
        "id": "KCE5rY9W4za6"
      },
      "execution_count": null,
      "outputs": []
    },
    {
      "cell_type": "code",
      "source": [
        "type(b)"
      ],
      "metadata": {
        "colab": {
          "base_uri": "https://localhost:8080/"
        },
        "id": "TGJIVJjS42f-",
        "outputId": "f02ed889-ac0d-47ad-ec83-c8c8bfafbb20"
      },
      "execution_count": null,
      "outputs": [
        {
          "output_type": "execute_result",
          "data": {
            "text/plain": [
              "float"
            ]
          },
          "metadata": {},
          "execution_count": 23
        }
      ]
    },
    {
      "cell_type": "code",
      "source": [
        "import numpy as np\n",
        "matrix = [[1,2,3,4,],[5,6,7,8,],[9,10,11,12]]\n",
        "matrix\n",
        "np.array(matrix, int).shape\n",
        "# import 불러와 numpy 넘파이를  as 넘파이를 np 약자로 사용할께\n",
        "# matrix 출력\n",
        "# 출력할때 넘파이로 변경해줘 matrix를 int 정수로 보여주고 shape 행과열을 알려줘/  출력값 : 3행 4열"
      ],
      "metadata": {
        "colab": {
          "base_uri": "https://localhost:8080/"
        },
        "id": "iBMNU-jK45Jj",
        "outputId": "7978a934-7b2a-49fa-e8c6-7baa5a0928e4"
      },
      "execution_count": null,
      "outputs": [
        {
          "output_type": "execute_result",
          "data": {
            "text/plain": [
              "(3, 4)"
            ]
          },
          "metadata": {},
          "execution_count": 92
        }
      ]
    },
    {
      "cell_type": "code",
      "source": [
        "arr1 = np.array([1,2,3,4])\n",
        "arr1.shape"
      ],
      "metadata": {
        "colab": {
          "base_uri": "https://localhost:8080/"
        },
        "id": "58ZKG-cXN54z",
        "outputId": "017ced31-2fb2-4eab-a219-aa01e056863f"
      },
      "execution_count": null,
      "outputs": [
        {
          "output_type": "execute_result",
          "data": {
            "text/plain": [
              "(4,)"
            ]
          },
          "metadata": {},
          "execution_count": 44
        }
      ]
    },
    {
      "cell_type": "code",
      "source": [
        "arr2 = np.array([[1,2,3,4],[5,6,7,8]])\n",
        "arr2.shape\n",
        "# arr2변수를 넘파이로 변경\n",
        "# arr2 출력해서 행과 열 알려줘  / 출력값 : 2행 4열"
      ],
      "metadata": {
        "colab": {
          "base_uri": "https://localhost:8080/"
        },
        "id": "W3Bxny0Kst4t",
        "outputId": "ec7903da-5c6a-4c92-e5a1-d37a390307bd"
      },
      "execution_count": null,
      "outputs": [
        {
          "output_type": "execute_result",
          "data": {
            "text/plain": [
              "(2, 4)"
            ]
          },
          "metadata": {},
          "execution_count": 93
        }
      ]
    },
    {
      "cell_type": "code",
      "source": [
        "a = \"kimhyosung\"\n",
        "a[:3]+a[3].upper()+a[4:]   # upper 는 변수자체를 대문자로 변경해주는건 아니다 / a = .upper() 로 변수 자체를 대문자로 변경가능\n",
        "#a 변수중 3번째까지 보여줘 + a 변수에 3번째를 대문자로 변경후 출력해서 붙여줘 + 그리고 a 변수 4번째부터 출력해서 붙여줘  "
      ],
      "metadata": {
        "colab": {
          "base_uri": "https://localhost:8080/",
          "height": 36
        },
        "id": "WZqkQyiANKAu",
        "outputId": "9b034927-3107-4e2d-8472-9139ab084bdf"
      },
      "execution_count": null,
      "outputs": [
        {
          "output_type": "execute_result",
          "data": {
            "text/plain": [
              "'kimHyosung'"
            ],
            "application/vnd.google.colaboratory.intrinsic+json": {
              "type": "string"
            }
          },
          "metadata": {},
          "execution_count": 28
        }
      ]
    },
    {
      "cell_type": "code",
      "source": [
        "a = \"hyosungkim\"\n",
        "a[:-3]+a[-3].upper()+a[-2:] \n",
        "  #a 변수중 뒤에서 3번째까지 보여줘 + a 변수에 뒤에서 3번째를 대문자로 변경후 출력해서 붙여줘 + 그리고 a 변수 뒤에서 2번째부터 출력해서 붙여줘  \n",
        "  # a[hyosung]+a[K]+im     ->   hyosungKim"
      ],
      "metadata": {
        "colab": {
          "base_uri": "https://localhost:8080/",
          "height": 36
        },
        "id": "XqLuUWDSqyQn",
        "outputId": "63b0855d-06cc-4dd7-d9b0-378b7fb18e75"
      },
      "execution_count": null,
      "outputs": [
        {
          "output_type": "execute_result",
          "data": {
            "text/plain": [
              "'hyosungKim'"
            ],
            "application/vnd.google.colaboratory.intrinsic+json": {
              "type": "string"
            }
          },
          "metadata": {},
          "execution_count": 37
        }
      ]
    },
    {
      "cell_type": "code",
      "source": [
        "a"
      ],
      "metadata": {
        "colab": {
          "base_uri": "https://localhost:8080/",
          "height": 36
        },
        "id": "0KiLfgkCnQes",
        "outputId": "d631cc46-b26d-4f26-dc7f-cae5d1261eb2"
      },
      "execution_count": null,
      "outputs": [
        {
          "output_type": "execute_result",
          "data": {
            "text/plain": [
              "'kimhyosung'"
            ],
            "application/vnd.google.colaboratory.intrinsic+json": {
              "type": "string"
            }
          },
          "metadata": {},
          "execution_count": 10
        }
      ]
    },
    {
      "cell_type": "code",
      "source": [
        "a = \"kimhyosung\"\n",
        "a.upper()+a[4:]"
      ],
      "metadata": {
        "colab": {
          "base_uri": "https://localhost:8080/",
          "height": 36
        },
        "id": "pV3UXzohn4NY",
        "outputId": "3d47377c-8c96-4ccb-875e-a7a2b8a2cef7"
      },
      "execution_count": null,
      "outputs": [
        {
          "output_type": "execute_result",
          "data": {
            "text/plain": [
              "'KIMHYOSUNGyosung'"
            ],
            "application/vnd.google.colaboratory.intrinsic+json": {
              "type": "string"
            }
          },
          "metadata": {},
          "execution_count": 17
        }
      ]
    },
    {
      "cell_type": "code",
      "source": [
        "a = \"python\""
      ],
      "metadata": {
        "id": "_EcCS-RKRTx7"
      },
      "execution_count": null,
      "outputs": []
    },
    {
      "cell_type": "code",
      "source": [
        "b = 123"
      ],
      "metadata": {
        "id": "Okgm-gBMTlwM"
      },
      "execution_count": null,
      "outputs": []
    },
    {
      "cell_type": "code",
      "source": [
        "c = len(a)"
      ],
      "metadata": {
        "id": "i7BdQA50TZlF"
      },
      "execution_count": null,
      "outputs": []
    },
    {
      "cell_type": "code",
      "source": [
        "c/b"
      ],
      "metadata": {
        "colab": {
          "base_uri": "https://localhost:8080/"
        },
        "id": "7miFkt0ZTcfz",
        "outputId": "436db604-c207-4ff2-9543-e1c76ceeaacf"
      },
      "execution_count": null,
      "outputs": [
        {
          "output_type": "execute_result",
          "data": {
            "text/plain": [
              "0.04878048780487805"
            ]
          },
          "metadata": {},
          "execution_count": 45
        }
      ]
    },
    {
      "cell_type": "code",
      "source": [
        "score = 55\n",
        "if  score  > 90:\n",
        "    print (\"a\")    # 스코어점수가  90보다 크면 a를 출력해줘  (else) 아니면 다음문장으로\n",
        "else :      #여기까지 한 묶음  if ~ else까지 \n",
        "    if score > 80 :     # 이전의 else에서 4칸 스페이스 눌러서 뛰우고 다시 if ~ else 작성\n",
        "        print(\"b\")   # 스코어점수가  80보다 크면 b를 출력해줘  (else) 아니면 다음문장으로\n",
        "    else :\n",
        "        if score > 70 :      # 이전의 else에서 4칸 스페이스 눌러서 뛰우고 다시 if ~ else 작성\n",
        "            print(\"c\")        # 스코어점수가  70보다 크면 c를 출력해줘  \n",
        "        else :\n",
        "            if score > 60 :        # 이전의 else에서 4칸 스페이스 눌러서 뛰우고 다시 if ~ else 작성\n",
        "                print(\"d\")       # 스코어점수가  60보다 크면 d를 출력해줘 \n",
        "            else :\n",
        "                 print(\"f\")"
      ],
      "metadata": {
        "colab": {
          "base_uri": "https://localhost:8080/"
        },
        "id": "A4dm0IxvmnN3",
        "outputId": "f0e611e8-5b78-4479-99d6-05e6be3ca8e2"
      },
      "execution_count": null,
      "outputs": [
        {
          "output_type": "stream",
          "name": "stdout",
          "text": [
            "f\n"
          ]
        }
      ]
    },
    {
      "cell_type": "code",
      "source": [
        "try : 1/2\n",
        "except : \n",
        "    print (\"분모가 0이 나왔음\")\n",
        "else : \n",
        "    print(\"분모가 이상없음\")"
      ],
      "metadata": {
        "colab": {
          "base_uri": "https://localhost:8080/"
        },
        "id": "AEvbmyoNoPB3",
        "outputId": "44e70f97-cbb1-427e-95c5-34e6e4b33832"
      },
      "execution_count": null,
      "outputs": [
        {
          "output_type": "stream",
          "name": "stdout",
          "text": [
            "분모가 이상없음\n"
          ]
        }
      ]
    },
    {
      "cell_type": "code",
      "source": [
        "날짜 = int(input(\"계산하고 싶은 날짜를 입력하세요(ex:10일 뒤 = 10): \"))\n",
        "print(날짜)\n",
        "\n",
        "import datetime\n",
        "start_date = datetime.datetime.today()\n",
        "d_day = 날짜\n",
        "target_date = start_date + datetime.timedelta(d_day)\n",
        "\n",
        "print(f\"start date: {start_date}\")\n",
        "print(f\"d-day: {d_day}\")\n",
        "print(f\"target date: {target_date}\")"
      ],
      "metadata": {
        "colab": {
          "base_uri": "https://localhost:8080/"
        },
        "id": "3BgUr6AW-O1d",
        "outputId": "b0601ba0-7cdb-420c-87c9-dae8bc5589a0"
      },
      "execution_count": null,
      "outputs": [
        {
          "output_type": "stream",
          "name": "stdout",
          "text": [
            "계산하고 싶은 날짜를 입력하세요(ex:10일 뒤 = 10): 12\n",
            "12\n",
            "start date: 2022-12-30 11:43:08.933105\n",
            "d-day: 12\n",
            "target date: 2023-01-11 11:43:08.933105\n"
          ]
        }
      ]
    },
    {
      "cell_type": "code",
      "source": [
        "날짜 = (input(\"계산하고 싶은 날짜를 입력하세요(ex:10일 뒤 = 10): \"))\n",
        "print(날짜)\n",
        "\n",
        "import datetime\n",
        "start_date = datetime.datetime.today()\n",
        "d_day = 날짜\n",
        "target_date = start_date + datetime.timedelta(d_day)\n",
        "\n",
        "print(f\"start date: {start_date}\")\n",
        "print(f\"d-day: {d_day}\")\n",
        "print(f\"target date: {target_date}\")"
      ],
      "metadata": {
        "colab": {
          "base_uri": "https://localhost:8080/",
          "height": 417
        },
        "id": "xYB7Afvs1-2D",
        "outputId": "b601a0fc-4d36-4631-d077-e87fa4cf1d0c"
      },
      "execution_count": null,
      "outputs": [
        {
          "output_type": "error",
          "ename": "KeyboardInterrupt",
          "evalue": "ignored",
          "traceback": [
            "\u001b[0;31m---------------------------------------------------------------------------\u001b[0m",
            "\u001b[0;31mKeyboardInterrupt\u001b[0m                         Traceback (most recent call last)",
            "\u001b[0;32m<ipython-input-62-c565826b7cca>\u001b[0m in \u001b[0;36m<module>\u001b[0;34m\u001b[0m\n\u001b[0;32m----> 1\u001b[0;31m \u001b[0m날짜\u001b[0m \u001b[0;34m=\u001b[0m \u001b[0;34m(\u001b[0m\u001b[0minput\u001b[0m\u001b[0;34m(\u001b[0m\u001b[0;34m\"계산하고 싶은 날짜를 입력하세요(ex:10일 뒤 = 10): \"\u001b[0m\u001b[0;34m)\u001b[0m\u001b[0;34m)\u001b[0m\u001b[0;34m\u001b[0m\u001b[0;34m\u001b[0m\u001b[0m\n\u001b[0m\u001b[1;32m      2\u001b[0m \u001b[0mprint\u001b[0m\u001b[0;34m(\u001b[0m\u001b[0m날짜\u001b[0m\u001b[0;34m)\u001b[0m\u001b[0;34m\u001b[0m\u001b[0;34m\u001b[0m\u001b[0m\n\u001b[1;32m      3\u001b[0m \u001b[0;34m\u001b[0m\u001b[0m\n\u001b[1;32m      4\u001b[0m \u001b[0;32mimport\u001b[0m \u001b[0mdatetime\u001b[0m\u001b[0;34m\u001b[0m\u001b[0;34m\u001b[0m\u001b[0m\n\u001b[1;32m      5\u001b[0m \u001b[0mstart_date\u001b[0m \u001b[0;34m=\u001b[0m \u001b[0mdatetime\u001b[0m\u001b[0;34m.\u001b[0m\u001b[0mdatetime\u001b[0m\u001b[0;34m.\u001b[0m\u001b[0mtoday\u001b[0m\u001b[0;34m(\u001b[0m\u001b[0;34m)\u001b[0m\u001b[0;34m\u001b[0m\u001b[0;34m\u001b[0m\u001b[0m\n",
            "\u001b[0;32m/usr/local/lib/python3.8/dist-packages/ipykernel/kernelbase.py\u001b[0m in \u001b[0;36mraw_input\u001b[0;34m(self, prompt)\u001b[0m\n\u001b[1;32m    858\u001b[0m                 \u001b[0;34m\"raw_input was called, but this frontend does not support input requests.\"\u001b[0m\u001b[0;34m\u001b[0m\u001b[0;34m\u001b[0m\u001b[0m\n\u001b[1;32m    859\u001b[0m             )\n\u001b[0;32m--> 860\u001b[0;31m         return self._input_request(str(prompt),\n\u001b[0m\u001b[1;32m    861\u001b[0m             \u001b[0mself\u001b[0m\u001b[0;34m.\u001b[0m\u001b[0m_parent_ident\u001b[0m\u001b[0;34m,\u001b[0m\u001b[0;34m\u001b[0m\u001b[0;34m\u001b[0m\u001b[0m\n\u001b[1;32m    862\u001b[0m             \u001b[0mself\u001b[0m\u001b[0;34m.\u001b[0m\u001b[0m_parent_header\u001b[0m\u001b[0;34m,\u001b[0m\u001b[0;34m\u001b[0m\u001b[0;34m\u001b[0m\u001b[0m\n",
            "\u001b[0;32m/usr/local/lib/python3.8/dist-packages/ipykernel/kernelbase.py\u001b[0m in \u001b[0;36m_input_request\u001b[0;34m(self, prompt, ident, parent, password)\u001b[0m\n\u001b[1;32m    902\u001b[0m             \u001b[0;32mexcept\u001b[0m \u001b[0mKeyboardInterrupt\u001b[0m\u001b[0;34m:\u001b[0m\u001b[0;34m\u001b[0m\u001b[0;34m\u001b[0m\u001b[0m\n\u001b[1;32m    903\u001b[0m                 \u001b[0;31m# re-raise KeyboardInterrupt, to truncate traceback\u001b[0m\u001b[0;34m\u001b[0m\u001b[0;34m\u001b[0m\u001b[0;34m\u001b[0m\u001b[0m\n\u001b[0;32m--> 904\u001b[0;31m                 \u001b[0;32mraise\u001b[0m \u001b[0mKeyboardInterrupt\u001b[0m\u001b[0;34m(\u001b[0m\u001b[0;34m\"Interrupted by user\"\u001b[0m\u001b[0;34m)\u001b[0m \u001b[0;32mfrom\u001b[0m \u001b[0;32mNone\u001b[0m\u001b[0;34m\u001b[0m\u001b[0;34m\u001b[0m\u001b[0m\n\u001b[0m\u001b[1;32m    905\u001b[0m             \u001b[0;32mexcept\u001b[0m \u001b[0mException\u001b[0m \u001b[0;32mas\u001b[0m \u001b[0me\u001b[0m\u001b[0;34m:\u001b[0m\u001b[0;34m\u001b[0m\u001b[0;34m\u001b[0m\u001b[0m\n\u001b[1;32m    906\u001b[0m                 \u001b[0mself\u001b[0m\u001b[0;34m.\u001b[0m\u001b[0mlog\u001b[0m\u001b[0;34m.\u001b[0m\u001b[0mwarning\u001b[0m\u001b[0;34m(\u001b[0m\u001b[0;34m\"Invalid Message:\"\u001b[0m\u001b[0;34m,\u001b[0m \u001b[0mexc_info\u001b[0m\u001b[0;34m=\u001b[0m\u001b[0;32mTrue\u001b[0m\u001b[0;34m)\u001b[0m\u001b[0;34m\u001b[0m\u001b[0;34m\u001b[0m\u001b[0m\n",
            "\u001b[0;31mKeyboardInterrupt\u001b[0m: Interrupted by user"
          ]
        }
      ]
    },
    {
      "cell_type": "code",
      "source": [
        "a = \"1,2,4,3,5,6,8,7,9,10\"\n",
        "b = a.ljust(23,\"@\") # b변수안에 a변수를 넣는데 오른쪽 끝부터 23번째까지 공백을 @로 채워줘\n",
        "b #b출력 출력값 : 1,2,4,3,5,6,8,7,9,10@@@"
      ],
      "metadata": {
        "colab": {
          "base_uri": "https://localhost:8080/",
          "height": 36
        },
        "id": "_-GqzncWwqI8",
        "outputId": "3165b465-95a4-40a4-90af-8f249f711cd0"
      },
      "execution_count": null,
      "outputs": [
        {
          "output_type": "execute_result",
          "data": {
            "text/plain": [
              "'1,2,4,3,5,6,8,7,9,10@@@'"
            ],
            "application/vnd.google.colaboratory.intrinsic+json": {
              "type": "string"
            }
          },
          "metadata": {},
          "execution_count": 119
        }
      ]
    },
    {
      "cell_type": "code",
      "source": [
        "a = \"1,2,4,3,5,6,8,7,9,10\"\n",
        "b = a.ljust(22,\"00\")\n",
        "b\n",
        "# 문자만 사용가능 숫자는 no"
      ],
      "metadata": {
        "colab": {
          "base_uri": "https://localhost:8080/",
          "height": 219
        },
        "id": "kq1bC47FL2-_",
        "outputId": "5fa36500-5aa4-4806-f924-e71990368829"
      },
      "execution_count": null,
      "outputs": [
        {
          "output_type": "error",
          "ename": "TypeError",
          "evalue": "ignored",
          "traceback": [
            "\u001b[0;31m---------------------------------------------------------------------------\u001b[0m",
            "\u001b[0;31mTypeError\u001b[0m                                 Traceback (most recent call last)",
            "\u001b[0;32m<ipython-input-114-98e1fcbfeb62>\u001b[0m in \u001b[0;36m<module>\u001b[0;34m\u001b[0m\n\u001b[1;32m      1\u001b[0m \u001b[0ma\u001b[0m \u001b[0;34m=\u001b[0m \u001b[0;34m\"1,2,4,3,5,6,8,7,9,10\"\u001b[0m\u001b[0;34m\u001b[0m\u001b[0;34m\u001b[0m\u001b[0m\n\u001b[0;32m----> 2\u001b[0;31m \u001b[0mb\u001b[0m \u001b[0;34m=\u001b[0m \u001b[0ma\u001b[0m\u001b[0;34m.\u001b[0m\u001b[0mljust\u001b[0m\u001b[0;34m(\u001b[0m\u001b[0;36m22\u001b[0m\u001b[0;34m,\u001b[0m\u001b[0;34m\"00\"\u001b[0m\u001b[0;34m)\u001b[0m\u001b[0;34m\u001b[0m\u001b[0;34m\u001b[0m\u001b[0m\n\u001b[0m\u001b[1;32m      3\u001b[0m \u001b[0mb\u001b[0m\u001b[0;34m\u001b[0m\u001b[0;34m\u001b[0m\u001b[0m\n",
            "\u001b[0;31mTypeError\u001b[0m: The fill character must be exactly one character long"
          ]
        }
      ]
    },
    {
      "cell_type": "code",
      "source": [
        "a = \"12435687910\"\n",
        "b = a.rjust(13,\"@\") # b변수안에 a변수를 넣는데 왼쪽 끝부터 13번째까지 공백을 @로 채워줘\n",
        "b #b출력 출력값 : @@12435687910"
      ],
      "metadata": {
        "colab": {
          "base_uri": "https://localhost:8080/",
          "height": 36
        },
        "id": "sNH_wD6iIGfp",
        "outputId": "dc1b63dc-0648-443b-e86c-f174260528ef"
      },
      "execution_count": null,
      "outputs": [
        {
          "output_type": "execute_result",
          "data": {
            "text/plain": [
              "'@@12435687910'"
            ],
            "application/vnd.google.colaboratory.intrinsic+json": {
              "type": "string"
            }
          },
          "metadata": {},
          "execution_count": 109
        }
      ]
    },
    {
      "cell_type": "code",
      "source": [
        "a = \"12435687910\"\n",
        "b = a.ljust(13,\"@\") # b변수안에 a변수를 넣는데 오른쪽 끝부터 13번째까지 공백을 @로 채워줘\n",
        "b"
      ],
      "metadata": {
        "colab": {
          "base_uri": "https://localhost:8080/",
          "height": 36
        },
        "id": "yrYNnvaRLYCg",
        "outputId": "014881a8-c4d3-4573-d7f7-a93b1bdafa5f"
      },
      "execution_count": null,
      "outputs": [
        {
          "output_type": "execute_result",
          "data": {
            "text/plain": [
              "'12435687910@@'"
            ],
            "application/vnd.google.colaboratory.intrinsic+json": {
              "type": "string"
            }
          },
          "metadata": {},
          "execution_count": 110
        }
      ]
    },
    {
      "cell_type": "code",
      "source": [
        "a = \"12435687910\"\n",
        "b = a.rjust(12,\"@\")\n",
        "print(\"a : {}\".format(b))"
      ],
      "metadata": {
        "colab": {
          "base_uri": "https://localhost:8080/"
        },
        "id": "40khNftAKivg",
        "outputId": "248843bf-d359-4280-8558-9fe431761fae"
      },
      "execution_count": null,
      "outputs": [
        {
          "output_type": "stream",
          "name": "stdout",
          "text": [
            "a : @12435687910\n"
          ]
        }
      ]
    },
    {
      "cell_type": "code",
      "source": [
        "a = \"12435687910\"\n",
        "print(\"a : {}\".format(@))"
      ],
      "metadata": {
        "colab": {
          "base_uri": "https://localhost:8080/",
          "height": 141
        },
        "id": "KPg8Mq0JPbNn",
        "outputId": "fccb5546-aefc-4a8d-f4fc-7fa702980afd"
      },
      "execution_count": null,
      "outputs": [
        {
          "output_type": "error",
          "ename": "SyntaxError",
          "evalue": "ignored",
          "traceback": [
            "\u001b[0;36m  File \u001b[0;32m\"<ipython-input-120-e9dbee12d94a>\"\u001b[0;36m, line \u001b[0;32m2\u001b[0m\n\u001b[0;31m    print(\"a : {}\".format(@))\u001b[0m\n\u001b[0m                          ^\u001b[0m\n\u001b[0;31mSyntaxError\u001b[0m\u001b[0;31m:\u001b[0m invalid syntax\n"
          ]
        }
      ]
    },
    {
      "cell_type": "code",
      "source": [
        "test1 = []\n",
        "d = input (\"숫자를 넣어주세요:\")\n",
        "test1.append(d)\n",
        "d\n",
        "# test1 빈 리스트를 생성\n",
        "# input코드로 숫자를 넣어주세요 를 d라는 변수로 저장\n",
        "# test1 리스트에 d에 저장된 변수를 넣는다\n",
        "# d를 출력"
      ],
      "metadata": {
        "colab": {
          "base_uri": "https://localhost:8080/",
          "height": 56
        },
        "id": "JoNbPRfn2SXA",
        "outputId": "f3e3ffb0-d478-4e5a-afd1-bed92b80ac04"
      },
      "execution_count": null,
      "outputs": [
        {
          "name": "stdout",
          "output_type": "stream",
          "text": [
            "숫자를 넣어주세요:1\n"
          ]
        },
        {
          "output_type": "execute_result",
          "data": {
            "text/plain": [
              "'1'"
            ],
            "application/vnd.google.colaboratory.intrinsic+json": {
              "type": "string"
            }
          },
          "metadata": {},
          "execution_count": 63
        }
      ]
    },
    {
      "cell_type": "code",
      "source": [
        "for i in range(5) :\n",
        "      print(\"hello\", i)\n",
        "      #for 반복 / 변수 i 에 (range횟수) 5번 반복해줘 \n",
        "      # hello를 출력해주고 i 인덱스를 표시해줘 (hello 0 ,hello 1.....으로 표시함 / (\"i,hello\")게 쓰면 숫자가 앞에서 부터 출력 )"
      ],
      "metadata": {
        "colab": {
          "base_uri": "https://localhost:8080/"
        },
        "id": "K6uk4iy_35cU",
        "outputId": "c0130d22-f7ff-4550-d547-7e9e7bf24719"
      },
      "execution_count": null,
      "outputs": [
        {
          "output_type": "stream",
          "name": "stdout",
          "text": [
            "hello 0\n",
            "hello 1\n",
            "hello 2\n",
            "hello 3\n",
            "hello 4\n"
          ]
        }
      ]
    },
    {
      "cell_type": "code",
      "source": [
        "for k in range(6) :\n",
        "      print(\"hello\", i)\n",
        "      #for함수로 인덱스를 출력할땐 변수이름도 i로 지정해줘야 0부터 알려준다. k를 넣었더니 에러는 발생하지 않지만 숫자4 출력"
      ],
      "metadata": {
        "colab": {
          "base_uri": "https://localhost:8080/"
        },
        "id": "zAQz9DrZ92gN",
        "outputId": "d5b396c3-2680-4035-c3bb-7aa3fb9451f9"
      },
      "execution_count": null,
      "outputs": [
        {
          "output_type": "stream",
          "name": "stdout",
          "text": [
            "hello 4\n",
            "hello 4\n",
            "hello 4\n",
            "hello 4\n",
            "hello 4\n",
            "hello 4\n"
          ]
        }
      ]
    },
    {
      "cell_type": "code",
      "source": [
        "g = 34\n",
        "for g in range(5) :\n",
        "      print(\"hello\")\n",
        "      #혹시나 변수이름을 for 코드위에 변수내용을 지정하고 for의 g 변수이름에 반복문을 실행하면 어떻게 될까?\n",
        "      # for 코드 g변수랑 for 코드 위 g = 34 변수는 별개인거 같다."
      ],
      "metadata": {
        "colab": {
          "base_uri": "https://localhost:8080/"
        },
        "id": "GW8zmLab9LVq",
        "outputId": "caf41b8c-4bbd-40a8-a851-846459869cea"
      },
      "execution_count": null,
      "outputs": [
        {
          "output_type": "stream",
          "name": "stdout",
          "text": [
            "hello\n",
            "hello\n",
            "hello\n",
            "hello\n",
            "hello\n"
          ]
        }
      ]
    },
    {
      "cell_type": "code",
      "source": [
        "print(__name__)"
      ],
      "metadata": {
        "colab": {
          "base_uri": "https://localhost:8080/"
        },
        "id": "MmsXlYBTWRxi",
        "outputId": "f904ce4d-15a4-46cc-d773-9b9421d976ab"
      },
      "execution_count": null,
      "outputs": [
        {
          "output_type": "stream",
          "name": "stdout",
          "text": [
            "__main__\n"
          ]
        }
      ]
    },
    {
      "cell_type": "code",
      "source": [
        "w = 1294\n",
        "print(w[0, 3])"
      ],
      "metadata": {
        "colab": {
          "base_uri": "https://localhost:8080/",
          "height": 200
        },
        "id": "bor5Q0GhXju5",
        "outputId": "ba66b431-ff2c-47f6-b31d-26c379af7f2f"
      },
      "execution_count": null,
      "outputs": [
        {
          "output_type": "error",
          "ename": "TypeError",
          "evalue": "ignored",
          "traceback": [
            "\u001b[0;31m---------------------------------------------------------------------------\u001b[0m",
            "\u001b[0;31mTypeError\u001b[0m                                 Traceback (most recent call last)",
            "\u001b[0;32m<ipython-input-123-e5adf1cc2c5a>\u001b[0m in \u001b[0;36m<module>\u001b[0;34m\u001b[0m\n\u001b[1;32m      1\u001b[0m \u001b[0mw\u001b[0m \u001b[0;34m=\u001b[0m \u001b[0;36m1294\u001b[0m\u001b[0;34m\u001b[0m\u001b[0;34m\u001b[0m\u001b[0m\n\u001b[0;32m----> 2\u001b[0;31m \u001b[0mprint\u001b[0m\u001b[0;34m(\u001b[0m\u001b[0mw\u001b[0m\u001b[0;34m[\u001b[0m\u001b[0;36m0\u001b[0m\u001b[0;34m,\u001b[0m \u001b[0;36m3\u001b[0m\u001b[0;34m]\u001b[0m\u001b[0;34m)\u001b[0m\u001b[0;34m\u001b[0m\u001b[0;34m\u001b[0m\u001b[0m\n\u001b[0m",
            "\u001b[0;31mTypeError\u001b[0m: 'int' object is not subscriptable"
          ]
        }
      ]
    },
    {
      "cell_type": "code",
      "source": [
        "w = 1294\n",
        "w[2]"
      ],
      "metadata": {
        "colab": {
          "base_uri": "https://localhost:8080/",
          "height": 200
        },
        "id": "9Ow4JI35X8Rs",
        "outputId": "61764cbf-2084-4e08-ce20-64e14cc9c7c3"
      },
      "execution_count": null,
      "outputs": [
        {
          "output_type": "error",
          "ename": "TypeError",
          "evalue": "ignored",
          "traceback": [
            "\u001b[0;31m---------------------------------------------------------------------------\u001b[0m",
            "\u001b[0;31mTypeError\u001b[0m                                 Traceback (most recent call last)",
            "\u001b[0;32m<ipython-input-127-53e53652eeb6>\u001b[0m in \u001b[0;36m<module>\u001b[0;34m\u001b[0m\n\u001b[1;32m      1\u001b[0m \u001b[0mw\u001b[0m \u001b[0;34m=\u001b[0m \u001b[0;36m1294\u001b[0m\u001b[0;34m\u001b[0m\u001b[0;34m\u001b[0m\u001b[0m\n\u001b[0;32m----> 2\u001b[0;31m \u001b[0mw\u001b[0m\u001b[0;34m[\u001b[0m\u001b[0;36m2\u001b[0m\u001b[0;34m]\u001b[0m\u001b[0;34m\u001b[0m\u001b[0;34m\u001b[0m\u001b[0m\n\u001b[0m",
            "\u001b[0;31mTypeError\u001b[0m: 'int' object is not subscriptable"
          ]
        }
      ]
    }
  ]
}