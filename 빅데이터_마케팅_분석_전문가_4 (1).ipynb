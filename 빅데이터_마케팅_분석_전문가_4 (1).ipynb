{
  "nbformat": 4,
  "nbformat_minor": 0,
  "metadata": {
    "colab": {
      "provenance": []
    },
    "kernelspec": {
      "name": "python3",
      "display_name": "Python 3"
    },
    "language_info": {
      "name": "python"
    }
  },
  "cells": [
    {
      "cell_type": "markdown",
      "source": [
        "#빅데이터 마케팅 분석 전문가 #4\n"
      ],
      "metadata": {
        "id": "ant7blT1XPcB"
      }
    },
    {
      "cell_type": "markdown",
      "source": [
        "##1.인공신경망"
      ],
      "metadata": {
        "id": "4IaK85s3bGRV"
      }
    },
    {
      "cell_type": "code",
      "source": [
        "from google.colab import drive\n",
        "drive.mount('/content/drive')"
      ],
      "metadata": {
        "colab": {
          "base_uri": "https://localhost:8080/"
        },
        "id": "Aypr1vqXbM9H",
        "outputId": "74b967ce-26ec-42e9-fb17-c771c93b48da"
      },
      "execution_count": 34,
      "outputs": [
        {
          "output_type": "stream",
          "name": "stdout",
          "text": [
            "Drive already mounted at /content/drive; to attempt to forcibly remount, call drive.mount(\"/content/drive\", force_remount=True).\n"
          ]
        }
      ]
    },
    {
      "cell_type": "code",
      "source": [
        "import pandas as pd\n",
        "df = pd.read_csv(\"/content/drive/MyDrive/Ubion/data/Ashopping.csv\", encoding = \"cp949\")"
      ],
      "metadata": {
        "id": "W5pLdeHqbRh_"
      },
      "execution_count": 35,
      "outputs": []
    },
    {
      "cell_type": "code",
      "source": [
        "df.info()"
      ],
      "metadata": {
        "colab": {
          "base_uri": "https://localhost:8080/"
        },
        "id": "r6dr7Cz6bm3T",
        "outputId": "5d9e954c-54cf-4b98-ae07-b0f49fb2ce64"
      },
      "execution_count": 36,
      "outputs": [
        {
          "output_type": "stream",
          "name": "stdout",
          "text": [
            "<class 'pandas.core.frame.DataFrame'>\n",
            "RangeIndex: 1000 entries, 0 to 999\n",
            "Data columns (total 21 columns):\n",
            " #   Column     Non-Null Count  Dtype  \n",
            "---  ------     --------------  -----  \n",
            " 0   고객ID       1000 non-null   int64  \n",
            " 1   이탈여부       1000 non-null   int64  \n",
            " 2   총매출액       1000 non-null   int64  \n",
            " 3   구매금액대      1000 non-null   int64  \n",
            " 4   방문빈도       1000 non-null   int64  \n",
            " 5   1회 평균매출액   1000 non-null   int64  \n",
            " 6   할인권 사용 횟수  1000 non-null   int64  \n",
            " 7   총 할인 금액    1000 non-null   int64  \n",
            " 8   고객등급       1000 non-null   int64  \n",
            " 9   구매유형       1000 non-null   int64  \n",
            " 10  클레임접수여부    1000 non-null   int64  \n",
            " 11  구매카테고리수    1000 non-null   int64  \n",
            " 12  거주지역       1000 non-null   int64  \n",
            " 13  성별         1000 non-null   int64  \n",
            " 14  고객 나이대     1000 non-null   int64  \n",
            " 15  거래기간       1000 non-null   int64  \n",
            " 16  할인민감여부     1000 non-null   int64  \n",
            " 17  Recency    1000 non-null   int64  \n",
            " 18  Frequency  1000 non-null   int64  \n",
            " 19  Monetary   1000 non-null   int64  \n",
            " 20  평균 구매주기    1000 non-null   float64\n",
            "dtypes: float64(1), int64(20)\n",
            "memory usage: 164.2 KB\n"
          ]
        }
      ]
    },
    {
      "cell_type": "code",
      "source": [
        "df.isnull().sum()"
      ],
      "metadata": {
        "colab": {
          "base_uri": "https://localhost:8080/"
        },
        "id": "NRKqt8usbpdh",
        "outputId": "65d5ff62-2a2d-4a65-a678-39b9d19105a3"
      },
      "execution_count": 37,
      "outputs": [
        {
          "output_type": "execute_result",
          "data": {
            "text/plain": [
              "고객ID         0\n",
              "이탈여부         0\n",
              "총매출액         0\n",
              "구매금액대        0\n",
              "방문빈도         0\n",
              "1회 평균매출액     0\n",
              "할인권 사용 횟수    0\n",
              "총 할인 금액      0\n",
              "고객등급         0\n",
              "구매유형         0\n",
              "클레임접수여부      0\n",
              "구매카테고리수      0\n",
              "거주지역         0\n",
              "성별           0\n",
              "고객 나이대       0\n",
              "거래기간         0\n",
              "할인민감여부       0\n",
              "Recency      0\n",
              "Frequency    0\n",
              "Monetary     0\n",
              "평균 구매주기      0\n",
              "dtype: int64"
            ]
          },
          "metadata": {},
          "execution_count": 37
        }
      ]
    },
    {
      "cell_type": "code",
      "source": [
        "df.describe()"
      ],
      "metadata": {
        "colab": {
          "base_uri": "https://localhost:8080/",
          "height": 411
        },
        "id": "h1uixQ5Ubtcj",
        "outputId": "9845e732-34e8-4d1c-cf3e-75a95c1c11e5"
      },
      "execution_count": 38,
      "outputs": [
        {
          "output_type": "execute_result",
          "data": {
            "text/plain": [
              "              고객ID         이탈여부          총매출액        구매금액대        방문빈도  \\\n",
              "count  1000.000000  1000.000000  1.000000e+03  1000.000000  1000.00000   \n",
              "mean    500.500000     0.300000  5.858013e+06     0.700000    22.91100   \n",
              "std     288.819436     0.458487  5.812815e+06     0.781416    19.08217   \n",
              "min       1.000000     0.000000  1.886100e+06     0.000000     1.00000   \n",
              "25%     250.750000     0.000000  2.815905e+06     0.000000    10.75000   \n",
              "50%     500.500000     0.000000  4.092145e+06     0.500000    18.00000   \n",
              "75%     750.250000     1.000000  6.545392e+06     1.000000    28.00000   \n",
              "max    1000.000000     1.000000  6.759576e+07     2.000000   155.00000   \n",
              "\n",
              "           1회 평균매출액    할인권 사용 횟수        총 할인 금액         고객등급         구매유형  \\\n",
              "count  1.000000e+03  1000.000000    1000.000000  1000.000000  1000.000000   \n",
              "mean   3.521024e+05    16.027000  292371.670000     1.546000     2.656000   \n",
              "std    3.124636e+05     8.341334  111937.501042     0.498129     1.046307   \n",
              "min    2.708200e+04     1.000000    3750.000000     1.000000     1.000000   \n",
              "25%    1.631242e+05     9.000000  261686.250000     1.000000     2.000000   \n",
              "50%    2.582080e+05    17.000000  347500.000000     2.000000     2.000000   \n",
              "75%    4.268310e+05    23.000000  365400.000000     2.000000     4.000000   \n",
              "max    2.798500e+06    30.000000  400600.000000     2.000000     4.000000   \n",
              "\n",
              "       ...      구매카테고리수         거주지역           성별       고객 나이대         거래기간  \\\n",
              "count  ...  1000.000000  1000.000000  1000.000000  1000.000000  1000.000000   \n",
              "mean   ...     5.217000     5.147000     0.189000     3.964000  3495.891000   \n",
              "std    ...     2.224153     1.169084     0.391705     1.078827   965.966194   \n",
              "min    ...     1.000000     1.000000     0.000000     2.000000   827.000000   \n",
              "25%    ...     3.000000     4.000000     0.000000     3.000000  2871.000000   \n",
              "50%    ...     5.000000     5.000000     0.000000     4.000000  3836.000000   \n",
              "75%    ...     7.000000     6.000000     0.000000     5.000000  4207.250000   \n",
              "max    ...     9.000000     7.000000     1.000000     7.000000  5334.000000   \n",
              "\n",
              "            할인민감여부      Recency    Frequency     Monetary      평균 구매주기  \n",
              "count  1000.000000  1000.000000  1000.000000  1000.000000  1000.000000  \n",
              "mean      0.400000     4.925000     2.289000     4.129000   266.880824  \n",
              "std       0.490143     1.744253     1.669811     1.560383   254.077398  \n",
              "min       0.000000     1.000000     1.000000     1.000000    13.980645  \n",
              "25%       0.000000     4.000000     1.000000     3.000000   111.957671  \n",
              "50%       0.000000     5.000000     2.000000     4.000000   191.469697  \n",
              "75%       1.000000     7.000000     3.000000     6.000000   324.386218  \n",
              "max       1.000000     7.000000     7.000000     7.000000  1956.000000  \n",
              "\n",
              "[8 rows x 21 columns]"
            ],
            "text/html": [
              "\n",
              "  <div id=\"df-a1c33470-0fe2-487f-aacc-7513918cb438\">\n",
              "    <div class=\"colab-df-container\">\n",
              "      <div>\n",
              "<style scoped>\n",
              "    .dataframe tbody tr th:only-of-type {\n",
              "        vertical-align: middle;\n",
              "    }\n",
              "\n",
              "    .dataframe tbody tr th {\n",
              "        vertical-align: top;\n",
              "    }\n",
              "\n",
              "    .dataframe thead th {\n",
              "        text-align: right;\n",
              "    }\n",
              "</style>\n",
              "<table border=\"1\" class=\"dataframe\">\n",
              "  <thead>\n",
              "    <tr style=\"text-align: right;\">\n",
              "      <th></th>\n",
              "      <th>고객ID</th>\n",
              "      <th>이탈여부</th>\n",
              "      <th>총매출액</th>\n",
              "      <th>구매금액대</th>\n",
              "      <th>방문빈도</th>\n",
              "      <th>1회 평균매출액</th>\n",
              "      <th>할인권 사용 횟수</th>\n",
              "      <th>총 할인 금액</th>\n",
              "      <th>고객등급</th>\n",
              "      <th>구매유형</th>\n",
              "      <th>...</th>\n",
              "      <th>구매카테고리수</th>\n",
              "      <th>거주지역</th>\n",
              "      <th>성별</th>\n",
              "      <th>고객 나이대</th>\n",
              "      <th>거래기간</th>\n",
              "      <th>할인민감여부</th>\n",
              "      <th>Recency</th>\n",
              "      <th>Frequency</th>\n",
              "      <th>Monetary</th>\n",
              "      <th>평균 구매주기</th>\n",
              "    </tr>\n",
              "  </thead>\n",
              "  <tbody>\n",
              "    <tr>\n",
              "      <th>count</th>\n",
              "      <td>1000.000000</td>\n",
              "      <td>1000.000000</td>\n",
              "      <td>1.000000e+03</td>\n",
              "      <td>1000.000000</td>\n",
              "      <td>1000.00000</td>\n",
              "      <td>1.000000e+03</td>\n",
              "      <td>1000.000000</td>\n",
              "      <td>1000.000000</td>\n",
              "      <td>1000.000000</td>\n",
              "      <td>1000.000000</td>\n",
              "      <td>...</td>\n",
              "      <td>1000.000000</td>\n",
              "      <td>1000.000000</td>\n",
              "      <td>1000.000000</td>\n",
              "      <td>1000.000000</td>\n",
              "      <td>1000.000000</td>\n",
              "      <td>1000.000000</td>\n",
              "      <td>1000.000000</td>\n",
              "      <td>1000.000000</td>\n",
              "      <td>1000.000000</td>\n",
              "      <td>1000.000000</td>\n",
              "    </tr>\n",
              "    <tr>\n",
              "      <th>mean</th>\n",
              "      <td>500.500000</td>\n",
              "      <td>0.300000</td>\n",
              "      <td>5.858013e+06</td>\n",
              "      <td>0.700000</td>\n",
              "      <td>22.91100</td>\n",
              "      <td>3.521024e+05</td>\n",
              "      <td>16.027000</td>\n",
              "      <td>292371.670000</td>\n",
              "      <td>1.546000</td>\n",
              "      <td>2.656000</td>\n",
              "      <td>...</td>\n",
              "      <td>5.217000</td>\n",
              "      <td>5.147000</td>\n",
              "      <td>0.189000</td>\n",
              "      <td>3.964000</td>\n",
              "      <td>3495.891000</td>\n",
              "      <td>0.400000</td>\n",
              "      <td>4.925000</td>\n",
              "      <td>2.289000</td>\n",
              "      <td>4.129000</td>\n",
              "      <td>266.880824</td>\n",
              "    </tr>\n",
              "    <tr>\n",
              "      <th>std</th>\n",
              "      <td>288.819436</td>\n",
              "      <td>0.458487</td>\n",
              "      <td>5.812815e+06</td>\n",
              "      <td>0.781416</td>\n",
              "      <td>19.08217</td>\n",
              "      <td>3.124636e+05</td>\n",
              "      <td>8.341334</td>\n",
              "      <td>111937.501042</td>\n",
              "      <td>0.498129</td>\n",
              "      <td>1.046307</td>\n",
              "      <td>...</td>\n",
              "      <td>2.224153</td>\n",
              "      <td>1.169084</td>\n",
              "      <td>0.391705</td>\n",
              "      <td>1.078827</td>\n",
              "      <td>965.966194</td>\n",
              "      <td>0.490143</td>\n",
              "      <td>1.744253</td>\n",
              "      <td>1.669811</td>\n",
              "      <td>1.560383</td>\n",
              "      <td>254.077398</td>\n",
              "    </tr>\n",
              "    <tr>\n",
              "      <th>min</th>\n",
              "      <td>1.000000</td>\n",
              "      <td>0.000000</td>\n",
              "      <td>1.886100e+06</td>\n",
              "      <td>0.000000</td>\n",
              "      <td>1.00000</td>\n",
              "      <td>2.708200e+04</td>\n",
              "      <td>1.000000</td>\n",
              "      <td>3750.000000</td>\n",
              "      <td>1.000000</td>\n",
              "      <td>1.000000</td>\n",
              "      <td>...</td>\n",
              "      <td>1.000000</td>\n",
              "      <td>1.000000</td>\n",
              "      <td>0.000000</td>\n",
              "      <td>2.000000</td>\n",
              "      <td>827.000000</td>\n",
              "      <td>0.000000</td>\n",
              "      <td>1.000000</td>\n",
              "      <td>1.000000</td>\n",
              "      <td>1.000000</td>\n",
              "      <td>13.980645</td>\n",
              "    </tr>\n",
              "    <tr>\n",
              "      <th>25%</th>\n",
              "      <td>250.750000</td>\n",
              "      <td>0.000000</td>\n",
              "      <td>2.815905e+06</td>\n",
              "      <td>0.000000</td>\n",
              "      <td>10.75000</td>\n",
              "      <td>1.631242e+05</td>\n",
              "      <td>9.000000</td>\n",
              "      <td>261686.250000</td>\n",
              "      <td>1.000000</td>\n",
              "      <td>2.000000</td>\n",
              "      <td>...</td>\n",
              "      <td>3.000000</td>\n",
              "      <td>4.000000</td>\n",
              "      <td>0.000000</td>\n",
              "      <td>3.000000</td>\n",
              "      <td>2871.000000</td>\n",
              "      <td>0.000000</td>\n",
              "      <td>4.000000</td>\n",
              "      <td>1.000000</td>\n",
              "      <td>3.000000</td>\n",
              "      <td>111.957671</td>\n",
              "    </tr>\n",
              "    <tr>\n",
              "      <th>50%</th>\n",
              "      <td>500.500000</td>\n",
              "      <td>0.000000</td>\n",
              "      <td>4.092145e+06</td>\n",
              "      <td>0.500000</td>\n",
              "      <td>18.00000</td>\n",
              "      <td>2.582080e+05</td>\n",
              "      <td>17.000000</td>\n",
              "      <td>347500.000000</td>\n",
              "      <td>2.000000</td>\n",
              "      <td>2.000000</td>\n",
              "      <td>...</td>\n",
              "      <td>5.000000</td>\n",
              "      <td>5.000000</td>\n",
              "      <td>0.000000</td>\n",
              "      <td>4.000000</td>\n",
              "      <td>3836.000000</td>\n",
              "      <td>0.000000</td>\n",
              "      <td>5.000000</td>\n",
              "      <td>2.000000</td>\n",
              "      <td>4.000000</td>\n",
              "      <td>191.469697</td>\n",
              "    </tr>\n",
              "    <tr>\n",
              "      <th>75%</th>\n",
              "      <td>750.250000</td>\n",
              "      <td>1.000000</td>\n",
              "      <td>6.545392e+06</td>\n",
              "      <td>1.000000</td>\n",
              "      <td>28.00000</td>\n",
              "      <td>4.268310e+05</td>\n",
              "      <td>23.000000</td>\n",
              "      <td>365400.000000</td>\n",
              "      <td>2.000000</td>\n",
              "      <td>4.000000</td>\n",
              "      <td>...</td>\n",
              "      <td>7.000000</td>\n",
              "      <td>6.000000</td>\n",
              "      <td>0.000000</td>\n",
              "      <td>5.000000</td>\n",
              "      <td>4207.250000</td>\n",
              "      <td>1.000000</td>\n",
              "      <td>7.000000</td>\n",
              "      <td>3.000000</td>\n",
              "      <td>6.000000</td>\n",
              "      <td>324.386218</td>\n",
              "    </tr>\n",
              "    <tr>\n",
              "      <th>max</th>\n",
              "      <td>1000.000000</td>\n",
              "      <td>1.000000</td>\n",
              "      <td>6.759576e+07</td>\n",
              "      <td>2.000000</td>\n",
              "      <td>155.00000</td>\n",
              "      <td>2.798500e+06</td>\n",
              "      <td>30.000000</td>\n",
              "      <td>400600.000000</td>\n",
              "      <td>2.000000</td>\n",
              "      <td>4.000000</td>\n",
              "      <td>...</td>\n",
              "      <td>9.000000</td>\n",
              "      <td>7.000000</td>\n",
              "      <td>1.000000</td>\n",
              "      <td>7.000000</td>\n",
              "      <td>5334.000000</td>\n",
              "      <td>1.000000</td>\n",
              "      <td>7.000000</td>\n",
              "      <td>7.000000</td>\n",
              "      <td>7.000000</td>\n",
              "      <td>1956.000000</td>\n",
              "    </tr>\n",
              "  </tbody>\n",
              "</table>\n",
              "<p>8 rows × 21 columns</p>\n",
              "</div>\n",
              "      <button class=\"colab-df-convert\" onclick=\"convertToInteractive('df-a1c33470-0fe2-487f-aacc-7513918cb438')\"\n",
              "              title=\"Convert this dataframe to an interactive table.\"\n",
              "              style=\"display:none;\">\n",
              "        \n",
              "  <svg xmlns=\"http://www.w3.org/2000/svg\" height=\"24px\"viewBox=\"0 0 24 24\"\n",
              "       width=\"24px\">\n",
              "    <path d=\"M0 0h24v24H0V0z\" fill=\"none\"/>\n",
              "    <path d=\"M18.56 5.44l.94 2.06.94-2.06 2.06-.94-2.06-.94-.94-2.06-.94 2.06-2.06.94zm-11 1L8.5 8.5l.94-2.06 2.06-.94-2.06-.94L8.5 2.5l-.94 2.06-2.06.94zm10 10l.94 2.06.94-2.06 2.06-.94-2.06-.94-.94-2.06-.94 2.06-2.06.94z\"/><path d=\"M17.41 7.96l-1.37-1.37c-.4-.4-.92-.59-1.43-.59-.52 0-1.04.2-1.43.59L10.3 9.45l-7.72 7.72c-.78.78-.78 2.05 0 2.83L4 21.41c.39.39.9.59 1.41.59.51 0 1.02-.2 1.41-.59l7.78-7.78 2.81-2.81c.8-.78.8-2.07 0-2.86zM5.41 20L4 18.59l7.72-7.72 1.47 1.35L5.41 20z\"/>\n",
              "  </svg>\n",
              "      </button>\n",
              "      \n",
              "  <style>\n",
              "    .colab-df-container {\n",
              "      display:flex;\n",
              "      flex-wrap:wrap;\n",
              "      gap: 12px;\n",
              "    }\n",
              "\n",
              "    .colab-df-convert {\n",
              "      background-color: #E8F0FE;\n",
              "      border: none;\n",
              "      border-radius: 50%;\n",
              "      cursor: pointer;\n",
              "      display: none;\n",
              "      fill: #1967D2;\n",
              "      height: 32px;\n",
              "      padding: 0 0 0 0;\n",
              "      width: 32px;\n",
              "    }\n",
              "\n",
              "    .colab-df-convert:hover {\n",
              "      background-color: #E2EBFA;\n",
              "      box-shadow: 0px 1px 2px rgba(60, 64, 67, 0.3), 0px 1px 3px 1px rgba(60, 64, 67, 0.15);\n",
              "      fill: #174EA6;\n",
              "    }\n",
              "\n",
              "    [theme=dark] .colab-df-convert {\n",
              "      background-color: #3B4455;\n",
              "      fill: #D2E3FC;\n",
              "    }\n",
              "\n",
              "    [theme=dark] .colab-df-convert:hover {\n",
              "      background-color: #434B5C;\n",
              "      box-shadow: 0px 1px 3px 1px rgba(0, 0, 0, 0.15);\n",
              "      filter: drop-shadow(0px 1px 2px rgba(0, 0, 0, 0.3));\n",
              "      fill: #FFFFFF;\n",
              "    }\n",
              "  </style>\n",
              "\n",
              "      <script>\n",
              "        const buttonEl =\n",
              "          document.querySelector('#df-a1c33470-0fe2-487f-aacc-7513918cb438 button.colab-df-convert');\n",
              "        buttonEl.style.display =\n",
              "          google.colab.kernel.accessAllowed ? 'block' : 'none';\n",
              "\n",
              "        async function convertToInteractive(key) {\n",
              "          const element = document.querySelector('#df-a1c33470-0fe2-487f-aacc-7513918cb438');\n",
              "          const dataTable =\n",
              "            await google.colab.kernel.invokeFunction('convertToInteractive',\n",
              "                                                     [key], {});\n",
              "          if (!dataTable) return;\n",
              "\n",
              "          const docLinkHtml = 'Like what you see? Visit the ' +\n",
              "            '<a target=\"_blank\" href=https://colab.research.google.com/notebooks/data_table.ipynb>data table notebook</a>'\n",
              "            + ' to learn more about interactive tables.';\n",
              "          element.innerHTML = '';\n",
              "          dataTable['output_type'] = 'display_data';\n",
              "          await google.colab.output.renderOutput(dataTable, element);\n",
              "          const docLink = document.createElement('div');\n",
              "          docLink.innerHTML = docLinkHtml;\n",
              "          element.appendChild(docLink);\n",
              "        }\n",
              "      </script>\n",
              "    </div>\n",
              "  </div>\n",
              "  "
            ]
          },
          "metadata": {},
          "execution_count": 38
        }
      ]
    },
    {
      "cell_type": "code",
      "source": [
        "from sklearn.model_selection import train_test_split\n",
        "from sklearn.compose import ColumnTransformer\n",
        "from sklearn.preprocessing import StandardScaler\n",
        "from sklearn.preprocessing import OneHotEncoder\n",
        "from imblearn.over_sampling import SMOTE"
      ],
      "metadata": {
        "id": "ho8jRuz0bxqQ"
      },
      "execution_count": 39,
      "outputs": []
    },
    {
      "cell_type": "code",
      "source": [
        "df.columns"
      ],
      "metadata": {
        "colab": {
          "base_uri": "https://localhost:8080/"
        },
        "id": "Hua_qmVkcs-o",
        "outputId": "4c1673cf-df3a-49ea-cf53-137d24d34301"
      },
      "execution_count": 40,
      "outputs": [
        {
          "output_type": "execute_result",
          "data": {
            "text/plain": [
              "Index(['고객ID', '이탈여부', '총매출액', '구매금액대', '방문빈도', '1회 평균매출액', '할인권 사용 횟수',\n",
              "       '총 할인 금액', '고객등급', '구매유형', '클레임접수여부', '구매카테고리수', '거주지역', '성별', '고객 나이대',\n",
              "       '거래기간', '할인민감여부', 'Recency', 'Frequency', 'Monetary', '평균 구매주기'],\n",
              "      dtype='object')"
            ]
          },
          "metadata": {},
          "execution_count": 40
        }
      ]
    },
    {
      "cell_type": "markdown",
      "source": [
        "###분류예측"
      ],
      "metadata": {
        "id": "r3eKi1xWoYU8"
      }
    },
    {
      "cell_type": "code",
      "source": [
        "#1.변수선택\n",
        "X = df[['총매출액', '구매금액대', '1회 평균매출액', '평균 구매주기', '거래기간']]\n",
        "Y = df[\"할인민감여부\"]\n",
        "\n",
        "#2.train - test split\n",
        "X_train, X_test, Y_train, Y_test = train_test_split(X, Y, test_size=0.3, random_state=0)\n",
        "\n",
        "#3. 데이터 전처리(preprocessing)\n",
        "ct = ColumnTransformer([(\"scaling\", StandardScaler(), ['총매출액', '1회 평균매출액', '평균 구매주기', '거래기간']), \n",
        "                        (\"onehot\", OneHotEncoder(sparse = False), ['구매금액대'])])\n",
        "ct.fit(X_train)\n",
        "X_train = ct.transform(X_train)\n",
        "X_test = ct.transform(X_test)\n",
        "\n",
        "#4. 오버샘플링\n",
        "smote = SMOTE(random_state=0)\n",
        "X_train, Y_train = smote.fit_resample(X_train, Y_train)"
      ],
      "metadata": {
        "id": "Me5UmTvZcHx1"
      },
      "execution_count": 41,
      "outputs": []
    },
    {
      "cell_type": "code",
      "source": [
        "#5. 모델링\n",
        "from sklearn.neural_network import MLPClassifier\n",
        "nn_model = MLPClassifier(random_state=0, alpha = 0.001, hidden_layer_sizes = [50])\n",
        "## 5-1. 모형학습\n",
        "nn_model.fit(X_train, Y_train)\n",
        "\n",
        "#6. 예측\n",
        "Y_pred = nn_model.predict(X_test)"
      ],
      "metadata": {
        "colab": {
          "base_uri": "https://localhost:8080/"
        },
        "id": "Iz9RTkP1gWYp",
        "outputId": "7629f270-f169-4178-cd07-dd322587c6de"
      },
      "execution_count": 42,
      "outputs": [
        {
          "output_type": "stream",
          "name": "stderr",
          "text": [
            "/usr/local/lib/python3.8/dist-packages/sklearn/neural_network/_multilayer_perceptron.py:692: ConvergenceWarning: Stochastic Optimizer: Maximum iterations (200) reached and the optimization hasn't converged yet.\n",
            "  warnings.warn(\n"
          ]
        }
      ]
    },
    {
      "cell_type": "code",
      "source": [
        "#7. 결과값 보고\n",
        "print(\"Y 예측값 \\n\", Y_pred)\n",
        "print(\"accuracy(train) : {:.3f}\".format(nn_model.score(X_train, Y_train)))\n",
        "from sklearn.metrics import classification_report\n",
        "print(classification_report(Y_test, Y_pred))"
      ],
      "metadata": {
        "colab": {
          "base_uri": "https://localhost:8080/"
        },
        "id": "d9cX_KrPhAqq",
        "outputId": "4e33055d-cc67-4d72-9e53-2b6a40334230"
      },
      "execution_count": 43,
      "outputs": [
        {
          "output_type": "stream",
          "name": "stdout",
          "text": [
            "Y 예측값 \n",
            " [1 1 0 0 1 1 0 0 0 1 0 1 1 0 1 0 1 0 0 0 0 1 0 0 1 1 0 0 0 0 1 1 1 1 1 1 1\n",
            " 0 1 0 0 1 1 1 0 0 1 0 0 0 1 0 0 0 1 1 0 1 1 1 0 1 1 0 0 0 1 1 0 0 1 0 0 0\n",
            " 1 0 0 0 0 1 0 0 0 1 1 1 0 0 1 0 1 0 0 0 0 1 1 0 0 0 1 1 0 1 0 1 1 0 1 1 0\n",
            " 1 1 0 0 0 0 0 0 0 1 0 0 1 0 1 0 0 1 1 0 0 1 1 1 1 0 1 0 1 0 0 0 0 0 1 0 0\n",
            " 1 1 0 0 0 0 0 1 0 0 0 0 1 1 0 0 1 0 0 1 0 0 1 1 0 1 0 1 0 0 1 0 0 0 1 0 1\n",
            " 0 0 1 1 1 0 1 0 1 1 1 1 0 1 0 0 1 0 1 1 0 1 1 1 1 0 0 0 1 0 1 0 0 0 1 1 1\n",
            " 1 0 0 1 1 0 0 1 1 0 0 0 0 0 0 0 0 0 1 0 0 0 1 0 1 0 1 1 0 1 0 0 0 1 1 0 0\n",
            " 0 1 1 1 0 0 0 0 0 1 0 1 1 0 0 1 1 0 0 0 0 1 1 0 1 0 0 1 0 0 0 1 0 1 1 0 0\n",
            " 0 0 0 0]\n",
            "accuracy(train) : 0.889\n",
            "              precision    recall  f1-score   support\n",
            "\n",
            "           0       0.92      0.89      0.91       177\n",
            "           1       0.85      0.89      0.87       123\n",
            "\n",
            "    accuracy                           0.89       300\n",
            "   macro avg       0.89      0.89      0.89       300\n",
            "weighted avg       0.89      0.89      0.89       300\n",
            "\n"
          ]
        }
      ]
    },
    {
      "cell_type": "markdown",
      "source": [
        "###회귀예측"
      ],
      "metadata": {
        "id": "2r4efbbfoacj"
      }
    },
    {
      "cell_type": "code",
      "source": [
        "df.columns"
      ],
      "metadata": {
        "colab": {
          "base_uri": "https://localhost:8080/"
        },
        "id": "uuvzzMSJolHd",
        "outputId": "e0f61f9d-183d-4886-cf35-0bee7fa55baf"
      },
      "execution_count": 44,
      "outputs": [
        {
          "output_type": "execute_result",
          "data": {
            "text/plain": [
              "Index(['고객ID', '이탈여부', '총매출액', '구매금액대', '방문빈도', '1회 평균매출액', '할인권 사용 횟수',\n",
              "       '총 할인 금액', '고객등급', '구매유형', '클레임접수여부', '구매카테고리수', '거주지역', '성별', '고객 나이대',\n",
              "       '거래기간', '할인민감여부', 'Recency', 'Frequency', 'Monetary', '평균 구매주기'],\n",
              "      dtype='object')"
            ]
          },
          "metadata": {},
          "execution_count": 44
        }
      ]
    },
    {
      "cell_type": "code",
      "source": [
        "import numpy as np\n",
        "\n",
        "#1.변수선택\n",
        "X = df[df.이탈여부 == 0][['방문빈도', '총 할인 금액', '고객등급', '구매유형', '거래기간', \n",
        "                   '할인민감여부', '평균 구매주기']]\n",
        "Y = df[df.이탈여부 == 0][\"1회 평균매출액\"]\n",
        "\n",
        "#2.train - test split\n",
        "X_train, X_test, Y_train, Y_test = train_test_split(X, Y, test_size=0.3, random_state=0)\n",
        "\n",
        "#3. 데이터 전처리(preprocessing)\n",
        "ct = ColumnTransformer([(\"scaling\", StandardScaler(), ['방문빈도', '총 할인 금액', '거래기간', '평균 구매주기']), \n",
        "                        (\"onehot\", OneHotEncoder(sparse = False), ['고객등급', '구매유형', '할인민감여부'])])\n",
        "ct.fit(X_train)\n",
        "X_train = ct.transform(X_train)\n",
        "X_test = ct.transform(X_test)"
      ],
      "metadata": {
        "id": "g9dizJvyoVDr"
      },
      "execution_count": 45,
      "outputs": []
    },
    {
      "cell_type": "code",
      "source": [
        "#4. 모델링 \n",
        "from sklearn.neural_network import MLPRegressor\n",
        "\n",
        "#4-1.모델 생성\n",
        "nn_reg_model = MLPRegressor(random_state = 0, alpha = 0.001, max_iter = 2000, \n",
        "                            hidden_layer_sizes = [50, 50])\n",
        "\n",
        "#5. 모형학습 및 예측\n",
        "nn_reg_model.fit(X_train, Y_train)\n",
        "Y_pred = nn_reg_model.predict(X_test)\n",
        "\n",
        "#6. 결과값 보고\n",
        "print(\"Y predict value : \\n\", Y_pred)\n",
        "print(\"train accuracy : {:.3f}\".format(nn_reg_model.score(X_train, Y_train)))\n",
        "from sklearn.metrics import mean_squared_error\n",
        "from math import sqrt \n",
        "rmse = sqrt(mean_squared_error(Y_test, Y_pred))\n",
        "print(\"RMSE : {:.3f}\".format(rmse))"
      ],
      "metadata": {
        "colab": {
          "base_uri": "https://localhost:8080/"
        },
        "id": "4pHJ5CW4p4YB",
        "outputId": "1f12c8a2-596b-483b-9c8b-690c65a406d3"
      },
      "execution_count": 46,
      "outputs": [
        {
          "output_type": "stream",
          "name": "stdout",
          "text": [
            "Y predict value : \n",
            " [381377.38391094 197277.89370898 203213.87761097 631170.02163835\n",
            " 110525.81302818 288979.8779508    8432.01401265 152701.13753611\n",
            " 135152.64742379 303497.51148875 235874.37650518 253282.11494387\n",
            " 218424.92017181 237646.71277002 348328.71595336 300809.29318035\n",
            " 404063.12882681 444807.97693359 212515.65375684 299135.24418369\n",
            " 465597.92848873 107904.29533918 258233.25707635 358787.3296507\n",
            "   4064.29779297 462633.49534593 399309.18132288 179807.11682315\n",
            " 186944.84056465 209234.28213068 401090.84594678 465774.60283966\n",
            " 222188.40958675 459137.75135073 223432.75656504 113524.58286733\n",
            " 187268.26945841 458567.9117471  132849.46599019 712421.35577061\n",
            " 348012.0394223  178505.74882617 295628.43645386 312832.53698025\n",
            " 283171.02289656 375445.31719462  10024.59601894 229114.84066501\n",
            " 360274.70508555 364010.30810207 219457.45169494 640729.62755891\n",
            "  35512.98386133 431185.9222528  369166.6243725  231020.78298484\n",
            " 350897.58983935 266919.87817753 325820.43374977 289584.98907451\n",
            " 388238.40752148 465791.20405734 249765.11932014 327293.07646578\n",
            " 229427.80818347 163673.45669197 250651.2731684  107681.4726743\n",
            " 428020.65276293 275790.44908877 252769.66627991 170721.38147832\n",
            " 138770.43776446 275519.49999503 208834.99756924 463975.72150237\n",
            " 403257.28656712 507203.33053574 129384.54008194 279614.57415964\n",
            " 235905.29486321 204090.75363964 157223.23666826 231057.60170771\n",
            " 310454.49770763 381818.86655091 325598.1831854  312825.35463347\n",
            " 305557.09549858 426843.02455086 230996.59607929 443750.96345457\n",
            " 298117.33133443 471556.1934335  153296.29502371 548628.81475927\n",
            " 373563.54996997 276387.39582669 460093.73837632 152833.44273678\n",
            " 215444.59556112 298589.15411032 366146.4224336  208641.93896185\n",
            " 298974.20815205 415666.26269294 424986.55932032  66542.79946624\n",
            " 265315.84916894 402887.11800865 210487.42252392 128858.51061178\n",
            " 386105.92140084 508978.35947662 220535.2254386  258791.08463272\n",
            " 274775.37861187 377053.27778816 274289.24119392 353321.30010663\n",
            " 370199.49219335 454673.45539934 213975.07028875 391519.95809955\n",
            " 431852.83218495 207783.15974334 170395.77412588 290902.63774148\n",
            " 419831.17222799 200004.80709944 147294.98344321 130587.19066613\n",
            " 570239.8801304  254484.98812569 135480.43150666 296300.27644263\n",
            " 161832.08063985 152738.43860246 317473.97472983 185837.20900556\n",
            " 235423.74797162 249355.4342034  321402.95455087 179087.39079947\n",
            " 238812.15746152 356457.4206586  351191.50838601 445385.29746035\n",
            " 250558.35331454 280257.3894768  235156.96321893 363079.63545028\n",
            " 271968.56949527 430371.55785397 873212.78858012  86719.38873147\n",
            "  45904.4039717  442024.23439026 242949.42690875 344849.44985543\n",
            " 462120.66702682 432291.95492873 354869.11291367 158236.42650448\n",
            " 281575.40883224 303382.57710242 404020.80919464 141623.49171159\n",
            " 391535.17242657 291951.44740334   7668.96292365 242409.50088891\n",
            " 123574.58588848 595971.11876156 204119.04805828 345050.12359632\n",
            " 863122.93642353 235635.1850212  307381.96577243 131687.21907256\n",
            " 755377.38861003 960251.90302349 398683.3617919  405604.66681625\n",
            " 190743.89319949 116195.91623444 271079.85157813 216789.82127773\n",
            "  13911.71179357 439247.43599133 286245.75113446 383752.45743657\n",
            " 711474.9375761  149377.1049054  257957.86619999 218645.50032344\n",
            " 231130.33408243 150813.78276577 413610.07400703 107494.34797472\n",
            " 604133.60151603 168611.76105573 261113.73453094 201109.51633877\n",
            " 347050.16628421 254381.95218243 270351.23318902 247431.34050752\n",
            " 415590.23684581 284492.67910674]\n",
            "train accuracy : 0.434\n",
            "RMSE : 201218.588\n"
          ]
        },
        {
          "output_type": "stream",
          "name": "stderr",
          "text": [
            "/usr/local/lib/python3.8/dist-packages/sklearn/neural_network/_multilayer_perceptron.py:692: ConvergenceWarning: Stochastic Optimizer: Maximum iterations (2000) reached and the optimization hasn't converged yet.\n",
            "  warnings.warn(\n"
          ]
        }
      ]
    },
    {
      "cell_type": "markdown",
      "source": [
        "#딥러닝"
      ],
      "metadata": {
        "id": "kL_TgRfSuBnN"
      }
    },
    {
      "cell_type": "markdown",
      "source": [
        "\n",
        "###경고문 제거"
      ],
      "metadata": {
        "id": "qPUjzBMiuEnE"
      }
    },
    {
      "cell_type": "code",
      "source": [
        "import warnings\n",
        "warnings.filterwarnings(\"ignore\")"
      ],
      "metadata": {
        "id": "XGwgu5FIuAU0"
      },
      "execution_count": 47,
      "outputs": []
    },
    {
      "cell_type": "markdown",
      "source": [
        "##DNN(Deep learning : Deep Neural Network)"
      ],
      "metadata": {
        "id": "mLMIESotuQT8"
      }
    },
    {
      "cell_type": "markdown",
      "source": [
        "###분류예측"
      ],
      "metadata": {
        "id": "FYwBNR6aud-K"
      }
    },
    {
      "cell_type": "code",
      "source": [
        "#1.변수선택\n",
        "X = df[['총매출액', '구매금액대', '1회 평균매출액', '평균 구매주기', '거래기간']]\n",
        "Y = df[\"할인민감여부\"]\n",
        "\n",
        "#2.train - test split\n",
        "X_train, X_test, Y_train, Y_test = train_test_split(X, Y, test_size=0.3, random_state=0)\n",
        "\n",
        "#3. 데이터 전처리(preprocessing)\n",
        "ct = ColumnTransformer([(\"scaling\", StandardScaler(), ['총매출액', '1회 평균매출액', '평균 구매주기', '거래기간']), \n",
        "                        (\"onehot\", OneHotEncoder(sparse = False), ['구매금액대'])])\n",
        "ct.fit(X_train)\n",
        "X_train = ct.transform(X_train)\n",
        "X_test = ct.transform(X_test)\n",
        "\n",
        "#4. 오버샘플링\n",
        "smote = SMOTE(random_state=0)\n",
        "X_train, Y_train = smote.fit_resample(X_train, Y_train)"
      ],
      "metadata": {
        "id": "LxgTp5icuOYg"
      },
      "execution_count": 48,
      "outputs": []
    },
    {
      "cell_type": "code",
      "source": [
        "import keras\n",
        "import tensorflow as tf\n",
        "\n",
        "from keras.models import Sequential\n",
        "from keras.layers import Dense, Activation\n",
        "from keras.metrics import Accuracy\n",
        "\n",
        "#5.시드값 설정 : 시작점\n",
        "np.random.seed(0)\n",
        "tf.random.set_seed(0)\n",
        "\n",
        "#6. 모형생성\n",
        "model = keras.models.Sequential()\n",
        "model.add(keras.layers.Dense(64, input_dim=7, activation = \"relu\"))\n",
        "model.add(keras.layers.Dense(64, activation = \"relu\"))\n",
        "model.add(keras.layers.Dense(1, activation = \"sigmoid\"))\n",
        "\n",
        "#7. 모형 학습\n",
        "model.compile(loss = \"binary_crossentropy\", optimizer = \"adam\", metrics = [\"accuracy\"])\n",
        "history = model.fit(X_train, Y_train, validation_split = 0.2, epochs = 100, \n",
        "                    batch_size = 64, verbose = 2)"
      ],
      "metadata": {
        "id": "EpIPAf_Rujky"
      },
      "execution_count": null,
      "outputs": []
    },
    {
      "cell_type": "code",
      "source": [
        "import matplotlib.pyplot as plt\n",
        "\n",
        "fig, loss_ax = plt.subplots()\n",
        "acc_ax = loss_ax.twinx()\n",
        "\n",
        "#loss(오차) 그리기\n",
        "loss_ax.plot(history.history[\"loss\"], \"y\", label = \"train loss\")\n",
        "loss_ax.plot(history.history[\"val_loss\"], \"r\", label = \"val loss\")\n",
        "loss_ax.set_xlabel(\"epoch\")\n",
        "loss_ax.set_ylabel(\"loss\")\n",
        "loss_ax.legend(loc = \"lower right\")\n",
        "\n",
        "#accuracy(정확도) 그리기\n",
        "acc_ax.plot(history.history[\"accuracy\"], \"b\", label = \"train acc\")\n",
        "acc_ax.plot(history.history[\"val_accuracy\"], \"g\", label = \"val acc\")\n",
        "acc_ax.set_ylabel(\"accuracy\")\n",
        "acc_ax.legend(loc = \"upper right\")\n",
        "\n",
        "plt.show()"
      ],
      "metadata": {
        "colab": {
          "base_uri": "https://localhost:8080/",
          "height": 279
        },
        "id": "9wp5CSzb4P7A",
        "outputId": "89b0f30c-5b5a-4a5e-fcf3-5e88a1ee6f84"
      },
      "execution_count": 50,
      "outputs": [
        {
          "output_type": "display_data",
          "data": {
            "text/plain": [
              "<Figure size 432x288 with 2 Axes>"
            ],
            "image/png": "[encoded data removed]"
          },
          "metadata": {
            "needs_background": "light"
          }
        }
      ]
    },
    {
      "cell_type": "code",
      "source": [
        "model.fit(X_train, Y_train, validation_split = 0.3, epochs = 10, \n",
        "                    batch_size = 64, verbose = 1)"
      ],
      "metadata": {
        "colab": {
          "base_uri": "https://localhost:8080/"
        },
        "id": "yfRJURxi7br6",
        "outputId": "241c0d94-8911-47f1-95e0-99d22ccc70b8"
      },
      "execution_count": 51,
      "outputs": [
        {
          "output_type": "stream",
          "name": "stdout",
          "text": [
            "Epoch 1/10\n",
            "10/10 [==============================] - 0s 11ms/step - loss: 0.1772 - accuracy: 0.9392 - val_loss: 0.2807 - val_accuracy: 0.9016\n",
            "Epoch 2/10\n",
            "10/10 [==============================] - 0s 6ms/step - loss: 0.1771 - accuracy: 0.9443 - val_loss: 0.2900 - val_accuracy: 0.8976\n",
            "Epoch 3/10\n",
            "10/10 [==============================] - 0s 8ms/step - loss: 0.1753 - accuracy: 0.9459 - val_loss: 0.2812 - val_accuracy: 0.8937\n",
            "Epoch 4/10\n",
            "10/10 [==============================] - 0s 7ms/step - loss: 0.1754 - accuracy: 0.9476 - val_loss: 0.2797 - val_accuracy: 0.8976\n",
            "Epoch 5/10\n",
            "10/10 [==============================] - 0s 6ms/step - loss: 0.1759 - accuracy: 0.9375 - val_loss: 0.2748 - val_accuracy: 0.8976\n",
            "Epoch 6/10\n",
            "10/10 [==============================] - 0s 5ms/step - loss: 0.1766 - accuracy: 0.9392 - val_loss: 0.2793 - val_accuracy: 0.8976\n",
            "Epoch 7/10\n",
            "10/10 [==============================] - 0s 7ms/step - loss: 0.1744 - accuracy: 0.9476 - val_loss: 0.2758 - val_accuracy: 0.8976\n",
            "Epoch 8/10\n",
            "10/10 [==============================] - 0s 6ms/step - loss: 0.1749 - accuracy: 0.9476 - val_loss: 0.2936 - val_accuracy: 0.8976\n",
            "Epoch 9/10\n",
            "10/10 [==============================] - 0s 6ms/step - loss: 0.1729 - accuracy: 0.9459 - val_loss: 0.2768 - val_accuracy: 0.8976\n",
            "Epoch 10/10\n",
            "10/10 [==============================] - 0s 5ms/step - loss: 0.1741 - accuracy: 0.9459 - val_loss: 0.2779 - val_accuracy: 0.8976\n"
          ]
        },
        {
          "output_type": "execute_result",
          "data": {
            "text/plain": [
              "<keras.callbacks.History at 0x7fa9a4883b20>"
            ]
          },
          "metadata": {},
          "execution_count": 51
        }
      ]
    },
    {
      "cell_type": "code",
      "source": [
        "Y_pred = model.predict(X_test,verbose = 0)\n",
        "Y_class = np.round(Y_pred, 0)\n",
        "train_score = model.evaluate(X_train, Y_train, verbose=0)\n",
        "test_score = model.evaluate(X_test, Y_test, verbose=0)\n",
        "print(\"Y 예측값 확률: \\n \", Y_pred[:5])\n",
        "print(\"Y 예측 클래스 : \\n \", Y_class[:5])\n",
        "print(\"train accuracy : {:.3f}\".format(train_score[0], train_score[1]))\n",
        "print(\"test accuracy : {:.3f}\".format(test_score[0], test_score[1]))"
      ],
      "metadata": {
        "colab": {
          "base_uri": "https://localhost:8080/"
        },
        "id": "o6EFejKy7hSO",
        "outputId": "fe782081-f49a-4653-ca17-fcf2e27b32ab"
      },
      "execution_count": 52,
      "outputs": [
        {
          "output_type": "stream",
          "name": "stdout",
          "text": [
            "Y 예측값 확률: \n",
            "  [[0.90163314]\n",
            " [1.        ]\n",
            " [0.03439391]\n",
            " [0.01389194]\n",
            " [0.9991105 ]]\n",
            "Y 예측 클래스 : \n",
            "  [[1.]\n",
            " [1.]\n",
            " [0.]\n",
            " [0.]\n",
            " [1.]]\n",
            "train accuracy : 0.203\n",
            "test accuracy : 0.221\n"
          ]
        }
      ]
    },
    {
      "cell_type": "markdown",
      "source": [
        "##회귀예측"
      ],
      "metadata": {
        "id": "oAd0OED9VITg"
      }
    },
    {
      "cell_type": "code",
      "source": [
        "df.info()"
      ],
      "metadata": {
        "colab": {
          "base_uri": "https://localhost:8080/"
        },
        "id": "Fl-e6--ITq8s",
        "outputId": "29f104ef-47dd-4383-c0c8-1ce28721d1ab"
      },
      "execution_count": 53,
      "outputs": [
        {
          "output_type": "stream",
          "name": "stdout",
          "text": [
            "<class 'pandas.core.frame.DataFrame'>\n",
            "RangeIndex: 1000 entries, 0 to 999\n",
            "Data columns (total 21 columns):\n",
            " #   Column     Non-Null Count  Dtype  \n",
            "---  ------     --------------  -----  \n",
            " 0   고객ID       1000 non-null   int64  \n",
            " 1   이탈여부       1000 non-null   int64  \n",
            " 2   총매출액       1000 non-null   int64  \n",
            " 3   구매금액대      1000 non-null   int64  \n",
            " 4   방문빈도       1000 non-null   int64  \n",
            " 5   1회 평균매출액   1000 non-null   int64  \n",
            " 6   할인권 사용 횟수  1000 non-null   int64  \n",
            " 7   총 할인 금액    1000 non-null   int64  \n",
            " 8   고객등급       1000 non-null   int64  \n",
            " 9   구매유형       1000 non-null   int64  \n",
            " 10  클레임접수여부    1000 non-null   int64  \n",
            " 11  구매카테고리수    1000 non-null   int64  \n",
            " 12  거주지역       1000 non-null   int64  \n",
            " 13  성별         1000 non-null   int64  \n",
            " 14  고객 나이대     1000 non-null   int64  \n",
            " 15  거래기간       1000 non-null   int64  \n",
            " 16  할인민감여부     1000 non-null   int64  \n",
            " 17  Recency    1000 non-null   int64  \n",
            " 18  Frequency  1000 non-null   int64  \n",
            " 19  Monetary   1000 non-null   int64  \n",
            " 20  평균 구매주기    1000 non-null   float64\n",
            "dtypes: float64(1), int64(20)\n",
            "memory usage: 164.2 KB\n"
          ]
        }
      ]
    },
    {
      "cell_type": "code",
      "source": [
        "df.columns"
      ],
      "metadata": {
        "colab": {
          "base_uri": "https://localhost:8080/"
        },
        "id": "z1kMVqfBVao1",
        "outputId": "70064dba-72ef-4f86-912c-4e67a26c81d4"
      },
      "execution_count": 54,
      "outputs": [
        {
          "output_type": "execute_result",
          "data": {
            "text/plain": [
              "Index(['고객ID', '이탈여부', '총매출액', '구매금액대', '방문빈도', '1회 평균매출액', '할인권 사용 횟수',\n",
              "       '총 할인 금액', '고객등급', '구매유형', '클레임접수여부', '구매카테고리수', '거주지역', '성별', '고객 나이대',\n",
              "       '거래기간', '할인민감여부', 'Recency', 'Frequency', 'Monetary', '평균 구매주기'],\n",
              "      dtype='object')"
            ]
          },
          "metadata": {},
          "execution_count": 54
        }
      ]
    },
    {
      "cell_type": "code",
      "source": [
        "#1. 데이터 만들기\n",
        "X = df[df.이탈여부 == 0][['방문빈도','총 할인 금액', '구매카테고리수', '거래기간']]\n",
        "Y = np.log1p(df[df.이탈여부 == 0]['1회 평균매출액'])"
      ],
      "metadata": {
        "id": "nfsMvCYJVQuc"
      },
      "execution_count": 55,
      "outputs": []
    },
    {
      "cell_type": "code",
      "source": [
        "#2.train - test split\n",
        "X_train, X_test, Y_train, Y_test = train_test_split(X, Y, test_size=0.3, random_state=0)\n",
        "\n",
        "#3. 데이터 전처리(preprocessing)\n",
        "scaler = StandardScaler().fit(X_train)\n",
        "X_train = scaler.transform(X_train)\n",
        "X_test = scaler.transform(X_test)\n",
        "\n",
        "#4.seed 값 설정\n",
        "np.random.seed(0)\n",
        "tf.random.set_seed(0)\n",
        "\n",
        "#5. 모형생성\n",
        "model = keras.models.Sequential()\n",
        "model.add(keras.layers.Dense(64, input_dim=4, activation = \"relu\"))\n",
        "model.add(keras.layers.Dense(64, activation = \"relu\"))\n",
        "model.add(keras.layers.Dense(64, activation = \"relu\"))\n",
        "\n",
        "#6. 모형 학습\n",
        "model.compile(loss = \"mse\", optimizer = \"SGD\")\n",
        "Y_pred = np.round(model.predict(X_test[:5], verbose=0), 3)\n",
        "print(\"Y predict value \\n\", Y_pred)\n",
        "#7. 모형 평가\n",
        "train_score = model.evaluate(X_train, Y_train, verbose=0)\n",
        "test_score = model.evaluate(X_test, Y_test, verbose=0)\n",
        "print(\"train mse : {:.3f}\".format(train_score))\n",
        "print(\"test mse : {:.3f}\".format(test_score))"
      ],
      "metadata": {
        "colab": {
          "base_uri": "https://localhost:8080/"
        },
        "id": "8dyM-0ujVsh7",
        "outputId": "66ea8404-75d4-4cab-bb33-25681bc1ec1a"
      },
      "execution_count": 56,
      "outputs": [
        {
          "output_type": "stream",
          "name": "stdout",
          "text": [
            "Y predict value \n",
            " [[0.    0.    0.    0.234 0.    0.163 0.052 0.    0.    0.    0.    0.32\n",
            "  0.013 0.    0.218 0.009 0.111 0.    0.182 0.    0.    0.    0.474 0.143\n",
            "  0.    0.    0.    0.    0.    0.    0.325 0.    0.    0.224 0.    0.098\n",
            "  0.115 0.    0.    0.055 0.    0.    0.    0.    0.    0.    0.    0.\n",
            "  0.    0.322 0.12  0.098 0.    0.336 0.142 0.    0.    0.394 0.    0.498\n",
            "  0.    0.    0.182 0.   ]\n",
            " [0.    0.    0.    0.002 0.    0.134 0.114 0.    0.109 0.    0.    0.058\n",
            "  0.061 0.043 0.042 0.027 0.06  0.097 0.114 0.    0.    0.001 0.14  0.\n",
            "  0.081 0.017 0.    0.034 0.    0.    0.012 0.009 0.    0.045 0.    0.039\n",
            "  0.    0.    0.    0.109 0.    0.009 0.004 0.    0.    0.    0.    0.\n",
            "  0.059 0.097 0.074 0.026 0.    0.014 0.184 0.    0.002 0.061 0.075 0.146\n",
            "  0.    0.    0.289 0.   ]\n",
            " [0.    0.    0.079 0.012 0.    0.056 0.061 0.    0.175 0.    0.089 0.14\n",
            "  0.002 0.    0.254 0.04  0.094 0.183 0.181 0.    0.058 0.    0.385 0.058\n",
            "  0.    0.    0.    0.057 0.    0.    0.144 0.051 0.07  0.104 0.023 0.032\n",
            "  0.036 0.    0.    0.162 0.    0.    0.    0.    0.    0.    0.    0.\n",
            "  0.054 0.124 0.055 0.014 0.    0.081 0.055 0.    0.057 0.15  0.048 0.408\n",
            "  0.    0.    0.363 0.   ]\n",
            " [0.    0.002 0.    0.121 0.    0.06  0.097 0.115 0.    0.    0.232 0.095\n",
            "  0.    0.    0.11  0.    0.147 0.153 0.168 0.    0.    0.    0.268 0.204\n",
            "  0.    0.    0.    0.    0.    0.    0.448 0.    0.    0.254 0.    0.075\n",
            "  0.214 0.    0.    0.004 0.043 0.    0.024 0.    0.    0.    0.036 0.\n",
            "  0.    0.219 0.    0.2   0.    0.357 0.169 0.    0.134 0.232 0.016 0.495\n",
            "  0.    0.    0.222 0.   ]\n",
            " [0.    0.    0.    0.024 0.018 0.053 0.087 0.088 0.054 0.    0.102 0.003\n",
            "  0.    0.    0.068 0.    0.    0.145 0.005 0.    0.    0.    0.111 0.075\n",
            "  0.    0.096 0.    0.    0.    0.    0.013 0.    0.    0.064 0.    0.094\n",
            "  0.166 0.    0.    0.    0.    0.    0.    0.    0.014 0.    0.06  0.\n",
            "  0.    0.132 0.    0.171 0.    0.028 0.094 0.    0.    0.    0.    0.068\n",
            "  0.    0.    0.053 0.   ]]\n",
            "train mse : 152.833\n",
            "test mse : 152.401\n"
          ]
        }
      ]
    },
    {
      "cell_type": "markdown",
      "source": [
        "#앙상블(ensemble)"
      ],
      "metadata": {
        "id": "dJ0_xpmiha7E"
      }
    },
    {
      "cell_type": "markdown",
      "source": [
        "##분류예측"
      ],
      "metadata": {
        "id": "DZW8wVSjhjyk"
      }
    },
    {
      "cell_type": "code",
      "source": [
        "#1.변수선택\n",
        "X = df[['총매출액', '구매금액대', '1회 평균매출액', '평균 구매주기', '거래기간']]\n",
        "Y = df[\"할인민감여부\"]\n",
        "\n",
        "#2.train - test split\n",
        "X_train, X_test, Y_train, Y_test = train_test_split(X, Y, test_size=0.3, random_state=0)\n",
        "\n",
        "#3. 데이터 전처리(preprocessing)\n",
        "ct = ColumnTransformer([(\"scaling\", StandardScaler(), ['총매출액', '1회 평균매출액', '평균 구매주기', '거래기간']), \n",
        "                        (\"onehot\", OneHotEncoder(sparse = False), ['구매금액대'])])\n",
        "ct.fit(X_train)\n",
        "X_train = ct.transform(X_train)\n",
        "X_test = ct.transform(X_test)\n",
        "\n",
        "#4. 오버샘플링\n",
        "smote = SMOTE(random_state=0)\n",
        "X_train, Y_train = smote.fit_resample(X_train, Y_train)"
      ],
      "metadata": {
        "id": "QfZnZ5hFhZwU"
      },
      "execution_count": 57,
      "outputs": []
    },
    {
      "cell_type": "code",
      "source": [
        "#5.단일모형 생성\n",
        "from sklearn.ensemble import VotingClassifier\n",
        "from sklearn.tree import DecisionTreeClassifier\n",
        "from sklearn.neighbors import KNeighborsClassifier\n",
        "\n",
        "dtree = DecisionTreeClassifier(random_state=0)\n",
        "knn = KNeighborsClassifier()\n",
        "\n",
        "#6.앙상블 모형 생성\n",
        "model = VotingClassifier(estimators = [(\"K-NN\", knn), (\"Dtree\", dtree)], voting = \"soft\")\n",
        "\n",
        "#7.모형학습\n",
        "model.fit(X_train, Y_train)\n",
        "\n",
        "#8.예측 및 모형 성능 평가\n",
        "Y_pred = model.predict(X_test)\n",
        "print(\"Y predict value: \\n\", Y_pred)\n",
        "#8-1. 보팅모형 정확도\n",
        "print(\"voting classifier accuracy : {0:.3f}\".format(model.score(X_test, Y_test)))\n",
        "#8-2. 개별모형 정확도\n",
        "classifiers = [dtree, knn]\n",
        "for classifier in classifiers :\n",
        "    classifier.fit(X_train, Y_train)\n",
        "    class_name = classifier.__class__.__name__\n",
        "    print(\"{0} accuracy : {1:.3f}\".format(class_name, classifier.score(X_test,Y_test)))"
      ],
      "metadata": {
        "colab": {
          "base_uri": "https://localhost:8080/"
        },
        "id": "mkL5EXqVhnnq",
        "outputId": "ba23fb40-0e95-4a21-bf59-13072ff61692"
      },
      "execution_count": 58,
      "outputs": [
        {
          "output_type": "stream",
          "name": "stdout",
          "text": [
            "Y predict value: \n",
            " [1 1 0 0 1 1 0 0 1 1 0 0 1 0 1 0 1 0 0 0 0 0 0 0 0 1 0 0 0 0 1 1 1 1 0 1 1\n",
            " 0 1 1 0 1 1 1 0 0 1 0 0 0 1 0 0 0 1 1 0 0 1 1 0 1 1 0 0 0 1 0 0 0 1 0 0 0\n",
            " 1 0 0 0 1 1 0 0 1 1 1 1 0 0 0 0 1 0 0 0 0 1 1 0 0 0 1 1 0 1 0 1 1 0 1 1 1\n",
            " 1 0 0 0 0 0 0 0 0 1 0 0 1 1 1 0 0 1 1 0 0 1 1 1 1 0 1 0 1 0 0 0 0 0 1 0 0\n",
            " 1 1 0 0 0 0 0 1 0 0 0 0 1 1 0 0 1 0 0 1 0 0 0 1 1 1 0 0 0 0 1 0 0 0 0 0 1\n",
            " 0 0 1 1 1 0 1 0 1 1 1 1 0 1 0 0 0 0 1 1 0 1 0 1 1 0 1 0 0 0 1 0 0 0 1 1 1\n",
            " 1 0 0 1 1 0 0 1 1 0 0 0 0 0 0 1 1 0 0 0 0 0 1 0 1 0 1 1 0 1 1 0 0 1 1 0 0\n",
            " 0 1 1 0 0 0 0 0 0 1 0 1 0 0 0 1 1 0 0 1 0 1 1 1 1 0 0 1 0 0 0 1 0 1 1 0 0\n",
            " 1 0 0 0]\n",
            "voting classifier accuracy : 0.907\n",
            "DecisionTreeClassifier accuracy : 0.900\n",
            "KNeighborsClassifier accuracy : 0.850\n"
          ]
        }
      ]
    },
    {
      "cell_type": "markdown",
      "source": [
        "##회귀예측"
      ],
      "metadata": {
        "id": "c7lnYlz9oCPk"
      }
    },
    {
      "cell_type": "code",
      "source": [
        "import numpy as np\n",
        "\n",
        "#1.변수선택\n",
        "X = df[df.이탈여부 == 0][['방문빈도', '총 할인 금액', '고객등급', '구매유형', '거래기간', \n",
        "                   '할인민감여부', '평균 구매주기']]\n",
        "Y = np.log1p(df[df.이탈여부 == 0][\"1회 평균매출액\"])\n",
        "\n",
        "#2.train - test split\n",
        "X_train, X_test, Y_train, Y_test = train_test_split(X, Y, test_size=0.3, random_state=0)\n",
        "\n",
        "#3. 데이터 전처리(preprocessing)\n",
        "ct = ColumnTransformer([(\"scaling\", StandardScaler(), ['방문빈도', '총 할인 금액', '거래기간', '평균 구매주기']), \n",
        "                        (\"onehot\", OneHotEncoder(sparse = False), ['고객등급', '구매유형', '할인민감여부'])])\n",
        "ct.fit(X_train)\n",
        "X_train = ct.transform(X_train)\n",
        "X_test = ct.transform(X_test)"
      ],
      "metadata": {
        "id": "U7fUEzAwoBnK"
      },
      "execution_count": 59,
      "outputs": []
    },
    {
      "cell_type": "code",
      "source": [
        "#4. 단일 모형 생성\n",
        "from sklearn.ensemble import VotingRegressor\n",
        "from sklearn.neural_network import MLPRegressor\n",
        "from sklearn.svm import SVR\n",
        "\n",
        "svr = SVR()\n",
        "mlp = MLPRegressor(random_state=0)\n",
        "\n",
        "#5. voting model 생성\n",
        "model = VotingRegressor(estimators = [(\"SVR\", svr), (\"MLP\", mlp)])\n",
        "\n",
        "#6. 모형 학습\n",
        "model.fit(X_train, Y_train)\n",
        "\n",
        "#7.예측 및 평가\n",
        "Y_pred = model.predict(X_test)\n",
        "print(\"Y predict value: \\n\", Y_pred)\n",
        "#8-1. 예측 보팅모형 정확도\n",
        "print(\"voting regressor accuracy(R2) : {0:.3f}\".format(model.score(X_test, Y_test)))\n",
        "#8-2. 개별모형 정확도\n",
        "Regressors = [svr, mlp]\n",
        "for Regressor in Regressors :\n",
        "    Regressor.fit(X_train, Y_train)\n",
        "    class_name = Regressor.__class__.__name__\n",
        "    print(\"{0} accuracy : {1:.3f}\".format(class_name, Regressor.score(X_test,Y_test)))"
      ],
      "metadata": {
        "colab": {
          "base_uri": "https://localhost:8080/"
        },
        "id": "0HeNMThloNqX",
        "outputId": "a6c78342-0686-4d86-9a23-5dd406320b4a"
      },
      "execution_count": 60,
      "outputs": [
        {
          "output_type": "stream",
          "name": "stdout",
          "text": [
            "Y predict value: \n",
            " [12.72637282 12.15785517 12.09686124 13.26831502 11.60231958 12.47233857\n",
            " 11.00403584 12.11236139 11.92418038 12.36295705 12.33471768 11.93634366\n",
            " 12.10248328 12.17485959 12.54047237 12.21174042 12.79796392 12.85868158\n",
            " 12.14723369 12.51820132 12.73655925 11.51053651 12.16572772 12.61967869\n",
            " 10.97450508 13.11252037 12.5792913  12.13627155 12.04792775 11.98604929\n",
            " 12.79524713 12.95793432 12.51574594 13.14826771 12.21608558 11.91077705\n",
            " 11.84798695 12.99567742 11.95362493 13.66455063 12.85068225 12.1427706\n",
            " 12.49680643 12.12413092 12.41795186 12.43119996 11.29956398 12.14660018\n",
            " 12.69704459 12.43998557 12.01109351 13.29011823 11.1046136  12.92296162\n",
            " 12.8522466  12.08692287 12.46809297 12.34155171 12.26251834 12.06954504\n",
            " 12.87142564 12.96736873 11.66603809 12.35227513 12.06159606 12.155967\n",
            " 12.10647664 11.48482286 12.69218789 11.79509489 12.20279207 11.67227129\n",
            " 11.93748831 11.75242257 12.08799173 12.79011812 12.43771399 12.93671652\n",
            " 12.21409548 12.39436336 12.71746922 11.95532413 11.82312984 12.16287274\n",
            " 12.28686047 12.69164266 12.44251859 12.77121709 11.83604445 12.83491032\n",
            " 12.14491251 13.21743021 12.50243799 13.06892645 11.92415719 13.03858984\n",
            " 12.88053564 12.160099   12.91472933 11.63221781 11.94370304 12.44004892\n",
            " 12.87464916 11.8729167  12.3654078  12.55856624 12.84071252 11.71225848\n",
            " 12.26380165 12.45982361 12.02043293 11.9421507  12.73253879 13.02635162\n",
            " 12.04973161 12.33438799 12.41827333 12.86241083 12.40875392 12.5968783\n",
            " 12.81779588 12.8274637  12.19010157 12.59904112 12.84774747 12.18532332\n",
            " 12.22778031 11.8054232  13.12475682 11.95865789 11.81489928 11.55897355\n",
            " 13.07522943 12.28451019 11.8789114  12.15561689 11.51884822 12.18398225\n",
            " 12.69227703 11.85075753 12.26168017 12.16159193 12.65547847 11.98416886\n",
            " 12.1825295  12.53395352 12.63117748 12.89234566 12.03663241 12.06490339\n",
            " 12.17004133 12.65506435 12.64528232 12.859696   13.98345371 11.56676754\n",
            " 12.14814582 12.76169623 12.08281248 12.78057339 12.92206256 12.64509877\n",
            " 12.47824953 11.8252805  12.39300142 12.55519649 12.769953   11.36679481\n",
            " 12.96480349 12.50216886 11.50980876 11.95884547 11.44958371 13.16010026\n",
            " 12.05559067 12.71797611 13.99850887 11.871165   12.31221069 11.61007956\n",
            " 13.80229617 14.53772869 12.52183126 12.69249083 12.21280298 11.72885039\n",
            " 12.22192476 12.20813083 11.39735772 12.84417613 12.23391116 12.77976915\n",
            " 13.54789146 11.70010427 12.13965267 12.01776146 12.34314015 12.29642101\n",
            " 12.7601278  11.25118371 13.264752   11.77360757 12.25216632 11.80519914\n",
            " 12.70641052 11.83457641 12.32938499 12.20461754 12.97324333 12.52229619]\n",
            "voting regressor accuracy(R2) : 0.538\n",
            "SVR accuracy : 0.608\n",
            "MLPRegressor accuracy : 0.225\n"
          ]
        }
      ]
    },
    {
      "cell_type": "code",
      "source": [
        "import pandas as pd\n",
        "import urllib.request\n",
        "import json\n",
        "\n",
        "\n",
        "client_id = \"HFUqKv5n3Mvd1iTZD9Nw\"\n",
        "client_secret = \"TlLlq3IJat\"\n",
        "\n",
        "url = \"https://openapi.naver.com/v1/datalab/search\"\n",
        "body = \"{\\\n",
        "         \\\"startDate\\\":\\\"2022-01-01\\\",\\\n",
        "         \\\"endDate\\\":\\\"2023-01-10\\\",\\\n",
        "         \\\"timeUnit\\\":\\\"date\\\",\\\n",
        "         \\\"keywordGroups\\\":[{\\\"groupName\\\":\\\"LG\\\",\\\"keywords\\\":[\\\"엘지\\\",\\\"LG\\\"]}],\\\n",
        "         \\\"device\\\":\\\"pc\\\",\\\n",
        "         \\\"ages\\\":[\\\"1\\\",\\\"2\\\"],\\\n",
        "         \\\"gender\\\":\\\"f\\\"\\\n",
        "         }\";\n",
        "\n",
        "request = urllib.request.Request(url)\n",
        "request.add_header(\"X-Naver-Client-Id\",client_id)\n",
        "request.add_header(\"X-Naver-Client-Secret\",client_secret)\n",
        "request.add_header(\"Content-Type\",\"application/json\")\n",
        "\n",
        "response = urllib.request.urlopen(request, data=body.encode(\"utf-8\"))\n",
        "\n",
        "rescode = response.getcode()\n",
        "\n",
        "if(rescode==200):\n",
        "    response_body = response.read()\n",
        "    response_data = response_body.decode('utf-8')\n",
        "else:\n",
        "    print(\"Error Code:\" + rescode)\n",
        "\n",
        "result = json.loads(response_data)\n",
        "\n",
        "print(result)\n",
        "\n",
        "date = [a['period'] for a in result['results'][0]['data']]\n",
        "ratio_data1 = [a['ratio'] for a in result['results'][0]['data']]\n",
        "\n",
        "pd.DataFrame({'date':date, 'seraching_result':ratio_data1})"
      ],
      "metadata": {
        "colab": {
          "base_uri": "https://localhost:8080/",
          "height": 462
        },
        "id": "DDqqRzeLhcfE",
        "outputId": "d83548bc-8f9b-4453-807d-f21278f8000b"
      },
      "execution_count": 61,
      "outputs": [
        {
          "output_type": "stream",
          "name": "stdout",
          "text": [
            "{'startDate': '2022-01-01', 'endDate': '2023-01-10', 'timeUnit': 'date', 'results': [{'title': 'LG', 'keywords': ['엘지', 'LG'], 'data': [{'period': '2022-01-01', 'ratio': 31.57894}, {'period': '2022-01-02', 'ratio': 5.26315}, {'period': '2022-01-03', 'ratio': 42.10526}, {'period': '2022-01-04', 'ratio': 36.8421}, {'period': '2022-01-05', 'ratio': 47.36842}, {'period': '2022-01-06', 'ratio': 57.89473}, {'period': '2022-01-07', 'ratio': 26.31578}, {'period': '2022-01-08', 'ratio': 21.05263}, {'period': '2022-01-09', 'ratio': 26.31578}, {'period': '2022-01-10', 'ratio': 52.63157}, {'period': '2022-01-11', 'ratio': 36.8421}, {'period': '2022-01-12', 'ratio': 21.05263}, {'period': '2022-01-13', 'ratio': 15.78947}, {'period': '2022-01-14', 'ratio': 15.78947}, {'period': '2022-01-15', 'ratio': 15.78947}, {'period': '2022-01-16', 'ratio': 42.10526}, {'period': '2022-01-17', 'ratio': 57.89473}, {'period': '2022-01-18', 'ratio': 68.42105}, {'period': '2022-01-19', 'ratio': 36.8421}, {'period': '2022-01-20', 'ratio': 36.8421}, {'period': '2022-01-21', 'ratio': 42.10526}, {'period': '2022-01-22', 'ratio': 47.36842}, {'period': '2022-01-23', 'ratio': 42.10526}, {'period': '2022-01-24', 'ratio': 10.52631}, {'period': '2022-01-25', 'ratio': 36.8421}, {'period': '2022-01-26', 'ratio': 84.21052}, {'period': '2022-01-27', 'ratio': 52.63157}, {'period': '2022-01-28', 'ratio': 47.36842}, {'period': '2022-01-29', 'ratio': 26.31578}, {'period': '2022-01-31', 'ratio': 42.10526}, {'period': '2022-02-01', 'ratio': 10.52631}, {'period': '2022-02-02', 'ratio': 31.57894}, {'period': '2022-02-03', 'ratio': 31.57894}, {'period': '2022-02-04', 'ratio': 47.36842}, {'period': '2022-02-05', 'ratio': 10.52631}, {'period': '2022-02-06', 'ratio': 42.10526}, {'period': '2022-02-07', 'ratio': 36.8421}, {'period': '2022-02-08', 'ratio': 15.78947}, {'period': '2022-02-09', 'ratio': 63.15789}, {'period': '2022-02-10', 'ratio': 36.8421}, {'period': '2022-02-11', 'ratio': 31.57894}, {'period': '2022-02-12', 'ratio': 31.57894}, {'period': '2022-02-13', 'ratio': 42.10526}, {'period': '2022-02-14', 'ratio': 63.15789}, {'period': '2022-02-15', 'ratio': 31.57894}, {'period': '2022-02-16', 'ratio': 31.57894}, {'period': '2022-02-17', 'ratio': 31.57894}, {'period': '2022-02-18', 'ratio': 15.78947}, {'period': '2022-02-19', 'ratio': 15.78947}, {'period': '2022-02-20', 'ratio': 31.57894}, {'period': '2022-02-21', 'ratio': 31.57894}, {'period': '2022-02-22', 'ratio': 31.57894}, {'period': '2022-02-23', 'ratio': 42.10526}, {'period': '2022-02-24', 'ratio': 36.8421}, {'period': '2022-02-25', 'ratio': 21.05263}, {'period': '2022-02-26', 'ratio': 26.31578}, {'period': '2022-02-27', 'ratio': 31.57894}, {'period': '2022-02-28', 'ratio': 21.05263}, {'period': '2022-03-01', 'ratio': 21.05263}, {'period': '2022-03-02', 'ratio': 15.78947}, {'period': '2022-03-04', 'ratio': 31.57894}, {'period': '2022-03-05', 'ratio': 21.05263}, {'period': '2022-03-06', 'ratio': 5.26315}, {'period': '2022-03-07', 'ratio': 5.26315}, {'period': '2022-03-08', 'ratio': 15.78947}, {'period': '2022-03-09', 'ratio': 26.31578}, {'period': '2022-03-10', 'ratio': 26.31578}, {'period': '2022-03-11', 'ratio': 21.05263}, {'period': '2022-03-12', 'ratio': 21.05263}, {'period': '2022-03-13', 'ratio': 26.31578}, {'period': '2022-03-14', 'ratio': 26.31578}, {'period': '2022-03-15', 'ratio': 21.05263}, {'period': '2022-03-16', 'ratio': 15.78947}, {'period': '2022-03-17', 'ratio': 26.31578}, {'period': '2022-03-18', 'ratio': 47.36842}, {'period': '2022-03-19', 'ratio': 36.8421}, {'period': '2022-03-20', 'ratio': 57.89473}, {'period': '2022-03-21', 'ratio': 10.52631}, {'period': '2022-03-22', 'ratio': 63.15789}, {'period': '2022-03-23', 'ratio': 42.10526}, {'period': '2022-03-24', 'ratio': 31.57894}, {'period': '2022-03-25', 'ratio': 52.63157}, {'period': '2022-03-26', 'ratio': 36.8421}, {'period': '2022-03-27', 'ratio': 21.05263}, {'period': '2022-03-28', 'ratio': 31.57894}, {'period': '2022-03-29', 'ratio': 42.10526}, {'period': '2022-03-30', 'ratio': 47.36842}, {'period': '2022-03-31', 'ratio': 52.63157}, {'period': '2022-04-01', 'ratio': 10.52631}, {'period': '2022-04-02', 'ratio': 68.42105}, {'period': '2022-04-03', 'ratio': 21.05263}, {'period': '2022-04-04', 'ratio': 47.36842}, {'period': '2022-04-05', 'ratio': 36.8421}, {'period': '2022-04-06', 'ratio': 10.52631}, {'period': '2022-04-07', 'ratio': 47.36842}, {'period': '2022-04-08', 'ratio': 42.10526}, {'period': '2022-04-09', 'ratio': 21.05263}, {'period': '2022-04-10', 'ratio': 21.05263}, {'period': '2022-04-11', 'ratio': 73.68421}, {'period': '2022-04-12', 'ratio': 15.78947}, {'period': '2022-04-13', 'ratio': 36.8421}, {'period': '2022-04-14', 'ratio': 31.57894}, {'period': '2022-04-15', 'ratio': 78.94736}, {'period': '2022-04-16', 'ratio': 21.05263}, {'period': '2022-04-17', 'ratio': 26.31578}, {'period': '2022-04-18', 'ratio': 57.89473}, {'period': '2022-04-19', 'ratio': 15.78947}, {'period': '2022-04-20', 'ratio': 47.36842}, {'period': '2022-04-21', 'ratio': 31.57894}, {'period': '2022-04-22', 'ratio': 5.26315}, {'period': '2022-04-23', 'ratio': 21.05263}, {'period': '2022-04-24', 'ratio': 36.8421}, {'period': '2022-04-25', 'ratio': 47.36842}, {'period': '2022-04-26', 'ratio': 26.31578}, {'period': '2022-04-27', 'ratio': 21.05263}, {'period': '2022-04-28', 'ratio': 5.26315}, {'period': '2022-04-29', 'ratio': 21.05263}, {'period': '2022-04-30', 'ratio': 15.78947}, {'period': '2022-05-01', 'ratio': 21.05263}, {'period': '2022-05-02', 'ratio': 73.68421}, {'period': '2022-05-03', 'ratio': 5.26315}, {'period': '2022-05-04', 'ratio': 21.05263}, {'period': '2022-05-05', 'ratio': 15.78947}, {'period': '2022-05-06', 'ratio': 10.52631}, {'period': '2022-05-07', 'ratio': 26.31578}, {'period': '2022-05-08', 'ratio': 21.05263}, {'period': '2022-05-09', 'ratio': 36.8421}, {'period': '2022-05-10', 'ratio': 57.89473}, {'period': '2022-05-11', 'ratio': 68.42105}, {'period': '2022-05-12', 'ratio': 78.94736}, {'period': '2022-05-13', 'ratio': 26.31578}, {'period': '2022-05-14', 'ratio': 26.31578}, {'period': '2022-05-15', 'ratio': 31.57894}, {'period': '2022-05-16', 'ratio': 47.36842}, {'period': '2022-05-17', 'ratio': 42.10526}, {'period': '2022-05-18', 'ratio': 52.63157}, {'period': '2022-05-19', 'ratio': 68.42105}, {'period': '2022-05-20', 'ratio': 89.47368}, {'period': '2022-05-21', 'ratio': 42.10526}, {'period': '2022-05-22', 'ratio': 47.36842}, {'period': '2022-05-23', 'ratio': 68.42105}, {'period': '2022-05-24', 'ratio': 78.94736}, {'period': '2022-05-25', 'ratio': 63.15789}, {'period': '2022-05-26', 'ratio': 52.63157}, {'period': '2022-05-27', 'ratio': 31.57894}, {'period': '2022-05-28', 'ratio': 15.78947}, {'period': '2022-05-29', 'ratio': 31.57894}, {'period': '2022-05-30', 'ratio': 31.57894}, {'period': '2022-05-31', 'ratio': 63.15789}, {'period': '2022-06-01', 'ratio': 21.05263}, {'period': '2022-06-02', 'ratio': 57.89473}, {'period': '2022-06-03', 'ratio': 57.89473}, {'period': '2022-06-04', 'ratio': 31.57894}, {'period': '2022-06-05', 'ratio': 31.57894}, {'period': '2022-06-06', 'ratio': 68.42105}, {'period': '2022-06-07', 'ratio': 57.89473}, {'period': '2022-06-08', 'ratio': 31.57894}, {'period': '2022-06-09', 'ratio': 42.10526}, {'period': '2022-06-10', 'ratio': 68.42105}, {'period': '2022-06-11', 'ratio': 5.26315}, {'period': '2022-06-12', 'ratio': 78.94736}, {'period': '2022-06-13', 'ratio': 63.15789}, {'period': '2022-06-14', 'ratio': 73.68421}, {'period': '2022-06-15', 'ratio': 63.15789}, {'period': '2022-06-16', 'ratio': 31.57894}, {'period': '2022-06-17', 'ratio': 21.05263}, {'period': '2022-06-18', 'ratio': 31.57894}, {'period': '2022-06-19', 'ratio': 42.10526}, {'period': '2022-06-20', 'ratio': 21.05263}, {'period': '2022-06-21', 'ratio': 47.36842}, {'period': '2022-06-22', 'ratio': 47.36842}, {'period': '2022-06-23', 'ratio': 15.78947}, {'period': '2022-06-24', 'ratio': 15.78947}, {'period': '2022-06-25', 'ratio': 42.10526}, {'period': '2022-06-26', 'ratio': 15.78947}, {'period': '2022-06-27', 'ratio': 26.31578}, {'period': '2022-06-28', 'ratio': 26.31578}, {'period': '2022-06-29', 'ratio': 15.78947}, {'period': '2022-06-30', 'ratio': 21.05263}, {'period': '2022-07-01', 'ratio': 5.26315}, {'period': '2022-07-02', 'ratio': 15.78947}, {'period': '2022-07-03', 'ratio': 21.05263}, {'period': '2022-07-04', 'ratio': 10.52631}, {'period': '2022-07-05', 'ratio': 26.31578}, {'period': '2022-07-06', 'ratio': 15.78947}, {'period': '2022-07-07', 'ratio': 47.36842}, {'period': '2022-07-08', 'ratio': 21.05263}, {'period': '2022-07-09', 'ratio': 21.05263}, {'period': '2022-07-10', 'ratio': 26.31578}, {'period': '2022-07-11', 'ratio': 78.94736}, {'period': '2022-07-12', 'ratio': 31.57894}, {'period': '2022-07-13', 'ratio': 100}, {'period': '2022-07-14', 'ratio': 47.36842}, {'period': '2022-07-15', 'ratio': 47.36842}, {'period': '2022-07-16', 'ratio': 26.31578}, {'period': '2022-07-17', 'ratio': 21.05263}, {'period': '2022-07-18', 'ratio': 31.57894}, {'period': '2022-07-19', 'ratio': 15.78947}, {'period': '2022-07-20', 'ratio': 21.05263}, {'period': '2022-07-21', 'ratio': 15.78947}, {'period': '2022-07-22', 'ratio': 15.78947}, {'period': '2022-07-23', 'ratio': 47.36842}, {'period': '2022-07-24', 'ratio': 15.78947}, {'period': '2022-07-25', 'ratio': 42.10526}, {'period': '2022-07-26', 'ratio': 15.78947}, {'period': '2022-07-27', 'ratio': 10.52631}, {'period': '2022-07-28', 'ratio': 10.52631}, {'period': '2022-07-29', 'ratio': 21.05263}, {'period': '2022-07-30', 'ratio': 10.52631}, {'period': '2022-08-01', 'ratio': 36.8421}, {'period': '2022-08-02', 'ratio': 10.52631}, {'period': '2022-08-04', 'ratio': 21.05263}, {'period': '2022-08-05', 'ratio': 10.52631}, {'period': '2022-08-06', 'ratio': 21.05263}, {'period': '2022-08-07', 'ratio': 26.31578}, {'period': '2022-08-08', 'ratio': 5.26315}, {'period': '2022-08-09', 'ratio': 15.78947}, {'period': '2022-08-10', 'ratio': 31.57894}, {'period': '2022-08-11', 'ratio': 21.05263}, {'period': '2022-08-12', 'ratio': 21.05263}, {'period': '2022-08-13', 'ratio': 26.31578}, {'period': '2022-08-14', 'ratio': 36.8421}, {'period': '2022-08-15', 'ratio': 5.26315}, {'period': '2022-08-16', 'ratio': 26.31578}, {'period': '2022-08-17', 'ratio': 31.57894}, {'period': '2022-08-18', 'ratio': 36.8421}, {'period': '2022-08-19', 'ratio': 26.31578}, {'period': '2022-08-20', 'ratio': 31.57894}, {'period': '2022-08-21', 'ratio': 36.8421}, {'period': '2022-08-22', 'ratio': 47.36842}, {'period': '2022-08-23', 'ratio': 47.36842}, {'period': '2022-08-24', 'ratio': 26.31578}, {'period': '2022-08-25', 'ratio': 15.78947}, {'period': '2022-08-26', 'ratio': 31.57894}, {'period': '2022-08-27', 'ratio': 42.10526}, {'period': '2022-08-28', 'ratio': 21.05263}, {'period': '2022-08-29', 'ratio': 52.63157}, {'period': '2022-08-30', 'ratio': 42.10526}, {'period': '2022-08-31', 'ratio': 10.52631}, {'period': '2022-09-01', 'ratio': 68.42105}, {'period': '2022-09-02', 'ratio': 52.63157}, {'period': '2022-09-03', 'ratio': 10.52631}, {'period': '2022-09-04', 'ratio': 42.10526}, {'period': '2022-09-05', 'ratio': 10.52631}, {'period': '2022-09-06', 'ratio': 36.8421}, {'period': '2022-09-07', 'ratio': 52.63157}, {'period': '2022-09-08', 'ratio': 42.10526}, {'period': '2022-09-09', 'ratio': 10.52631}, {'period': '2022-09-10', 'ratio': 10.52631}, {'period': '2022-09-11', 'ratio': 42.10526}, {'period': '2022-09-12', 'ratio': 26.31578}, {'period': '2022-09-13', 'ratio': 57.89473}, {'period': '2022-09-14', 'ratio': 63.15789}, {'period': '2022-09-15', 'ratio': 94.73684}, {'period': '2022-09-16', 'ratio': 73.68421}, {'period': '2022-09-17', 'ratio': 36.8421}, {'period': '2022-09-18', 'ratio': 5.26315}, {'period': '2022-09-19', 'ratio': 21.05263}, {'period': '2022-09-20', 'ratio': 42.10526}, {'period': '2022-09-21', 'ratio': 36.8421}, {'period': '2022-09-22', 'ratio': 42.10526}, {'period': '2022-09-23', 'ratio': 31.57894}, {'period': '2022-09-24', 'ratio': 31.57894}, {'period': '2022-09-25', 'ratio': 26.31578}, {'period': '2022-09-26', 'ratio': 26.31578}, {'period': '2022-09-27', 'ratio': 26.31578}, {'period': '2022-09-28', 'ratio': 42.10526}, {'period': '2022-09-29', 'ratio': 26.31578}, {'period': '2022-09-30', 'ratio': 52.63157}, {'period': '2022-10-01', 'ratio': 42.10526}, {'period': '2022-10-02', 'ratio': 21.05263}, {'period': '2022-10-03', 'ratio': 52.63157}, {'period': '2022-10-04', 'ratio': 89.47368}, {'period': '2022-10-05', 'ratio': 36.8421}, {'period': '2022-10-06', 'ratio': 47.36842}, {'period': '2022-10-07', 'ratio': 26.31578}, {'period': '2022-10-08', 'ratio': 21.05263}, {'period': '2022-10-09', 'ratio': 10.52631}, {'period': '2022-10-10', 'ratio': 26.31578}, {'period': '2022-10-11', 'ratio': 36.8421}, {'period': '2022-10-12', 'ratio': 26.31578}, {'period': '2022-10-13', 'ratio': 31.57894}, {'period': '2022-10-14', 'ratio': 15.78947}, {'period': '2022-10-15', 'ratio': 31.57894}, {'period': '2022-10-16', 'ratio': 36.8421}, {'period': '2022-10-17', 'ratio': 36.8421}, {'period': '2022-10-18', 'ratio': 21.05263}, {'period': '2022-10-19', 'ratio': 36.8421}, {'period': '2022-10-20', 'ratio': 36.8421}, {'period': '2022-10-21', 'ratio': 52.63157}, {'period': '2022-10-22', 'ratio': 10.52631}, {'period': '2022-10-23', 'ratio': 15.78947}, {'period': '2022-10-24', 'ratio': 42.10526}, {'period': '2022-10-25', 'ratio': 73.68421}, {'period': '2022-10-26', 'ratio': 78.94736}, {'period': '2022-10-27', 'ratio': 63.15789}, {'period': '2022-10-28', 'ratio': 68.42105}, {'period': '2022-10-29', 'ratio': 21.05263}, {'period': '2022-10-30', 'ratio': 15.78947}, {'period': '2022-10-31', 'ratio': 31.57894}, {'period': '2022-11-01', 'ratio': 57.89473}, {'period': '2022-11-02', 'ratio': 36.8421}, {'period': '2022-11-03', 'ratio': 36.8421}, {'period': '2022-11-04', 'ratio': 36.8421}, {'period': '2022-11-05', 'ratio': 21.05263}, {'period': '2022-11-06', 'ratio': 15.78947}, {'period': '2022-11-07', 'ratio': 47.36842}, {'period': '2022-11-08', 'ratio': 42.10526}, {'period': '2022-11-09', 'ratio': 36.8421}, {'period': '2022-11-10', 'ratio': 52.63157}, {'period': '2022-11-11', 'ratio': 21.05263}, {'period': '2022-11-12', 'ratio': 42.10526}, {'period': '2022-11-13', 'ratio': 31.57894}, {'period': '2022-11-14', 'ratio': 63.15789}, {'period': '2022-11-15', 'ratio': 42.10526}, {'period': '2022-11-16', 'ratio': 52.63157}, {'period': '2022-11-17', 'ratio': 42.10526}, {'period': '2022-11-18', 'ratio': 36.8421}, {'period': '2022-11-19', 'ratio': 5.26315}, {'period': '2022-11-20', 'ratio': 36.8421}, {'period': '2022-11-21', 'ratio': 15.78947}, {'period': '2022-11-22', 'ratio': 47.36842}, {'period': '2022-11-23', 'ratio': 26.31578}, {'period': '2022-11-24', 'ratio': 36.8421}, {'period': '2022-11-25', 'ratio': 36.8421}, {'period': '2022-11-26', 'ratio': 21.05263}, {'period': '2022-11-27', 'ratio': 21.05263}, {'period': '2022-11-28', 'ratio': 36.8421}, {'period': '2022-11-29', 'ratio': 10.52631}, {'period': '2022-11-30', 'ratio': 42.10526}, {'period': '2022-12-01', 'ratio': 36.8421}, {'period': '2022-12-02', 'ratio': 42.10526}, {'period': '2022-12-03', 'ratio': 15.78947}, {'period': '2022-12-04', 'ratio': 26.31578}, {'period': '2022-12-05', 'ratio': 26.31578}, {'period': '2022-12-06', 'ratio': 31.57894}, {'period': '2022-12-07', 'ratio': 31.57894}, {'period': '2022-12-08', 'ratio': 10.52631}, {'period': '2022-12-09', 'ratio': 36.8421}, {'period': '2022-12-10', 'ratio': 5.26315}, {'period': '2022-12-11', 'ratio': 10.52631}, {'period': '2022-12-12', 'ratio': 5.26315}, {'period': '2022-12-13', 'ratio': 5.26315}, {'period': '2022-12-14', 'ratio': 5.26315}, {'period': '2022-12-15', 'ratio': 47.36842}, {'period': '2022-12-16', 'ratio': 21.05263}, {'period': '2022-12-17', 'ratio': 21.05263}, {'period': '2022-12-18', 'ratio': 26.31578}, {'period': '2022-12-19', 'ratio': 36.8421}, {'period': '2022-12-20', 'ratio': 26.31578}, {'period': '2022-12-21', 'ratio': 47.36842}, {'period': '2022-12-22', 'ratio': 21.05263}, {'period': '2022-12-23', 'ratio': 10.52631}, {'period': '2022-12-24', 'ratio': 42.10526}, {'period': '2022-12-25', 'ratio': 10.52631}, {'period': '2022-12-26', 'ratio': 31.57894}, {'period': '2022-12-27', 'ratio': 26.31578}, {'period': '2022-12-28', 'ratio': 47.36842}, {'period': '2022-12-29', 'ratio': 31.57894}, {'period': '2022-12-30', 'ratio': 5.26315}, {'period': '2022-12-31', 'ratio': 15.78947}, {'period': '2023-01-01', 'ratio': 5.26315}, {'period': '2023-01-02', 'ratio': 10.52631}, {'period': '2023-01-03', 'ratio': 15.78947}, {'period': '2023-01-04', 'ratio': 5.26315}, {'period': '2023-01-05', 'ratio': 26.31578}, {'period': '2023-01-06', 'ratio': 15.78947}, {'period': '2023-01-07', 'ratio': 15.78947}, {'period': '2023-01-08', 'ratio': 5.26315}, {'period': '2023-01-09', 'ratio': 10.52631}, {'period': '2023-01-10', 'ratio': 10.52631}]}]}\n"
          ]
        },
        {
          "output_type": "execute_result",
          "data": {
            "text/plain": [
              "           date  seraching_result\n",
              "0    2022-01-01          31.57894\n",
              "1    2022-01-02           5.26315\n",
              "2    2022-01-03          42.10526\n",
              "3    2022-01-04          36.84210\n",
              "4    2022-01-05          47.36842\n",
              "..          ...               ...\n",
              "366  2023-01-06          15.78947\n",
              "367  2023-01-07          15.78947\n",
              "368  2023-01-08           5.26315\n",
              "369  2023-01-09          10.52631\n",
              "370  2023-01-10          10.52631\n",
              "\n",
              "[371 rows x 2 columns]"
            ],
            "text/html": [
              "\n",
              "  <div id=\"df-037df64a-7462-4c66-9a89-b6fa8bf54aac\">\n",
              "    <div class=\"colab-df-container\">\n",
              "      <div>\n",
              "<style scoped>\n",
              "    .dataframe tbody tr th:only-of-type {\n",
              "        vertical-align: middle;\n",
              "    }\n",
              "\n",
              "    .dataframe tbody tr th {\n",
              "        vertical-align: top;\n",
              "    }\n",
              "\n",
              "    .dataframe thead th {\n",
              "        text-align: right;\n",
              "    }\n",
              "</style>\n",
              "<table border=\"1\" class=\"dataframe\">\n",
              "  <thead>\n",
              "    <tr style=\"text-align: right;\">\n",
              "      <th></th>\n",
              "      <th>date</th>\n",
              "      <th>seraching_result</th>\n",
              "    </tr>\n",
              "  </thead>\n",
              "  <tbody>\n",
              "    <tr>\n",
              "      <th>0</th>\n",
              "      <td>2022-01-01</td>\n",
              "      <td>31.57894</td>\n",
              "    </tr>\n",
              "    <tr>\n",
              "      <th>1</th>\n",
              "      <td>2022-01-02</td>\n",
              "      <td>5.26315</td>\n",
              "    </tr>\n",
              "    <tr>\n",
              "      <th>2</th>\n",
              "      <td>2022-01-03</td>\n",
              "      <td>42.10526</td>\n",
              "    </tr>\n",
              "    <tr>\n",
              "      <th>3</th>\n",
              "      <td>2022-01-04</td>\n",
              "      <td>36.84210</td>\n",
              "    </tr>\n",
              "    <tr>\n",
              "      <th>4</th>\n",
              "      <td>2022-01-05</td>\n",
              "      <td>47.36842</td>\n",
              "    </tr>\n",
              "    <tr>\n",
              "      <th>...</th>\n",
              "      <td>...</td>\n",
              "      <td>...</td>\n",
              "    </tr>\n",
              "    <tr>\n",
              "      <th>366</th>\n",
              "      <td>2023-01-06</td>\n",
              "      <td>15.78947</td>\n",
              "    </tr>\n",
              "    <tr>\n",
              "      <th>367</th>\n",
              "      <td>2023-01-07</td>\n",
              "      <td>15.78947</td>\n",
              "    </tr>\n",
              "    <tr>\n",
              "      <th>368</th>\n",
              "      <td>2023-01-08</td>\n",
              "      <td>5.26315</td>\n",
              "    </tr>\n",
              "    <tr>\n",
              "      <th>369</th>\n",
              "      <td>2023-01-09</td>\n",
              "      <td>10.52631</td>\n",
              "    </tr>\n",
              "    <tr>\n",
              "      <th>370</th>\n",
              "      <td>2023-01-10</td>\n",
              "      <td>10.52631</td>\n",
              "    </tr>\n",
              "  </tbody>\n",
              "</table>\n",
              "<p>371 rows × 2 columns</p>\n",
              "</div>\n",
              "      <button class=\"colab-df-convert\" onclick=\"convertToInteractive('df-037df64a-7462-4c66-9a89-b6fa8bf54aac')\"\n",
              "              title=\"Convert this dataframe to an interactive table.\"\n",
              "              style=\"display:none;\">\n",
              "        \n",
              "  <svg xmlns=\"http://www.w3.org/2000/svg\" height=\"24px\"viewBox=\"0 0 24 24\"\n",
              "       width=\"24px\">\n",
              "    <path d=\"M0 0h24v24H0V0z\" fill=\"none\"/>\n",
              "    <path d=\"M18.56 5.44l.94 2.06.94-2.06 2.06-.94-2.06-.94-.94-2.06-.94 2.06-2.06.94zm-11 1L8.5 8.5l.94-2.06 2.06-.94-2.06-.94L8.5 2.5l-.94 2.06-2.06.94zm10 10l.94 2.06.94-2.06 2.06-.94-2.06-.94-.94-2.06-.94 2.06-2.06.94z\"/><path d=\"M17.41 7.96l-1.37-1.37c-.4-.4-.92-.59-1.43-.59-.52 0-1.04.2-1.43.59L10.3 9.45l-7.72 7.72c-.78.78-.78 2.05 0 2.83L4 21.41c.39.39.9.59 1.41.59.51 0 1.02-.2 1.41-.59l7.78-7.78 2.81-2.81c.8-.78.8-2.07 0-2.86zM5.41 20L4 18.59l7.72-7.72 1.47 1.35L5.41 20z\"/>\n",
              "  </svg>\n",
              "      </button>\n",
              "      \n",
              "  <style>\n",
              "    .colab-df-container {\n",
              "      display:flex;\n",
              "      flex-wrap:wrap;\n",
              "      gap: 12px;\n",
              "    }\n",
              "\n",
              "    .colab-df-convert {\n",
              "      background-color: #E8F0FE;\n",
              "      border: none;\n",
              "      border-radius: 50%;\n",
              "      cursor: pointer;\n",
              "      display: none;\n",
              "      fill: #1967D2;\n",
              "      height: 32px;\n",
              "      padding: 0 0 0 0;\n",
              "      width: 32px;\n",
              "    }\n",
              "\n",
              "    .colab-df-convert:hover {\n",
              "      background-color: #E2EBFA;\n",
              "      box-shadow: 0px 1px 2px rgba(60, 64, 67, 0.3), 0px 1px 3px 1px rgba(60, 64, 67, 0.15);\n",
              "      fill: #174EA6;\n",
              "    }\n",
              "\n",
              "    [theme=dark] .colab-df-convert {\n",
              "      background-color: #3B4455;\n",
              "      fill: #D2E3FC;\n",
              "    }\n",
              "\n",
              "    [theme=dark] .colab-df-convert:hover {\n",
              "      background-color: #434B5C;\n",
              "      box-shadow: 0px 1px 3px 1px rgba(0, 0, 0, 0.15);\n",
              "      filter: drop-shadow(0px 1px 2px rgba(0, 0, 0, 0.3));\n",
              "      fill: #FFFFFF;\n",
              "    }\n",
              "  </style>\n",
              "\n",
              "      <script>\n",
              "        const buttonEl =\n",
              "          document.querySelector('#df-037df64a-7462-4c66-9a89-b6fa8bf54aac button.colab-df-convert');\n",
              "        buttonEl.style.display =\n",
              "          google.colab.kernel.accessAllowed ? 'block' : 'none';\n",
              "\n",
              "        async function convertToInteractive(key) {\n",
              "          const element = document.querySelector('#df-037df64a-7462-4c66-9a89-b6fa8bf54aac');\n",
              "          const dataTable =\n",
              "            await google.colab.kernel.invokeFunction('convertToInteractive',\n",
              "                                                     [key], {});\n",
              "          if (!dataTable) return;\n",
              "\n",
              "          const docLinkHtml = 'Like what you see? Visit the ' +\n",
              "            '<a target=\"_blank\" href=https://colab.research.google.com/notebooks/data_table.ipynb>data table notebook</a>'\n",
              "            + ' to learn more about interactive tables.';\n",
              "          element.innerHTML = '';\n",
              "          dataTable['output_type'] = 'display_data';\n",
              "          await google.colab.output.renderOutput(dataTable, element);\n",
              "          const docLink = document.createElement('div');\n",
              "          docLink.innerHTML = docLinkHtml;\n",
              "          element.appendChild(docLink);\n",
              "        }\n",
              "      </script>\n",
              "    </div>\n",
              "  </div>\n",
              "  "
            ]
          },
          "metadata": {},
          "execution_count": 61
        }
      ]
    },
    {
      "cell_type": "code",
      "source": [
        "import pandas as pd\n",
        "import urllib.request\n",
        "import json\n",
        "\n",
        "\n",
        "client_id = \"HFUqKv5n3Mvd1iTZD9Nw\"\n",
        "client_secret = \"TlLlq3IJat\"\n",
        "\n",
        "url = \"https://openapi.naver.com/v1/datalab/search\"\n",
        "body = \"{\\\n",
        "         \\\"startDate\\\":\\\"2022-01-01\\\",\\\n",
        "         \\\"endDate\\\":\\\"2022-01-31\\\",\\\n",
        "         \\\"timeUnit\\\":\\\"date\\\",\\\n",
        "         \\\"keywordGroups\\\":[{\\\"groupName\\\":\\\"삼성\\\",\\\"keywords\\\":[\\\"삼성\\\",\\\"samsung\\\"]},\\\n",
        "                             {\\\"groupName\\\":\\\"LG\\\",\\\"keywords\\\":[\\\"LG\\\",\\\"LG\\\"]}\\\n",
        "                            ],\\\n",
        "         \\\"device\\\":\\\"pc\\\",\\\n",
        "         \\\"ages\\\":[\\\"1\\\",\\\"2\\\"],\\\n",
        "         \\\"gender\\\":\\\"f\\\"\\\n",
        "         }\";\n",
        "\n",
        "request = urllib.request.Request(url)\n",
        "request.add_header(\"X-Naver-Client-Id\",client_id)\n",
        "request.add_header(\"X-Naver-Client-Secret\",client_secret)\n",
        "request.add_header(\"Content-Type\",\"application/json\")\n",
        "\n",
        "response = urllib.request.urlopen(request, data=body.encode(\"utf-8\"))\n",
        "\n",
        "rescode = response.getcode()\n",
        "\n",
        "if(rescode==200):\n",
        "    response_body = response.read()\n",
        "    response_data = response_body.decode('utf-8')\n",
        "else:\n",
        "    print(\"Error Code:\" + rescode)\n",
        "\n",
        "result = json.loads(response_data)\n",
        "\n",
        "print(result)\n",
        "\n",
        "date = [a['period'] for a in result['results'][0]['data']]\n",
        "ratio_data1 = [a['ratio'] for a in result['results'][0]['data']]\n",
        "ratio_data2 = [a['ratio'] for a in result['results'][1]['data']]\n",
        "\n",
        "print(len(ratio_data1))\n",
        "print(len(ratio_data2))"
      ],
      "metadata": {
        "colab": {
          "base_uri": "https://localhost:8080/"
        },
        "id": "DJvQTTaRxZ60",
        "outputId": "22bbf371-5fb5-49e9-e8c1-5cba11aca972"
      },
      "execution_count": 62,
      "outputs": [
        {
          "output_type": "stream",
          "name": "stdout",
          "text": [
            "{'startDate': '2022-01-01', 'endDate': '2022-01-31', 'timeUnit': 'date', 'results': [{'title': '삼성', 'keywords': ['삼성', 'samsung'], 'data': [{'period': '2022-01-01', 'ratio': 82.97872}, {'period': '2022-01-02', 'ratio': 89.3617}, {'period': '2022-01-03', 'ratio': 72.34042}, {'period': '2022-01-04', 'ratio': 72.34042}, {'period': '2022-01-05', 'ratio': 61.70212}, {'period': '2022-01-06', 'ratio': 59.57446}, {'period': '2022-01-07', 'ratio': 59.57446}, {'period': '2022-01-08', 'ratio': 100}, {'period': '2022-01-09', 'ratio': 63.82978}, {'period': '2022-01-10', 'ratio': 57.4468}, {'period': '2022-01-11', 'ratio': 59.57446}, {'period': '2022-01-12', 'ratio': 57.4468}, {'period': '2022-01-13', 'ratio': 48.93617}, {'period': '2022-01-14', 'ratio': 46.80851}, {'period': '2022-01-15', 'ratio': 61.70212}, {'period': '2022-01-16', 'ratio': 82.97872}, {'period': '2022-01-17', 'ratio': 74.46808}, {'period': '2022-01-18', 'ratio': 76.59574}, {'period': '2022-01-19', 'ratio': 44.68085}, {'period': '2022-01-20', 'ratio': 46.80851}, {'period': '2022-01-21', 'ratio': 61.70212}, {'period': '2022-01-22', 'ratio': 48.93617}, {'period': '2022-01-23', 'ratio': 65.95744}, {'period': '2022-01-24', 'ratio': 59.57446}, {'period': '2022-01-25', 'ratio': 40.42553}, {'period': '2022-01-26', 'ratio': 76.59574}, {'period': '2022-01-27', 'ratio': 65.95744}, {'period': '2022-01-28', 'ratio': 65.95744}, {'period': '2022-01-29', 'ratio': 55.31914}, {'period': '2022-01-30', 'ratio': 46.80851}, {'period': '2022-01-31', 'ratio': 57.4468}]}, {'title': 'LG', 'keywords': ['LG', 'LG'], 'data': [{'period': '2022-01-01', 'ratio': 10.63829}, {'period': '2022-01-02', 'ratio': 2.12765}, {'period': '2022-01-03', 'ratio': 17.02127}, {'period': '2022-01-04', 'ratio': 12.76595}, {'period': '2022-01-05', 'ratio': 12.76595}, {'period': '2022-01-06', 'ratio': 12.76595}, {'period': '2022-01-07', 'ratio': 8.51063}, {'period': '2022-01-08', 'ratio': 8.51063}, {'period': '2022-01-09', 'ratio': 10.63829}, {'period': '2022-01-10', 'ratio': 19.14893}, {'period': '2022-01-11', 'ratio': 12.76595}, {'period': '2022-01-12', 'ratio': 8.51063}, {'period': '2022-01-13', 'ratio': 4.25531}, {'period': '2022-01-14', 'ratio': 4.25531}, {'period': '2022-01-15', 'ratio': 2.12765}, {'period': '2022-01-16', 'ratio': 14.89361}, {'period': '2022-01-17', 'ratio': 17.02127}, {'period': '2022-01-18', 'ratio': 14.89361}, {'period': '2022-01-19', 'ratio': 12.76595}, {'period': '2022-01-20', 'ratio': 14.89361}, {'period': '2022-01-21', 'ratio': 17.02127}, {'period': '2022-01-22', 'ratio': 14.89361}, {'period': '2022-01-23', 'ratio': 14.89361}, {'period': '2022-01-24', 'ratio': 4.25531}, {'period': '2022-01-25', 'ratio': 6.38297}, {'period': '2022-01-26', 'ratio': 23.40425}, {'period': '2022-01-27', 'ratio': 12.76595}, {'period': '2022-01-28', 'ratio': 10.63829}, {'period': '2022-01-29', 'ratio': 10.63829}, {'period': '2022-01-31', 'ratio': 12.76595}]}]}\n",
            "31\n",
            "30\n"
          ]
        }
      ]
    },
    {
      "cell_type": "code",
      "source": [
        "import os\n",
        "import sys\n",
        "import urllib.request\n",
        "client_id = \"JC9If3H4OTESpxkp2bGt\" #발급받은 ID 입력\n",
        "client_secret = \"YQU6qmmIUH\" #발급받은 PW 입력\n",
        "encText = urllib.parse.quote(\"삼성\") # 검색할 단어 입력\n",
        "url = \"https://openapi.naver.com/v1/search/blog?query=\" + encText # json 결과\n",
        "# url = \"https://openapi.naver.com/v1/search/blog.xml?query=\" + encText # xml 결과\n",
        "request = urllib.request.Request(url)\n",
        "request.add_header(\"X-Naver-Client-Id\",client_id)\n",
        "request.add_header(\"X-Naver-Client-Secret\",client_secret)\n",
        "response = urllib.request.urlopen(request)\n",
        "rescode = response.getcode()\n",
        "if(rescode==200):\n",
        "    response_body = response.read()\n",
        "    print(response_body.decode('utf-8'))\n",
        "    json_str = response_body.decode('utf-8')\n",
        "else:\n",
        "    print(\"Error Code:\" + rescode)\n",
        "json_object  = json.loads(json_str) #json 변환\n",
        "df = pd.DataFrame(json_object['items'][:10])\n",
        "json_str= response_body.decode('utf-8')\n",
        "df= pd.DataFrame(json_object['items'][:10])\n",
        "\n",
        "df['title'] = df['title'].str.replace(\"<b>\", \"\")\n",
        "df['title'] = df['title'].str.replace(\"</b>\", \"\")\n",
        "df['description'] = df['description'].str.replace(\"<b>\", \"\")\n",
        "df['description'] = df['description'].str.replace(\"</b>\", \"\")\n",
        "df"
      ],
      "metadata": {
        "id": "GCfJ3SSFj0pW"
      },
      "execution_count": null,
      "outputs": []
    },
    {
      "cell_type": "markdown",
      "source": [
        "#Random Forest"
      ],
      "metadata": {
        "id": "QIIixamu1yWy"
      }
    },
    {
      "cell_type": "markdown",
      "source": [
        "##분류예측"
      ],
      "metadata": {
        "id": "5koCI_Ca2FUW"
      }
    },
    {
      "cell_type": "code",
      "source": [
        "df = pd.read_csv(\"/content/drive/MyDrive/Ubion/data/Ashopping.csv\", encoding = \"cp949\")"
      ],
      "metadata": {
        "id": "TlWyC-H02glu"
      },
      "execution_count": 65,
      "outputs": []
    },
    {
      "cell_type": "code",
      "source": [
        "#1.변수선택\n",
        "X = df[['총매출액', '구매금액대', '1회 평균매출액', '평균 구매주기', '거래기간']]\n",
        "Y = df[\"할인민감여부\"]\n",
        "\n",
        "#2.train - test split\n",
        "X_train, X_test, Y_train, Y_test = train_test_split(X, Y, test_size=0.3, random_state=0)\n",
        "\n",
        "#3. 데이터 전처리(preprocessing)\n",
        "ct = ColumnTransformer([(\"scaling\", StandardScaler(), ['총매출액', '1회 평균매출액', '평균 구매주기', '거래기간']), \n",
        "                        (\"onehot\", OneHotEncoder(sparse = False), ['구매금액대'])])\n",
        "ct.fit(X_train)\n",
        "X_train = ct.transform(X_train)\n",
        "X_test = ct.transform(X_test)\n",
        "\n",
        "#4. 오버샘플링\n",
        "smote = SMOTE(random_state=0)\n",
        "X_train, Y_train = smote.fit_resample(X_train, Y_train)"
      ],
      "metadata": {
        "id": "Q6hx2yO2eQKc"
      },
      "execution_count": 66,
      "outputs": []
    },
    {
      "cell_type": "code",
      "source": [
        "#5. 모형 생성\n",
        "from sklearn.ensemble import RandomForestClassifier\n",
        "model = RandomForestClassifier(random_state = 0, n_estimators = 300, max_depth = 3)\n",
        "\n",
        "#6. 모형 예측 평가\n",
        "model.fit(X_train, Y_train)\n",
        "Y_pred = model.predict(X_test)\n",
        "print(\"Y predict value: \\n\", Y_pred)\n",
        "print(\"accuracy(test) : {:.3f}\".format(model.score(X_test, Y_test)))\n",
        "print(classification_report(Y_test, Y_pred))"
      ],
      "metadata": {
        "id": "iEi2Ukhc2K4M"
      },
      "execution_count": null,
      "outputs": []
    },
    {
      "cell_type": "markdown",
      "source": [
        "##회귀예측"
      ],
      "metadata": {
        "id": "KdMRf7E26HAx"
      }
    },
    {
      "cell_type": "code",
      "source": [
        "#1.변수선택\n",
        "X = df[df.이탈여부 == 0][['방문빈도', '총 할인 금액', '고객등급', '구매유형', '거래기간', \n",
        "                   '할인민감여부', '평균 구매주기']]\n",
        "Y = np.log1p(df[df.이탈여부 == 0][\"1회 평균매출액\"])\n",
        "\n",
        "#2.train - test split\n",
        "X_train, X_test, Y_train, Y_test = train_test_split(X, Y, test_size=0.3, random_state=0)\n",
        "\n",
        "#3. 데이터 전처리(preprocessing)\n",
        "ct = ColumnTransformer([(\"scaling\", StandardScaler(), ['방문빈도', '총 할인 금액', '거래기간', '평균 구매주기']), \n",
        "                        (\"onehot\", OneHotEncoder(sparse = False), ['고객등급', '구매유형', '할인민감여부'])])\n",
        "ct.fit(X_train)\n",
        "X_train = ct.transform(X_train)\n",
        "X_test = ct.transform(X_test)"
      ],
      "metadata": {
        "id": "KaznuNDT5Att"
      },
      "execution_count": 68,
      "outputs": []
    },
    {
      "cell_type": "code",
      "source": [
        "#4. 모형 생성\n",
        "from sklearn.ensemble import RandomForestRegressor\n",
        "model = RandomForestRegressor(random_state = 0, n_estimators = 100, max_depth = 4)\n",
        "\n",
        "#5. 모형 예측 평가\n",
        "model.fit(X_train, Y_train)\n",
        "Y_pred = model.predict(X_test)\n",
        "print(\"Y predict value : \\n\", Y_pred)\n",
        "print(\"accracy(R2) : {:.3f}\".format(model.score(X_train, Y_train)))\n",
        "rmse = sqrt(mean_squared_error(Y_test, Y_pred))\n",
        "print(\"RMSE :\", rmse)"
      ],
      "metadata": {
        "id": "PBNWWhx36N2C"
      },
      "execution_count": null,
      "outputs": []
    },
    {
      "cell_type": "markdown",
      "source": [
        "#그래디언트 부스트(Gradient Boost)"
      ],
      "metadata": {
        "id": "vtjAl-hIAnik"
      }
    },
    {
      "cell_type": "markdown",
      "source": [
        "#분류예측"
      ],
      "metadata": {
        "id": "1_IuGx7CAt17"
      }
    },
    {
      "cell_type": "code",
      "source": [
        "#1.변수선택\n",
        "X = df[['총매출액', '구매금액대', '1회 평균매출액', '평균 구매주기', '거래기간']]\n",
        "Y = df[\"할인민감여부\"]\n",
        "\n",
        "#2.train - test split\n",
        "X_train, X_test, Y_train, Y_test = train_test_split(X, Y, test_size=0.3, random_state=0)\n",
        "\n",
        "#3. 데이터 전처리(preprocessing)\n",
        "ct = ColumnTransformer([(\"scaling\", StandardScaler(), ['총매출액', '1회 평균매출액', '평균 구매주기', '거래기간']), \n",
        "                        (\"onehot\", OneHotEncoder(sparse = False), ['구매금액대'])])\n",
        "ct.fit(X_train)\n",
        "X_train = ct.transform(X_train)\n",
        "X_test = ct.transform(X_test)\n",
        "\n",
        "#4. 오버샘플링\n",
        "smote = SMOTE(random_state=0)\n",
        "X_train, Y_train = smote.fit_resample(X_train, Y_train)"
      ],
      "metadata": {
        "id": "30bVszMyAnCW"
      },
      "execution_count": 71,
      "outputs": []
    },
    {
      "cell_type": "code",
      "source": [
        "#5.모형 생성\n",
        "from sklearn.ensemble import GradientBoostingClassifier\n",
        "model = GradientBoostingClassifier(random_state = 0, n_estimators = 100, max_depth = 4, \n",
        "                                   learning_rate = 0.1)\n",
        "\n",
        "#6.모형 학습 예측\n",
        "model.fit(X_train, Y_train)\n",
        "Y_pred = model.predict(X_test)\n",
        "print(\"Y predict value: \\n\", Y_pred)\n",
        "print(\"accuracy(test) : {:.3f}\".format(model.score(X_test, Y_test)))\n",
        "print(classification_report(Y_test, Y_pred))"
      ],
      "metadata": {
        "colab": {
          "base_uri": "https://localhost:8080/"
        },
        "id": "xpHWwNvNA0Qu",
        "outputId": "88688002-6ca0-4f78-93af-d56eb55a33ff"
      },
      "execution_count": 72,
      "outputs": [
        {
          "output_type": "stream",
          "name": "stdout",
          "text": [
            "Y predict value: \n",
            " [1 1 0 0 1 1 0 0 0 1 0 0 1 0 1 0 1 0 0 0 0 0 0 0 0 1 0 0 0 0 1 1 1 1 0 1 1\n",
            " 0 1 0 0 1 1 1 0 0 1 0 0 0 1 0 0 0 1 1 0 0 1 1 0 1 1 0 0 0 1 0 0 0 1 0 0 0\n",
            " 1 0 0 0 0 1 0 0 0 1 1 1 0 0 0 0 1 0 0 0 0 1 1 0 0 0 1 1 0 1 0 1 1 0 1 1 0\n",
            " 1 0 0 0 0 0 0 0 0 1 0 0 1 0 1 0 0 1 1 0 0 1 1 1 1 0 1 0 1 0 0 0 0 0 1 0 0\n",
            " 1 1 0 1 0 0 0 1 0 0 0 0 1 1 0 0 1 0 0 1 0 0 0 1 1 1 0 0 0 0 1 0 0 0 0 0 1\n",
            " 0 0 1 1 1 0 1 0 1 1 1 1 0 1 0 0 0 0 1 1 0 1 0 0 1 0 0 1 0 0 1 0 0 0 1 1 1\n",
            " 1 0 0 1 1 0 0 1 0 0 0 0 0 0 0 0 0 0 0 0 0 0 1 0 1 0 1 1 0 1 0 0 0 1 1 0 1\n",
            " 1 1 1 0 0 0 0 0 0 1 0 1 0 0 0 1 1 0 0 0 0 1 1 0 1 0 0 1 0 0 0 1 1 1 1 0 0\n",
            " 0 0 0 0]\n",
            "accuracy(test) : 0.933\n",
            "              precision    recall  f1-score   support\n",
            "\n",
            "           0       0.92      0.97      0.94       177\n",
            "           1       0.95      0.89      0.92       123\n",
            "\n",
            "    accuracy                           0.93       300\n",
            "   macro avg       0.94      0.93      0.93       300\n",
            "weighted avg       0.93      0.93      0.93       300\n",
            "\n"
          ]
        }
      ]
    },
    {
      "cell_type": "markdown",
      "source": [
        "##회귀예측"
      ],
      "metadata": {
        "id": "bLgkK-ixCist"
      }
    },
    {
      "cell_type": "code",
      "source": [
        "#1.변수선택\n",
        "X = df[df.이탈여부 == 0][['방문빈도', '총 할인 금액', '고객등급', '구매유형', '거래기간', \n",
        "                   '할인민감여부', '평균 구매주기']]\n",
        "Y = np.log1p(df[df.이탈여부 == 0][\"1회 평균매출액\"])\n",
        "\n",
        "#2.train - test split\n",
        "X_train, X_test, Y_train, Y_test = train_test_split(X, Y, test_size=0.3, random_state=0)\n",
        "\n",
        "#3. 데이터 전처리(preprocessing)\n",
        "ct = ColumnTransformer([(\"scaling\", StandardScaler(), ['방문빈도', '총 할인 금액', '거래기간', '평균 구매주기']), \n",
        "                        (\"onehot\", OneHotEncoder(sparse = False), ['고객등급', '구매유형', '할인민감여부'])])\n",
        "ct.fit(X_train)\n",
        "X_train = ct.transform(X_train)\n",
        "X_test = ct.transform(X_test)"
      ],
      "metadata": {
        "id": "SGk0zLVzCiD7"
      },
      "execution_count": 73,
      "outputs": []
    },
    {
      "cell_type": "code",
      "source": [
        "#4. 모형생성\n",
        "from sklearn.ensemble import GradientBoostingRegressor\n",
        "model = GradientBoostingRegressor(random_state = 0, n_estimators = 100, max_depth = 4, \n",
        "                                   learning_rate = 0.1)\n",
        "\n",
        "#5. 모형 학습 예측\n",
        "model.fit(X_train, Y_train)\n",
        "Y_pred = model.predict(X_test)\n",
        "print(\"Y predict value : \\n\", Y_pred)\n",
        "print(\"accracy(R2) : {:.3f}\".format(model.score(X_train, Y_train)))\n",
        "rmse = sqrt(mean_squared_error(Y_test, Y_pred))\n",
        "print(\"RMSE :\", rmse)"
      ],
      "metadata": {
        "colab": {
          "base_uri": "https://localhost:8080/"
        },
        "id": "pQ_1ZK1dCnrk",
        "outputId": "e8f439ab-8411-4ef8-dfdd-68800c8b012f"
      },
      "execution_count": 74,
      "outputs": [
        {
          "output_type": "stream",
          "name": "stdout",
          "text": [
            "Y predict value : \n",
            " [12.62344813 12.25583406 12.09458751 13.07090617 11.40422303 12.45220348\n",
            " 11.61198904 12.45651119 12.08328814 12.32640447 12.39533751 12.23594472\n",
            " 12.13577357 12.24057416 12.73503493 12.29364736 12.84361351 12.99742565\n",
            " 11.76512764 12.45752565 12.63483127 11.38579233 12.41560355 12.50712961\n",
            " 10.79435548 12.62928969 12.60613938 11.92964399 12.34916462 12.07520652\n",
            " 12.57121312 13.01697524 12.39965923 13.03165827 12.11711146 12.09888134\n",
            " 12.18727902 12.94489209 11.93717047 13.18376863 12.76957258 12.21597158\n",
            " 12.54049819 12.10678757 12.64544285 12.59000213 11.18198188 12.13358256\n",
            " 12.5668075  12.42634623 11.81913361 13.52008205 11.10458182 12.09979475\n",
            " 13.07232151 12.20069308 12.66489797 12.28476526 11.98447614 12.31654311\n",
            " 12.79736561 12.76535462 11.92863698 12.44145179 12.12157567 12.10310068\n",
            " 11.87519738 11.62364672 12.99672955 12.27936785 12.36258046 11.70831635\n",
            " 11.91861812 11.96233767 12.15305515 13.12437922 12.65319979 12.93053239\n",
            " 12.03260309 12.25751434 12.0000299  11.89763423 11.5329378  12.93737778\n",
            " 12.40440044 12.64050116 12.73633832 12.62223461 11.7388871  12.5605956\n",
            " 12.46170754 13.27233418 12.49065444 12.99839492 11.98770272 13.31580316\n",
            " 13.01839043 12.06375631 12.80479374 11.98398262 11.65401981 12.2787555\n",
            " 12.73424086 11.43216014 12.24460123 12.8969792  12.85568613 11.95915872\n",
            " 12.04694305 12.60039447 12.01332333 11.79424302 12.69414998 13.32348351\n",
            " 11.70900777 12.09118735 12.18245925 12.88276381 12.17369179 12.50951424\n",
            " 12.72249627 12.60660354 12.17592955 12.74111678 12.65434081 12.24543644\n",
            " 12.44711341 11.5965925  12.66089249 11.8160437  12.76149045 11.7436314\n",
            " 13.03109978 12.47939971 11.51054282 12.14448715 11.47094125 12.11272934\n",
            " 12.91853515 11.72347747 12.41600997 12.02868338 12.60354515 11.74879952\n",
            " 12.5937395  12.63427503 12.89215104 12.73329149 12.58830131 11.85372773\n",
            " 12.44993728 12.89737544 12.4613579  12.89249471 13.5522812  11.48000074\n",
            " 11.50736548 12.67931101 12.15982715 12.60083252 13.03940439 12.73213993\n",
            " 12.75970949 11.94740293 12.66238056 12.38212172 12.7089022  11.21000233\n",
            " 12.72847666 12.15336244 11.21970406 11.8446597  11.87301358 13.47804771\n",
            " 12.35228515 12.60249735 13.83729506 11.86136594 12.63613548 11.25707904\n",
            " 13.54480221 13.48288458 12.66406609 12.72222242 12.05683865 11.94755448\n",
            " 12.37945452 12.37595316 10.65869553 13.10374396 12.37640418 12.58991922\n",
            " 13.19704136 12.59201926 11.85361937 12.02339775 12.40938986 11.80883328\n",
            " 13.01162095 11.53925824 13.19678706 12.58870571 12.0776148  11.41688057\n",
            " 12.70617545 11.84467509 12.43060262 12.42450198 12.92575457 12.54130517]\n",
            "accracy(R2) : 0.916\n",
            "RMSE : 0.41380793566137386\n"
          ]
        }
      ]
    }
  ]
}