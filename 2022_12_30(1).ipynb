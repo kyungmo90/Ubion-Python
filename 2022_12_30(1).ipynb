{
  "nbformat": 4,
  "nbformat_minor": 0,
  "metadata": {
    "colab": {
      "provenance": []
    },
    "kernelspec": {
      "name": "python3",
      "display_name": "Python 3"
    },
    "language_info": {
      "name": "python"
    }
  },
  "cells": [
    {
      "cell_type": "markdown",
      "source": [
        "#파이썬 기초 연습 (2022-12-30)"
      ],
      "metadata": {
        "id": "M6BjbNi_mplJ"
      }
    },
    {
      "cell_type": "code",
      "source": [],
      "metadata": {
        "id": "4-tYUHORnMrH"
      },
      "execution_count": null,
      "outputs": []
    },
    {
      "cell_type": "markdown",
      "source": [
        "대소 비교"
      ],
      "metadata": {
        "id": "i4f9vIGQneps"
      }
    },
    {
      "cell_type": "code",
      "execution_count": null,
      "metadata": {
        "colab": {
          "base_uri": "https://localhost:8080/"
        },
        "id": "zSJgE4W-WsMX",
        "outputId": "44fbf347-81ff-4113-c7be-df27b73e70f6"
      },
      "outputs": [
        {
          "output_type": "execute_result",
          "data": {
            "text/plain": [
              "True"
            ]
          },
          "metadata": {},
          "execution_count": 33
        }
      ],
      "source": [
        "1<2\n",
        "# 대소비교"
      ]
    },
    {
      "cell_type": "code",
      "source": [
        "1<=1"
      ],
      "metadata": {
        "colab": {
          "base_uri": "https://localhost:8080/"
        },
        "id": "pddgEfynWu5M",
        "outputId": "f75ccff4-2eec-4550-e799-492689113e7f"
      },
      "execution_count": null,
      "outputs": [
        {
          "output_type": "execute_result",
          "data": {
            "text/plain": [
              "True"
            ]
          },
          "metadata": {},
          "execution_count": 34
        }
      ]
    },
    {
      "cell_type": "code",
      "source": [
        "1>=2"
      ],
      "metadata": {
        "colab": {
          "base_uri": "https://localhost:8080/"
        },
        "id": "BjgLQEUJWxA0",
        "outputId": "4ffc3c0a-24de-4466-8a40-214b907e055e"
      },
      "execution_count": null,
      "outputs": [
        {
          "output_type": "execute_result",
          "data": {
            "text/plain": [
              "False"
            ]
          },
          "metadata": {},
          "execution_count": 35
        }
      ]
    },
    {
      "cell_type": "markdown",
      "source": [
        "and, not, not in"
      ],
      "metadata": {
        "id": "EYU83Gicns7-"
      }
    },
    {
      "cell_type": "code",
      "source": [
        "1 and 0\n",
        "# and는 교집합 개념"
      ],
      "metadata": {
        "colab": {
          "base_uri": "https://localhost:8080/"
        },
        "id": "yXpyYOAdW0DX",
        "outputId": "95be3e81-ecfd-4961-cca2-ed5c24769506"
      },
      "execution_count": null,
      "outputs": [
        {
          "output_type": "execute_result",
          "data": {
            "text/plain": [
              "0"
            ]
          },
          "metadata": {},
          "execution_count": 36
        }
      ]
    },
    {
      "cell_type": "code",
      "source": [
        "not 1\n",
        "# 참이 아니기 대문에 거짓"
      ],
      "metadata": {
        "id": "WSl-x3zPXVBe",
        "colab": {
          "base_uri": "https://localhost:8080/"
        },
        "outputId": "bd13b793-4736-4cf9-f793-1363deb5ede1"
      },
      "execution_count": null,
      "outputs": [
        {
          "output_type": "execute_result",
          "data": {
            "text/plain": [
              "False"
            ]
          },
          "metadata": {},
          "execution_count": 1
        }
      ]
    },
    {
      "cell_type": "code",
      "source": [
        "1 not in [0, 2, 3, 4]\n",
        "# 1이 리스트에 없기 때문에 참"
      ],
      "metadata": {
        "id": "0H2qPtHWXYbL",
        "colab": {
          "base_uri": "https://localhost:8080/"
        },
        "outputId": "811a477b-30ab-4579-a699-a5198436528d"
      },
      "execution_count": null,
      "outputs": [
        {
          "output_type": "execute_result",
          "data": {
            "text/plain": [
              "True"
            ]
          },
          "metadata": {},
          "execution_count": 2
        }
      ]
    },
    {
      "cell_type": "code",
      "source": [
        "'a' in 'abc'\n",
        "# abc에 a가 있기 때문에 참"
      ],
      "metadata": {
        "id": "cCto06gJXu--",
        "colab": {
          "base_uri": "https://localhost:8080/"
        },
        "outputId": "5073176b-68ae-4afe-f173-20a91d5a8673"
      },
      "execution_count": null,
      "outputs": [
        {
          "output_type": "execute_result",
          "data": {
            "text/plain": [
              "True"
            ]
          },
          "metadata": {},
          "execution_count": 3
        }
      ]
    },
    {
      "cell_type": "markdown",
      "source": [
        "if, else 시험점수 연습"
      ],
      "metadata": {
        "id": "JO4z2jBdreb5"
      }
    },
    {
      "cell_type": "code",
      "source": [
        "score = 59\n",
        "\n",
        "if score > 90:\n",
        "    print(\"A\")\n",
        "else:\n",
        "    if score > 80:\n",
        "        print(\"B\")\n",
        "    else:\n",
        "      if score >70:\n",
        "          print(\"C\")\n",
        "      else:\n",
        "        if score > 60:\n",
        "            print(\"D\")\n",
        "        else:\n",
        "            print(\"F\")\n",
        "          \n",
        "# if, else 함수에서는 공백을 어떻게 넣느냐를 잘 봐야 함"
      ],
      "metadata": {
        "id": "mioJRg02Xz7l",
        "colab": {
          "base_uri": "https://localhost:8080/"
        },
        "outputId": "cb7b3c7d-d61c-420d-a0bd-28db4a09b271"
      },
      "execution_count": null,
      "outputs": [
        {
          "output_type": "stream",
          "name": "stdout",
          "text": [
            "F\n"
          ]
        }
      ]
    },
    {
      "cell_type": "markdown",
      "source": [
        "if, elif 시험점수 연습"
      ],
      "metadata": {
        "id": "HyMiC98ornrL"
      }
    },
    {
      "cell_type": "code",
      "source": [
        "score = 71\n",
        "\n",
        "if score > 90:\n",
        "    print(\"A\")\n",
        "elif score > 80:\n",
        "    print(\"B\")\n",
        "elif score >70:\n",
        "    print(\"C\")\n",
        "elif score > 60:\n",
        "    print(\"D\")\n",
        "elif score <= 60:\n",
        "    print(\"F\")\n",
        "          \n",
        "# if, elif에서는 같은 줄에 입력\n"
      ],
      "metadata": {
        "id": "cfq56KydYbuo",
        "colab": {
          "base_uri": "https://localhost:8080/"
        },
        "outputId": "2e27124c-6bb9-40a7-e66e-96b0324252cd"
      },
      "execution_count": null,
      "outputs": [
        {
          "output_type": "stream",
          "name": "stdout",
          "text": [
            "C\n"
          ]
        }
      ]
    },
    {
      "cell_type": "markdown",
      "source": [
        "try, except, else 연습"
      ],
      "metadata": {
        "id": "bBo2d4o3rrE2"
      }
    },
    {
      "cell_type": "code",
      "source": [
        "try :\n",
        "    1/3\n",
        "except :\n",
        "    print(\"분모가 0이 나왔음\")\n",
        "else :\n",
        "    print(\"분모 이상없음\")\n",
        "\n",
        "# try에서 오류가 난다면 문자열이 출력되고 오류가 안나면 else구문에서 문자열이 출력"
      ],
      "metadata": {
        "id": "15L9MjMxbmJw",
        "colab": {
          "base_uri": "https://localhost:8080/"
        },
        "outputId": "371f3e36-4e84-4c06-98cb-e3132d7e6127"
      },
      "execution_count": null,
      "outputs": [
        {
          "output_type": "stream",
          "name": "stdout",
          "text": [
            "분모 이상없음\n"
          ]
        }
      ]
    },
    {
      "cell_type": "markdown",
      "source": [
        "while, if, for 연습"
      ],
      "metadata": {
        "id": "exQMN_EZrvIz"
      }
    },
    {
      "cell_type": "code",
      "source": [
        "i = 0\n",
        "while i < 10:\n",
        "    i+=1\n",
        "    print(i)\n",
        "\n",
        "# while문을 이용해 i를 0+1부터 9+1까지 출력"
      ],
      "metadata": {
        "colab": {
          "base_uri": "https://localhost:8080/"
        },
        "id": "0Oyl_4nGc234",
        "outputId": "813637be-b65a-42fb-f5ae-c7f7679b6005"
      },
      "execution_count": null,
      "outputs": [
        {
          "output_type": "stream",
          "name": "stdout",
          "text": [
            "1\n",
            "2\n",
            "3\n",
            "4\n",
            "5\n",
            "6\n",
            "7\n",
            "8\n",
            "9\n",
            "10\n"
          ]
        }
      ]
    },
    {
      "cell_type": "code",
      "source": [
        "for i in range(10):\n",
        "  print(i)\n",
        "\n",
        "# for문을 이용해서 0부터 9까지 출력"
      ],
      "metadata": {
        "colab": {
          "base_uri": "https://localhost:8080/"
        },
        "id": "CKHqkPKtdIsa",
        "outputId": "3d4c2a16-6335-4781-da54-d60d6e30cf82"
      },
      "execution_count": null,
      "outputs": [
        {
          "output_type": "stream",
          "name": "stdout",
          "text": [
            "0\n",
            "1\n",
            "2\n",
            "3\n",
            "4\n",
            "5\n",
            "6\n",
            "7\n",
            "8\n",
            "9\n"
          ]
        }
      ]
    },
    {
      "cell_type": "code",
      "source": [
        "j = 0\n",
        "for i in range(10):\n",
        "    j += i\n",
        "    print(j)\n",
        "\n",
        "# for문을 이용해 j를 0부터 i를 더해가면서 출력"
      ],
      "metadata": {
        "colab": {
          "base_uri": "https://localhost:8080/"
        },
        "id": "LIpJCvdweWCQ",
        "outputId": "8726c1ec-0d94-4004-fe1c-16548f31b9e9"
      },
      "execution_count": null,
      "outputs": [
        {
          "output_type": "stream",
          "name": "stdout",
          "text": [
            "0\n",
            "1\n",
            "3\n",
            "6\n",
            "10\n",
            "15\n",
            "21\n",
            "28\n",
            "36\n",
            "45\n"
          ]
        }
      ]
    },
    {
      "cell_type": "code",
      "source": [
        "for i in range(5, 15, 2) :\n",
        "  print(i, end = \" \")\n",
        "# for문을 이용해 5부터 13까지 2씩 증가하며 마지막에 공백으로 출력"
      ],
      "metadata": {
        "colab": {
          "base_uri": "https://localhost:8080/"
        },
        "id": "offFdbQyem5_",
        "outputId": "e251536c-1b8e-4c82-e2b4-15b807261669"
      },
      "execution_count": null,
      "outputs": [
        {
          "output_type": "stream",
          "name": "stdout",
          "text": [
            "5 7 9 11 13 "
          ]
        }
      ]
    },
    {
      "cell_type": "markdown",
      "source": [
        "함수 연습"
      ],
      "metadata": {
        "id": "kmog6JJyrzv-"
      }
    },
    {
      "cell_type": "code",
      "source": [
        "def f(a):\n",
        "    out = a/3\n",
        "    return out\n",
        "\n",
        "# 함수 a를 3으로 나눈 값을 지정"
      ],
      "metadata": {
        "id": "14uUAFdZfykc"
      },
      "execution_count": 6,
      "outputs": []
    },
    {
      "cell_type": "code",
      "source": [
        "f(30)\n",
        "# 이후로 자료가 날라갔습니다."
      ],
      "metadata": {
        "colab": {
          "base_uri": "https://localhost:8080/"
        },
        "id": "JMUaXAArgDEg",
        "outputId": "50203cdb-71a0-4cc6-fa92-c5cc22ae372e"
      },
      "execution_count": 7,
      "outputs": [
        {
          "output_type": "execute_result",
          "data": {
            "text/plain": [
              "10.0"
            ]
          },
          "metadata": {},
          "execution_count": 7
        }
      ]
    },
    {
      "cell_type": "code",
      "source": [
        "div_3(30)\n"
      ],
      "metadata": {
        "id": "7BjLKTHEgH9g"
      },
      "execution_count": null,
      "outputs": []
    },
    {
      "cell_type": "code",
      "source": [],
      "metadata": {
        "id": "OxbJO5p9gRZX"
      },
      "execution_count": null,
      "outputs": []
    }
  ]
}
