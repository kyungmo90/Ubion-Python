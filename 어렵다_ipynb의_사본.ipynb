{
  "nbformat": 4,
  "nbformat_minor": 0,
  "metadata": {
    "colab": {
      "provenance": [],
      "include_colab_link": true
    },
    "kernelspec": {
      "name": "python3",
      "display_name": "Python 3"
    },
    "language_info": {
      "name": "python"
    }
  },
  "cells": [
    {
      "cell_type": "markdown",
      "metadata": {
        "id": "view-in-github",
        "colab_type": "text"
      },
      "source": [
        "<a href=\"https://colab.research.google.com/github/kyungmo90/Ubion-Python/blob/main/%EC%96%B4%EB%A0%B5%EB%8B%A4_ipynb%EC%9D%98_%EC%82%AC%EB%B3%B8.ipynb\" target=\"_parent\"><img src=\"https://colab.research.google.com/assets/colab-badge.svg\" alt=\"Open In Colab\"/></a>"
      ]
    },
    {
      "cell_type": "code",
      "source": [],
      "metadata": {
        "id": "ZNm0UkopGCtm"
      },
      "execution_count": null,
      "outputs": []
    },
    {
      "cell_type": "markdown",
      "source": [
        "#2023 3차시 팀과제\n",
        "#서울자전거데이터 머신러닝"
      ],
      "metadata": {
        "id": "VFnUN1HSGOVr"
      }
    },
    {
      "cell_type": "markdown",
      "source": [
        "#Y(종속변수): 빌린 자전거 개수\n",
        "#X(독립변수) : 풍속\n",
        "#X(통제변수) : 온도 , 풍속"
      ],
      "metadata": {
        "id": "bLK-yVhEGQYQ"
      }
    },
    {
      "cell_type": "code",
      "source": [
        "import pandas as pd\n",
        "import numpy as np\n",
        "import seaborn as sns\n",
        "import matplotlib.pyplot as plt\n",
        "from numpy import genfromtxt\n",
        "#서울시자전거데이터 마운트\n",
        "df = pd.read_csv(\"/content/drive/MyDrive/SeoulBikeData.csv\", encoding = \"cp949\")\n",
        "df"
      ],
      "metadata": {
        "colab": {
          "base_uri": "https://localhost:8080/",
          "height": 696
        },
        "id": "236Tb5fUGPBY",
        "outputId": "d76a5cd4-84e3-442e-b89b-4cf4cbdf0a88"
      },
      "execution_count": null,
      "outputs": [
        {
          "output_type": "execute_result",
          "data": {
            "text/plain": [
              "            Date  Rented Bike Count  Hour  Temperature(캜)  Humidity(%)  \\\n",
              "0     01/12/2017                254     0            -5.2           37   \n",
              "1     01/12/2017                204     1            -5.5           38   \n",
              "2     01/12/2017                173     2            -6.0           39   \n",
              "3     01/12/2017                107     3            -6.2           40   \n",
              "4     01/12/2017                 78     4            -6.0           36   \n",
              "...          ...                ...   ...             ...          ...   \n",
              "8755  30/11/2018               1003    19             4.2           34   \n",
              "8756  30/11/2018                764    20             3.4           37   \n",
              "8757  30/11/2018                694    21             2.6           39   \n",
              "8758  30/11/2018                712    22             2.1           41   \n",
              "8759  30/11/2018                584    23             1.9           43   \n",
              "\n",
              "      Wind speed (m/s)  Visibility (10m)  Dew point temperature(캜)  \\\n",
              "0                  2.2              2000                     -17.6   \n",
              "1                  0.8              2000                     -17.6   \n",
              "2                  1.0              2000                     -17.7   \n",
              "3                  0.9              2000                     -17.6   \n",
              "4                  2.3              2000                     -18.6   \n",
              "...                ...               ...                       ...   \n",
              "8755               2.6              1894                     -10.3   \n",
              "8756               2.3              2000                      -9.9   \n",
              "8757               0.3              1968                      -9.9   \n",
              "8758               1.0              1859                      -9.8   \n",
              "8759               1.3              1909                      -9.3   \n",
              "\n",
              "      Solar Radiation (MJ/m2)  Rainfall(mm)  Snowfall (cm) Seasons  \\\n",
              "0                         0.0           0.0            0.0  Winter   \n",
              "1                         0.0           0.0            0.0  Winter   \n",
              "2                         0.0           0.0            0.0  Winter   \n",
              "3                         0.0           0.0            0.0  Winter   \n",
              "4                         0.0           0.0            0.0  Winter   \n",
              "...                       ...           ...            ...     ...   \n",
              "8755                      0.0           0.0            0.0  Autumn   \n",
              "8756                      0.0           0.0            0.0  Autumn   \n",
              "8757                      0.0           0.0            0.0  Autumn   \n",
              "8758                      0.0           0.0            0.0  Autumn   \n",
              "8759                      0.0           0.0            0.0  Autumn   \n",
              "\n",
              "         Holiday Functioning Day  \n",
              "0     No Holiday             Yes  \n",
              "1     No Holiday             Yes  \n",
              "2     No Holiday             Yes  \n",
              "3     No Holiday             Yes  \n",
              "4     No Holiday             Yes  \n",
              "...          ...             ...  \n",
              "8755  No Holiday             Yes  \n",
              "8756  No Holiday             Yes  \n",
              "8757  No Holiday             Yes  \n",
              "8758  No Holiday             Yes  \n",
              "8759  No Holiday             Yes  \n",
              "\n",
              "[8760 rows x 14 columns]"
            ],
            "text/html": [
              "\n",
              "  <div id=\"df-1330d088-57bd-4d20-8777-7117d8baeb06\">\n",
              "    <div class=\"colab-df-container\">\n",
              "      <div>\n",
              "<style scoped>\n",
              "    .dataframe tbody tr th:only-of-type {\n",
              "        vertical-align: middle;\n",
              "    }\n",
              "\n",
              "    .dataframe tbody tr th {\n",
              "        vertical-align: top;\n",
              "    }\n",
              "\n",
              "    .dataframe thead th {\n",
              "        text-align: right;\n",
              "    }\n",
              "</style>\n",
              "<table border=\"1\" class=\"dataframe\">\n",
              "  <thead>\n",
              "    <tr style=\"text-align: right;\">\n",
              "      <th></th>\n",
              "      <th>Date</th>\n",
              "      <th>Rented Bike Count</th>\n",
              "      <th>Hour</th>\n",
              "      <th>Temperature(캜)</th>\n",
              "      <th>Humidity(%)</th>\n",
              "      <th>Wind speed (m/s)</th>\n",
              "      <th>Visibility (10m)</th>\n",
              "      <th>Dew point temperature(캜)</th>\n",
              "      <th>Solar Radiation (MJ/m2)</th>\n",
              "      <th>Rainfall(mm)</th>\n",
              "      <th>Snowfall (cm)</th>\n",
              "      <th>Seasons</th>\n",
              "      <th>Holiday</th>\n",
              "      <th>Functioning Day</th>\n",
              "    </tr>\n",
              "  </thead>\n",
              "  <tbody>\n",
              "    <tr>\n",
              "      <th>0</th>\n",
              "      <td>01/12/2017</td>\n",
              "      <td>254</td>\n",
              "      <td>0</td>\n",
              "      <td>-5.2</td>\n",
              "      <td>37</td>\n",
              "      <td>2.2</td>\n",
              "      <td>2000</td>\n",
              "      <td>-17.6</td>\n",
              "      <td>0.0</td>\n",
              "      <td>0.0</td>\n",
              "      <td>0.0</td>\n",
              "      <td>Winter</td>\n",
              "      <td>No Holiday</td>\n",
              "      <td>Yes</td>\n",
              "    </tr>\n",
              "    <tr>\n",
              "      <th>1</th>\n",
              "      <td>01/12/2017</td>\n",
              "      <td>204</td>\n",
              "      <td>1</td>\n",
              "      <td>-5.5</td>\n",
              "      <td>38</td>\n",
              "      <td>0.8</td>\n",
              "      <td>2000</td>\n",
              "      <td>-17.6</td>\n",
              "      <td>0.0</td>\n",
              "      <td>0.0</td>\n",
              "      <td>0.0</td>\n",
              "      <td>Winter</td>\n",
              "      <td>No Holiday</td>\n",
              "      <td>Yes</td>\n",
              "    </tr>\n",
              "    <tr>\n",
              "      <th>2</th>\n",
              "      <td>01/12/2017</td>\n",
              "      <td>173</td>\n",
              "      <td>2</td>\n",
              "      <td>-6.0</td>\n",
              "      <td>39</td>\n",
              "      <td>1.0</td>\n",
              "      <td>2000</td>\n",
              "      <td>-17.7</td>\n",
              "      <td>0.0</td>\n",
              "      <td>0.0</td>\n",
              "      <td>0.0</td>\n",
              "      <td>Winter</td>\n",
              "      <td>No Holiday</td>\n",
              "      <td>Yes</td>\n",
              "    </tr>\n",
              "    <tr>\n",
              "      <th>3</th>\n",
              "      <td>01/12/2017</td>\n",
              "      <td>107</td>\n",
              "      <td>3</td>\n",
              "      <td>-6.2</td>\n",
              "      <td>40</td>\n",
              "      <td>0.9</td>\n",
              "      <td>2000</td>\n",
              "      <td>-17.6</td>\n",
              "      <td>0.0</td>\n",
              "      <td>0.0</td>\n",
              "      <td>0.0</td>\n",
              "      <td>Winter</td>\n",
              "      <td>No Holiday</td>\n",
              "      <td>Yes</td>\n",
              "    </tr>\n",
              "    <tr>\n",
              "      <th>4</th>\n",
              "      <td>01/12/2017</td>\n",
              "      <td>78</td>\n",
              "      <td>4</td>\n",
              "      <td>-6.0</td>\n",
              "      <td>36</td>\n",
              "      <td>2.3</td>\n",
              "      <td>2000</td>\n",
              "      <td>-18.6</td>\n",
              "      <td>0.0</td>\n",
              "      <td>0.0</td>\n",
              "      <td>0.0</td>\n",
              "      <td>Winter</td>\n",
              "      <td>No Holiday</td>\n",
              "      <td>Yes</td>\n",
              "    </tr>\n",
              "    <tr>\n",
              "      <th>...</th>\n",
              "      <td>...</td>\n",
              "      <td>...</td>\n",
              "      <td>...</td>\n",
              "      <td>...</td>\n",
              "      <td>...</td>\n",
              "      <td>...</td>\n",
              "      <td>...</td>\n",
              "      <td>...</td>\n",
              "      <td>...</td>\n",
              "      <td>...</td>\n",
              "      <td>...</td>\n",
              "      <td>...</td>\n",
              "      <td>...</td>\n",
              "      <td>...</td>\n",
              "    </tr>\n",
              "    <tr>\n",
              "      <th>8755</th>\n",
              "      <td>30/11/2018</td>\n",
              "      <td>1003</td>\n",
              "      <td>19</td>\n",
              "      <td>4.2</td>\n",
              "      <td>34</td>\n",
              "      <td>2.6</td>\n",
              "      <td>1894</td>\n",
              "      <td>-10.3</td>\n",
              "      <td>0.0</td>\n",
              "      <td>0.0</td>\n",
              "      <td>0.0</td>\n",
              "      <td>Autumn</td>\n",
              "      <td>No Holiday</td>\n",
              "      <td>Yes</td>\n",
              "    </tr>\n",
              "    <tr>\n",
              "      <th>8756</th>\n",
              "      <td>30/11/2018</td>\n",
              "      <td>764</td>\n",
              "      <td>20</td>\n",
              "      <td>3.4</td>\n",
              "      <td>37</td>\n",
              "      <td>2.3</td>\n",
              "      <td>2000</td>\n",
              "      <td>-9.9</td>\n",
              "      <td>0.0</td>\n",
              "      <td>0.0</td>\n",
              "      <td>0.0</td>\n",
              "      <td>Autumn</td>\n",
              "      <td>No Holiday</td>\n",
              "      <td>Yes</td>\n",
              "    </tr>\n",
              "    <tr>\n",
              "      <th>8757</th>\n",
              "      <td>30/11/2018</td>\n",
              "      <td>694</td>\n",
              "      <td>21</td>\n",
              "      <td>2.6</td>\n",
              "      <td>39</td>\n",
              "      <td>0.3</td>\n",
              "      <td>1968</td>\n",
              "      <td>-9.9</td>\n",
              "      <td>0.0</td>\n",
              "      <td>0.0</td>\n",
              "      <td>0.0</td>\n",
              "      <td>Autumn</td>\n",
              "      <td>No Holiday</td>\n",
              "      <td>Yes</td>\n",
              "    </tr>\n",
              "    <tr>\n",
              "      <th>8758</th>\n",
              "      <td>30/11/2018</td>\n",
              "      <td>712</td>\n",
              "      <td>22</td>\n",
              "      <td>2.1</td>\n",
              "      <td>41</td>\n",
              "      <td>1.0</td>\n",
              "      <td>1859</td>\n",
              "      <td>-9.8</td>\n",
              "      <td>0.0</td>\n",
              "      <td>0.0</td>\n",
              "      <td>0.0</td>\n",
              "      <td>Autumn</td>\n",
              "      <td>No Holiday</td>\n",
              "      <td>Yes</td>\n",
              "    </tr>\n",
              "    <tr>\n",
              "      <th>8759</th>\n",
              "      <td>30/11/2018</td>\n",
              "      <td>584</td>\n",
              "      <td>23</td>\n",
              "      <td>1.9</td>\n",
              "      <td>43</td>\n",
              "      <td>1.3</td>\n",
              "      <td>1909</td>\n",
              "      <td>-9.3</td>\n",
              "      <td>0.0</td>\n",
              "      <td>0.0</td>\n",
              "      <td>0.0</td>\n",
              "      <td>Autumn</td>\n",
              "      <td>No Holiday</td>\n",
              "      <td>Yes</td>\n",
              "    </tr>\n",
              "  </tbody>\n",
              "</table>\n",
              "<p>8760 rows × 14 columns</p>\n",
              "</div>\n",
              "      <button class=\"colab-df-convert\" onclick=\"convertToInteractive('df-1330d088-57bd-4d20-8777-7117d8baeb06')\"\n",
              "              title=\"Convert this dataframe to an interactive table.\"\n",
              "              style=\"display:none;\">\n",
              "        \n",
              "  <svg xmlns=\"http://www.w3.org/2000/svg\" height=\"24px\"viewBox=\"0 0 24 24\"\n",
              "       width=\"24px\">\n",
              "    <path d=\"M0 0h24v24H0V0z\" fill=\"none\"/>\n",
              "    <path d=\"M18.56 5.44l.94 2.06.94-2.06 2.06-.94-2.06-.94-.94-2.06-.94 2.06-2.06.94zm-11 1L8.5 8.5l.94-2.06 2.06-.94-2.06-.94L8.5 2.5l-.94 2.06-2.06.94zm10 10l.94 2.06.94-2.06 2.06-.94-2.06-.94-.94-2.06-.94 2.06-2.06.94z\"/><path d=\"M17.41 7.96l-1.37-1.37c-.4-.4-.92-.59-1.43-.59-.52 0-1.04.2-1.43.59L10.3 9.45l-7.72 7.72c-.78.78-.78 2.05 0 2.83L4 21.41c.39.39.9.59 1.41.59.51 0 1.02-.2 1.41-.59l7.78-7.78 2.81-2.81c.8-.78.8-2.07 0-2.86zM5.41 20L4 18.59l7.72-7.72 1.47 1.35L5.41 20z\"/>\n",
              "  </svg>\n",
              "      </button>\n",
              "      \n",
              "  <style>\n",
              "    .colab-df-container {\n",
              "      display:flex;\n",
              "      flex-wrap:wrap;\n",
              "      gap: 12px;\n",
              "    }\n",
              "\n",
              "    .colab-df-convert {\n",
              "      background-color: #E8F0FE;\n",
              "      border: none;\n",
              "      border-radius: 50%;\n",
              "      cursor: pointer;\n",
              "      display: none;\n",
              "      fill: #1967D2;\n",
              "      height: 32px;\n",
              "      padding: 0 0 0 0;\n",
              "      width: 32px;\n",
              "    }\n",
              "\n",
              "    .colab-df-convert:hover {\n",
              "      background-color: #E2EBFA;\n",
              "      box-shadow: 0px 1px 2px rgba(60, 64, 67, 0.3), 0px 1px 3px 1px rgba(60, 64, 67, 0.15);\n",
              "      fill: #174EA6;\n",
              "    }\n",
              "\n",
              "    [theme=dark] .colab-df-convert {\n",
              "      background-color: #3B4455;\n",
              "      fill: #D2E3FC;\n",
              "    }\n",
              "\n",
              "    [theme=dark] .colab-df-convert:hover {\n",
              "      background-color: #434B5C;\n",
              "      box-shadow: 0px 1px 3px 1px rgba(0, 0, 0, 0.15);\n",
              "      filter: drop-shadow(0px 1px 2px rgba(0, 0, 0, 0.3));\n",
              "      fill: #FFFFFF;\n",
              "    }\n",
              "  </style>\n",
              "\n",
              "      <script>\n",
              "        const buttonEl =\n",
              "          document.querySelector('#df-1330d088-57bd-4d20-8777-7117d8baeb06 button.colab-df-convert');\n",
              "        buttonEl.style.display =\n",
              "          google.colab.kernel.accessAllowed ? 'block' : 'none';\n",
              "\n",
              "        async function convertToInteractive(key) {\n",
              "          const element = document.querySelector('#df-1330d088-57bd-4d20-8777-7117d8baeb06');\n",
              "          const dataTable =\n",
              "            await google.colab.kernel.invokeFunction('convertToInteractive',\n",
              "                                                     [key], {});\n",
              "          if (!dataTable) return;\n",
              "\n",
              "          const docLinkHtml = 'Like what you see? Visit the ' +\n",
              "            '<a target=\"_blank\" href=https://colab.research.google.com/notebooks/data_table.ipynb>data table notebook</a>'\n",
              "            + ' to learn more about interactive tables.';\n",
              "          element.innerHTML = '';\n",
              "          dataTable['output_type'] = 'display_data';\n",
              "          await google.colab.output.renderOutput(dataTable, element);\n",
              "          const docLink = document.createElement('div');\n",
              "          docLink.innerHTML = docLinkHtml;\n",
              "          element.appendChild(docLink);\n",
              "        }\n",
              "      </script>\n",
              "    </div>\n",
              "  </div>\n",
              "  "
            ]
          },
          "metadata": {},
          "execution_count": 3
        }
      ]
    },
    {
      "cell_type": "code",
      "source": [
        "from google.colab import drive\n",
        "drive.mount('/content/drive')"
      ],
      "metadata": {
        "id": "qE8lI2NnYK7n",
        "outputId": "3c8974bd-ea49-40c2-e045-f99898a01bb9",
        "colab": {
          "base_uri": "https://localhost:8080/"
        }
      },
      "execution_count": null,
      "outputs": [
        {
          "output_type": "stream",
          "name": "stdout",
          "text": [
            "Mounted at /content/drive\n"
          ]
        }
      ]
    },
    {
      "cell_type": "code",
      "source": [
        "df.columns"
      ],
      "metadata": {
        "colab": {
          "base_uri": "https://localhost:8080/"
        },
        "id": "OjGkU9s_YEC2",
        "outputId": "c788f606-1809-445f-b76b-87e293c4122c"
      },
      "execution_count": null,
      "outputs": [
        {
          "output_type": "execute_result",
          "data": {
            "text/plain": [
              "Index(['Date', 'Rented Bike Count', 'Hour', 'Temperature(캜)', 'Humidity(%)',\n",
              "       'Wind speed (m/s)', 'Visibility (10m)', 'Dew point temperature(캜)',\n",
              "       'Solar Radiation (MJ/m2)', 'Rainfall(mm)', 'Snowfall (cm)', 'Seasons',\n",
              "       'Holiday', 'Functioning Day'],\n",
              "      dtype='object')"
            ]
          },
          "metadata": {},
          "execution_count": 4
        }
      ]
    },
    {
      "cell_type": "code",
      "source": [
        "#칼럼 열 삭제제\n",
        "df1 = df.drop(['Date','Visibility (10m)', 'Dew point temperature(캜)',\n",
        "       'Solar Radiation (MJ/m2)', 'Rainfall(mm)','Snowfall (cm)', 'Seasons', 'Holiday', 'Functioning Day'], axis = 1)"
      ],
      "metadata": {
        "id": "Jo2bheT1N3X5"
      },
      "execution_count": null,
      "outputs": []
    },
    {
      "cell_type": "code",
      "source": [
        "df1.info()\n",
        "#  RangeIndex: 8760 = non-null 8760  null값은 없어보임"
      ],
      "metadata": {
        "colab": {
          "base_uri": "https://localhost:8080/"
        },
        "id": "RTL7LwuRLwN0",
        "outputId": "7b225e6a-86f3-43d3-922c-0b19f12d53f7"
      },
      "execution_count": null,
      "outputs": [
        {
          "output_type": "stream",
          "name": "stdout",
          "text": [
            "<class 'pandas.core.frame.DataFrame'>\n",
            "RangeIndex: 8760 entries, 0 to 8759\n",
            "Data columns (total 5 columns):\n",
            " #   Column             Non-Null Count  Dtype  \n",
            "---  ------             --------------  -----  \n",
            " 0   Rented Bike Count  8760 non-null   int64  \n",
            " 1   Hour               8760 non-null   int64  \n",
            " 2   Temperature(캜)     8760 non-null   float64\n",
            " 3   Humidity(%)        8760 non-null   int64  \n",
            " 4   Wind speed (m/s)   8760 non-null   float64\n",
            "dtypes: float64(2), int64(3)\n",
            "memory usage: 342.3 KB\n"
          ]
        }
      ]
    },
    {
      "cell_type": "code",
      "source": [
        "#변수 rename \n",
        "df1.rename(columns={'Rented Bike Count': '빌린 자전거 갯수', 'Temperature(캜)': '온도', 'Humidity(%)':'습도', 'Hour':'시간'\n",
        "                    ,'Wind speed (m/s)': '풍속',},inplace=True)\n",
        "\n",
        "#'Seasons':'계절','Hour':'시간','Holiday':'휴무' (다음에 연습용 칼럼)"
      ],
      "metadata": {
        "id": "ig_pl-smP430"
      },
      "execution_count": null,
      "outputs": []
    },
    {
      "cell_type": "code",
      "source": [
        "df1.head()"
      ],
      "metadata": {
        "colab": {
          "base_uri": "https://localhost:8080/",
          "height": 206
        },
        "id": "3RqakkFFP_YU",
        "outputId": "12e1084c-49e3-445c-ef07-3a7ac90cadac"
      },
      "execution_count": null,
      "outputs": [
        {
          "output_type": "execute_result",
          "data": {
            "text/plain": [
              "   빌린 자전거 갯수  시간   온도  습도   풍속\n",
              "0        254   0 -5.2  37  2.2\n",
              "1        204   1 -5.5  38  0.8\n",
              "2        173   2 -6.0  39  1.0\n",
              "3        107   3 -6.2  40  0.9\n",
              "4         78   4 -6.0  36  2.3"
            ],
            "text/html": [
              "\n",
              "  <div id=\"df-1b3076c6-4353-4664-bfdd-b0c803af173d\">\n",
              "    <div class=\"colab-df-container\">\n",
              "      <div>\n",
              "<style scoped>\n",
              "    .dataframe tbody tr th:only-of-type {\n",
              "        vertical-align: middle;\n",
              "    }\n",
              "\n",
              "    .dataframe tbody tr th {\n",
              "        vertical-align: top;\n",
              "    }\n",
              "\n",
              "    .dataframe thead th {\n",
              "        text-align: right;\n",
              "    }\n",
              "</style>\n",
              "<table border=\"1\" class=\"dataframe\">\n",
              "  <thead>\n",
              "    <tr style=\"text-align: right;\">\n",
              "      <th></th>\n",
              "      <th>빌린 자전거 갯수</th>\n",
              "      <th>시간</th>\n",
              "      <th>온도</th>\n",
              "      <th>습도</th>\n",
              "      <th>풍속</th>\n",
              "    </tr>\n",
              "  </thead>\n",
              "  <tbody>\n",
              "    <tr>\n",
              "      <th>0</th>\n",
              "      <td>254</td>\n",
              "      <td>0</td>\n",
              "      <td>-5.2</td>\n",
              "      <td>37</td>\n",
              "      <td>2.2</td>\n",
              "    </tr>\n",
              "    <tr>\n",
              "      <th>1</th>\n",
              "      <td>204</td>\n",
              "      <td>1</td>\n",
              "      <td>-5.5</td>\n",
              "      <td>38</td>\n",
              "      <td>0.8</td>\n",
              "    </tr>\n",
              "    <tr>\n",
              "      <th>2</th>\n",
              "      <td>173</td>\n",
              "      <td>2</td>\n",
              "      <td>-6.0</td>\n",
              "      <td>39</td>\n",
              "      <td>1.0</td>\n",
              "    </tr>\n",
              "    <tr>\n",
              "      <th>3</th>\n",
              "      <td>107</td>\n",
              "      <td>3</td>\n",
              "      <td>-6.2</td>\n",
              "      <td>40</td>\n",
              "      <td>0.9</td>\n",
              "    </tr>\n",
              "    <tr>\n",
              "      <th>4</th>\n",
              "      <td>78</td>\n",
              "      <td>4</td>\n",
              "      <td>-6.0</td>\n",
              "      <td>36</td>\n",
              "      <td>2.3</td>\n",
              "    </tr>\n",
              "  </tbody>\n",
              "</table>\n",
              "</div>\n",
              "      <button class=\"colab-df-convert\" onclick=\"convertToInteractive('df-1b3076c6-4353-4664-bfdd-b0c803af173d')\"\n",
              "              title=\"Convert this dataframe to an interactive table.\"\n",
              "              style=\"display:none;\">\n",
              "        \n",
              "  <svg xmlns=\"http://www.w3.org/2000/svg\" height=\"24px\"viewBox=\"0 0 24 24\"\n",
              "       width=\"24px\">\n",
              "    <path d=\"M0 0h24v24H0V0z\" fill=\"none\"/>\n",
              "    <path d=\"M18.56 5.44l.94 2.06.94-2.06 2.06-.94-2.06-.94-.94-2.06-.94 2.06-2.06.94zm-11 1L8.5 8.5l.94-2.06 2.06-.94-2.06-.94L8.5 2.5l-.94 2.06-2.06.94zm10 10l.94 2.06.94-2.06 2.06-.94-2.06-.94-.94-2.06-.94 2.06-2.06.94z\"/><path d=\"M17.41 7.96l-1.37-1.37c-.4-.4-.92-.59-1.43-.59-.52 0-1.04.2-1.43.59L10.3 9.45l-7.72 7.72c-.78.78-.78 2.05 0 2.83L4 21.41c.39.39.9.59 1.41.59.51 0 1.02-.2 1.41-.59l7.78-7.78 2.81-2.81c.8-.78.8-2.07 0-2.86zM5.41 20L4 18.59l7.72-7.72 1.47 1.35L5.41 20z\"/>\n",
              "  </svg>\n",
              "      </button>\n",
              "      \n",
              "  <style>\n",
              "    .colab-df-container {\n",
              "      display:flex;\n",
              "      flex-wrap:wrap;\n",
              "      gap: 12px;\n",
              "    }\n",
              "\n",
              "    .colab-df-convert {\n",
              "      background-color: #E8F0FE;\n",
              "      border: none;\n",
              "      border-radius: 50%;\n",
              "      cursor: pointer;\n",
              "      display: none;\n",
              "      fill: #1967D2;\n",
              "      height: 32px;\n",
              "      padding: 0 0 0 0;\n",
              "      width: 32px;\n",
              "    }\n",
              "\n",
              "    .colab-df-convert:hover {\n",
              "      background-color: #E2EBFA;\n",
              "      box-shadow: 0px 1px 2px rgba(60, 64, 67, 0.3), 0px 1px 3px 1px rgba(60, 64, 67, 0.15);\n",
              "      fill: #174EA6;\n",
              "    }\n",
              "\n",
              "    [theme=dark] .colab-df-convert {\n",
              "      background-color: #3B4455;\n",
              "      fill: #D2E3FC;\n",
              "    }\n",
              "\n",
              "    [theme=dark] .colab-df-convert:hover {\n",
              "      background-color: #434B5C;\n",
              "      box-shadow: 0px 1px 3px 1px rgba(0, 0, 0, 0.15);\n",
              "      filter: drop-shadow(0px 1px 2px rgba(0, 0, 0, 0.3));\n",
              "      fill: #FFFFFF;\n",
              "    }\n",
              "  </style>\n",
              "\n",
              "      <script>\n",
              "        const buttonEl =\n",
              "          document.querySelector('#df-1b3076c6-4353-4664-bfdd-b0c803af173d button.colab-df-convert');\n",
              "        buttonEl.style.display =\n",
              "          google.colab.kernel.accessAllowed ? 'block' : 'none';\n",
              "\n",
              "        async function convertToInteractive(key) {\n",
              "          const element = document.querySelector('#df-1b3076c6-4353-4664-bfdd-b0c803af173d');\n",
              "          const dataTable =\n",
              "            await google.colab.kernel.invokeFunction('convertToInteractive',\n",
              "                                                     [key], {});\n",
              "          if (!dataTable) return;\n",
              "\n",
              "          const docLinkHtml = 'Like what you see? Visit the ' +\n",
              "            '<a target=\"_blank\" href=https://colab.research.google.com/notebooks/data_table.ipynb>data table notebook</a>'\n",
              "            + ' to learn more about interactive tables.';\n",
              "          element.innerHTML = '';\n",
              "          dataTable['output_type'] = 'display_data';\n",
              "          await google.colab.output.renderOutput(dataTable, element);\n",
              "          const docLink = document.createElement('div');\n",
              "          docLink.innerHTML = docLinkHtml;\n",
              "          element.appendChild(docLink);\n",
              "        }\n",
              "      </script>\n",
              "    </div>\n",
              "  </div>\n",
              "  "
            ]
          },
          "metadata": {},
          "execution_count": 8
        }
      ]
    },
    {
      "cell_type": "code",
      "source": [
        "df1.describe()"
      ],
      "metadata": {
        "colab": {
          "base_uri": "https://localhost:8080/",
          "height": 300
        },
        "id": "4Lzl_V52Miwo",
        "outputId": "4c34303b-30a0-45df-d744-18a062d5b01d"
      },
      "execution_count": null,
      "outputs": [
        {
          "output_type": "execute_result",
          "data": {
            "text/plain": [
              "         빌린 자전거 갯수           시간           온도           습도           풍속\n",
              "count  8760.000000  8760.000000  8760.000000  8760.000000  8760.000000\n",
              "mean    704.602055    11.500000    12.882922    58.226256     1.724909\n",
              "std     644.997468     6.922582    11.944825    20.362413     1.036300\n",
              "min       0.000000     0.000000   -17.800000     0.000000     0.000000\n",
              "25%     191.000000     5.750000     3.500000    42.000000     0.900000\n",
              "50%     504.500000    11.500000    13.700000    57.000000     1.500000\n",
              "75%    1065.250000    17.250000    22.500000    74.000000     2.300000\n",
              "max    3556.000000    23.000000    39.400000    98.000000     7.400000"
            ],
            "text/html": [
              "\n",
              "  <div id=\"df-f03be048-35a4-4707-9ce8-d34445384030\">\n",
              "    <div class=\"colab-df-container\">\n",
              "      <div>\n",
              "<style scoped>\n",
              "    .dataframe tbody tr th:only-of-type {\n",
              "        vertical-align: middle;\n",
              "    }\n",
              "\n",
              "    .dataframe tbody tr th {\n",
              "        vertical-align: top;\n",
              "    }\n",
              "\n",
              "    .dataframe thead th {\n",
              "        text-align: right;\n",
              "    }\n",
              "</style>\n",
              "<table border=\"1\" class=\"dataframe\">\n",
              "  <thead>\n",
              "    <tr style=\"text-align: right;\">\n",
              "      <th></th>\n",
              "      <th>빌린 자전거 갯수</th>\n",
              "      <th>시간</th>\n",
              "      <th>온도</th>\n",
              "      <th>습도</th>\n",
              "      <th>풍속</th>\n",
              "    </tr>\n",
              "  </thead>\n",
              "  <tbody>\n",
              "    <tr>\n",
              "      <th>count</th>\n",
              "      <td>8760.000000</td>\n",
              "      <td>8760.000000</td>\n",
              "      <td>8760.000000</td>\n",
              "      <td>8760.000000</td>\n",
              "      <td>8760.000000</td>\n",
              "    </tr>\n",
              "    <tr>\n",
              "      <th>mean</th>\n",
              "      <td>704.602055</td>\n",
              "      <td>11.500000</td>\n",
              "      <td>12.882922</td>\n",
              "      <td>58.226256</td>\n",
              "      <td>1.724909</td>\n",
              "    </tr>\n",
              "    <tr>\n",
              "      <th>std</th>\n",
              "      <td>644.997468</td>\n",
              "      <td>6.922582</td>\n",
              "      <td>11.944825</td>\n",
              "      <td>20.362413</td>\n",
              "      <td>1.036300</td>\n",
              "    </tr>\n",
              "    <tr>\n",
              "      <th>min</th>\n",
              "      <td>0.000000</td>\n",
              "      <td>0.000000</td>\n",
              "      <td>-17.800000</td>\n",
              "      <td>0.000000</td>\n",
              "      <td>0.000000</td>\n",
              "    </tr>\n",
              "    <tr>\n",
              "      <th>25%</th>\n",
              "      <td>191.000000</td>\n",
              "      <td>5.750000</td>\n",
              "      <td>3.500000</td>\n",
              "      <td>42.000000</td>\n",
              "      <td>0.900000</td>\n",
              "    </tr>\n",
              "    <tr>\n",
              "      <th>50%</th>\n",
              "      <td>504.500000</td>\n",
              "      <td>11.500000</td>\n",
              "      <td>13.700000</td>\n",
              "      <td>57.000000</td>\n",
              "      <td>1.500000</td>\n",
              "    </tr>\n",
              "    <tr>\n",
              "      <th>75%</th>\n",
              "      <td>1065.250000</td>\n",
              "      <td>17.250000</td>\n",
              "      <td>22.500000</td>\n",
              "      <td>74.000000</td>\n",
              "      <td>2.300000</td>\n",
              "    </tr>\n",
              "    <tr>\n",
              "      <th>max</th>\n",
              "      <td>3556.000000</td>\n",
              "      <td>23.000000</td>\n",
              "      <td>39.400000</td>\n",
              "      <td>98.000000</td>\n",
              "      <td>7.400000</td>\n",
              "    </tr>\n",
              "  </tbody>\n",
              "</table>\n",
              "</div>\n",
              "      <button class=\"colab-df-convert\" onclick=\"convertToInteractive('df-f03be048-35a4-4707-9ce8-d34445384030')\"\n",
              "              title=\"Convert this dataframe to an interactive table.\"\n",
              "              style=\"display:none;\">\n",
              "        \n",
              "  <svg xmlns=\"http://www.w3.org/2000/svg\" height=\"24px\"viewBox=\"0 0 24 24\"\n",
              "       width=\"24px\">\n",
              "    <path d=\"M0 0h24v24H0V0z\" fill=\"none\"/>\n",
              "    <path d=\"M18.56 5.44l.94 2.06.94-2.06 2.06-.94-2.06-.94-.94-2.06-.94 2.06-2.06.94zm-11 1L8.5 8.5l.94-2.06 2.06-.94-2.06-.94L8.5 2.5l-.94 2.06-2.06.94zm10 10l.94 2.06.94-2.06 2.06-.94-2.06-.94-.94-2.06-.94 2.06-2.06.94z\"/><path d=\"M17.41 7.96l-1.37-1.37c-.4-.4-.92-.59-1.43-.59-.52 0-1.04.2-1.43.59L10.3 9.45l-7.72 7.72c-.78.78-.78 2.05 0 2.83L4 21.41c.39.39.9.59 1.41.59.51 0 1.02-.2 1.41-.59l7.78-7.78 2.81-2.81c.8-.78.8-2.07 0-2.86zM5.41 20L4 18.59l7.72-7.72 1.47 1.35L5.41 20z\"/>\n",
              "  </svg>\n",
              "      </button>\n",
              "      \n",
              "  <style>\n",
              "    .colab-df-container {\n",
              "      display:flex;\n",
              "      flex-wrap:wrap;\n",
              "      gap: 12px;\n",
              "    }\n",
              "\n",
              "    .colab-df-convert {\n",
              "      background-color: #E8F0FE;\n",
              "      border: none;\n",
              "      border-radius: 50%;\n",
              "      cursor: pointer;\n",
              "      display: none;\n",
              "      fill: #1967D2;\n",
              "      height: 32px;\n",
              "      padding: 0 0 0 0;\n",
              "      width: 32px;\n",
              "    }\n",
              "\n",
              "    .colab-df-convert:hover {\n",
              "      background-color: #E2EBFA;\n",
              "      box-shadow: 0px 1px 2px rgba(60, 64, 67, 0.3), 0px 1px 3px 1px rgba(60, 64, 67, 0.15);\n",
              "      fill: #174EA6;\n",
              "    }\n",
              "\n",
              "    [theme=dark] .colab-df-convert {\n",
              "      background-color: #3B4455;\n",
              "      fill: #D2E3FC;\n",
              "    }\n",
              "\n",
              "    [theme=dark] .colab-df-convert:hover {\n",
              "      background-color: #434B5C;\n",
              "      box-shadow: 0px 1px 3px 1px rgba(0, 0, 0, 0.15);\n",
              "      filter: drop-shadow(0px 1px 2px rgba(0, 0, 0, 0.3));\n",
              "      fill: #FFFFFF;\n",
              "    }\n",
              "  </style>\n",
              "\n",
              "      <script>\n",
              "        const buttonEl =\n",
              "          document.querySelector('#df-f03be048-35a4-4707-9ce8-d34445384030 button.colab-df-convert');\n",
              "        buttonEl.style.display =\n",
              "          google.colab.kernel.accessAllowed ? 'block' : 'none';\n",
              "\n",
              "        async function convertToInteractive(key) {\n",
              "          const element = document.querySelector('#df-f03be048-35a4-4707-9ce8-d34445384030');\n",
              "          const dataTable =\n",
              "            await google.colab.kernel.invokeFunction('convertToInteractive',\n",
              "                                                     [key], {});\n",
              "          if (!dataTable) return;\n",
              "\n",
              "          const docLinkHtml = 'Like what you see? Visit the ' +\n",
              "            '<a target=\"_blank\" href=https://colab.research.google.com/notebooks/data_table.ipynb>data table notebook</a>'\n",
              "            + ' to learn more about interactive tables.';\n",
              "          element.innerHTML = '';\n",
              "          dataTable['output_type'] = 'display_data';\n",
              "          await google.colab.output.renderOutput(dataTable, element);\n",
              "          const docLink = document.createElement('div');\n",
              "          docLink.innerHTML = docLinkHtml;\n",
              "          element.appendChild(docLink);\n",
              "        }\n",
              "      </script>\n",
              "    </div>\n",
              "  </div>\n",
              "  "
            ]
          },
          "metadata": {},
          "execution_count": 9
        }
      ]
    },
    {
      "cell_type": "code",
      "source": [
        "df1.isnull().sum()"
      ],
      "metadata": {
        "colab": {
          "base_uri": "https://localhost:8080/"
        },
        "id": "4TX4LzDaWmaK",
        "outputId": "4eb42c4c-2e1f-4921-cf48-20d0dfe0cf35"
      },
      "execution_count": null,
      "outputs": [
        {
          "output_type": "execute_result",
          "data": {
            "text/plain": [
              "빌린 자전거 갯수    0\n",
              "시간           0\n",
              "온도           0\n",
              "습도           0\n",
              "풍속           0\n",
              "dtype: int64"
            ]
          },
          "metadata": {},
          "execution_count": 10
        }
      ]
    },
    {
      "cell_type": "markdown",
      "source": [
        "# 평균값과 중앙값을 그래프로 확인인"
      ],
      "metadata": {
        "id": "HINIq02brlFf"
      }
    },
    {
      "cell_type": "code",
      "source": [
        "sns.distplot(df1['빌린 자전거 갯수'])\n",
        "sns.set(style='whitegrid')\n",
        "plt.axvline(df1['빌린 자전거 갯수'].mean(), ls='-', color='r') #평균값\n",
        "plt.axvline(df1['빌린 자전거 갯수'].median(), ls='-.', color='g') # 중앙값\n",
        "plt.show()\n",
        "# df1[df1['빌린 자전거 갯수'] > 0].hist(column='빌린 자전거 갯수')"
      ],
      "metadata": {
        "colab": {
          "base_uri": "https://localhost:8080/",
          "height": 844
        },
        "id": "CKE8b7ZJe90v",
        "outputId": "5882f1ec-8ae6-46b2-8101-0009ef328701"
      },
      "execution_count": null,
      "outputs": [
        {
          "output_type": "stream",
          "name": "stderr",
          "text": [
            "/usr/local/lib/python3.8/dist-packages/seaborn/distributions.py:2619: FutureWarning: `distplot` is a deprecated function and will be removed in a future version. Please adapt your code to use either `displot` (a figure-level function with similar flexibility) or `histplot` (an axes-level function for histograms).\n",
            "  warnings.warn(msg, FutureWarning)\n",
            "/usr/local/lib/python3.8/dist-packages/matplotlib/backends/backend_agg.py:214: RuntimeWarning: Glyph 48716 missing from current font.\n",
            "  font.set_text(s, 0.0, flags=flags)\n",
            "/usr/local/lib/python3.8/dist-packages/matplotlib/backends/backend_agg.py:214: RuntimeWarning: Glyph 47536 missing from current font.\n",
            "  font.set_text(s, 0.0, flags=flags)\n",
            "/usr/local/lib/python3.8/dist-packages/matplotlib/backends/backend_agg.py:214: RuntimeWarning: Glyph 51088 missing from current font.\n",
            "  font.set_text(s, 0.0, flags=flags)\n",
            "/usr/local/lib/python3.8/dist-packages/matplotlib/backends/backend_agg.py:214: RuntimeWarning: Glyph 51204 missing from current font.\n",
            "  font.set_text(s, 0.0, flags=flags)\n",
            "/usr/local/lib/python3.8/dist-packages/matplotlib/backends/backend_agg.py:214: RuntimeWarning: Glyph 44144 missing from current font.\n",
            "  font.set_text(s, 0.0, flags=flags)\n",
            "/usr/local/lib/python3.8/dist-packages/matplotlib/backends/backend_agg.py:214: RuntimeWarning: Glyph 44079 missing from current font.\n",
            "  font.set_text(s, 0.0, flags=flags)\n",
            "/usr/local/lib/python3.8/dist-packages/matplotlib/backends/backend_agg.py:214: RuntimeWarning: Glyph 49688 missing from current font.\n",
            "  font.set_text(s, 0.0, flags=flags)\n",
            "/usr/local/lib/python3.8/dist-packages/matplotlib/backends/backend_agg.py:183: RuntimeWarning: Glyph 48716 missing from current font.\n",
            "  font.set_text(s, 0, flags=flags)\n",
            "/usr/local/lib/python3.8/dist-packages/matplotlib/backends/backend_agg.py:183: RuntimeWarning: Glyph 47536 missing from current font.\n",
            "  font.set_text(s, 0, flags=flags)\n",
            "/usr/local/lib/python3.8/dist-packages/matplotlib/backends/backend_agg.py:183: RuntimeWarning: Glyph 51088 missing from current font.\n",
            "  font.set_text(s, 0, flags=flags)\n",
            "/usr/local/lib/python3.8/dist-packages/matplotlib/backends/backend_agg.py:183: RuntimeWarning: Glyph 51204 missing from current font.\n",
            "  font.set_text(s, 0, flags=flags)\n",
            "/usr/local/lib/python3.8/dist-packages/matplotlib/backends/backend_agg.py:183: RuntimeWarning: Glyph 44144 missing from current font.\n",
            "  font.set_text(s, 0, flags=flags)\n",
            "/usr/local/lib/python3.8/dist-packages/matplotlib/backends/backend_agg.py:183: RuntimeWarning: Glyph 44079 missing from current font.\n",
            "  font.set_text(s, 0, flags=flags)\n",
            "/usr/local/lib/python3.8/dist-packages/matplotlib/backends/backend_agg.py:183: RuntimeWarning: Glyph 49688 missing from current font.\n",
            "  font.set_text(s, 0, flags=flags)\n"
          ]
        },
        {
          "output_type": "display_data",
          "data": {
            "text/plain": [
              "<Figure size 432x288 with 1 Axes>"
            ],
            "image/png": "[encoded data removed]"
          },
          "metadata": {
            "needs_background": "light"
          }
        }
      ]
    },
    {
      "cell_type": "markdown",
      "source": [
        "# IQR 붙여넣기 해서 이상치 제거해봤습니다"
      ],
      "metadata": {
        "id": "a-7WXI4oru2P"
      }
    },
    {
      "cell_type": "code",
      "source": [
        "q1 = df1[\"빌린 자전거 갯수\"].quantile(q=0.25)\n",
        "q3 = df1[\"빌린 자전거 갯수\"].quantile(q=0.75)\n",
        "IQR = q3-q1 #Q3 - Q1: 사분위수의 상위 75% 지점의 값과 하위 25% 지점의 값 차이\n",
        "IQR #Interquartile range(사분위간 범위)"
      ],
      "metadata": {
        "id": "TLzjfb5qd6aF",
        "outputId": "a8ceb2a7-0adb-4700-d8ce-95694e9c8fd0",
        "colab": {
          "base_uri": "https://localhost:8080/"
        }
      },
      "execution_count": null,
      "outputs": [
        {
          "output_type": "execute_result",
          "data": {
            "text/plain": [
              "874.25"
            ]
          },
          "metadata": {},
          "execution_count": 13
        }
      ]
    },
    {
      "cell_type": "code",
      "source": [
        "data_IQR = df1[(df1[\"빌린 자전거 갯수\"] < q3 + IQR * 1.5) & (df1[\"빌린 자전거 갯수\"] > q1 - IQR * 1.5)] #1.5는 약속\n",
        "data_IQR"
      ],
      "metadata": {
        "id": "8KTDv0t2eGX8",
        "outputId": "d88a290c-7be1-4aab-f316-8c8c77f24812",
        "colab": {
          "base_uri": "https://localhost:8080/",
          "height": 424
        }
      },
      "execution_count": null,
      "outputs": [
        {
          "output_type": "execute_result",
          "data": {
            "text/plain": [
              "      빌린 자전거 갯수  시간   온도  습도   풍속\n",
              "0           254   0 -5.2  37  2.2\n",
              "1           204   1 -5.5  38  0.8\n",
              "2           173   2 -6.0  39  1.0\n",
              "3           107   3 -6.2  40  0.9\n",
              "4            78   4 -6.0  36  2.3\n",
              "...         ...  ..  ...  ..  ...\n",
              "8755       1003  19  4.2  34  2.6\n",
              "8756        764  20  3.4  37  2.3\n",
              "8757        694  21  2.6  39  0.3\n",
              "8758        712  22  2.1  41  1.0\n",
              "8759        584  23  1.9  43  1.3\n",
              "\n",
              "[8602 rows x 5 columns]"
            ],
            "text/html": [
              "\n",
              "  <div id=\"df-cda45f70-c5a2-4b4f-8a75-a2e38121e3e9\">\n",
              "    <div class=\"colab-df-container\">\n",
              "      <div>\n",
              "<style scoped>\n",
              "    .dataframe tbody tr th:only-of-type {\n",
              "        vertical-align: middle;\n",
              "    }\n",
              "\n",
              "    .dataframe tbody tr th {\n",
              "        vertical-align: top;\n",
              "    }\n",
              "\n",
              "    .dataframe thead th {\n",
              "        text-align: right;\n",
              "    }\n",
              "</style>\n",
              "<table border=\"1\" class=\"dataframe\">\n",
              "  <thead>\n",
              "    <tr style=\"text-align: right;\">\n",
              "      <th></th>\n",
              "      <th>빌린 자전거 갯수</th>\n",
              "      <th>시간</th>\n",
              "      <th>온도</th>\n",
              "      <th>습도</th>\n",
              "      <th>풍속</th>\n",
              "    </tr>\n",
              "  </thead>\n",
              "  <tbody>\n",
              "    <tr>\n",
              "      <th>0</th>\n",
              "      <td>254</td>\n",
              "      <td>0</td>\n",
              "      <td>-5.2</td>\n",
              "      <td>37</td>\n",
              "      <td>2.2</td>\n",
              "    </tr>\n",
              "    <tr>\n",
              "      <th>1</th>\n",
              "      <td>204</td>\n",
              "      <td>1</td>\n",
              "      <td>-5.5</td>\n",
              "      <td>38</td>\n",
              "      <td>0.8</td>\n",
              "    </tr>\n",
              "    <tr>\n",
              "      <th>2</th>\n",
              "      <td>173</td>\n",
              "      <td>2</td>\n",
              "      <td>-6.0</td>\n",
              "      <td>39</td>\n",
              "      <td>1.0</td>\n",
              "    </tr>\n",
              "    <tr>\n",
              "      <th>3</th>\n",
              "      <td>107</td>\n",
              "      <td>3</td>\n",
              "      <td>-6.2</td>\n",
              "      <td>40</td>\n",
              "      <td>0.9</td>\n",
              "    </tr>\n",
              "    <tr>\n",
              "      <th>4</th>\n",
              "      <td>78</td>\n",
              "      <td>4</td>\n",
              "      <td>-6.0</td>\n",
              "      <td>36</td>\n",
              "      <td>2.3</td>\n",
              "    </tr>\n",
              "    <tr>\n",
              "      <th>...</th>\n",
              "      <td>...</td>\n",
              "      <td>...</td>\n",
              "      <td>...</td>\n",
              "      <td>...</td>\n",
              "      <td>...</td>\n",
              "    </tr>\n",
              "    <tr>\n",
              "      <th>8755</th>\n",
              "      <td>1003</td>\n",
              "      <td>19</td>\n",
              "      <td>4.2</td>\n",
              "      <td>34</td>\n",
              "      <td>2.6</td>\n",
              "    </tr>\n",
              "    <tr>\n",
              "      <th>8756</th>\n",
              "      <td>764</td>\n",
              "      <td>20</td>\n",
              "      <td>3.4</td>\n",
              "      <td>37</td>\n",
              "      <td>2.3</td>\n",
              "    </tr>\n",
              "    <tr>\n",
              "      <th>8757</th>\n",
              "      <td>694</td>\n",
              "      <td>21</td>\n",
              "      <td>2.6</td>\n",
              "      <td>39</td>\n",
              "      <td>0.3</td>\n",
              "    </tr>\n",
              "    <tr>\n",
              "      <th>8758</th>\n",
              "      <td>712</td>\n",
              "      <td>22</td>\n",
              "      <td>2.1</td>\n",
              "      <td>41</td>\n",
              "      <td>1.0</td>\n",
              "    </tr>\n",
              "    <tr>\n",
              "      <th>8759</th>\n",
              "      <td>584</td>\n",
              "      <td>23</td>\n",
              "      <td>1.9</td>\n",
              "      <td>43</td>\n",
              "      <td>1.3</td>\n",
              "    </tr>\n",
              "  </tbody>\n",
              "</table>\n",
              "<p>8602 rows × 5 columns</p>\n",
              "</div>\n",
              "      <button class=\"colab-df-convert\" onclick=\"convertToInteractive('df-cda45f70-c5a2-4b4f-8a75-a2e38121e3e9')\"\n",
              "              title=\"Convert this dataframe to an interactive table.\"\n",
              "              style=\"display:none;\">\n",
              "        \n",
              "  <svg xmlns=\"http://www.w3.org/2000/svg\" height=\"24px\"viewBox=\"0 0 24 24\"\n",
              "       width=\"24px\">\n",
              "    <path d=\"M0 0h24v24H0V0z\" fill=\"none\"/>\n",
              "    <path d=\"M18.56 5.44l.94 2.06.94-2.06 2.06-.94-2.06-.94-.94-2.06-.94 2.06-2.06.94zm-11 1L8.5 8.5l.94-2.06 2.06-.94-2.06-.94L8.5 2.5l-.94 2.06-2.06.94zm10 10l.94 2.06.94-2.06 2.06-.94-2.06-.94-.94-2.06-.94 2.06-2.06.94z\"/><path d=\"M17.41 7.96l-1.37-1.37c-.4-.4-.92-.59-1.43-.59-.52 0-1.04.2-1.43.59L10.3 9.45l-7.72 7.72c-.78.78-.78 2.05 0 2.83L4 21.41c.39.39.9.59 1.41.59.51 0 1.02-.2 1.41-.59l7.78-7.78 2.81-2.81c.8-.78.8-2.07 0-2.86zM5.41 20L4 18.59l7.72-7.72 1.47 1.35L5.41 20z\"/>\n",
              "  </svg>\n",
              "      </button>\n",
              "      \n",
              "  <style>\n",
              "    .colab-df-container {\n",
              "      display:flex;\n",
              "      flex-wrap:wrap;\n",
              "      gap: 12px;\n",
              "    }\n",
              "\n",
              "    .colab-df-convert {\n",
              "      background-color: #E8F0FE;\n",
              "      border: none;\n",
              "      border-radius: 50%;\n",
              "      cursor: pointer;\n",
              "      display: none;\n",
              "      fill: #1967D2;\n",
              "      height: 32px;\n",
              "      padding: 0 0 0 0;\n",
              "      width: 32px;\n",
              "    }\n",
              "\n",
              "    .colab-df-convert:hover {\n",
              "      background-color: #E2EBFA;\n",
              "      box-shadow: 0px 1px 2px rgba(60, 64, 67, 0.3), 0px 1px 3px 1px rgba(60, 64, 67, 0.15);\n",
              "      fill: #174EA6;\n",
              "    }\n",
              "\n",
              "    [theme=dark] .colab-df-convert {\n",
              "      background-color: #3B4455;\n",
              "      fill: #D2E3FC;\n",
              "    }\n",
              "\n",
              "    [theme=dark] .colab-df-convert:hover {\n",
              "      background-color: #434B5C;\n",
              "      box-shadow: 0px 1px 3px 1px rgba(0, 0, 0, 0.15);\n",
              "      filter: drop-shadow(0px 1px 2px rgba(0, 0, 0, 0.3));\n",
              "      fill: #FFFFFF;\n",
              "    }\n",
              "  </style>\n",
              "\n",
              "      <script>\n",
              "        const buttonEl =\n",
              "          document.querySelector('#df-cda45f70-c5a2-4b4f-8a75-a2e38121e3e9 button.colab-df-convert');\n",
              "        buttonEl.style.display =\n",
              "          google.colab.kernel.accessAllowed ? 'block' : 'none';\n",
              "\n",
              "        async function convertToInteractive(key) {\n",
              "          const element = document.querySelector('#df-cda45f70-c5a2-4b4f-8a75-a2e38121e3e9');\n",
              "          const dataTable =\n",
              "            await google.colab.kernel.invokeFunction('convertToInteractive',\n",
              "                                                     [key], {});\n",
              "          if (!dataTable) return;\n",
              "\n",
              "          const docLinkHtml = 'Like what you see? Visit the ' +\n",
              "            '<a target=\"_blank\" href=https://colab.research.google.com/notebooks/data_table.ipynb>data table notebook</a>'\n",
              "            + ' to learn more about interactive tables.';\n",
              "          element.innerHTML = '';\n",
              "          dataTable['output_type'] = 'display_data';\n",
              "          await google.colab.output.renderOutput(dataTable, element);\n",
              "          const docLink = document.createElement('div');\n",
              "          docLink.innerHTML = docLinkHtml;\n",
              "          element.appendChild(docLink);\n",
              "        }\n",
              "      </script>\n",
              "    </div>\n",
              "  </div>\n",
              "  "
            ]
          },
          "metadata": {},
          "execution_count": 15
        }
      ]
    },
    {
      "cell_type": "code",
      "source": [
        "data_IQR[\"빌린 자전거 갯수\"].hist()"
      ],
      "metadata": {
        "id": "XYI0h-KxeRZN",
        "outputId": "544aa223-5263-4c74-d27a-dd2c341fe9d0",
        "colab": {
          "base_uri": "https://localhost:8080/",
          "height": 286
        }
      },
      "execution_count": null,
      "outputs": [
        {
          "output_type": "execute_result",
          "data": {
            "text/plain": [
              "<matplotlib.axes._subplots.AxesSubplot at 0x7fe04041e4f0>"
            ]
          },
          "metadata": {},
          "execution_count": 16
        },
        {
          "output_type": "display_data",
          "data": {
            "text/plain": [
              "<Figure size 432x288 with 1 Axes>"
            ],
            "image/png": "[encoded data removed]"
          },
          "metadata": {}
        }
      ]
    },
    {
      "cell_type": "code",
      "source": [
        "data_outlier=df1[(df1[\"빌린 자전거 갯수\"]>q3+IQR*1.5)] # q3 +IQR*1.5: 최댓값\n",
        "data_outlier"
      ],
      "metadata": {
        "id": "APMEA4Pwep4U",
        "outputId": "b66da3ec-4f72-4f65-d686-f173d724af0c",
        "colab": {
          "base_uri": "https://localhost:8080/",
          "height": 424
        }
      },
      "execution_count": null,
      "outputs": [
        {
          "output_type": "execute_result",
          "data": {
            "text/plain": [
              "      빌린 자전거 갯수  시간    온도  습도   풍속\n",
              "2946       2401  18  20.7  54  4.1\n",
              "2994       2402  18  16.0  47  2.1\n",
              "3114       2401  18  14.8  24  1.3\n",
              "3210       2404  18  17.5  18  1.3\n",
              "3282       2692  18  17.0  28  3.1\n",
              "...         ...  ..   ...  ..  ...\n",
              "7746       2631  18  16.6  40  2.4\n",
              "7818       2613  18  17.3  43  0.9\n",
              "7842       2415  18  14.5  71  2.1\n",
              "7866       2612  18  15.1  53  1.7\n",
              "7890       2632  18  17.3  39  1.3\n",
              "\n",
              "[158 rows x 5 columns]"
            ],
            "text/html": [
              "\n",
              "  <div id=\"df-19847a8e-ced0-42e3-8e7e-047160399f28\">\n",
              "    <div class=\"colab-df-container\">\n",
              "      <div>\n",
              "<style scoped>\n",
              "    .dataframe tbody tr th:only-of-type {\n",
              "        vertical-align: middle;\n",
              "    }\n",
              "\n",
              "    .dataframe tbody tr th {\n",
              "        vertical-align: top;\n",
              "    }\n",
              "\n",
              "    .dataframe thead th {\n",
              "        text-align: right;\n",
              "    }\n",
              "</style>\n",
              "<table border=\"1\" class=\"dataframe\">\n",
              "  <thead>\n",
              "    <tr style=\"text-align: right;\">\n",
              "      <th></th>\n",
              "      <th>빌린 자전거 갯수</th>\n",
              "      <th>시간</th>\n",
              "      <th>온도</th>\n",
              "      <th>습도</th>\n",
              "      <th>풍속</th>\n",
              "    </tr>\n",
              "  </thead>\n",
              "  <tbody>\n",
              "    <tr>\n",
              "      <th>2946</th>\n",
              "      <td>2401</td>\n",
              "      <td>18</td>\n",
              "      <td>20.7</td>\n",
              "      <td>54</td>\n",
              "      <td>4.1</td>\n",
              "    </tr>\n",
              "    <tr>\n",
              "      <th>2994</th>\n",
              "      <td>2402</td>\n",
              "      <td>18</td>\n",
              "      <td>16.0</td>\n",
              "      <td>47</td>\n",
              "      <td>2.1</td>\n",
              "    </tr>\n",
              "    <tr>\n",
              "      <th>3114</th>\n",
              "      <td>2401</td>\n",
              "      <td>18</td>\n",
              "      <td>14.8</td>\n",
              "      <td>24</td>\n",
              "      <td>1.3</td>\n",
              "    </tr>\n",
              "    <tr>\n",
              "      <th>3210</th>\n",
              "      <td>2404</td>\n",
              "      <td>18</td>\n",
              "      <td>17.5</td>\n",
              "      <td>18</td>\n",
              "      <td>1.3</td>\n",
              "    </tr>\n",
              "    <tr>\n",
              "      <th>3282</th>\n",
              "      <td>2692</td>\n",
              "      <td>18</td>\n",
              "      <td>17.0</td>\n",
              "      <td>28</td>\n",
              "      <td>3.1</td>\n",
              "    </tr>\n",
              "    <tr>\n",
              "      <th>...</th>\n",
              "      <td>...</td>\n",
              "      <td>...</td>\n",
              "      <td>...</td>\n",
              "      <td>...</td>\n",
              "      <td>...</td>\n",
              "    </tr>\n",
              "    <tr>\n",
              "      <th>7746</th>\n",
              "      <td>2631</td>\n",
              "      <td>18</td>\n",
              "      <td>16.6</td>\n",
              "      <td>40</td>\n",
              "      <td>2.4</td>\n",
              "    </tr>\n",
              "    <tr>\n",
              "      <th>7818</th>\n",
              "      <td>2613</td>\n",
              "      <td>18</td>\n",
              "      <td>17.3</td>\n",
              "      <td>43</td>\n",
              "      <td>0.9</td>\n",
              "    </tr>\n",
              "    <tr>\n",
              "      <th>7842</th>\n",
              "      <td>2415</td>\n",
              "      <td>18</td>\n",
              "      <td>14.5</td>\n",
              "      <td>71</td>\n",
              "      <td>2.1</td>\n",
              "    </tr>\n",
              "    <tr>\n",
              "      <th>7866</th>\n",
              "      <td>2612</td>\n",
              "      <td>18</td>\n",
              "      <td>15.1</td>\n",
              "      <td>53</td>\n",
              "      <td>1.7</td>\n",
              "    </tr>\n",
              "    <tr>\n",
              "      <th>7890</th>\n",
              "      <td>2632</td>\n",
              "      <td>18</td>\n",
              "      <td>17.3</td>\n",
              "      <td>39</td>\n",
              "      <td>1.3</td>\n",
              "    </tr>\n",
              "  </tbody>\n",
              "</table>\n",
              "<p>158 rows × 5 columns</p>\n",
              "</div>\n",
              "      <button class=\"colab-df-convert\" onclick=\"convertToInteractive('df-19847a8e-ced0-42e3-8e7e-047160399f28')\"\n",
              "              title=\"Convert this dataframe to an interactive table.\"\n",
              "              style=\"display:none;\">\n",
              "        \n",
              "  <svg xmlns=\"http://www.w3.org/2000/svg\" height=\"24px\"viewBox=\"0 0 24 24\"\n",
              "       width=\"24px\">\n",
              "    <path d=\"M0 0h24v24H0V0z\" fill=\"none\"/>\n",
              "    <path d=\"M18.56 5.44l.94 2.06.94-2.06 2.06-.94-2.06-.94-.94-2.06-.94 2.06-2.06.94zm-11 1L8.5 8.5l.94-2.06 2.06-.94-2.06-.94L8.5 2.5l-.94 2.06-2.06.94zm10 10l.94 2.06.94-2.06 2.06-.94-2.06-.94-.94-2.06-.94 2.06-2.06.94z\"/><path d=\"M17.41 7.96l-1.37-1.37c-.4-.4-.92-.59-1.43-.59-.52 0-1.04.2-1.43.59L10.3 9.45l-7.72 7.72c-.78.78-.78 2.05 0 2.83L4 21.41c.39.39.9.59 1.41.59.51 0 1.02-.2 1.41-.59l7.78-7.78 2.81-2.81c.8-.78.8-2.07 0-2.86zM5.41 20L4 18.59l7.72-7.72 1.47 1.35L5.41 20z\"/>\n",
              "  </svg>\n",
              "      </button>\n",
              "      \n",
              "  <style>\n",
              "    .colab-df-container {\n",
              "      display:flex;\n",
              "      flex-wrap:wrap;\n",
              "      gap: 12px;\n",
              "    }\n",
              "\n",
              "    .colab-df-convert {\n",
              "      background-color: #E8F0FE;\n",
              "      border: none;\n",
              "      border-radius: 50%;\n",
              "      cursor: pointer;\n",
              "      display: none;\n",
              "      fill: #1967D2;\n",
              "      height: 32px;\n",
              "      padding: 0 0 0 0;\n",
              "      width: 32px;\n",
              "    }\n",
              "\n",
              "    .colab-df-convert:hover {\n",
              "      background-color: #E2EBFA;\n",
              "      box-shadow: 0px 1px 2px rgba(60, 64, 67, 0.3), 0px 1px 3px 1px rgba(60, 64, 67, 0.15);\n",
              "      fill: #174EA6;\n",
              "    }\n",
              "\n",
              "    [theme=dark] .colab-df-convert {\n",
              "      background-color: #3B4455;\n",
              "      fill: #D2E3FC;\n",
              "    }\n",
              "\n",
              "    [theme=dark] .colab-df-convert:hover {\n",
              "      background-color: #434B5C;\n",
              "      box-shadow: 0px 1px 3px 1px rgba(0, 0, 0, 0.15);\n",
              "      filter: drop-shadow(0px 1px 2px rgba(0, 0, 0, 0.3));\n",
              "      fill: #FFFFFF;\n",
              "    }\n",
              "  </style>\n",
              "\n",
              "      <script>\n",
              "        const buttonEl =\n",
              "          document.querySelector('#df-19847a8e-ced0-42e3-8e7e-047160399f28 button.colab-df-convert');\n",
              "        buttonEl.style.display =\n",
              "          google.colab.kernel.accessAllowed ? 'block' : 'none';\n",
              "\n",
              "        async function convertToInteractive(key) {\n",
              "          const element = document.querySelector('#df-19847a8e-ced0-42e3-8e7e-047160399f28');\n",
              "          const dataTable =\n",
              "            await google.colab.kernel.invokeFunction('convertToInteractive',\n",
              "                                                     [key], {});\n",
              "          if (!dataTable) return;\n",
              "\n",
              "          const docLinkHtml = 'Like what you see? Visit the ' +\n",
              "            '<a target=\"_blank\" href=https://colab.research.google.com/notebooks/data_table.ipynb>data table notebook</a>'\n",
              "            + ' to learn more about interactive tables.';\n",
              "          element.innerHTML = '';\n",
              "          dataTable['output_type'] = 'display_data';\n",
              "          await google.colab.output.renderOutput(dataTable, element);\n",
              "          const docLink = document.createElement('div');\n",
              "          docLink.innerHTML = docLinkHtml;\n",
              "          element.appendChild(docLink);\n",
              "        }\n",
              "      </script>\n",
              "    </div>\n",
              "  </div>\n",
              "  "
            ]
          },
          "metadata": {},
          "execution_count": 17
        }
      ]
    },
    {
      "cell_type": "code",
      "source": [
        "data_outlier[\"빌린 자전거 갯수\"].hist()"
      ],
      "metadata": {
        "id": "1sUnkaHfe2H4",
        "outputId": "3e3926e2-e3c3-44db-cb91-de0c99494f11",
        "colab": {
          "base_uri": "https://localhost:8080/",
          "height": 286
        }
      },
      "execution_count": null,
      "outputs": [
        {
          "output_type": "execute_result",
          "data": {
            "text/plain": [
              "<matplotlib.axes._subplots.AxesSubplot at 0x7fe040455c10>"
            ]
          },
          "metadata": {},
          "execution_count": 18
        },
        {
          "output_type": "display_data",
          "data": {
            "text/plain": [
              "<Figure size 432x288 with 1 Axes>"
            ],
            "image/png": "[encoded data removed]"
          },
          "metadata": {}
        }
      ]
    },
    {
      "cell_type": "code",
      "source": [],
      "metadata": {
        "id": "wprVHZZge7Gx"
      },
      "execution_count": null,
      "outputs": []
    },
    {
      "cell_type": "markdown",
      "source": [
        "# 좋아보이는 것들 다 불러와서 스케일 했습니다.\n",
        "# 그리고 Y가 연속형이라서 리니어 리그레션 모델로 돌려봤습니다."
      ],
      "metadata": {
        "id": "lgIuTRPg7Ur9"
      }
    },
    {
      "cell_type": "code",
      "source": [
        "from sklearn.model_selection import train_test_split # train set과 test set을 나눈다\n",
        "from sklearn.model_selection import cross_val_score\n",
        "from sklearn.neighbors import KNeighborsRegressor\n",
        "from sklearn.metrics import accuracy_score\n",
        "\n",
        "from sklearn.model_selection import train_test_split\n",
        "from sklearn.compose import ColumnTransformer\n",
        "from sklearn.preprocessing import StandardScaler\n",
        "from sklearn.preprocessing import OneHotEncoder\n",
        "\n",
        "from sklearn.linear_model import LinearRegression\n",
        "from sklearn.metrics import mean_squared_error\n",
        "from math import sqrt\n",
        "lr = LinearRegression().fit(X_train, Y_train)\n",
        "\n",
        "\n",
        "X = df1[[\"시간\", \"온도\", \"습도\"]]\n",
        "Y = df1[\"빌린 자전거 갯수\"]\n",
        "\n",
        "X_train, X_test, Y_train, Y_test = train_test_split(X,Y, test_size=0.3, random_state=0)\n",
        "\n",
        "scaler = StandardScaler().fit(X_train, Y_train)\n",
        "X_test = scaler.transform(X_test)\n",
        "X_train = scaler.transform(X_train)\n",
        "\n",
        "from sklearn.neighbors import KNeighborsRegressor\n",
        "knn_reg = KNeighborsRegressor(n_neighbors=9, p=2)\n",
        "# 1은 메하탄 2는 뉴클리어데이타 \n",
        "\n",
        "knn_reg.fit(X_train, Y_train)\n",
        "Y_pred = knn_reg.predict(X_test)\n",
        "print(\"accuracy: {:.3f}\".format(knn_reg.score(X_train, Y_train)))\n",
        "rmse = sqrt(mean_squared_error(Y_test, Y_pred))\n",
        "print(\"RMSE: {:3f}\".format(rmse))\n",
        "# accuracy: 0.759 이 값은 트레이닝에 값이다 r2\n",
        "# RMSE: 0.062762 주기의 오차"
      ],
      "metadata": {
        "id": "Ml-EW0kIfast",
        "outputId": "10219bb2-5584-4736-b445-b123138a9684",
        "colab": {
          "base_uri": "https://localhost:8080/",
          "height": 245
        }
      },
      "execution_count": null,
      "outputs": [
        {
          "output_type": "error",
          "ename": "NameError",
          "evalue": "ignored",
          "traceback": [
            "\u001b[0;31m---------------------------------------------------------------------------\u001b[0m",
            "\u001b[0;31mNameError\u001b[0m                                 Traceback (most recent call last)",
            "\u001b[0;32m<ipython-input-19-cbffed69f9e0>\u001b[0m in \u001b[0;36m<module>\u001b[0;34m\u001b[0m\n\u001b[1;32m     12\u001b[0m \u001b[0;32mfrom\u001b[0m \u001b[0msklearn\u001b[0m\u001b[0;34m.\u001b[0m\u001b[0mmetrics\u001b[0m \u001b[0;32mimport\u001b[0m \u001b[0mmean_squared_error\u001b[0m\u001b[0;34m\u001b[0m\u001b[0;34m\u001b[0m\u001b[0m\n\u001b[1;32m     13\u001b[0m \u001b[0;32mfrom\u001b[0m \u001b[0mmath\u001b[0m \u001b[0;32mimport\u001b[0m \u001b[0msqrt\u001b[0m\u001b[0;34m\u001b[0m\u001b[0;34m\u001b[0m\u001b[0m\n\u001b[0;32m---> 14\u001b[0;31m \u001b[0mlr\u001b[0m \u001b[0;34m=\u001b[0m \u001b[0mLinearRegression\u001b[0m\u001b[0;34m(\u001b[0m\u001b[0;34m)\u001b[0m\u001b[0;34m.\u001b[0m\u001b[0mfit\u001b[0m\u001b[0;34m(\u001b[0m\u001b[0mX_train\u001b[0m\u001b[0;34m,\u001b[0m \u001b[0mY_train\u001b[0m\u001b[0;34m)\u001b[0m\u001b[0;34m\u001b[0m\u001b[0;34m\u001b[0m\u001b[0m\n\u001b[0m\u001b[1;32m     15\u001b[0m \u001b[0;34m\u001b[0m\u001b[0m\n\u001b[1;32m     16\u001b[0m \u001b[0;34m\u001b[0m\u001b[0m\n",
            "\u001b[0;31mNameError\u001b[0m: name 'X_train' is not defined"
          ]
        }
      ]
    },
    {
      "cell_type": "markdown",
      "source": [
        "# 릿지 돌려봤습니다."
      ],
      "metadata": {
        "id": "_ePHbqKZ_B3h"
      }
    },
    {
      "cell_type": "code",
      "source": [
        "from sklearn.linear_model import Ridge\n",
        "lr_ridge = Ridge(random_state = 0).fit(X_train, Y_train)\n",
        "Y_pred = lr_ridge.predict(X_test)\n",
        "print(\"예측값(Y Predict value) \\n\", Y_pred)"
      ],
      "metadata": {
        "id": "VusWuPjbiQ1_",
        "outputId": "5e322bd9-0495-46ac-b860-3d1f6f4d48ea",
        "colab": {
          "base_uri": "https://localhost:8080/"
        }
      },
      "execution_count": null,
      "outputs": [
        {
          "output_type": "stream",
          "name": "stdout",
          "text": [
            "예측값(Y Predict value) \n",
            " [316.34455282 573.18086616 547.10055622 ... 615.0495792  178.65992925\n",
            " 618.49378023]\n"
          ]
        }
      ]
    },
    {
      "cell_type": "code",
      "source": [
        "import matplotlib.pyplot as plt\n",
        "plt.rc('font', family=\"NanumBarunGothic\")\n",
        "\n",
        "sns.distplot(Y_pred)"
      ],
      "metadata": {
        "id": "FaBI2o3ekrbq",
        "outputId": "7b2ffc13-f0b8-44b8-9e29-de48bf2dbe51",
        "colab": {
          "base_uri": "https://localhost:8080/",
          "height": 361
        }
      },
      "execution_count": null,
      "outputs": [
        {
          "output_type": "stream",
          "name": "stderr",
          "text": [
            "/usr/local/lib/python3.8/dist-packages/seaborn/distributions.py:2619: FutureWarning: `distplot` is a deprecated function and will be removed in a future version. Please adapt your code to use either `displot` (a figure-level function with similar flexibility) or `histplot` (an axes-level function for histograms).\n",
            "  warnings.warn(msg, FutureWarning)\n"
          ]
        },
        {
          "output_type": "execute_result",
          "data": {
            "text/plain": [
              "<matplotlib.axes._subplots.AxesSubplot at 0x7fb73a976d30>"
            ]
          },
          "metadata": {},
          "execution_count": 106
        },
        {
          "output_type": "stream",
          "name": "stderr",
          "text": [
            "WARNING:matplotlib.font_manager:findfont: Font family ['NanumBarunGothic'] not found. Falling back to DejaVu Sans.\n",
            "WARNING:matplotlib.font_manager:findfont: Font family ['NanumBarunGothic'] not found. Falling back to DejaVu Sans.\n"
          ]
        },
        {
          "output_type": "display_data",
          "data": {
            "text/plain": [
              "<Figure size 432x288 with 1 Axes>"
            ],
            "image/png": "[encoded data removed]"
          },
          "metadata": {}
        }
      ]
    },
    {
      "cell_type": "markdown",
      "source": [
        "#SVR 돌려봤습니다."
      ],
      "metadata": {
        "id": "hBVXIQjL_WxL"
      }
    },
    {
      "cell_type": "code",
      "source": [
        "X = df1[[\"시간\", \"온도\", \"습도\"]]\n",
        "Y = df1[\"빌린 자전거 갯수\"]\n",
        "\n",
        "X_train, X_test, Y_train, Y_test = train_test_split(X, Y, test_size=0.3, random_state=0)\n",
        "scaler = StandardScaler().fit(X_train, Y_train)\n",
        "X_test = scaler.transform(X_test)\n",
        "X_train = scaler.transform(X_train)\n",
        "\n",
        "from sklearn.svm import SVR\n",
        "\n",
        "SVR_model = SVR(C=1, kernel = \"linear\", epsilon=0.1)\n",
        "SVR_model.fit(X_train, Y_train)\n",
        "Y_pred = SVR_model.predict(X_test)\n",
        "rmse = sqrt(mean_squared_error(Y_test, Y_pred))\n",
        "print(\"RMSE: {:.3f}\".format(rmse))\n",
        "print(SVR_model.coef_)"
      ],
      "metadata": {
        "id": "ZhIeybIGlB_W",
        "outputId": "1fb738ca-260d-4aed-9e9d-b506cfa26c7e",
        "colab": {
          "base_uri": "https://localhost:8080/"
        }
      },
      "execution_count": null,
      "outputs": [
        {
          "output_type": "stream",
          "name": "stdout",
          "text": [
            "RMSE: 482.383\n",
            "[[ 136.23086791  310.07753064 -120.20411847]]\n"
          ]
        }
      ]
    },
    {
      "cell_type": "markdown",
      "source": [
        "# 깜빡하고 릿지를 한번 더 돌린것 같습니다."
      ],
      "metadata": {
        "id": "jV4S0oO3_amX"
      }
    },
    {
      "cell_type": "code",
      "source": [
        "from sklearn.linear_model import Ridge\n",
        "lr_ridge = Ridge(random_state = 0).fit(X_train, Y_train)\n",
        "Y_pred = lr_ridge.predict(X_test)\n",
        "print(\"예측값(Y Predict value) \\n\", Y_pred)"
      ],
      "metadata": {
        "id": "qXIxhpvolTGk",
        "outputId": "0350b01a-5860-47c1-c2af-9ddb5efba521",
        "colab": {
          "base_uri": "https://localhost:8080/"
        }
      },
      "execution_count": null,
      "outputs": [
        {
          "output_type": "stream",
          "name": "stdout",
          "text": [
            "예측값(Y Predict value) \n",
            " [316.34455282 573.18086616 547.10055622 ... 615.0495792  178.65992925\n",
            " 618.49378023]\n"
          ]
        }
      ]
    },
    {
      "cell_type": "code",
      "source": [
        "rmse = sqrt (mean_squared_error(Y_test, Y_pred))\n",
        "print(\"ridge R2 : {:.3f}\".format(lr_ridge.score(X_train, Y_train)))\n",
        "print(\"RMSE : {:.3f}\". format(rmse))\n",
        "#비교\n",
        "print(\"lr R2 : {:.3f}\".format(lr.score(X_train, Y_train)))"
      ],
      "metadata": {
        "id": "3nJHHfbelW0C",
        "outputId": "9390d88f-c46a-4031-9c51-1e65d3538d17",
        "colab": {
          "base_uri": "https://localhost:8080/"
        }
      },
      "execution_count": null,
      "outputs": [
        {
          "output_type": "stream",
          "name": "stdout",
          "text": [
            "ridge R2 : 0.454\n",
            "RMSE : 475.606\n",
            "lr R2 : 0.454\n"
          ]
        }
      ]
    },
    {
      "cell_type": "markdown",
      "source": [
        "# 라쏘를 돌려봤습니다."
      ],
      "metadata": {
        "id": "KdVUreeylZPl"
      }
    },
    {
      "cell_type": "code",
      "source": [
        "#라쏘\n",
        "from sklearn.linear_model import Lasso\n",
        "\n",
        "lr_lasso = Lasso(random_state = 0, alpha = 0.01, max_iter = 1000).fit(X_train, Y_train)\n",
        "Y_pred = lr_lasso.predict(X_test)\n",
        "\n",
        "print(\"예측값(Y predidct value) \\n\", Y_pred)"
      ],
      "metadata": {
        "id": "Of_lWh7bllVE",
        "outputId": "cc1c521c-a0aa-437e-8bbe-ae6af17a6a58",
        "colab": {
          "base_uri": "https://localhost:8080/"
        }
      },
      "execution_count": null,
      "outputs": [
        {
          "output_type": "stream",
          "name": "stdout",
          "text": [
            "예측값(Y predidct value) \n",
            " [316.31022478 573.1844059  547.06621423 ... 615.04471898 178.58891221\n",
            " 618.46590949]\n"
          ]
        }
      ]
    },
    {
      "cell_type": "code",
      "source": [
        "rmse = sqrt (mean_squared_error(Y_test, Y_pred))\n",
        "print(\"lasso R2 : {:.3f}\".format(lr_lasso.score(X_train, Y_train)))\n",
        "print(\"RMSE : {:.3f}\". format(rmse))\n",
        "#비교\n",
        "print(\"lr R2 : {:.3f}\".format(lr.score(X_train, Y_train)))\n",
        "print(\"ridge R2 : {:3f}\".format(lr_ridge.score(X_train, Y_train)))\n",
        "\n",
        "# rmse가 점점 떨어진다(예측력이 좋아졌다.)\n",
        "# 릿지가 라쏘보다 성능이 좀 더 떨어지는데 큰 데이터는 라쏘가 더 나음."
      ],
      "metadata": {
        "id": "iMVWcfailrRB",
        "outputId": "8e19bff2-b1d8-4a54-8c60-c2bce538193c",
        "colab": {
          "base_uri": "https://localhost:8080/"
        }
      },
      "execution_count": null,
      "outputs": [
        {
          "output_type": "stream",
          "name": "stdout",
          "text": [
            "lasso R2 : 0.454\n",
            "RMSE : 475.605\n",
            "lr R2 : 0.454\n",
            "ridge R2 : 0.453751\n"
          ]
        }
      ]
    },
    {
      "cell_type": "markdown",
      "source": [
        "# DecisionTreeRegressor로 돌려봤습니다."
      ],
      "metadata": {
        "id": "KzgIC20r_nnZ"
      }
    },
    {
      "cell_type": "code",
      "source": [
        "X_train, X_test, Y_train, Y_test = train_test_split(X,Y, test_size=0.3, random_state=0)\n",
        "\n",
        "from sklearn.tree import DecisionTreeRegressor\n",
        "\n",
        "DT_model_reg = DecisionTreeRegressor(random_state = 0, max_depth = 5)\n",
        "DT_model_reg.fit(X_train, Y_train)\n",
        "Y_pred = DT_model_reg.predict(X_test)\n",
        "print(\"accuracy : {:.3f}\".format(DT_model_reg.score(X_train, Y_train)))\n",
        "rmse = sqrt(mean_squared_error(Y_test, Y_pred))\n",
        "print(\"rmse : {:.3f}\".format(rmse))"
      ],
      "metadata": {
        "id": "jsOFT7yCmazx",
        "outputId": "bb619058-1c1e-47f1-95f1-43ed08c28662",
        "colab": {
          "base_uri": "https://localhost:8080/"
        }
      },
      "execution_count": null,
      "outputs": [
        {
          "output_type": "stream",
          "name": "stdout",
          "text": [
            "accuracy : 0.665\n",
            "rmse : 391.109\n"
          ]
        }
      ]
    },
    {
      "cell_type": "markdown",
      "source": [
        "# Knn regressor로 돌려봤습니다."
      ],
      "metadata": {
        "id": "vkvejrON_uDR"
      }
    },
    {
      "cell_type": "code",
      "source": [
        "X_train, X_test, Y_train, Y_test = train_test_split(X,Y, test_size=0.3, random_state=0)\n",
        "\n",
        "scaler = StandardScaler().fit(X_train, Y_train)\n",
        "X_test = scaler.transform(X_test)\n",
        "X_train = scaler.transform(X_train)\n",
        "\n",
        "from sklearn.neighbors import KNeighborsRegressor\n",
        "knn_reg = KNeighborsRegressor(n_neighbors=9, p=2)\n",
        "# 1은 메하탄 2는 뉴클리어데이타 \n",
        "\n",
        "\n",
        "knn_reg.fit(X_train, Y_train)\n",
        "Y_pred = knn_reg.predict(X_test)\n",
        "print(\"accuracy: {:.3f}\".format(knn_reg.score(X_train, Y_train)))\n",
        "rmse = sqrt(mean_squared_error(Y_test, Y_pred))\n",
        "print(\"RMSE: {:3f}\".format(rmse))\n",
        "# accuracy: 0.759 이 값은 트레이닝에 값이다 r2\n",
        "# RMSE: 0.062762 주기의 오차"
      ],
      "metadata": {
        "id": "x0h6gRHjnOrG",
        "outputId": "64c828ce-d46b-41c5-c800-dd7fcb69190e",
        "colab": {
          "base_uri": "https://localhost:8080/"
        }
      },
      "execution_count": null,
      "outputs": [
        {
          "output_type": "stream",
          "name": "stdout",
          "text": [
            "accuracy: 0.776\n",
            "RMSE: 347.478200\n"
          ]
        }
      ]
    },
    {
      "cell_type": "code",
      "source": [],
      "metadata": {
        "id": "tyRSEFmWpdog"
      },
      "execution_count": null,
      "outputs": []
    },
    {
      "cell_type": "markdown",
      "source": [
        "# 밑에는 아직 정리가 안됐습니다.\n",
        "# 사실 완전히 이해 못하고 짜집기 해서 이상한 부분도 있는데 어느정도는 나온것 같습니다."
      ],
      "metadata": {
        "id": "MDDG1ghCAHOV"
      }
    },
    {
      "cell_type": "code",
      "source": [
        "df1['온도'].plot.hist(color = 'y',alpha=0.4,grid=True)"
      ],
      "metadata": {
        "colab": {
          "base_uri": "https://localhost:8080/",
          "height": 286
        },
        "id": "Fubl5CygbW7-",
        "outputId": "cd892917-1986-43ae-d88e-86e0a5664e83"
      },
      "execution_count": null,
      "outputs": [
        {
          "output_type": "execute_result",
          "data": {
            "text/plain": [
              "<matplotlib.axes._subplots.AxesSubplot at 0x7fb73aa9c1f0>"
            ]
          },
          "metadata": {},
          "execution_count": 85
        },
        {
          "output_type": "display_data",
          "data": {
            "text/plain": [
              "<Figure size 432x288 with 1 Axes>"
            ],
            "image/png": "[encoded data removed]"
          },
          "metadata": {}
        }
      ]
    },
    {
      "cell_type": "code",
      "source": [
        "df1['습도'].plot.hist(color = 'g',alpha=0.4,grid=True)"
      ],
      "metadata": {
        "colab": {
          "base_uri": "https://localhost:8080/",
          "height": 286
        },
        "id": "zPfOK3FLbnff",
        "outputId": "cb0bf83e-ac8d-49e4-ce26-2252ac6a2289"
      },
      "execution_count": null,
      "outputs": [
        {
          "output_type": "execute_result",
          "data": {
            "text/plain": [
              "<matplotlib.axes._subplots.AxesSubplot at 0x7fb73aa25520>"
            ]
          },
          "metadata": {},
          "execution_count": 86
        },
        {
          "output_type": "display_data",
          "data": {
            "text/plain": [
              "<Figure size 432x288 with 1 Axes>"
            ],
            "image/png": "[encoded data removed]"
          },
          "metadata": {}
        }
      ]
    },
    {
      "cell_type": "code",
      "source": [
        "df1['풍속'].plot.hist(color = 'g',alpha=0.4,grid=True)"
      ],
      "metadata": {
        "colab": {
          "base_uri": "https://localhost:8080/",
          "height": 286
        },
        "id": "0KJ-0gNdbto9",
        "outputId": "a77b07e8-218a-4115-ed28-cfc5ec2a04a2"
      },
      "execution_count": null,
      "outputs": [
        {
          "output_type": "execute_result",
          "data": {
            "text/plain": [
              "<matplotlib.axes._subplots.AxesSubplot at 0x7fb73aa2f850>"
            ]
          },
          "metadata": {},
          "execution_count": 87
        },
        {
          "output_type": "display_data",
          "data": {
            "text/plain": [
              "<Figure size 432x288 with 1 Axes>"
            ],
            "image/png": "[encoded data removed]"
          },
          "metadata": {}
        }
      ]
    },
    {
      "cell_type": "code",
      "source": [
        "from sklearn.preprocessing import StandardScaler\n",
        "from sklearn.linear_model import LinearRegression\n",
        "from sklearn.metrics import mean_squared_error\n",
        "from math import sqrt\n",
        "from sklearn.metrics import accuracy_score"
      ],
      "metadata": {
        "id": "P_B5XFtbR0px"
      },
      "execution_count": null,
      "outputs": []
    },
    {
      "cell_type": "code",
      "source": [
        "X = df1[[\"온도\", \"습도\",\"풍속\"]]\n",
        "Y = df1[\"빌린 자전거 갯수\"]\n",
        "\n",
        "X_train, X_test, Y_train, Y_test = train_test_split(X, Y, test_size = 0.3, random_state = 0)\n",
        "\n",
        "lrmodel = LinearRegression() # LinearRegression 모델을 초기화\n",
        "lrmodel.fit(X_train, Y_train) # train_X와 train_Y 데이터로 모델을 학습\n",
        "\n",
        "# 2.학습된 파라미터 값을 불러오기\n",
        "beta_0 = lrmodel.intercept_ #\n",
        "beta_1 = lrmodel.coef_[0] # \n",
        "beta_2 = lrmodel.coef_[1] #\n",
        "beta_3 = lrmodel.coef_[2] \n",
        "\n",
        "print(\"beta_0: %f\" % beta_0)\n",
        "print(\"beta_1: %f\" % beta_1)\n",
        "print(\"beta_2: %f\" % beta_2)\n",
        "print(\"beta_3: %f\" % beta_3)\n"
      ],
      "metadata": {
        "colab": {
          "base_uri": "https://localhost:8080/"
        },
        "id": "bgJX-xKUQr6t",
        "outputId": "2dfd85b9-edd9-43cc-f3f7-ddfbddc951fa"
      },
      "execution_count": null,
      "outputs": [
        {
          "output_type": "stream",
          "name": "stdout",
          "text": [
            "beta_0: 753.234097\n",
            "beta_1: 31.708131\n",
            "beta_2: -8.703278\n",
            "beta_3: 32.158417\n"
          ]
        }
      ]
    },
    {
      "cell_type": "code",
      "source": [
        "from sklearn.model_selection import train_test_split\n",
        "from sklearn. model_selection import cross_val_score\n",
        "from sklearn.neighbors import KNeighborsRegressor"
      ],
      "metadata": {
        "id": "gbF4E6E-q2A7"
      },
      "execution_count": null,
      "outputs": []
    },
    {
      "cell_type": "code",
      "source": [
        "X = df1[[\"온도\", \"습도\",\"풍속\"]]\n",
        "Y = df1[\"빌린 자전거 갯수\"]\n",
        "\n",
        "X_train, X_test, Y_train, Y_test = train_test_split(X, Y, test_size = 0.3, random_state = 0)\n",
        "\n",
        "model = KNeighborsRegressor()\n",
        "\n",
        "score = cross_val_score(model, X_train, Y_train, cv = 5)\n",
        "print(\"교차검증 점수 :\",score)"
      ],
      "metadata": {
        "colab": {
          "base_uri": "https://localhost:8080/"
        },
        "id": "ErHeD7M1JnjM",
        "outputId": "e365629e-a3b9-4bdf-8bc4-56d83cfe2ba0"
      },
      "execution_count": null,
      "outputs": [
        {
          "output_type": "stream",
          "name": "stdout",
          "text": [
            "교차검증 점수 : [0.41003536 0.37897665 0.41436168 0.41092568 0.41225989]\n"
          ]
        }
      ]
    },
    {
      "cell_type": "code",
      "source": [
        "from sklearn.neighbors import KNeighborsClassifier\n",
        "from sklearn.model_selection import StratifiedKFold\n",
        "from sklearn.model_selection import GridSearchCV"
      ],
      "metadata": {
        "id": "ltx82vLBMNlu"
      },
      "execution_count": null,
      "outputs": []
    },
    {
      "cell_type": "code",
      "source": [
        "X = df1[[\"온도\", \"습도\",\"풍속\"]]\n",
        "Y = df1[\"빌린 자전거 갯수\"]"
      ],
      "metadata": {
        "id": "mKt9aSwxMUi3"
      },
      "execution_count": null,
      "outputs": []
    },
    {
      "cell_type": "code",
      "source": [
        "X_train, X_test, Y_train, Y_test = train_test_split(X,Y, test_size=0.3, random_state=0)\n",
        "\n",
        "model = KNeighborsClassifier()\n",
        "\n",
        "mylist = list(range(1,50))\n",
        "k_list = [x for x in mylist if x %2 !=0]\n",
        "\n",
        "parameter_grid = {\"n_neighbors\" : k_list}\n",
        "\n",
        "\n",
        "grid_search = GridSearchCV(model, parameter_grid, cv = 10 )\n",
        "grid_search.fit(X_train, Y_train)\n",
        "\n"
      ],
      "metadata": {
        "colab": {
          "base_uri": "https://localhost:8080/"
        },
        "id": "cbyu6SC4MW2q",
        "outputId": "2e7055bc-1161-400c-8016-ec8950e64955"
      },
      "execution_count": null,
      "outputs": [
        {
          "output_type": "stream",
          "name": "stderr",
          "text": [
            "/usr/local/lib/python3.8/dist-packages/sklearn/model_selection/_split.py:676: UserWarning: The least populated class in y has only 1 members, which is less than n_splits=10.\n",
            "  warnings.warn(\n"
          ]
        },
        {
          "output_type": "execute_result",
          "data": {
            "text/plain": [
              "GridSearchCV(cv=10, estimator=KNeighborsClassifier(),\n",
              "             param_grid={'n_neighbors': [1, 3, 5, 7, 9, 11, 13, 15, 17, 19, 21,\n",
              "                                         23, 25, 27, 29, 31, 33, 35, 37, 39, 41,\n",
              "                                         43, 45, 47, 49]})"
            ]
          },
          "metadata": {},
          "execution_count": 94
        }
      ]
    },
    {
      "cell_type": "code",
      "source": [
        "grid_search = GridSearchCV(model, parameter_grid, cv = 10 )\n",
        "grid_search.fit(X_train, Y_train)\n",
        "grid_search.best_params_\n",
        "grid_search.cv_results_"
      ],
      "metadata": {
        "colab": {
          "base_uri": "https://localhost:8080/"
        },
        "id": "g3OT9-aYNEZn",
        "outputId": "472308ea-4c3d-44db-b347-7f7da27ef1bf"
      },
      "execution_count": null,
      "outputs": [
        {
          "output_type": "stream",
          "name": "stderr",
          "text": [
            "/usr/local/lib/python3.8/dist-packages/sklearn/model_selection/_split.py:676: UserWarning: The least populated class in y has only 1 members, which is less than n_splits=10.\n",
            "  warnings.warn(\n"
          ]
        },
        {
          "output_type": "execute_result",
          "data": {
            "text/plain": [
              "{'mean_fit_time': array([0.00652456, 0.00692773, 0.00633152, 0.00615077, 0.00672042,\n",
              "        0.00624971, 0.00643842, 0.00668848, 0.00662258, 0.00651672,\n",
              "        0.00646837, 0.00688732, 0.00634191, 0.00635586, 0.00648267,\n",
              "        0.00734801, 0.00622888, 0.00705307, 0.00668287, 0.00674403,\n",
              "        0.00623524, 0.00735784, 0.00675223, 0.00670495, 0.0069849 ]),\n",
              " 'std_fit_time': array([0.0006448 , 0.0009828 , 0.00057229, 0.00020182, 0.00087064,\n",
              "        0.00032984, 0.00082648, 0.00087886, 0.00036508, 0.00060691,\n",
              "        0.00050621, 0.00150383, 0.00059793, 0.00047782, 0.00060505,\n",
              "        0.00199662, 0.00017795, 0.00107298, 0.00106019, 0.00115479,\n",
              "        0.00030689, 0.00083063, 0.00023267, 0.00017673, 0.00076638]),\n",
              " 'mean_score_time': array([0.01863737, 0.02210622, 0.01980374, 0.01910429, 0.02177067,\n",
              "        0.02001879, 0.02011812, 0.02027018, 0.02375503, 0.02259183,\n",
              "        0.0217772 , 0.02563903, 0.02294989, 0.02305417, 0.02319016,\n",
              "        0.02487094, 0.02220881, 0.02417924, 0.02450361, 0.02490609,\n",
              "        0.02332537, 0.02532191, 0.02579784, 0.0257668 , 0.02651844]),\n",
              " 'std_score_time': array([0.00175294, 0.00612963, 0.00216353, 0.0004975 , 0.00411079,\n",
              "        0.00143623, 0.00117815, 0.00136939, 0.00397391, 0.00272712,\n",
              "        0.00232102, 0.00580316, 0.00323118, 0.0039175 , 0.00186983,\n",
              "        0.00267865, 0.00122526, 0.00222829, 0.00198624, 0.00222899,\n",
              "        0.00112353, 0.00268564, 0.00319325, 0.00167189, 0.00214591]),\n",
              " 'param_n_neighbors': masked_array(data=[1, 3, 5, 7, 9, 11, 13, 15, 17, 19, 21, 23, 25, 27, 29,\n",
              "                    31, 33, 35, 37, 39, 41, 43, 45, 47, 49],\n",
              "              mask=[False, False, False, False, False, False, False, False,\n",
              "                    False, False, False, False, False, False, False, False,\n",
              "                    False, False, False, False, False, False, False, False,\n",
              "                    False],\n",
              "        fill_value='?',\n",
              "             dtype=object),\n",
              " 'params': [{'n_neighbors': 1},\n",
              "  {'n_neighbors': 3},\n",
              "  {'n_neighbors': 5},\n",
              "  {'n_neighbors': 7},\n",
              "  {'n_neighbors': 9},\n",
              "  {'n_neighbors': 11},\n",
              "  {'n_neighbors': 13},\n",
              "  {'n_neighbors': 15},\n",
              "  {'n_neighbors': 17},\n",
              "  {'n_neighbors': 19},\n",
              "  {'n_neighbors': 21},\n",
              "  {'n_neighbors': 23},\n",
              "  {'n_neighbors': 25},\n",
              "  {'n_neighbors': 27},\n",
              "  {'n_neighbors': 29},\n",
              "  {'n_neighbors': 31},\n",
              "  {'n_neighbors': 33},\n",
              "  {'n_neighbors': 35},\n",
              "  {'n_neighbors': 37},\n",
              "  {'n_neighbors': 39},\n",
              "  {'n_neighbors': 41},\n",
              "  {'n_neighbors': 43},\n",
              "  {'n_neighbors': 45},\n",
              "  {'n_neighbors': 47},\n",
              "  {'n_neighbors': 49}],\n",
              " 'split0_test_score': array([0.01140065, 0.01302932, 0.01628664, 0.01791531, 0.02117264,\n",
              "        0.02442997, 0.0228013 , 0.02605863, 0.02931596, 0.02931596,\n",
              "        0.02931596, 0.03094463, 0.03257329, 0.03257329, 0.03257329,\n",
              "        0.03257329, 0.03257329, 0.02931596, 0.02931596, 0.03094463,\n",
              "        0.03094463, 0.03257329, 0.03257329, 0.03257329, 0.03257329]),\n",
              " 'split1_test_score': array([0.00977199, 0.00977199, 0.01954397, 0.01791531, 0.0228013 ,\n",
              "        0.02117264, 0.02605863, 0.03094463, 0.03094463, 0.03257329,\n",
              "        0.03257329, 0.03257329, 0.03257329, 0.03257329, 0.03257329,\n",
              "        0.03257329, 0.03420195, 0.03420195, 0.03420195, 0.03257329,\n",
              "        0.03257329, 0.03257329, 0.03420195, 0.03745928, 0.03745928]),\n",
              " 'split2_test_score': array([0.00815661, 0.01794454, 0.02120718, 0.02120718, 0.01957586,\n",
              "        0.01957586, 0.01957586, 0.02446982, 0.02446982, 0.02446982,\n",
              "        0.0228385 , 0.0228385 , 0.0228385 , 0.0228385 , 0.02446982,\n",
              "        0.0228385 , 0.02610114, 0.02610114, 0.02610114, 0.02773246,\n",
              "        0.02610114, 0.02936378, 0.02936378, 0.03099511, 0.03099511]),\n",
              " 'split3_test_score': array([0.00652529, 0.01468189, 0.0228385 , 0.0228385 , 0.02446982,\n",
              "        0.02446982, 0.02610114, 0.02773246, 0.02936378, 0.03099511,\n",
              "        0.02936378, 0.02936378, 0.03099511, 0.03262643, 0.03262643,\n",
              "        0.02936378, 0.02936378, 0.02936378, 0.03099511, 0.03099511,\n",
              "        0.03099511, 0.02936378, 0.03099511, 0.03099511, 0.03099511]),\n",
              " 'split4_test_score': array([0.00815661, 0.01305057, 0.01468189, 0.02120718, 0.01957586,\n",
              "        0.02446982, 0.02610114, 0.02610114, 0.02610114, 0.02610114,\n",
              "        0.02610114, 0.02936378, 0.02936378, 0.03262643, 0.03262643,\n",
              "        0.03262643, 0.03099511, 0.03262643, 0.03588907, 0.03588907,\n",
              "        0.03425775, 0.03588907, 0.03588907, 0.03588907, 0.03752039]),\n",
              " 'split5_test_score': array([0.00652529, 0.01631321, 0.01631321, 0.02610114, 0.02773246,\n",
              "        0.02610114, 0.02610114, 0.02773246, 0.02773246, 0.02610114,\n",
              "        0.02610114, 0.02773246, 0.02773246, 0.02773246, 0.02773246,\n",
              "        0.02773246, 0.02773246, 0.02773246, 0.02610114, 0.02610114,\n",
              "        0.02610114, 0.02610114, 0.02610114, 0.02446982, 0.02610114]),\n",
              " 'split6_test_score': array([0.01305057, 0.02120718, 0.02120718, 0.02446982, 0.02610114,\n",
              "        0.02773246, 0.02936378, 0.03099511, 0.02936378, 0.02936378,\n",
              "        0.02936378, 0.02936378, 0.03099511, 0.03099511, 0.03099511,\n",
              "        0.03099511, 0.03099511, 0.03099511, 0.03099511, 0.03262643,\n",
              "        0.03262643, 0.03262643, 0.03262643, 0.03262643, 0.03262643]),\n",
              " 'split7_test_score': array([0.00652529, 0.01305057, 0.01631321, 0.01631321, 0.01957586,\n",
              "        0.01957586, 0.02120718, 0.0228385 , 0.0228385 , 0.02446982,\n",
              "        0.02773246, 0.02773246, 0.03099511, 0.03099511, 0.02773246,\n",
              "        0.02610114, 0.02446982, 0.02446982, 0.02610114, 0.02936378,\n",
              "        0.02936378, 0.02936378, 0.02936378, 0.02936378, 0.02936378]),\n",
              " 'split8_test_score': array([0.00815661, 0.00978793, 0.01631321, 0.01794454, 0.01957586,\n",
              "        0.01957586, 0.02120718, 0.02773246, 0.02773246, 0.02936378,\n",
              "        0.02936378, 0.02936378, 0.02936378, 0.02936378, 0.02936378,\n",
              "        0.03099511, 0.02936378, 0.03099511, 0.03099511, 0.03099511,\n",
              "        0.03099511, 0.03099511, 0.03099511, 0.03099511, 0.03262643]),\n",
              " 'split9_test_score': array([0.01468189, 0.01468189, 0.01305057, 0.01631321, 0.01957586,\n",
              "        0.02120718, 0.02120718, 0.0228385 , 0.02446982, 0.02446982,\n",
              "        0.02610114, 0.02610114, 0.02773246, 0.03099511, 0.03099511,\n",
              "        0.03099511, 0.03099511, 0.03262643, 0.03262643, 0.03425775,\n",
              "        0.03425775, 0.03262643, 0.03262643, 0.03262643, 0.03262643]),\n",
              " 'mean_test_score': array([0.00929508, 0.01435191, 0.01777556, 0.02022254, 0.02201566,\n",
              "        0.02283106, 0.02397245, 0.02674437, 0.02723324, 0.02772237,\n",
              "        0.0278855 , 0.02853776, 0.02951629, 0.03033195, 0.03016882,\n",
              "        0.02967942, 0.02967916, 0.02984282, 0.03033222, 0.03114788,\n",
              "        0.03082161, 0.03114761, 0.03147361, 0.03179934, 0.03228874]),\n",
              " 'std_test_score': array([0.00273287, 0.00333029, 0.00304699, 0.003283  , 0.00294087,\n",
              "        0.00282526, 0.00301089, 0.00274243, 0.00252106, 0.00281361,\n",
              "        0.00256174, 0.00254015, 0.00276142, 0.00292818, 0.00264587,\n",
              "        0.00306789, 0.00279204, 0.00291521, 0.00327374, 0.00277081,\n",
              "        0.00276959, 0.0025682 , 0.00262738, 0.00335145, 0.00323599]),\n",
              " 'rank_test_score': array([25, 24, 23, 22, 21, 20, 19, 18, 17, 16, 15, 14, 13,  8,  9, 11, 12,\n",
              "        10,  7,  4,  6,  5,  3,  2,  1], dtype=int32)}"
            ]
          },
          "metadata": {},
          "execution_count": 95
        }
      ]
    },
    {
      "cell_type": "code",
      "source": [
        "grid_search.best_estimator_"
      ],
      "metadata": {
        "colab": {
          "base_uri": "https://localhost:8080/"
        },
        "id": "HVXOa8sANRKc",
        "outputId": "16abcd64-7f60-42bc-9d53-3e01d7ca7b53"
      },
      "execution_count": null,
      "outputs": [
        {
          "output_type": "execute_result",
          "data": {
            "text/plain": [
              "KNeighborsClassifier(n_neighbors=49)"
            ]
          },
          "metadata": {},
          "execution_count": 96
        }
      ]
    },
    {
      "cell_type": "code",
      "source": [
        "\n",
        "be = grid_search.best_estimator_\n",
        "pred = be.predict (X_test) \n",
        "accuracy_score(Y_test, pred)"
      ],
      "metadata": {
        "colab": {
          "base_uri": "https://localhost:8080/"
        },
        "id": "6Tk61IVcNf7H",
        "outputId": "1bcc60b5-81ca-4722-99d6-5145493ecdec"
      },
      "execution_count": null,
      "outputs": [
        {
          "output_type": "execute_result",
          "data": {
            "text/plain": [
              "0.03729071537290715"
            ]
          },
          "metadata": {},
          "execution_count": 97
        }
      ]
    },
    {
      "cell_type": "code",
      "source": [
        "df1.dtypes"
      ],
      "metadata": {
        "colab": {
          "base_uri": "https://localhost:8080/"
        },
        "id": "kwf2wVe5PHu4",
        "outputId": "bc1ab60e-46a2-4618-8e13-14e23ba9d883"
      },
      "execution_count": null,
      "outputs": [
        {
          "output_type": "execute_result",
          "data": {
            "text/plain": [
              "빌린 자전거 갯수      int64\n",
              "시간             int64\n",
              "온도           float64\n",
              "습도             int64\n",
              "풍속           float64\n",
              "dtype: object"
            ]
          },
          "metadata": {},
          "execution_count": 98
        }
      ]
    },
    {
      "cell_type": "code",
      "source": [],
      "metadata": {
        "id": "Z5ZhYNHTfqv9"
      },
      "execution_count": null,
      "outputs": []
    }
  ]
}