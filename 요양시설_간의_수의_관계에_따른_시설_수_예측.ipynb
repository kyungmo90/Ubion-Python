{
  "nbformat": 4,
  "nbformat_minor": 0,
  "metadata": {
    "colab": {
      "provenance": [],
      "include_colab_link": true
    },
    "kernelspec": {
      "name": "python3",
      "display_name": "Python 3"
    },
    "language_info": {
      "name": "python"
    }
  },
  "cells": [
    {
      "cell_type": "markdown",
      "metadata": {
        "id": "view-in-github",
        "colab_type": "text"
      },
      "source": [
        "<a href=\"https://colab.research.google.com/github/kyungmo90/Ubion-Python/blob/main/%EC%9A%94%EC%96%91%EC%8B%9C%EC%84%A4_%EA%B0%84%EC%9D%98_%EC%88%98%EC%9D%98_%EA%B4%80%EA%B3%84%EC%97%90_%EB%94%B0%EB%A5%B8_%EC%8B%9C%EC%84%A4_%EC%88%98_%EC%98%88%EC%B8%A1.ipynb\" target=\"_parent\"><img src=\"https://colab.research.google.com/assets/colab-badge.svg\" alt=\"Open In Colab\"/></a>"
      ]
    },
    {
      "cell_type": "markdown",
      "source": [
        "# 요양시설 간의 수의 관계에 따른 시설 수 예측\n",
        "\n"
      ],
      "metadata": {
        "id": "SrmtyJLuFnTf"
      }
    },
    {
      "cell_type": "markdown",
      "source": [
        "# 인공신경망"
      ],
      "metadata": {
        "id": "6FqlpDvWMT_s"
      }
    },
    {
      "cell_type": "code",
      "source": [
        "from google.colab import drive\n",
        "drive.mount('/content/drive')\n",
        "\n",
        "#구글 드라이브 마운트"
      ],
      "metadata": {
        "colab": {
          "base_uri": "https://localhost:8080/"
        },
        "id": "V0wzqqNfGXf1",
        "outputId": "24442a69-3772-44d1-cdb7-56d2e7571292"
      },
      "execution_count": 3,
      "outputs": [
        {
          "output_type": "stream",
          "name": "stdout",
          "text": [
            "Drive already mounted at /content/drive; to attempt to forcibly remount, call drive.mount(\"/content/drive\", force_remount=True).\n"
          ]
        }
      ]
    },
    {
      "cell_type": "code",
      "source": [
        "import pandas as pd\n",
        "\n",
        "df = pd.read_csv(\"/content/drive/MyDrive/2022년_9월_시군구별_장기요양기관_현황.CSV\", encoding = \"cp949\")\n",
        "df\n",
        "\n",
        "# 판다스 불러오고 csv파일을 한글 인코딩하고 df에 입력력"
      ],
      "metadata": {
        "colab": {
          "base_uri": "https://localhost:8080/",
          "height": 423
        },
        "id": "bv_iG8-RHCSX",
        "outputId": "effdcbf2-488b-4c02-8d3e-b5fb5b6458ad"
      },
      "execution_count": 4,
      "outputs": [
        {
          "output_type": "execute_result",
          "data": {
            "text/plain": [
              "          시도  노인요양시설  공동생활가정  방문요양   방문목욕  주야간보호  복지용구\n",
              "0      서울특별시       5     3.0    92   71.0   17.0  18.0\n",
              "1      서울특별시       9    13.0   111  102.0   19.0  20.0\n",
              "2      서울특별시       8    23.0    96   81.0   22.0   9.0\n",
              "3      서울특별시      20    14.0   185  144.0   31.0  30.0\n",
              "4      서울특별시      10    19.0   120  103.0   26.0  13.0\n",
              "..       ...     ...     ...   ...    ...    ...   ...\n",
              "245     경상남도      10     4.0    54   33.0    9.0   4.0\n",
              "246     경상남도       9     NaN    25   19.0   12.0   NaN\n",
              "247     경상남도       6     NaN    23   13.0    7.0   4.0\n",
              "248  제주특별자치도      19     2.0    24   19.0   20.0   4.0\n",
              "249  제주특별자치도      42     8.0    84   64.0   48.0  24.0\n",
              "\n",
              "[250 rows x 7 columns]"
            ],
            "text/html": [
              "\n",
              "  <div id=\"df-bdeffb5c-5372-4df0-82bc-53493ca05921\">\n",
              "    <div class=\"colab-df-container\">\n",
              "      <div>\n",
              "<style scoped>\n",
              "    .dataframe tbody tr th:only-of-type {\n",
              "        vertical-align: middle;\n",
              "    }\n",
              "\n",
              "    .dataframe tbody tr th {\n",
              "        vertical-align: top;\n",
              "    }\n",
              "\n",
              "    .dataframe thead th {\n",
              "        text-align: right;\n",
              "    }\n",
              "</style>\n",
              "<table border=\"1\" class=\"dataframe\">\n",
              "  <thead>\n",
              "    <tr style=\"text-align: right;\">\n",
              "      <th></th>\n",
              "      <th>시도</th>\n",
              "      <th>노인요양시설</th>\n",
              "      <th>공동생활가정</th>\n",
              "      <th>방문요양</th>\n",
              "      <th>방문목욕</th>\n",
              "      <th>주야간보호</th>\n",
              "      <th>복지용구</th>\n",
              "    </tr>\n",
              "  </thead>\n",
              "  <tbody>\n",
              "    <tr>\n",
              "      <th>0</th>\n",
              "      <td>서울특별시</td>\n",
              "      <td>5</td>\n",
              "      <td>3.0</td>\n",
              "      <td>92</td>\n",
              "      <td>71.0</td>\n",
              "      <td>17.0</td>\n",
              "      <td>18.0</td>\n",
              "    </tr>\n",
              "    <tr>\n",
              "      <th>1</th>\n",
              "      <td>서울특별시</td>\n",
              "      <td>9</td>\n",
              "      <td>13.0</td>\n",
              "      <td>111</td>\n",
              "      <td>102.0</td>\n",
              "      <td>19.0</td>\n",
              "      <td>20.0</td>\n",
              "    </tr>\n",
              "    <tr>\n",
              "      <th>2</th>\n",
              "      <td>서울특별시</td>\n",
              "      <td>8</td>\n",
              "      <td>23.0</td>\n",
              "      <td>96</td>\n",
              "      <td>81.0</td>\n",
              "      <td>22.0</td>\n",
              "      <td>9.0</td>\n",
              "    </tr>\n",
              "    <tr>\n",
              "      <th>3</th>\n",
              "      <td>서울특별시</td>\n",
              "      <td>20</td>\n",
              "      <td>14.0</td>\n",
              "      <td>185</td>\n",
              "      <td>144.0</td>\n",
              "      <td>31.0</td>\n",
              "      <td>30.0</td>\n",
              "    </tr>\n",
              "    <tr>\n",
              "      <th>4</th>\n",
              "      <td>서울특별시</td>\n",
              "      <td>10</td>\n",
              "      <td>19.0</td>\n",
              "      <td>120</td>\n",
              "      <td>103.0</td>\n",
              "      <td>26.0</td>\n",
              "      <td>13.0</td>\n",
              "    </tr>\n",
              "    <tr>\n",
              "      <th>...</th>\n",
              "      <td>...</td>\n",
              "      <td>...</td>\n",
              "      <td>...</td>\n",
              "      <td>...</td>\n",
              "      <td>...</td>\n",
              "      <td>...</td>\n",
              "      <td>...</td>\n",
              "    </tr>\n",
              "    <tr>\n",
              "      <th>245</th>\n",
              "      <td>경상남도</td>\n",
              "      <td>10</td>\n",
              "      <td>4.0</td>\n",
              "      <td>54</td>\n",
              "      <td>33.0</td>\n",
              "      <td>9.0</td>\n",
              "      <td>4.0</td>\n",
              "    </tr>\n",
              "    <tr>\n",
              "      <th>246</th>\n",
              "      <td>경상남도</td>\n",
              "      <td>9</td>\n",
              "      <td>NaN</td>\n",
              "      <td>25</td>\n",
              "      <td>19.0</td>\n",
              "      <td>12.0</td>\n",
              "      <td>NaN</td>\n",
              "    </tr>\n",
              "    <tr>\n",
              "      <th>247</th>\n",
              "      <td>경상남도</td>\n",
              "      <td>6</td>\n",
              "      <td>NaN</td>\n",
              "      <td>23</td>\n",
              "      <td>13.0</td>\n",
              "      <td>7.0</td>\n",
              "      <td>4.0</td>\n",
              "    </tr>\n",
              "    <tr>\n",
              "      <th>248</th>\n",
              "      <td>제주특별자치도</td>\n",
              "      <td>19</td>\n",
              "      <td>2.0</td>\n",
              "      <td>24</td>\n",
              "      <td>19.0</td>\n",
              "      <td>20.0</td>\n",
              "      <td>4.0</td>\n",
              "    </tr>\n",
              "    <tr>\n",
              "      <th>249</th>\n",
              "      <td>제주특별자치도</td>\n",
              "      <td>42</td>\n",
              "      <td>8.0</td>\n",
              "      <td>84</td>\n",
              "      <td>64.0</td>\n",
              "      <td>48.0</td>\n",
              "      <td>24.0</td>\n",
              "    </tr>\n",
              "  </tbody>\n",
              "</table>\n",
              "<p>250 rows × 7 columns</p>\n",
              "</div>\n",
              "      <button class=\"colab-df-convert\" onclick=\"convertToInteractive('df-bdeffb5c-5372-4df0-82bc-53493ca05921')\"\n",
              "              title=\"Convert this dataframe to an interactive table.\"\n",
              "              style=\"display:none;\">\n",
              "        \n",
              "  <svg xmlns=\"http://www.w3.org/2000/svg\" height=\"24px\"viewBox=\"0 0 24 24\"\n",
              "       width=\"24px\">\n",
              "    <path d=\"M0 0h24v24H0V0z\" fill=\"none\"/>\n",
              "    <path d=\"M18.56 5.44l.94 2.06.94-2.06 2.06-.94-2.06-.94-.94-2.06-.94 2.06-2.06.94zm-11 1L8.5 8.5l.94-2.06 2.06-.94-2.06-.94L8.5 2.5l-.94 2.06-2.06.94zm10 10l.94 2.06.94-2.06 2.06-.94-2.06-.94-.94-2.06-.94 2.06-2.06.94z\"/><path d=\"M17.41 7.96l-1.37-1.37c-.4-.4-.92-.59-1.43-.59-.52 0-1.04.2-1.43.59L10.3 9.45l-7.72 7.72c-.78.78-.78 2.05 0 2.83L4 21.41c.39.39.9.59 1.41.59.51 0 1.02-.2 1.41-.59l7.78-7.78 2.81-2.81c.8-.78.8-2.07 0-2.86zM5.41 20L4 18.59l7.72-7.72 1.47 1.35L5.41 20z\"/>\n",
              "  </svg>\n",
              "      </button>\n",
              "      \n",
              "  <style>\n",
              "    .colab-df-container {\n",
              "      display:flex;\n",
              "      flex-wrap:wrap;\n",
              "      gap: 12px;\n",
              "    }\n",
              "\n",
              "    .colab-df-convert {\n",
              "      background-color: #E8F0FE;\n",
              "      border: none;\n",
              "      border-radius: 50%;\n",
              "      cursor: pointer;\n",
              "      display: none;\n",
              "      fill: #1967D2;\n",
              "      height: 32px;\n",
              "      padding: 0 0 0 0;\n",
              "      width: 32px;\n",
              "    }\n",
              "\n",
              "    .colab-df-convert:hover {\n",
              "      background-color: #E2EBFA;\n",
              "      box-shadow: 0px 1px 2px rgba(60, 64, 67, 0.3), 0px 1px 3px 1px rgba(60, 64, 67, 0.15);\n",
              "      fill: #174EA6;\n",
              "    }\n",
              "\n",
              "    [theme=dark] .colab-df-convert {\n",
              "      background-color: #3B4455;\n",
              "      fill: #D2E3FC;\n",
              "    }\n",
              "\n",
              "    [theme=dark] .colab-df-convert:hover {\n",
              "      background-color: #434B5C;\n",
              "      box-shadow: 0px 1px 3px 1px rgba(0, 0, 0, 0.15);\n",
              "      filter: drop-shadow(0px 1px 2px rgba(0, 0, 0, 0.3));\n",
              "      fill: #FFFFFF;\n",
              "    }\n",
              "  </style>\n",
              "\n",
              "      <script>\n",
              "        const buttonEl =\n",
              "          document.querySelector('#df-bdeffb5c-5372-4df0-82bc-53493ca05921 button.colab-df-convert');\n",
              "        buttonEl.style.display =\n",
              "          google.colab.kernel.accessAllowed ? 'block' : 'none';\n",
              "\n",
              "        async function convertToInteractive(key) {\n",
              "          const element = document.querySelector('#df-bdeffb5c-5372-4df0-82bc-53493ca05921');\n",
              "          const dataTable =\n",
              "            await google.colab.kernel.invokeFunction('convertToInteractive',\n",
              "                                                     [key], {});\n",
              "          if (!dataTable) return;\n",
              "\n",
              "          const docLinkHtml = 'Like what you see? Visit the ' +\n",
              "            '<a target=\"_blank\" href=https://colab.research.google.com/notebooks/data_table.ipynb>data table notebook</a>'\n",
              "            + ' to learn more about interactive tables.';\n",
              "          element.innerHTML = '';\n",
              "          dataTable['output_type'] = 'display_data';\n",
              "          await google.colab.output.renderOutput(dataTable, element);\n",
              "          const docLink = document.createElement('div');\n",
              "          docLink.innerHTML = docLinkHtml;\n",
              "          element.appendChild(docLink);\n",
              "        }\n",
              "      </script>\n",
              "    </div>\n",
              "  </div>\n",
              "  "
            ]
          },
          "metadata": {},
          "execution_count": 4
        }
      ]
    },
    {
      "cell_type": "code",
      "source": [
        "from google.colab import drive\n",
        "drive.mount('/content/drive')"
      ],
      "metadata": {
        "colab": {
          "base_uri": "https://localhost:8080/"
        },
        "id": "cyk-UMXq-lc_",
        "outputId": "50702bd3-74c3-4210-8933-0d1a2a5a709d"
      },
      "execution_count": 5,
      "outputs": [
        {
          "output_type": "stream",
          "name": "stdout",
          "text": [
            "Drive already mounted at /content/drive; to attempt to forcibly remount, call drive.mount(\"/content/drive\", force_remount=True).\n"
          ]
        }
      ]
    },
    {
      "cell_type": "code",
      "source": [
        "df.info()\n",
        "\n",
        "# df 정보 불러오기기"
      ],
      "metadata": {
        "colab": {
          "base_uri": "https://localhost:8080/"
        },
        "id": "3WwNeZpYHCxv",
        "outputId": "3fbd3715-6f87-4c80-9631-01f9e31bd3a3"
      },
      "execution_count": 6,
      "outputs": [
        {
          "output_type": "stream",
          "name": "stdout",
          "text": [
            "<class 'pandas.core.frame.DataFrame'>\n",
            "RangeIndex: 250 entries, 0 to 249\n",
            "Data columns (total 7 columns):\n",
            " #   Column  Non-Null Count  Dtype  \n",
            "---  ------  --------------  -----  \n",
            " 0   시도      250 non-null    object \n",
            " 1   노인요양시설  250 non-null    int64  \n",
            " 2   공동생활가정  221 non-null    float64\n",
            " 3   방문요양    250 non-null    int64  \n",
            " 4   방문목욕    248 non-null    float64\n",
            " 5   주야간보호   248 non-null    float64\n",
            " 6   복지용구    239 non-null    float64\n",
            "dtypes: float64(4), int64(2), object(1)\n",
            "memory usage: 13.8+ KB\n"
          ]
        }
      ]
    },
    {
      "cell_type": "code",
      "source": [
        "df.isnull().sum()\n",
        "\n",
        "# df null값 확인"
      ],
      "metadata": {
        "colab": {
          "base_uri": "https://localhost:8080/"
        },
        "id": "8LdOiN32Hei1",
        "outputId": "c9840d64-d167-4df9-b46c-c1410cfb295b"
      },
      "execution_count": 7,
      "outputs": [
        {
          "output_type": "execute_result",
          "data": {
            "text/plain": [
              "시도         0\n",
              "노인요양시설     0\n",
              "공동생활가정    29\n",
              "방문요양       0\n",
              "방문목욕       2\n",
              "주야간보호      2\n",
              "복지용구      11\n",
              "dtype: int64"
            ]
          },
          "metadata": {},
          "execution_count": 7
        }
      ]
    },
    {
      "cell_type": "code",
      "source": [
        "df.fillna(0, inplace = True)\n",
        "\n",
        "# df null값 삭제"
      ],
      "metadata": {
        "id": "6599C6GQHgQ-"
      },
      "execution_count": 8,
      "outputs": []
    },
    {
      "cell_type": "code",
      "source": [
        "df.isnull().sum()\n",
        "\n",
        "# df null값 삭제됐는지 확인"
      ],
      "metadata": {
        "colab": {
          "base_uri": "https://localhost:8080/"
        },
        "id": "BaVZQUNBJhLG",
        "outputId": "3bd51f9f-7846-4262-879d-90151c61d50b"
      },
      "execution_count": 9,
      "outputs": [
        {
          "output_type": "execute_result",
          "data": {
            "text/plain": [
              "시도        0\n",
              "노인요양시설    0\n",
              "공동생활가정    0\n",
              "방문요양      0\n",
              "방문목욕      0\n",
              "주야간보호     0\n",
              "복지용구      0\n",
              "dtype: int64"
            ]
          },
          "metadata": {},
          "execution_count": 9
        }
      ]
    },
    {
      "cell_type": "code",
      "source": [
        "df.describe()\n",
        "\n",
        "# df 기술통계"
      ],
      "metadata": {
        "colab": {
          "base_uri": "https://localhost:8080/",
          "height": 300
        },
        "id": "B9SVkp9dJnV-",
        "outputId": "847f5b1b-01ba-47b3-eb4c-06ddad8572c2"
      },
      "execution_count": 10,
      "outputs": [
        {
          "output_type": "execute_result",
          "data": {
            "text/plain": [
              "           노인요양시설      공동생활가정       방문요양        방문목욕       주야간보호        복지용구\n",
              "count  250.000000  250.000000  250.00000  250.000000  250.000000  250.000000\n",
              "mean    17.248000    7.172000   66.61600   46.684000   20.052000    7.892000\n",
              "std     18.427174    8.699722   47.32631   36.347499   15.023185    6.740778\n",
              "min      1.000000    0.000000    2.00000    0.000000    0.000000    0.000000\n",
              "25%      6.000000    1.250000   29.00000   19.000000    9.000000    2.250000\n",
              "50%     11.500000    4.000000   55.50000   35.000000   17.000000    6.000000\n",
              "75%     21.000000    9.000000   92.00000   66.750000   27.750000   12.000000\n",
              "max    129.000000   55.000000  236.00000  199.000000   88.000000   38.000000"
            ],
            "text/html": [
              "\n",
              "  <div id=\"df-66b3348d-40dc-402e-a041-63143b357228\">\n",
              "    <div class=\"colab-df-container\">\n",
              "      <div>\n",
              "<style scoped>\n",
              "    .dataframe tbody tr th:only-of-type {\n",
              "        vertical-align: middle;\n",
              "    }\n",
              "\n",
              "    .dataframe tbody tr th {\n",
              "        vertical-align: top;\n",
              "    }\n",
              "\n",
              "    .dataframe thead th {\n",
              "        text-align: right;\n",
              "    }\n",
              "</style>\n",
              "<table border=\"1\" class=\"dataframe\">\n",
              "  <thead>\n",
              "    <tr style=\"text-align: right;\">\n",
              "      <th></th>\n",
              "      <th>노인요양시설</th>\n",
              "      <th>공동생활가정</th>\n",
              "      <th>방문요양</th>\n",
              "      <th>방문목욕</th>\n",
              "      <th>주야간보호</th>\n",
              "      <th>복지용구</th>\n",
              "    </tr>\n",
              "  </thead>\n",
              "  <tbody>\n",
              "    <tr>\n",
              "      <th>count</th>\n",
              "      <td>250.000000</td>\n",
              "      <td>250.000000</td>\n",
              "      <td>250.00000</td>\n",
              "      <td>250.000000</td>\n",
              "      <td>250.000000</td>\n",
              "      <td>250.000000</td>\n",
              "    </tr>\n",
              "    <tr>\n",
              "      <th>mean</th>\n",
              "      <td>17.248000</td>\n",
              "      <td>7.172000</td>\n",
              "      <td>66.61600</td>\n",
              "      <td>46.684000</td>\n",
              "      <td>20.052000</td>\n",
              "      <td>7.892000</td>\n",
              "    </tr>\n",
              "    <tr>\n",
              "      <th>std</th>\n",
              "      <td>18.427174</td>\n",
              "      <td>8.699722</td>\n",
              "      <td>47.32631</td>\n",
              "      <td>36.347499</td>\n",
              "      <td>15.023185</td>\n",
              "      <td>6.740778</td>\n",
              "    </tr>\n",
              "    <tr>\n",
              "      <th>min</th>\n",
              "      <td>1.000000</td>\n",
              "      <td>0.000000</td>\n",
              "      <td>2.00000</td>\n",
              "      <td>0.000000</td>\n",
              "      <td>0.000000</td>\n",
              "      <td>0.000000</td>\n",
              "    </tr>\n",
              "    <tr>\n",
              "      <th>25%</th>\n",
              "      <td>6.000000</td>\n",
              "      <td>1.250000</td>\n",
              "      <td>29.00000</td>\n",
              "      <td>19.000000</td>\n",
              "      <td>9.000000</td>\n",
              "      <td>2.250000</td>\n",
              "    </tr>\n",
              "    <tr>\n",
              "      <th>50%</th>\n",
              "      <td>11.500000</td>\n",
              "      <td>4.000000</td>\n",
              "      <td>55.50000</td>\n",
              "      <td>35.000000</td>\n",
              "      <td>17.000000</td>\n",
              "      <td>6.000000</td>\n",
              "    </tr>\n",
              "    <tr>\n",
              "      <th>75%</th>\n",
              "      <td>21.000000</td>\n",
              "      <td>9.000000</td>\n",
              "      <td>92.00000</td>\n",
              "      <td>66.750000</td>\n",
              "      <td>27.750000</td>\n",
              "      <td>12.000000</td>\n",
              "    </tr>\n",
              "    <tr>\n",
              "      <th>max</th>\n",
              "      <td>129.000000</td>\n",
              "      <td>55.000000</td>\n",
              "      <td>236.00000</td>\n",
              "      <td>199.000000</td>\n",
              "      <td>88.000000</td>\n",
              "      <td>38.000000</td>\n",
              "    </tr>\n",
              "  </tbody>\n",
              "</table>\n",
              "</div>\n",
              "      <button class=\"colab-df-convert\" onclick=\"convertToInteractive('df-66b3348d-40dc-402e-a041-63143b357228')\"\n",
              "              title=\"Convert this dataframe to an interactive table.\"\n",
              "              style=\"display:none;\">\n",
              "        \n",
              "  <svg xmlns=\"http://www.w3.org/2000/svg\" height=\"24px\"viewBox=\"0 0 24 24\"\n",
              "       width=\"24px\">\n",
              "    <path d=\"M0 0h24v24H0V0z\" fill=\"none\"/>\n",
              "    <path d=\"M18.56 5.44l.94 2.06.94-2.06 2.06-.94-2.06-.94-.94-2.06-.94 2.06-2.06.94zm-11 1L8.5 8.5l.94-2.06 2.06-.94-2.06-.94L8.5 2.5l-.94 2.06-2.06.94zm10 10l.94 2.06.94-2.06 2.06-.94-2.06-.94-.94-2.06-.94 2.06-2.06.94z\"/><path d=\"M17.41 7.96l-1.37-1.37c-.4-.4-.92-.59-1.43-.59-.52 0-1.04.2-1.43.59L10.3 9.45l-7.72 7.72c-.78.78-.78 2.05 0 2.83L4 21.41c.39.39.9.59 1.41.59.51 0 1.02-.2 1.41-.59l7.78-7.78 2.81-2.81c.8-.78.8-2.07 0-2.86zM5.41 20L4 18.59l7.72-7.72 1.47 1.35L5.41 20z\"/>\n",
              "  </svg>\n",
              "      </button>\n",
              "      \n",
              "  <style>\n",
              "    .colab-df-container {\n",
              "      display:flex;\n",
              "      flex-wrap:wrap;\n",
              "      gap: 12px;\n",
              "    }\n",
              "\n",
              "    .colab-df-convert {\n",
              "      background-color: #E8F0FE;\n",
              "      border: none;\n",
              "      border-radius: 50%;\n",
              "      cursor: pointer;\n",
              "      display: none;\n",
              "      fill: #1967D2;\n",
              "      height: 32px;\n",
              "      padding: 0 0 0 0;\n",
              "      width: 32px;\n",
              "    }\n",
              "\n",
              "    .colab-df-convert:hover {\n",
              "      background-color: #E2EBFA;\n",
              "      box-shadow: 0px 1px 2px rgba(60, 64, 67, 0.3), 0px 1px 3px 1px rgba(60, 64, 67, 0.15);\n",
              "      fill: #174EA6;\n",
              "    }\n",
              "\n",
              "    [theme=dark] .colab-df-convert {\n",
              "      background-color: #3B4455;\n",
              "      fill: #D2E3FC;\n",
              "    }\n",
              "\n",
              "    [theme=dark] .colab-df-convert:hover {\n",
              "      background-color: #434B5C;\n",
              "      box-shadow: 0px 1px 3px 1px rgba(0, 0, 0, 0.15);\n",
              "      filter: drop-shadow(0px 1px 2px rgba(0, 0, 0, 0.3));\n",
              "      fill: #FFFFFF;\n",
              "    }\n",
              "  </style>\n",
              "\n",
              "      <script>\n",
              "        const buttonEl =\n",
              "          document.querySelector('#df-66b3348d-40dc-402e-a041-63143b357228 button.colab-df-convert');\n",
              "        buttonEl.style.display =\n",
              "          google.colab.kernel.accessAllowed ? 'block' : 'none';\n",
              "\n",
              "        async function convertToInteractive(key) {\n",
              "          const element = document.querySelector('#df-66b3348d-40dc-402e-a041-63143b357228');\n",
              "          const dataTable =\n",
              "            await google.colab.kernel.invokeFunction('convertToInteractive',\n",
              "                                                     [key], {});\n",
              "          if (!dataTable) return;\n",
              "\n",
              "          const docLinkHtml = 'Like what you see? Visit the ' +\n",
              "            '<a target=\"_blank\" href=https://colab.research.google.com/notebooks/data_table.ipynb>data table notebook</a>'\n",
              "            + ' to learn more about interactive tables.';\n",
              "          element.innerHTML = '';\n",
              "          dataTable['output_type'] = 'display_data';\n",
              "          await google.colab.output.renderOutput(dataTable, element);\n",
              "          const docLink = document.createElement('div');\n",
              "          docLink.innerHTML = docLinkHtml;\n",
              "          element.appendChild(docLink);\n",
              "        }\n",
              "      </script>\n",
              "    </div>\n",
              "  </div>\n",
              "  "
            ]
          },
          "metadata": {},
          "execution_count": 10
        }
      ]
    },
    {
      "cell_type": "code",
      "source": [
        "from sklearn.model_selection import train_test_split\n",
        "from sklearn.compose import ColumnTransformer\n",
        "from sklearn.preprocessing import StandardScaler\n",
        "from sklearn.preprocessing import OneHotEncoder\n",
        "from imblearn.over_sampling import SMOTE\n",
        "\n",
        "# 트레인셋 나누는 것과 칼럼트랜스포머, 스케일러 모듈 불러오기"
      ],
      "metadata": {
        "id": "LJ697aDdKNXi"
      },
      "execution_count": 11,
      "outputs": []
    },
    {
      "cell_type": "code",
      "source": [
        "df.columns\n",
        "\n",
        "# 칼럼 확인해보기기"
      ],
      "metadata": {
        "colab": {
          "base_uri": "https://localhost:8080/"
        },
        "id": "Hlbi4XJVKWtV",
        "outputId": "aee7a84d-1ba6-4925-c444-033dd4c91964"
      },
      "execution_count": 12,
      "outputs": [
        {
          "output_type": "execute_result",
          "data": {
            "text/plain": [
              "Index(['시도', '노인요양시설', '공동생활가정', '방문요양', '방문목욕', '주야간보호', '복지용구'], dtype='object')"
            ]
          },
          "metadata": {},
          "execution_count": 12
        }
      ]
    },
    {
      "cell_type": "code",
      "source": [
        "import numpy as np\n",
        "\n",
        "#1. 변수선택\n",
        "X = df[['방문요양', '공동생활가정', '방문목욕', '주야간보호','복지용구']]\n",
        "Y = df['노인요양시설']\n",
        "\n",
        "#2. train = test split\n",
        "X_train, X_test, Y_train, Y_test = train_test_split(X, Y, test_size=0.3, random_state=0)\n",
        "\n",
        "#3. 데이터 전처리(preprocessing)\n",
        "ct = ColumnTransformer([(\"scaling\", StandardScaler(), ['방문요양', '공동생활가정', '방문목욕', '주야간보호','복지용구'])])\n",
        "ct.fit(X_train)\n",
        "X_train = ct.transform(X_train)\n",
        "X_test = ct.transform(X_test)"
      ],
      "metadata": {
        "id": "CwE_tK1aKYgZ"
      },
      "execution_count": 13,
      "outputs": []
    },
    {
      "cell_type": "code",
      "source": [
        "#4. 모델링\n",
        "from sklearn.neural_network import MLPRegressor\n",
        "\n",
        "#4-1. 모델 생성\n",
        "nn_reg_model = MLPRegressor(random_state=0, alpha=1, max_iter=1000, hidden_layer_sizes=[50, 50])\n",
        "                            \n",
        "#5. 모형학습 및 예측\n",
        "nn_reg_model.fit(X_train, Y_train)\n",
        "Y_pred = nn_reg_model.predict(X_test)\n",
        "\n",
        "#6. 결과값 보고\n",
        "print(\"Y predict value: \\n\", Y_pred)\n",
        "print(\"trian accuracy : {:.3f}\".format(nn_reg_model.score(X_train, Y_train)))\n",
        "from sklearn.metrics import mean_squared_error\n",
        "from math import sqrt\n",
        "rmse = sqrt(mean_squared_error(Y_test, Y_pred))\n",
        "print(\"RMSE : {:3f}\".format(rmse)) "
      ],
      "metadata": {
        "colab": {
          "base_uri": "https://localhost:8080/"
        },
        "id": "yuLczyujLOhQ",
        "outputId": "cb50ae39-cd7e-4e0e-96f6-5eb5dd3cf7f8"
      },
      "execution_count": 14,
      "outputs": [
        {
          "output_type": "stream",
          "name": "stdout",
          "text": [
            "Y predict value: \n",
            " [11.05293582  2.05857952  2.55038899 10.96007832 12.56363145 30.9769583\n",
            "  3.81723982 13.89486604  2.00919218 15.33229728  1.33640401 17.00591281\n",
            " 13.07725388  7.73360097 60.42769807  8.91677602 26.13985773 10.05946328\n",
            " 25.02297741 12.99819609 15.95750522 70.3983231  13.59338917 11.62124593\n",
            " 11.22751602  6.59245473 38.24964114 28.19127016  5.93264605  8.88154461\n",
            "  4.65922535 41.69660593 46.33780754 38.04407498 22.0175843   4.50160792\n",
            "  2.37032144 10.38409346  4.84061531  1.43685192  3.13613345  2.53618961\n",
            " 24.99328335 20.49790453 13.06644658 26.16041961  5.69549199 28.84536463\n",
            " 25.57697477  4.99804628 13.80886709 28.54507006  6.83254416 12.85146897\n",
            "  9.54197241 37.40286319  9.97704772 22.23505636  8.91252759 13.1616445\n",
            "  8.6352488  12.44315509 12.24209271  9.88396079 14.65445023  7.01988252\n",
            "  7.56979776 42.29271426 32.25565876 10.79219201  5.37277389  9.77819124\n",
            "  9.99219461 21.45254052 34.59076246]\n",
            "trian accuracy : 0.848\n",
            "RMSE : 14.115676\n"
          ]
        },
        {
          "output_type": "stream",
          "name": "stderr",
          "text": [
            "/usr/local/lib/python3.8/dist-packages/sklearn/neural_network/_multilayer_perceptron.py:692: ConvergenceWarning: Stochastic Optimizer: Maximum iterations (1000) reached and the optimization hasn't converged yet.\n",
            "  warnings.warn(\n"
          ]
        }
      ]
    },
    {
      "cell_type": "markdown",
      "source": [
        "*predict값과 train 정확도 RMSE값 어느정도 잘 나온것 확인*"
      ],
      "metadata": {
        "id": "kuZjL35J3U0-"
      }
    },
    {
      "cell_type": "code",
      "source": [],
      "metadata": {
        "id": "l_2_RX0JL8-r"
      },
      "execution_count": 14,
      "outputs": []
    },
    {
      "cell_type": "markdown",
      "source": [
        "딥러닝"
      ],
      "metadata": {
        "id": "xt81nOYmMW4a"
      }
    },
    {
      "cell_type": "code",
      "source": [
        "import warnings\n",
        "warnings.filterwarnings(\"ignore\")\n",
        "\n",
        "# 딥러닝 할 때 경고문이 잘 떠서 무시하는 모듈 소환"
      ],
      "metadata": {
        "id": "B5JG0zmKMdkq"
      },
      "execution_count": 15,
      "outputs": []
    },
    {
      "cell_type": "markdown",
      "source": [
        "DNN(Deep learning : Deep Neural Network)"
      ],
      "metadata": {
        "id": "2TgwKyzzMhux"
      }
    },
    {
      "cell_type": "markdown",
      "source": [
        "회귀예측"
      ],
      "metadata": {
        "id": "Gpdt3qYkMkAc"
      }
    },
    {
      "cell_type": "code",
      "source": [
        "df.info()\n",
        "\n",
        "# 예의상 정보 확인인"
      ],
      "metadata": {
        "colab": {
          "base_uri": "https://localhost:8080/"
        },
        "id": "OAoAQnVlyd27",
        "outputId": "73dbff9c-fba1-48b4-d101-a688183aa769"
      },
      "execution_count": 16,
      "outputs": [
        {
          "output_type": "stream",
          "name": "stdout",
          "text": [
            "<class 'pandas.core.frame.DataFrame'>\n",
            "RangeIndex: 250 entries, 0 to 249\n",
            "Data columns (total 7 columns):\n",
            " #   Column  Non-Null Count  Dtype  \n",
            "---  ------  --------------  -----  \n",
            " 0   시도      250 non-null    object \n",
            " 1   노인요양시설  250 non-null    int64  \n",
            " 2   공동생활가정  250 non-null    float64\n",
            " 3   방문요양    250 non-null    int64  \n",
            " 4   방문목욕    250 non-null    float64\n",
            " 5   주야간보호   250 non-null    float64\n",
            " 6   복지용구    250 non-null    float64\n",
            "dtypes: float64(4), int64(2), object(1)\n",
            "memory usage: 13.8+ KB\n"
          ]
        }
      ]
    },
    {
      "cell_type": "code",
      "source": [
        "import keras\n",
        "import tensorflow as tf\n",
        "\n",
        "#1. 변수선택\n",
        "X = df[['방문요양', '공동생활가정', '방문목욕', '주야간보호','복지용구']]\n",
        "Y = np.log1p(df['노인요양시설'])"
      ],
      "metadata": {
        "id": "WWALMfa7MfmA"
      },
      "execution_count": 20,
      "outputs": []
    },
    {
      "cell_type": "code",
      "source": [
        "#2. train - test split\n",
        "X_train, X_test, Y_train, Y_test = train_test_split(X,Y,test_size=0.3, random_state=0)\n",
        "\n",
        "#3 데이터 전처러(preprocessing)\n",
        "scaler = StandardScaler().fit(X_train)\n",
        "X_train = scaler.transform(X_train)\n",
        "X_test = scaler.transform(X_test)\n",
        "\n",
        "#4. seed 값 설정\n",
        "np.random.seed(0)\n",
        "tf.random.set_seed(0)\n",
        "\n",
        "#5. 모형생성\n",
        "model = keras.models.Sequential()\n",
        "model.add(keras.layers.Dense(64, input_dim=5, activation=\"relu\"))\n",
        "model.add(keras.layers.Dense(64, activation=\"relu\"))\n",
        "model.add(keras.layers.Dense(64, activation=\"relu\"))\n",
        "\n",
        "#6. 모형 학습\n",
        "model.compile(loss = \"mse\", optimizer = \"SGD\") # 확률적 경사 하강법(SGD): \n",
        "Y_pred = np.round(model.predict(X_test[:5], verbose=0), 3)\n",
        "print(\"Y predict value \\n\", Y_pred)\n",
        "\n",
        "#7. 모형 평가\n",
        "train_score = model.evaluate(X_train, Y_train,verbose=0)\n",
        "test_score = model.evaluate(X_test, Y_test, verbose=0)\n",
        "print(\"train mse: {:.3f}\".format(train_score))\n",
        "print(\"test mse: {:.3f}\".format(test_score))"
      ],
      "metadata": {
        "colab": {
          "base_uri": "https://localhost:8080/"
        },
        "id": "pofUXe7kxY6a",
        "outputId": "ef32170e-4708-40aa-c778-225d769175ef"
      },
      "execution_count": 21,
      "outputs": [
        {
          "output_type": "stream",
          "name": "stdout",
          "text": [
            "Y predict value \n",
            " [[0.    0.023 0.    0.    0.    0.223 0.    0.    0.    0.    0.    0.\n",
            "  0.    0.    0.119 0.04  0.001 0.    0.019 0.    0.103 0.    0.236 0.141\n",
            "  0.    0.    0.    0.01  0.    0.    0.077 0.061 0.016 0.068 0.    0.015\n",
            "  0.112 0.    0.    0.    0.022 0.045 0.    0.    0.    0.    0.    0.\n",
            "  0.12  0.108 0.035 0.206 0.    0.    0.038 0.    0.    0.    0.    0.011\n",
            "  0.085 0.    0.01  0.026]\n",
            " [0.    0.    0.092 0.083 0.    0.    0.149 0.    0.202 0.    0.098 0.224\n",
            "  0.015 0.    0.382 0.035 0.044 0.165 0.149 0.    0.    0.    0.488 0.134\n",
            "  0.    0.    0.    0.    0.    0.    0.31  0.    0.    0.09  0.    0.\n",
            "  0.    0.    0.    0.26  0.045 0.    0.    0.    0.    0.    0.065 0.045\n",
            "  0.    0.231 0.004 0.    0.    0.432 0.033 0.    0.284 0.438 0.    0.669\n",
            "  0.    0.    0.345 0.   ]\n",
            " [0.    0.    0.005 0.077 0.    0.    0.001 0.    0.035 0.    0.    0.125\n",
            "  0.003 0.02  0.162 0.111 0.    0.    0.052 0.018 0.009 0.    0.167 0.068\n",
            "  0.    0.    0.    0.045 0.    0.    0.096 0.    0.017 0.036 0.    0.005\n",
            "  0.    0.003 0.    0.02  0.005 0.    0.    0.    0.    0.    0.    0.025\n",
            "  0.    0.08  0.057 0.018 0.    0.105 0.    0.    0.01  0.1   0.    0.162\n",
            "  0.    0.    0.059 0.025]\n",
            " [0.    0.    0.02  0.059 0.    0.    0.088 0.    0.071 0.    0.009 0.147\n",
            "  0.    0.    0.168 0.046 0.    0.068 0.055 0.    0.    0.    0.28  0.088\n",
            "  0.    0.    0.    0.    0.    0.    0.137 0.    0.    0.07  0.    0.\n",
            "  0.    0.    0.    0.141 0.    0.    0.    0.    0.    0.    0.04  0.028\n",
            "  0.    0.124 0.    0.    0.    0.144 0.008 0.    0.079 0.202 0.    0.234\n",
            "  0.    0.    0.124 0.   ]\n",
            " [0.    0.    0.035 0.029 0.    0.    0.059 0.    0.076 0.    0.043 0.099\n",
            "  0.005 0.    0.168 0.027 0.03  0.069 0.062 0.    0.    0.    0.21  0.048\n",
            "  0.    0.    0.    0.    0.    0.    0.12  0.    0.    0.042 0.    0.\n",
            "  0.    0.    0.    0.106 0.    0.    0.    0.    0.    0.    0.024 0.013\n",
            "  0.    0.096 0.01  0.    0.    0.151 0.016 0.    0.115 0.183 0.    0.267\n",
            "  0.    0.    0.149 0.   ]]\n",
            "train mse: 6.712\n",
            "test mse: 7.306\n"
          ]
        }
      ]
    },
    {
      "cell_type": "markdown",
      "source": [
        "train mse와 test mse 확인"
      ],
      "metadata": {
        "id": "I40KWSrH31MW"
      }
    },
    {
      "cell_type": "code",
      "source": [
        "# Predict on the test data\n",
        "predictions = model.predict(test_data)\n",
        "\n",
        "# Calculate the MSE\n",
        "mse = np.mean((predictions - test_labels)**2)\n",
        "\n",
        "# Plot the MSE over the number of epochs\n",
        "plt.plot(range(len(epochs)), mse, label='MSE')\n",
        "plt.xlabel('Epochs')\n",
        "plt.ylabel('MSE')\n",
        "plt.legend()\n",
        "plt.show()"
      ],
      "metadata": {
        "id": "ypjIAcKTNupg",
        "colab": {
          "base_uri": "https://localhost:8080/",
          "height": 245
        },
        "outputId": "ac399602-3c52-4d2c-a893-f1c1d66859d5"
      },
      "execution_count": 22,
      "outputs": [
        {
          "output_type": "error",
          "ename": "NameError",
          "evalue": "ignored",
          "traceback": [
            "\u001b[0;31m---------------------------------------------------------------------------\u001b[0m",
            "\u001b[0;31mNameError\u001b[0m                                 Traceback (most recent call last)",
            "\u001b[0;32m<ipython-input-22-9bbe95a851d2>\u001b[0m in \u001b[0;36m<module>\u001b[0;34m\u001b[0m\n\u001b[1;32m      1\u001b[0m \u001b[0;31m# Predict on the test data\u001b[0m\u001b[0;34m\u001b[0m\u001b[0;34m\u001b[0m\u001b[0;34m\u001b[0m\u001b[0m\n\u001b[0;32m----> 2\u001b[0;31m \u001b[0mpredictions\u001b[0m \u001b[0;34m=\u001b[0m \u001b[0mmodel\u001b[0m\u001b[0;34m.\u001b[0m\u001b[0mpredict\u001b[0m\u001b[0;34m(\u001b[0m\u001b[0mtest_data\u001b[0m\u001b[0;34m)\u001b[0m\u001b[0;34m\u001b[0m\u001b[0;34m\u001b[0m\u001b[0m\n\u001b[0m\u001b[1;32m      3\u001b[0m \u001b[0;34m\u001b[0m\u001b[0m\n\u001b[1;32m      4\u001b[0m \u001b[0;31m# Calculate the MSE\u001b[0m\u001b[0;34m\u001b[0m\u001b[0;34m\u001b[0m\u001b[0;34m\u001b[0m\u001b[0m\n\u001b[1;32m      5\u001b[0m \u001b[0mmse\u001b[0m \u001b[0;34m=\u001b[0m \u001b[0mnp\u001b[0m\u001b[0;34m.\u001b[0m\u001b[0mmean\u001b[0m\u001b[0;34m(\u001b[0m\u001b[0;34m(\u001b[0m\u001b[0mpredictions\u001b[0m \u001b[0;34m-\u001b[0m \u001b[0mtest_labels\u001b[0m\u001b[0;34m)\u001b[0m\u001b[0;34m**\u001b[0m\u001b[0;36m2\u001b[0m\u001b[0;34m)\u001b[0m\u001b[0;34m\u001b[0m\u001b[0;34m\u001b[0m\u001b[0m\n",
            "\u001b[0;31mNameError\u001b[0m: name 'test_data' is not defined"
          ]
        }
      ]
    },
    {
      "cell_type": "markdown",
      "source": [
        "# 앙상블"
      ],
      "metadata": {
        "id": "DuIJsG4qzqtj"
      }
    },
    {
      "cell_type": "markdown",
      "source": [
        "회귀예측"
      ],
      "metadata": {
        "id": "5ySfVE6WzsYZ"
      }
    },
    {
      "cell_type": "code",
      "source": [
        "#1. 변수선택\n",
        "X = df[['방문요양', '공동생활가정', '방문목욕', '주야간보호','복지용구']]\n",
        "Y = np.log1p(df['노인요양시설'])\n",
        "\n",
        "#2. train - test split\n",
        "X_train, X_test, Y_train, Y_test = train_test_split(X,Y,test_size=0.3, random_state=0)\n",
        "\n",
        "#3 데이터 전처러(preprocessing)\n",
        "scaler = StandardScaler().fit(X_train)\n",
        "X_train = scaler.transform(X_train)\n",
        "X_test = scaler.transform(X_test)"
      ],
      "metadata": {
        "id": "GhBWdhPEzxL1"
      },
      "execution_count": null,
      "outputs": []
    },
    {
      "cell_type": "code",
      "source": [
        "#4. 단일 모형 생성\n",
        "from sklearn.ensemble import VotingRegressor\n",
        "from sklearn.neural_network import MLPRegressor\n",
        "from sklearn.svm import SVR\n",
        "\n",
        "svr = SVR()\n",
        "mlp = MLPRegressor(random_state=0)\n",
        "\n",
        "#5. voting model 생성\n",
        "model = VotingRegressor(estimators = [(\"SVR\", svr), (\"MLP\", mlp)])\n",
        "\n",
        "#6. 모형학습\n",
        "model.fit(X_train, Y_train)\n",
        "\n",
        "#7. 예측 및 모형 성능 평가\n",
        "Y_pred = model.predict(X_test)\n",
        "print(\"Y predict value: \\n\", Y_pred)\n",
        "#8-1. 보팅모형 정확도\n",
        "print(\"voting regressor accuracy(R2) : {0:.3f}\".format(model.score(X_test, Y_test)))\n",
        "#8-2. 개별모형 정확도\n",
        "Regressors = [svr, mlp]\n",
        "for Regressor in Regressors :\n",
        "  Regressor.fit(X_train, Y_train)\n",
        "  Regressor.fit(X_train, Y_train)\n",
        "  class_name = Regressor.__class__.__name__\n",
        "  print(\"{0} accuracy : {1:3f}\".format(class_name, Regressor.score(X_test, Y_test)))"
      ],
      "metadata": {
        "colab": {
          "base_uri": "https://localhost:8080/"
        },
        "id": "hukb3WSwz7lj",
        "outputId": "83050aea-ff36-4c8b-cd89-a231b641a245"
      },
      "execution_count": null,
      "outputs": [
        {
          "output_type": "stream",
          "name": "stdout",
          "text": [
            "Y predict value: \n",
            " [2.23352185 1.92554598 1.7940146  1.95214103 2.02081355 3.11941915\n",
            " 1.8664165  2.88365824 2.40748728 2.27918176 1.89194362 2.43777829\n",
            " 2.07263568 2.02712992 3.84740014 2.26852868 2.95593956 2.0499118\n",
            " 3.18562911 2.65117505 2.16801964 4.18733235 2.05002504 2.07136787\n",
            " 1.90071995 1.88156977 2.98673375 3.29147524 1.86181037 1.93864359\n",
            " 1.93082441 3.08944039 3.7413492  3.71377916 3.55431423 2.00298597\n",
            " 1.87230986 2.08702722 1.8021507  1.88581953 1.95239751 2.04949088\n",
            " 2.66155622 3.09131602 2.0790191  3.27666117 1.99885961 3.56643628\n",
            " 2.28098406 1.99337488 2.35066888 2.55544447 1.97789712 2.34741507\n",
            " 3.02614079 3.28520204 3.18000472 2.97889566 2.04814017 2.03721341\n",
            " 1.93764268 2.12798063 2.31682266 2.26984527 2.22204139 1.88787809\n",
            " 2.07596952 3.6168771  2.83564304 2.37689586 1.82684376 2.46178295\n",
            " 1.97060635 2.43816445 3.19168118]\n",
            "voting regressor accuracy(R2) : 0.520\n",
            "SVR accuracy : 0.690005\n",
            "MLPRegressor accuracy : 0.141558\n"
          ]
        }
      ]
    },
    {
      "cell_type": "markdown",
      "source": [
        "정확도가 전반적으로 잘 안나오고 MLP accuracy는 완전 이상합니다."
      ],
      "metadata": {
        "id": "OjSMWXHB4xF8"
      }
    },
    {
      "cell_type": "code",
      "source": [],
      "metadata": {
        "id": "A_Ktq4HK0FUL"
      },
      "execution_count": null,
      "outputs": []
    },
    {
      "cell_type": "markdown",
      "source": [
        "# 랜덤포레스트"
      ],
      "metadata": {
        "id": "P9sXzE6Z0bdm"
      }
    },
    {
      "cell_type": "markdown",
      "source": [
        "회귀예측"
      ],
      "metadata": {
        "id": "oU486IwB0eB4"
      }
    },
    {
      "cell_type": "code",
      "source": [
        "#1. 변수선택\n",
        "X = df[['방문요양', '공동생활가정', '방문목욕', '주야간보호','복지용구']]\n",
        "Y = np.log1p(df['노인요양시설'])\n",
        "\n",
        "#2. train - test split\n",
        "X_train, X_test, Y_train, Y_test = train_test_split(X,Y,test_size=0.3, random_state=0)\n",
        "\n",
        "#3 데이터 전처러(preprocessing)\n",
        "scaler = StandardScaler().fit(X_train)\n",
        "X_train = scaler.transform(X_train)\n",
        "X_test = scaler.transform(X_test)"
      ],
      "metadata": {
        "id": "T8z-aXlU0dmu"
      },
      "execution_count": null,
      "outputs": []
    },
    {
      "cell_type": "code",
      "source": [
        "#4. 모형 생성\n",
        "from sklearn.ensemble import RandomForestRegressor\n",
        "model = RandomForestRegressor(random_state = 0, n_estimators = 100, max_depth = 4)\n",
        "\n",
        "#5. 모형 예측 평가\n",
        "model.fit(X_train, Y_train)\n",
        "Y_pred = model.predict(X_test)\n",
        "print(\"Y predict value : \\n\",Y_pred)\n",
        "print(\"accuracy(R2) : {:.3f}\".format(model.score(X_train, Y_train)))\n",
        "rmse = sqrt(mean_squared_error(Y_test, Y_pred))\n",
        "print(\"RMSE :\", rmse)"
      ],
      "metadata": {
        "colab": {
          "base_uri": "https://localhost:8080/"
        },
        "id": "w2cLJi350q1o",
        "outputId": "add4e4c6-9311-4d9a-8f13-77661514ffae"
      },
      "execution_count": null,
      "outputs": [
        {
          "output_type": "stream",
          "name": "stdout",
          "text": [
            "Y predict value : \n",
            " [2.72237389 1.56205255 1.75203826 1.92719966 2.4509598  3.22201997\n",
            " 1.71859656 2.73592859 2.37394485 2.65650248 1.57368253 2.58630345\n",
            " 2.81590237 1.98125589 3.9535034  2.53204557 2.92495439 2.24154621\n",
            " 3.10195575 2.43360579 2.43036878 3.56875924 2.095497   2.81590237\n",
            " 2.28680712 2.31987452 3.10759147 2.92875508 1.80918107 2.70724629\n",
            " 1.67502193 3.14642501 3.50799981 3.45519098 2.86809622 1.7299034\n",
            " 1.61485827 2.66380999 1.71807119 1.59181949 1.57319874 2.39490132\n",
            " 3.06792512 2.58756419 2.50539816 3.06694578 1.63640675 3.12567899\n",
            " 2.68734027 1.63554233 2.68954939 2.96011622 2.05261218 2.61289427\n",
            " 2.56515016 3.14912087 2.95528065 2.81524602 2.24872493 2.60046466\n",
            " 1.82026827 2.49973082 2.7863717  2.57758333 2.60110674 2.10436195\n",
            " 2.41421018 3.13037836 3.18180914 2.49587601 1.60752391 2.58273109\n",
            " 2.46057163 2.70958702 3.12047286]\n",
            "accuracy(R2) : 0.766\n",
            "RMSE : 0.5734041127171408\n"
          ]
        }
      ]
    },
    {
      "cell_type": "markdown",
      "source": [
        "회귀모델 예측 정확도를 나타내는 R2 accuracy와 실제값과 예측값 사이의 오차를 나타내는 RMSE 모두 만족할만한 수치가 나왔습니다."
      ],
      "metadata": {
        "id": "vzLeO-7Q470F"
      }
    },
    {
      "cell_type": "code",
      "source": [],
      "metadata": {
        "id": "f_QD0aUi5e0E"
      },
      "execution_count": null,
      "outputs": []
    },
    {
      "cell_type": "markdown",
      "source": [
        "# 그래디언트 회귀예측"
      ],
      "metadata": {
        "id": "iy7aWS5i5pOE"
      }
    },
    {
      "cell_type": "code",
      "source": [
        "#1. 변수선택\n",
        "X = df[['방문요양', '공동생활가정', '방문목욕', '주야간보호','복지용구']]\n",
        "Y = np.log1p(df['노인요양시설'])\n",
        "\n",
        "#2. train - test split\n",
        "X_train, X_test, Y_train, Y_test = train_test_split(X,Y,test_size=0.3, random_state=0)\n",
        "\n",
        "#3 데이터 전처러(preprocessing)\n",
        "scaler = StandardScaler().fit(X_train)\n",
        "X_train = scaler.transform(X_train)\n",
        "X_test = scaler.transform(X_test)"
      ],
      "metadata": {
        "id": "56XYLb2i5qlL"
      },
      "execution_count": null,
      "outputs": []
    },
    {
      "cell_type": "code",
      "source": [
        "#4. 모형생성\n",
        "from sklearn.ensemble import GradientBoostingRegressor\n",
        "model = GradientBoostingRegressor(random_state = 0, n_estimators = 100, max_depth = 4, learning_rate = 0.1)\n",
        "\n",
        "#5. 모형 학습 예측\n",
        "model.fit(X_train, Y_train)\n",
        "Y_pred = model.predict(X_test)\n",
        "print(\"Y predict value: \\n\", Y_pred)\n",
        "print(\"accuracy(test) : {:.3f}\".format(model.score(X_test, Y_test)))\n",
        "rmse = sqrt(mean_squared_error(Y_test, Y_pred))\n",
        "print(\"RMSE :\", rmse)"
      ],
      "metadata": {
        "colab": {
          "base_uri": "https://localhost:8080/"
        },
        "id": "XcxiymBO5rP3",
        "outputId": "90d18ff0-ab88-4165-f0be-2706d0b95f1e"
      },
      "execution_count": null,
      "outputs": [
        {
          "output_type": "stream",
          "name": "stdout",
          "text": [
            "Y predict value: \n",
            " [2.56284151 1.47384047 1.73935046 2.18763216 2.74316118 3.35173069\n",
            " 1.85249267 2.60550412 2.2093197  2.40214255 1.24655117 2.69151088\n",
            " 2.80063208 1.69817782 4.35604272 2.46830183 2.6353428  1.88070694\n",
            " 3.20574224 2.36120751 2.4970014  3.27717202 1.78169562 2.72717481\n",
            " 2.32563239 2.15391612 2.84521237 2.84619243 1.62057037 2.85483168\n",
            " 1.95032881 3.12266383 3.38475674 3.58103545 2.87298564 1.70932661\n",
            " 1.47863253 3.09677093 1.38447335 1.63985511 1.50468018 2.40684221\n",
            " 3.19921312 2.27592504 2.39416946 3.16707232 1.7027859  3.27204551\n",
            " 2.51709979 1.39121716 2.71322076 3.00699033 1.97815341 2.21377679\n",
            " 2.27120952 3.01411426 2.85776975 2.82289756 1.93921499 2.63839302\n",
            " 2.01645078 2.0523146  2.84966549 2.49244434 1.99470301 1.57993783\n",
            " 2.5267299  3.09177311 3.22826697 2.34785099 1.27546842 2.58372682\n",
            " 2.3905578  2.66608216 3.03287961]\n",
            "accuracy(test) : 0.503\n",
            "RMSE : 0.6229054320963548\n"
          ]
        }
      ]
    },
    {
      "cell_type": "markdown",
      "source": [
        "test 정확도와 RMSE모두 만족할만한 수치로 나왔습니다."
      ],
      "metadata": {
        "id": "UUXO6cGb5x70"
      }
    },
    {
      "cell_type": "code",
      "source": [],
      "metadata": {
        "id": "K7vOueXm5wYU"
      },
      "execution_count": null,
      "outputs": []
    }
  ]
}