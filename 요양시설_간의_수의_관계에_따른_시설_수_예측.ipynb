{
  "nbformat": 4,
  "nbformat_minor": 0,
  "metadata": {
    "colab": {
      "provenance": [],
      "authorship_tag": "ABX9TyM+yU7fHqENBXVxdRsSS+pT",
      "include_colab_link": true
    },
    "kernelspec": {
      "name": "python3",
      "display_name": "Python 3"
    },
    "language_info": {
      "name": "python"
    }
  },
  "cells": [
    {
      "cell_type": "markdown",
      "metadata": {
        "id": "view-in-github",
        "colab_type": "text"
      },
      "source": [
        "<a href=\"https://colab.research.google.com/github/kyungmo90/Ubion-Python/blob/main/%EC%9A%94%EC%96%91%EC%8B%9C%EC%84%A4_%EA%B0%84%EC%9D%98_%EC%88%98%EC%9D%98_%EA%B4%80%EA%B3%84%EC%97%90_%EB%94%B0%EB%A5%B8_%EC%8B%9C%EC%84%A4_%EC%88%98_%EC%98%88%EC%B8%A1.ipynb\" target=\"_parent\"><img src=\"https://colab.research.google.com/assets/colab-badge.svg\" alt=\"Open In Colab\"/></a>"
      ]
    },
    {
      "cell_type": "markdown",
      "source": [
        "# 요양시설 간의 수의 관계에 따른 시설 수 예측\n",
        "\n"
      ],
      "metadata": {
        "id": "SrmtyJLuFnTf"
      }
    },
    {
      "cell_type": "markdown",
      "source": [
        "인공신경망"
      ],
      "metadata": {
        "id": "6FqlpDvWMT_s"
      }
    },
    {
      "cell_type": "code",
      "source": [
        "from google.colab import drive\n",
        "drive.mount('/content/drive')"
      ],
      "metadata": {
        "colab": {
          "base_uri": "https://localhost:8080/"
        },
        "id": "V0wzqqNfGXf1",
        "outputId": "a90fd959-69b1-4cee-fb2d-24caab99f6d0"
      },
      "execution_count": 8,
      "outputs": [
        {
          "output_type": "stream",
          "name": "stdout",
          "text": [
            "Drive already mounted at /content/drive; to attempt to forcibly remount, call drive.mount(\"/content/drive\", force_remount=True).\n"
          ]
        }
      ]
    },
    {
      "cell_type": "code",
      "source": [
        "#분류예측\n",
        "\n",
        "import pandas as pd\n",
        "\n",
        "df = pd.read_csv(\"/content/drive/MyDrive/2022년_9월_시군구별_장기요양기관_현황.CSV\", encoding = \"cp949\")\n",
        "df"
      ],
      "metadata": {
        "colab": {
          "base_uri": "https://localhost:8080/",
          "height": 423
        },
        "id": "bv_iG8-RHCSX",
        "outputId": "fc72339b-c7eb-4d95-ad3d-4d31e8a3ca3a"
      },
      "execution_count": 29,
      "outputs": [
        {
          "output_type": "execute_result",
          "data": {
            "text/plain": [
              "          시도  노인요양시설  공동생활가정  방문요양   방문목욕  주야간보호  복지용구\n",
              "0      서울특별시       5     3.0    92   71.0   17.0  18.0\n",
              "1      서울특별시       9    13.0   111  102.0   19.0  20.0\n",
              "2      서울특별시       8    23.0    96   81.0   22.0   9.0\n",
              "3      서울특별시      20    14.0   185  144.0   31.0  30.0\n",
              "4      서울특별시      10    19.0   120  103.0   26.0  13.0\n",
              "..       ...     ...     ...   ...    ...    ...   ...\n",
              "245     경상남도      10     4.0    54   33.0    9.0   4.0\n",
              "246     경상남도       9     NaN    25   19.0   12.0   NaN\n",
              "247     경상남도       6     NaN    23   13.0    7.0   4.0\n",
              "248  제주특별자치도      19     2.0    24   19.0   20.0   4.0\n",
              "249  제주특별자치도      42     8.0    84   64.0   48.0  24.0\n",
              "\n",
              "[250 rows x 7 columns]"
            ],
            "text/html": [
              "\n",
              "  <div id=\"df-64f7a226-cae4-46d0-98b0-35e96214e4be\">\n",
              "    <div class=\"colab-df-container\">\n",
              "      <div>\n",
              "<style scoped>\n",
              "    .dataframe tbody tr th:only-of-type {\n",
              "        vertical-align: middle;\n",
              "    }\n",
              "\n",
              "    .dataframe tbody tr th {\n",
              "        vertical-align: top;\n",
              "    }\n",
              "\n",
              "    .dataframe thead th {\n",
              "        text-align: right;\n",
              "    }\n",
              "</style>\n",
              "<table border=\"1\" class=\"dataframe\">\n",
              "  <thead>\n",
              "    <tr style=\"text-align: right;\">\n",
              "      <th></th>\n",
              "      <th>시도</th>\n",
              "      <th>노인요양시설</th>\n",
              "      <th>공동생활가정</th>\n",
              "      <th>방문요양</th>\n",
              "      <th>방문목욕</th>\n",
              "      <th>주야간보호</th>\n",
              "      <th>복지용구</th>\n",
              "    </tr>\n",
              "  </thead>\n",
              "  <tbody>\n",
              "    <tr>\n",
              "      <th>0</th>\n",
              "      <td>서울특별시</td>\n",
              "      <td>5</td>\n",
              "      <td>3.0</td>\n",
              "      <td>92</td>\n",
              "      <td>71.0</td>\n",
              "      <td>17.0</td>\n",
              "      <td>18.0</td>\n",
              "    </tr>\n",
              "    <tr>\n",
              "      <th>1</th>\n",
              "      <td>서울특별시</td>\n",
              "      <td>9</td>\n",
              "      <td>13.0</td>\n",
              "      <td>111</td>\n",
              "      <td>102.0</td>\n",
              "      <td>19.0</td>\n",
              "      <td>20.0</td>\n",
              "    </tr>\n",
              "    <tr>\n",
              "      <th>2</th>\n",
              "      <td>서울특별시</td>\n",
              "      <td>8</td>\n",
              "      <td>23.0</td>\n",
              "      <td>96</td>\n",
              "      <td>81.0</td>\n",
              "      <td>22.0</td>\n",
              "      <td>9.0</td>\n",
              "    </tr>\n",
              "    <tr>\n",
              "      <th>3</th>\n",
              "      <td>서울특별시</td>\n",
              "      <td>20</td>\n",
              "      <td>14.0</td>\n",
              "      <td>185</td>\n",
              "      <td>144.0</td>\n",
              "      <td>31.0</td>\n",
              "      <td>30.0</td>\n",
              "    </tr>\n",
              "    <tr>\n",
              "      <th>4</th>\n",
              "      <td>서울특별시</td>\n",
              "      <td>10</td>\n",
              "      <td>19.0</td>\n",
              "      <td>120</td>\n",
              "      <td>103.0</td>\n",
              "      <td>26.0</td>\n",
              "      <td>13.0</td>\n",
              "    </tr>\n",
              "    <tr>\n",
              "      <th>...</th>\n",
              "      <td>...</td>\n",
              "      <td>...</td>\n",
              "      <td>...</td>\n",
              "      <td>...</td>\n",
              "      <td>...</td>\n",
              "      <td>...</td>\n",
              "      <td>...</td>\n",
              "    </tr>\n",
              "    <tr>\n",
              "      <th>245</th>\n",
              "      <td>경상남도</td>\n",
              "      <td>10</td>\n",
              "      <td>4.0</td>\n",
              "      <td>54</td>\n",
              "      <td>33.0</td>\n",
              "      <td>9.0</td>\n",
              "      <td>4.0</td>\n",
              "    </tr>\n",
              "    <tr>\n",
              "      <th>246</th>\n",
              "      <td>경상남도</td>\n",
              "      <td>9</td>\n",
              "      <td>NaN</td>\n",
              "      <td>25</td>\n",
              "      <td>19.0</td>\n",
              "      <td>12.0</td>\n",
              "      <td>NaN</td>\n",
              "    </tr>\n",
              "    <tr>\n",
              "      <th>247</th>\n",
              "      <td>경상남도</td>\n",
              "      <td>6</td>\n",
              "      <td>NaN</td>\n",
              "      <td>23</td>\n",
              "      <td>13.0</td>\n",
              "      <td>7.0</td>\n",
              "      <td>4.0</td>\n",
              "    </tr>\n",
              "    <tr>\n",
              "      <th>248</th>\n",
              "      <td>제주특별자치도</td>\n",
              "      <td>19</td>\n",
              "      <td>2.0</td>\n",
              "      <td>24</td>\n",
              "      <td>19.0</td>\n",
              "      <td>20.0</td>\n",
              "      <td>4.0</td>\n",
              "    </tr>\n",
              "    <tr>\n",
              "      <th>249</th>\n",
              "      <td>제주특별자치도</td>\n",
              "      <td>42</td>\n",
              "      <td>8.0</td>\n",
              "      <td>84</td>\n",
              "      <td>64.0</td>\n",
              "      <td>48.0</td>\n",
              "      <td>24.0</td>\n",
              "    </tr>\n",
              "  </tbody>\n",
              "</table>\n",
              "<p>250 rows × 7 columns</p>\n",
              "</div>\n",
              "      <button class=\"colab-df-convert\" onclick=\"convertToInteractive('df-64f7a226-cae4-46d0-98b0-35e96214e4be')\"\n",
              "              title=\"Convert this dataframe to an interactive table.\"\n",
              "              style=\"display:none;\">\n",
              "        \n",
              "  <svg xmlns=\"http://www.w3.org/2000/svg\" height=\"24px\"viewBox=\"0 0 24 24\"\n",
              "       width=\"24px\">\n",
              "    <path d=\"M0 0h24v24H0V0z\" fill=\"none\"/>\n",
              "    <path d=\"M18.56 5.44l.94 2.06.94-2.06 2.06-.94-2.06-.94-.94-2.06-.94 2.06-2.06.94zm-11 1L8.5 8.5l.94-2.06 2.06-.94-2.06-.94L8.5 2.5l-.94 2.06-2.06.94zm10 10l.94 2.06.94-2.06 2.06-.94-2.06-.94-.94-2.06-.94 2.06-2.06.94z\"/><path d=\"M17.41 7.96l-1.37-1.37c-.4-.4-.92-.59-1.43-.59-.52 0-1.04.2-1.43.59L10.3 9.45l-7.72 7.72c-.78.78-.78 2.05 0 2.83L4 21.41c.39.39.9.59 1.41.59.51 0 1.02-.2 1.41-.59l7.78-7.78 2.81-2.81c.8-.78.8-2.07 0-2.86zM5.41 20L4 18.59l7.72-7.72 1.47 1.35L5.41 20z\"/>\n",
              "  </svg>\n",
              "      </button>\n",
              "      \n",
              "  <style>\n",
              "    .colab-df-container {\n",
              "      display:flex;\n",
              "      flex-wrap:wrap;\n",
              "      gap: 12px;\n",
              "    }\n",
              "\n",
              "    .colab-df-convert {\n",
              "      background-color: #E8F0FE;\n",
              "      border: none;\n",
              "      border-radius: 50%;\n",
              "      cursor: pointer;\n",
              "      display: none;\n",
              "      fill: #1967D2;\n",
              "      height: 32px;\n",
              "      padding: 0 0 0 0;\n",
              "      width: 32px;\n",
              "    }\n",
              "\n",
              "    .colab-df-convert:hover {\n",
              "      background-color: #E2EBFA;\n",
              "      box-shadow: 0px 1px 2px rgba(60, 64, 67, 0.3), 0px 1px 3px 1px rgba(60, 64, 67, 0.15);\n",
              "      fill: #174EA6;\n",
              "    }\n",
              "\n",
              "    [theme=dark] .colab-df-convert {\n",
              "      background-color: #3B4455;\n",
              "      fill: #D2E3FC;\n",
              "    }\n",
              "\n",
              "    [theme=dark] .colab-df-convert:hover {\n",
              "      background-color: #434B5C;\n",
              "      box-shadow: 0px 1px 3px 1px rgba(0, 0, 0, 0.15);\n",
              "      filter: drop-shadow(0px 1px 2px rgba(0, 0, 0, 0.3));\n",
              "      fill: #FFFFFF;\n",
              "    }\n",
              "  </style>\n",
              "\n",
              "      <script>\n",
              "        const buttonEl =\n",
              "          document.querySelector('#df-64f7a226-cae4-46d0-98b0-35e96214e4be button.colab-df-convert');\n",
              "        buttonEl.style.display =\n",
              "          google.colab.kernel.accessAllowed ? 'block' : 'none';\n",
              "\n",
              "        async function convertToInteractive(key) {\n",
              "          const element = document.querySelector('#df-64f7a226-cae4-46d0-98b0-35e96214e4be');\n",
              "          const dataTable =\n",
              "            await google.colab.kernel.invokeFunction('convertToInteractive',\n",
              "                                                     [key], {});\n",
              "          if (!dataTable) return;\n",
              "\n",
              "          const docLinkHtml = 'Like what you see? Visit the ' +\n",
              "            '<a target=\"_blank\" href=https://colab.research.google.com/notebooks/data_table.ipynb>data table notebook</a>'\n",
              "            + ' to learn more about interactive tables.';\n",
              "          element.innerHTML = '';\n",
              "          dataTable['output_type'] = 'display_data';\n",
              "          await google.colab.output.renderOutput(dataTable, element);\n",
              "          const docLink = document.createElement('div');\n",
              "          docLink.innerHTML = docLinkHtml;\n",
              "          element.appendChild(docLink);\n",
              "        }\n",
              "      </script>\n",
              "    </div>\n",
              "  </div>\n",
              "  "
            ]
          },
          "metadata": {},
          "execution_count": 29
        }
      ]
    },
    {
      "cell_type": "code",
      "source": [
        "df.info()"
      ],
      "metadata": {
        "colab": {
          "base_uri": "https://localhost:8080/"
        },
        "id": "3WwNeZpYHCxv",
        "outputId": "6aa3857f-f694-4a0e-f0eb-a1acdc70dabc"
      },
      "execution_count": 13,
      "outputs": [
        {
          "output_type": "stream",
          "name": "stdout",
          "text": [
            "<class 'pandas.core.frame.DataFrame'>\n",
            "RangeIndex: 250 entries, 0 to 249\n",
            "Data columns (total 7 columns):\n",
            " #   Column  Non-Null Count  Dtype  \n",
            "---  ------  --------------  -----  \n",
            " 0   시도      250 non-null    object \n",
            " 1   노인요양시설  250 non-null    int64  \n",
            " 2   공동생활가정  221 non-null    float64\n",
            " 3   방문요양    250 non-null    int64  \n",
            " 4   방문목욕    248 non-null    float64\n",
            " 5   주야간보호   248 non-null    float64\n",
            " 6   복지용구    239 non-null    float64\n",
            "dtypes: float64(4), int64(2), object(1)\n",
            "memory usage: 13.8+ KB\n"
          ]
        }
      ]
    },
    {
      "cell_type": "code",
      "source": [
        "df.isnull().sum()"
      ],
      "metadata": {
        "colab": {
          "base_uri": "https://localhost:8080/"
        },
        "id": "8LdOiN32Hei1",
        "outputId": "6cf1ecc0-2782-47da-f6fc-5e2cd7a0cf6c"
      },
      "execution_count": 14,
      "outputs": [
        {
          "output_type": "execute_result",
          "data": {
            "text/plain": [
              "시도         0\n",
              "노인요양시설     0\n",
              "공동생활가정    29\n",
              "방문요양       0\n",
              "방문목욕       2\n",
              "주야간보호      2\n",
              "복지용구      11\n",
              "dtype: int64"
            ]
          },
          "metadata": {},
          "execution_count": 14
        }
      ]
    },
    {
      "cell_type": "code",
      "source": [
        "df.fillna(0, inplace = True)"
      ],
      "metadata": {
        "id": "6599C6GQHgQ-"
      },
      "execution_count": 18,
      "outputs": []
    },
    {
      "cell_type": "code",
      "source": [
        "df.isnull().sum()"
      ],
      "metadata": {
        "colab": {
          "base_uri": "https://localhost:8080/"
        },
        "id": "BaVZQUNBJhLG",
        "outputId": "8fdd8469-e5e0-42a2-8c3e-a67287ca7b13"
      },
      "execution_count": 19,
      "outputs": [
        {
          "output_type": "execute_result",
          "data": {
            "text/plain": [
              "시도        0\n",
              "노인요양시설    0\n",
              "공동생활가정    0\n",
              "방문요양      0\n",
              "방문목욕      0\n",
              "주야간보호     0\n",
              "복지용구      0\n",
              "dtype: int64"
            ]
          },
          "metadata": {},
          "execution_count": 19
        }
      ]
    },
    {
      "cell_type": "code",
      "source": [
        "df.describe()"
      ],
      "metadata": {
        "colab": {
          "base_uri": "https://localhost:8080/",
          "height": 300
        },
        "id": "B9SVkp9dJnV-",
        "outputId": "882d9235-64d2-481f-8a63-26e4ce7b026b"
      },
      "execution_count": 20,
      "outputs": [
        {
          "output_type": "execute_result",
          "data": {
            "text/plain": [
              "           노인요양시설      공동생활가정       방문요양        방문목욕       주야간보호        복지용구\n",
              "count  250.000000  250.000000  250.00000  250.000000  250.000000  250.000000\n",
              "mean    17.248000    7.172000   66.61600   46.684000   20.052000    7.892000\n",
              "std     18.427174    8.699722   47.32631   36.347499   15.023185    6.740778\n",
              "min      1.000000    0.000000    2.00000    0.000000    0.000000    0.000000\n",
              "25%      6.000000    1.250000   29.00000   19.000000    9.000000    2.250000\n",
              "50%     11.500000    4.000000   55.50000   35.000000   17.000000    6.000000\n",
              "75%     21.000000    9.000000   92.00000   66.750000   27.750000   12.000000\n",
              "max    129.000000   55.000000  236.00000  199.000000   88.000000   38.000000"
            ],
            "text/html": [
              "\n",
              "  <div id=\"df-a7c33b3f-b482-47e7-8a7a-1130904f0ddd\">\n",
              "    <div class=\"colab-df-container\">\n",
              "      <div>\n",
              "<style scoped>\n",
              "    .dataframe tbody tr th:only-of-type {\n",
              "        vertical-align: middle;\n",
              "    }\n",
              "\n",
              "    .dataframe tbody tr th {\n",
              "        vertical-align: top;\n",
              "    }\n",
              "\n",
              "    .dataframe thead th {\n",
              "        text-align: right;\n",
              "    }\n",
              "</style>\n",
              "<table border=\"1\" class=\"dataframe\">\n",
              "  <thead>\n",
              "    <tr style=\"text-align: right;\">\n",
              "      <th></th>\n",
              "      <th>노인요양시설</th>\n",
              "      <th>공동생활가정</th>\n",
              "      <th>방문요양</th>\n",
              "      <th>방문목욕</th>\n",
              "      <th>주야간보호</th>\n",
              "      <th>복지용구</th>\n",
              "    </tr>\n",
              "  </thead>\n",
              "  <tbody>\n",
              "    <tr>\n",
              "      <th>count</th>\n",
              "      <td>250.000000</td>\n",
              "      <td>250.000000</td>\n",
              "      <td>250.00000</td>\n",
              "      <td>250.000000</td>\n",
              "      <td>250.000000</td>\n",
              "      <td>250.000000</td>\n",
              "    </tr>\n",
              "    <tr>\n",
              "      <th>mean</th>\n",
              "      <td>17.248000</td>\n",
              "      <td>7.172000</td>\n",
              "      <td>66.61600</td>\n",
              "      <td>46.684000</td>\n",
              "      <td>20.052000</td>\n",
              "      <td>7.892000</td>\n",
              "    </tr>\n",
              "    <tr>\n",
              "      <th>std</th>\n",
              "      <td>18.427174</td>\n",
              "      <td>8.699722</td>\n",
              "      <td>47.32631</td>\n",
              "      <td>36.347499</td>\n",
              "      <td>15.023185</td>\n",
              "      <td>6.740778</td>\n",
              "    </tr>\n",
              "    <tr>\n",
              "      <th>min</th>\n",
              "      <td>1.000000</td>\n",
              "      <td>0.000000</td>\n",
              "      <td>2.00000</td>\n",
              "      <td>0.000000</td>\n",
              "      <td>0.000000</td>\n",
              "      <td>0.000000</td>\n",
              "    </tr>\n",
              "    <tr>\n",
              "      <th>25%</th>\n",
              "      <td>6.000000</td>\n",
              "      <td>1.250000</td>\n",
              "      <td>29.00000</td>\n",
              "      <td>19.000000</td>\n",
              "      <td>9.000000</td>\n",
              "      <td>2.250000</td>\n",
              "    </tr>\n",
              "    <tr>\n",
              "      <th>50%</th>\n",
              "      <td>11.500000</td>\n",
              "      <td>4.000000</td>\n",
              "      <td>55.50000</td>\n",
              "      <td>35.000000</td>\n",
              "      <td>17.000000</td>\n",
              "      <td>6.000000</td>\n",
              "    </tr>\n",
              "    <tr>\n",
              "      <th>75%</th>\n",
              "      <td>21.000000</td>\n",
              "      <td>9.000000</td>\n",
              "      <td>92.00000</td>\n",
              "      <td>66.750000</td>\n",
              "      <td>27.750000</td>\n",
              "      <td>12.000000</td>\n",
              "    </tr>\n",
              "    <tr>\n",
              "      <th>max</th>\n",
              "      <td>129.000000</td>\n",
              "      <td>55.000000</td>\n",
              "      <td>236.00000</td>\n",
              "      <td>199.000000</td>\n",
              "      <td>88.000000</td>\n",
              "      <td>38.000000</td>\n",
              "    </tr>\n",
              "  </tbody>\n",
              "</table>\n",
              "</div>\n",
              "      <button class=\"colab-df-convert\" onclick=\"convertToInteractive('df-a7c33b3f-b482-47e7-8a7a-1130904f0ddd')\"\n",
              "              title=\"Convert this dataframe to an interactive table.\"\n",
              "              style=\"display:none;\">\n",
              "        \n",
              "  <svg xmlns=\"http://www.w3.org/2000/svg\" height=\"24px\"viewBox=\"0 0 24 24\"\n",
              "       width=\"24px\">\n",
              "    <path d=\"M0 0h24v24H0V0z\" fill=\"none\"/>\n",
              "    <path d=\"M18.56 5.44l.94 2.06.94-2.06 2.06-.94-2.06-.94-.94-2.06-.94 2.06-2.06.94zm-11 1L8.5 8.5l.94-2.06 2.06-.94-2.06-.94L8.5 2.5l-.94 2.06-2.06.94zm10 10l.94 2.06.94-2.06 2.06-.94-2.06-.94-.94-2.06-.94 2.06-2.06.94z\"/><path d=\"M17.41 7.96l-1.37-1.37c-.4-.4-.92-.59-1.43-.59-.52 0-1.04.2-1.43.59L10.3 9.45l-7.72 7.72c-.78.78-.78 2.05 0 2.83L4 21.41c.39.39.9.59 1.41.59.51 0 1.02-.2 1.41-.59l7.78-7.78 2.81-2.81c.8-.78.8-2.07 0-2.86zM5.41 20L4 18.59l7.72-7.72 1.47 1.35L5.41 20z\"/>\n",
              "  </svg>\n",
              "      </button>\n",
              "      \n",
              "  <style>\n",
              "    .colab-df-container {\n",
              "      display:flex;\n",
              "      flex-wrap:wrap;\n",
              "      gap: 12px;\n",
              "    }\n",
              "\n",
              "    .colab-df-convert {\n",
              "      background-color: #E8F0FE;\n",
              "      border: none;\n",
              "      border-radius: 50%;\n",
              "      cursor: pointer;\n",
              "      display: none;\n",
              "      fill: #1967D2;\n",
              "      height: 32px;\n",
              "      padding: 0 0 0 0;\n",
              "      width: 32px;\n",
              "    }\n",
              "\n",
              "    .colab-df-convert:hover {\n",
              "      background-color: #E2EBFA;\n",
              "      box-shadow: 0px 1px 2px rgba(60, 64, 67, 0.3), 0px 1px 3px 1px rgba(60, 64, 67, 0.15);\n",
              "      fill: #174EA6;\n",
              "    }\n",
              "\n",
              "    [theme=dark] .colab-df-convert {\n",
              "      background-color: #3B4455;\n",
              "      fill: #D2E3FC;\n",
              "    }\n",
              "\n",
              "    [theme=dark] .colab-df-convert:hover {\n",
              "      background-color: #434B5C;\n",
              "      box-shadow: 0px 1px 3px 1px rgba(0, 0, 0, 0.15);\n",
              "      filter: drop-shadow(0px 1px 2px rgba(0, 0, 0, 0.3));\n",
              "      fill: #FFFFFF;\n",
              "    }\n",
              "  </style>\n",
              "\n",
              "      <script>\n",
              "        const buttonEl =\n",
              "          document.querySelector('#df-a7c33b3f-b482-47e7-8a7a-1130904f0ddd button.colab-df-convert');\n",
              "        buttonEl.style.display =\n",
              "          google.colab.kernel.accessAllowed ? 'block' : 'none';\n",
              "\n",
              "        async function convertToInteractive(key) {\n",
              "          const element = document.querySelector('#df-a7c33b3f-b482-47e7-8a7a-1130904f0ddd');\n",
              "          const dataTable =\n",
              "            await google.colab.kernel.invokeFunction('convertToInteractive',\n",
              "                                                     [key], {});\n",
              "          if (!dataTable) return;\n",
              "\n",
              "          const docLinkHtml = 'Like what you see? Visit the ' +\n",
              "            '<a target=\"_blank\" href=https://colab.research.google.com/notebooks/data_table.ipynb>data table notebook</a>'\n",
              "            + ' to learn more about interactive tables.';\n",
              "          element.innerHTML = '';\n",
              "          dataTable['output_type'] = 'display_data';\n",
              "          await google.colab.output.renderOutput(dataTable, element);\n",
              "          const docLink = document.createElement('div');\n",
              "          docLink.innerHTML = docLinkHtml;\n",
              "          element.appendChild(docLink);\n",
              "        }\n",
              "      </script>\n",
              "    </div>\n",
              "  </div>\n",
              "  "
            ]
          },
          "metadata": {},
          "execution_count": 20
        }
      ]
    },
    {
      "cell_type": "code",
      "source": [
        "from sklearn.model_selection import train_test_split\n",
        "from sklearn.compose import ColumnTransformer\n",
        "from sklearn.preprocessing import StandardScaler"
      ],
      "metadata": {
        "id": "LJ697aDdKNXi"
      },
      "execution_count": 21,
      "outputs": []
    },
    {
      "cell_type": "code",
      "source": [
        "df.columns"
      ],
      "metadata": {
        "colab": {
          "base_uri": "https://localhost:8080/"
        },
        "id": "Hlbi4XJVKWtV",
        "outputId": "3ccd03f2-9634-497f-edd9-d16557330c50"
      },
      "execution_count": 22,
      "outputs": [
        {
          "output_type": "execute_result",
          "data": {
            "text/plain": [
              "Index(['시도', '노인요양시설', '공동생활가정', '방문요양', '방문목욕', '주야간보호', '복지용구'], dtype='object')"
            ]
          },
          "metadata": {},
          "execution_count": 22
        }
      ]
    },
    {
      "cell_type": "code",
      "source": [
        "import numpy as np\n",
        "\n",
        "#분류예측\n",
        "\n",
        "#1. 변수선택\n",
        "X = df[['방문요양', '공동생활가정', '방문목욕', '주야간보호','복지용구']]\n",
        "Y = df['노인요양시설']\n",
        "\n",
        "#2. train = test split\n",
        "X_train, X_test, Y_train, Y_test = train_test_split(X, Y, test_size=0.3, random_state=0)\n",
        "\n",
        "#3. 데이터 전처리(preprocessing)\n",
        "ct = ColumnTransformer([(\"scaling\", StandardScaler(), ['방문요양', '공동생활가정', '방문목욕', '주야간보호','복지용구'])])\n",
        "ct.fit(X_train)\n",
        "X_train = ct.transform(X_train)\n",
        "X_test = ct.transform(X_test)"
      ],
      "metadata": {
        "id": "CwE_tK1aKYgZ"
      },
      "execution_count": 27,
      "outputs": []
    },
    {
      "cell_type": "code",
      "source": [
        "#4. 모델링\n",
        "from sklearn.neural_network import MLPRegressor\n",
        "\n",
        "#4-1. 모델 생성\n",
        "nn_reg_model = MLPRegressor(random_state=0, alpha=1, max_iter=1000, hidden_layer_sizes=[50, 50])\n",
        "                            \n",
        "#5. 모형학습 및 예측\n",
        "nn_reg_model.fit(X_train, Y_train)\n",
        "Y_pred = nn_reg_model.predict(X_test)\n",
        "\n",
        "#6. 결과값 보고\n",
        "print(\"Y predict value: \\n\", Y_pred)\n",
        "print(\"trian accuracy : {:.3f}\".format(nn_reg_model.score(X_train, Y_train)))\n",
        "from sklearn.metrics import mean_squared_error\n",
        "from math import sqrt\n",
        "rmse = sqrt(mean_squared_error(Y_test, Y_pred))\n",
        "print(\"RMSE : {:3f}\".format(rmse)) "
      ],
      "metadata": {
        "colab": {
          "base_uri": "https://localhost:8080/"
        },
        "id": "yuLczyujLOhQ",
        "outputId": "320cc3d6-6d8c-4246-c326-339bbc08c319"
      },
      "execution_count": 30,
      "outputs": [
        {
          "output_type": "stream",
          "name": "stdout",
          "text": [
            "Y predict value: \n",
            " [11.05293582  2.05857952  2.55038899 10.96007832 12.56363145 30.9769583\n",
            "  3.81723982 13.89486604  2.00919218 15.33229728  1.33640401 17.00591281\n",
            " 13.07725388  7.73360097 60.42769807  8.91677602 26.13985773 10.05946328\n",
            " 25.02297741 12.99819609 15.95750522 70.3983231  13.59338917 11.62124593\n",
            " 11.22751602  6.59245473 38.24964114 28.19127016  5.93264605  8.88154461\n",
            "  4.65922535 41.69660593 46.33780754 38.04407498 22.0175843   4.50160792\n",
            "  2.37032144 10.38409346  4.84061531  1.43685192  3.13613345  2.53618961\n",
            " 24.99328335 20.49790453 13.06644658 26.16041961  5.69549199 28.84536463\n",
            " 25.57697477  4.99804628 13.80886709 28.54507006  6.83254416 12.85146897\n",
            "  9.54197241 37.40286319  9.97704772 22.23505636  8.91252759 13.1616445\n",
            "  8.6352488  12.44315509 12.24209271  9.88396079 14.65445023  7.01988252\n",
            "  7.56979776 42.29271426 32.25565876 10.79219201  5.37277389  9.77819124\n",
            "  9.99219461 21.45254052 34.59076246]\n",
            "trian accuracy : 0.848\n",
            "RMSE : 14.115676\n"
          ]
        },
        {
          "output_type": "stream",
          "name": "stderr",
          "text": [
            "/usr/local/lib/python3.8/dist-packages/sklearn/neural_network/_multilayer_perceptron.py:692: ConvergenceWarning: Stochastic Optimizer: Maximum iterations (1000) reached and the optimization hasn't converged yet.\n",
            "  warnings.warn(\n"
          ]
        }
      ]
    },
    {
      "cell_type": "code",
      "source": [],
      "metadata": {
        "id": "l_2_RX0JL8-r"
      },
      "execution_count": null,
      "outputs": []
    },
    {
      "cell_type": "markdown",
      "source": [
        "딥러닝"
      ],
      "metadata": {
        "id": "xt81nOYmMW4a"
      }
    },
    {
      "cell_type": "code",
      "source": [
        "import warnings\n",
        "warnings.filterwarnings(\"ignore\")"
      ],
      "metadata": {
        "id": "B5JG0zmKMdkq"
      },
      "execution_count": 31,
      "outputs": []
    },
    {
      "cell_type": "markdown",
      "source": [
        "DNN(Deep learning : Deep Neural Network)"
      ],
      "metadata": {
        "id": "2TgwKyzzMhux"
      }
    },
    {
      "cell_type": "markdown",
      "source": [],
      "metadata": {
        "id": "Gpdt3qYkMkAc"
      }
    },
    {
      "cell_type": "code",
      "source": [
        "\n",
        "#1. 변수선택\n",
        "X = df[['방문요양', '공동생활가정', '방문목욕', '주야간보호','복지용구']]\n",
        "Y = np.log1p(df['노인요양시설'])\n",
        "\n",
        "#2. train = test split\n",
        "X_train, X_test, Y_train, Y_test = train_test_split(X, Y, test_size=0.3, random_state=0)\n",
        "\n",
        "#3. 데이터 전처리(preprocessing)\n",
        "ct = ColumnTransformer([(\"scaling\", StandardScaler(), ['방문요양', '공동생활가정', '방문목욕', '주야간보호','복지용구'])])\n",
        "ct.fit(X_train)\n",
        "X_train = ct.transform(X_train)\n",
        "X_test = ct.transform(X_test)"
      ],
      "metadata": {
        "id": "WWALMfa7MfmA"
      },
      "execution_count": 63,
      "outputs": []
    },
    {
      "cell_type": "code",
      "source": [
        "Y.describe()"
      ],
      "metadata": {
        "colab": {
          "base_uri": "https://localhost:8080/"
        },
        "id": "L---_c8ePHGC",
        "outputId": "74f93f32-0f19-4b8d-e128-32d29d441d4c"
      },
      "execution_count": 50,
      "outputs": [
        {
          "output_type": "execute_result",
          "data": {
            "text/plain": [
              "count    250.000000\n",
              "mean      17.248000\n",
              "std       18.427174\n",
              "min        1.000000\n",
              "25%        6.000000\n",
              "50%       11.500000\n",
              "75%       21.000000\n",
              "max      129.000000\n",
              "Name: 노인요양시설, dtype: float64"
            ]
          },
          "metadata": {},
          "execution_count": 50
        }
      ]
    },
    {
      "cell_type": "code",
      "source": [
        "X_train[0]"
      ],
      "metadata": {
        "colab": {
          "base_uri": "https://localhost:8080/"
        },
        "id": "9Teui6OxOFY1",
        "outputId": "7eee0d97-3024-4c1e-b573-bb6d83b84a46"
      },
      "execution_count": 51,
      "outputs": [
        {
          "output_type": "execute_result",
          "data": {
            "text/plain": [
              "array([ 0.76515483,  0.62857334,  0.81137684,  0.73132306, -0.31745607])"
            ]
          },
          "metadata": {},
          "execution_count": 51
        }
      ]
    },
    {
      "cell_type": "code",
      "source": [
        "import keras\n",
        "import tensorflow as tf\n",
        "\n",
        "from keras.models import Sequential\n",
        "from keras.layers import Dense, Activation\n",
        "from keras.metrics import Accuracy\n",
        "\n",
        "#5. 시드값 설정 : 시작점\n",
        "np.random.seed(0)\n",
        "tf.random.set_seed(0)\n",
        "\n",
        "#6. 모형생성\n",
        "model = keras.models.Sequential()\n",
        "model.add(keras.layers.Dense(12, input_dim=5, activation = \"relu\"))\n",
        "\n",
        "\n",
        "#7. 모형 학습\n",
        "model.compile(loss = \"mse\", optimizer = \"SGD\")\n",
        "model.fit(X_train, Y_train, validation_split=0.2, epochs = 100, batch_size = 64, verbose = 2)\n"
      ],
      "metadata": {
        "colab": {
          "base_uri": "https://localhost:8080/"
        },
        "id": "E7ehbYAxM2B7",
        "outputId": "9acfac9d-70b8-4b69-c060-b8130310ba5c"
      },
      "execution_count": 66,
      "outputs": [
        {
          "output_type": "stream",
          "name": "stdout",
          "text": [
            "Epoch 1/100\n",
            "3/3 - 1s - loss: nan - val_loss: nan - 528ms/epoch - 176ms/step\n",
            "Epoch 2/100\n",
            "3/3 - 0s - loss: nan - val_loss: nan - 28ms/epoch - 9ms/step\n",
            "Epoch 3/100\n",
            "3/3 - 0s - loss: nan - val_loss: nan - 34ms/epoch - 11ms/step\n",
            "Epoch 4/100\n",
            "3/3 - 0s - loss: nan - val_loss: nan - 31ms/epoch - 10ms/step\n",
            "Epoch 5/100\n",
            "3/3 - 0s - loss: nan - val_loss: nan - 47ms/epoch - 16ms/step\n",
            "Epoch 6/100\n",
            "3/3 - 0s - loss: nan - val_loss: nan - 47ms/epoch - 16ms/step\n",
            "Epoch 7/100\n",
            "3/3 - 0s - loss: nan - val_loss: nan - 26ms/epoch - 9ms/step\n",
            "Epoch 8/100\n",
            "3/3 - 0s - loss: nan - val_loss: nan - 28ms/epoch - 9ms/step\n",
            "Epoch 9/100\n",
            "3/3 - 0s - loss: nan - val_loss: nan - 26ms/epoch - 9ms/step\n",
            "Epoch 10/100\n",
            "3/3 - 0s - loss: nan - val_loss: nan - 29ms/epoch - 10ms/step\n",
            "Epoch 11/100\n",
            "3/3 - 0s - loss: nan - val_loss: nan - 28ms/epoch - 9ms/step\n",
            "Epoch 12/100\n",
            "3/3 - 0s - loss: nan - val_loss: nan - 29ms/epoch - 10ms/step\n",
            "Epoch 13/100\n",
            "3/3 - 0s - loss: nan - val_loss: nan - 47ms/epoch - 16ms/step\n",
            "Epoch 14/100\n",
            "3/3 - 0s - loss: nan - val_loss: nan - 29ms/epoch - 10ms/step\n",
            "Epoch 15/100\n",
            "3/3 - 0s - loss: nan - val_loss: nan - 29ms/epoch - 10ms/step\n",
            "Epoch 16/100\n",
            "3/3 - 0s - loss: nan - val_loss: nan - 33ms/epoch - 11ms/step\n",
            "Epoch 17/100\n",
            "3/3 - 0s - loss: nan - val_loss: nan - 41ms/epoch - 14ms/step\n",
            "Epoch 18/100\n",
            "3/3 - 0s - loss: nan - val_loss: nan - 30ms/epoch - 10ms/step\n",
            "Epoch 19/100\n",
            "3/3 - 0s - loss: nan - val_loss: nan - 51ms/epoch - 17ms/step\n",
            "Epoch 20/100\n",
            "3/3 - 0s - loss: nan - val_loss: nan - 32ms/epoch - 11ms/step\n",
            "Epoch 21/100\n",
            "3/3 - 0s - loss: nan - val_loss: nan - 30ms/epoch - 10ms/step\n",
            "Epoch 22/100\n",
            "3/3 - 0s - loss: nan - val_loss: nan - 29ms/epoch - 10ms/step\n",
            "Epoch 23/100\n",
            "3/3 - 0s - loss: nan - val_loss: nan - 49ms/epoch - 16ms/step\n",
            "Epoch 24/100\n",
            "3/3 - 0s - loss: nan - val_loss: nan - 33ms/epoch - 11ms/step\n",
            "Epoch 25/100\n",
            "3/3 - 0s - loss: nan - val_loss: nan - 36ms/epoch - 12ms/step\n",
            "Epoch 26/100\n",
            "3/3 - 0s - loss: nan - val_loss: nan - 30ms/epoch - 10ms/step\n",
            "Epoch 27/100\n",
            "3/3 - 0s - loss: nan - val_loss: nan - 32ms/epoch - 11ms/step\n",
            "Epoch 28/100\n",
            "3/3 - 0s - loss: nan - val_loss: nan - 31ms/epoch - 10ms/step\n",
            "Epoch 29/100\n",
            "3/3 - 0s - loss: nan - val_loss: nan - 31ms/epoch - 10ms/step\n",
            "Epoch 30/100\n",
            "3/3 - 0s - loss: nan - val_loss: nan - 41ms/epoch - 14ms/step\n",
            "Epoch 31/100\n",
            "3/3 - 0s - loss: nan - val_loss: nan - 30ms/epoch - 10ms/step\n",
            "Epoch 32/100\n",
            "3/3 - 0s - loss: nan - val_loss: nan - 37ms/epoch - 12ms/step\n",
            "Epoch 33/100\n",
            "3/3 - 0s - loss: nan - val_loss: nan - 27ms/epoch - 9ms/step\n",
            "Epoch 34/100\n",
            "3/3 - 0s - loss: nan - val_loss: nan - 28ms/epoch - 9ms/step\n",
            "Epoch 35/100\n",
            "3/3 - 0s - loss: nan - val_loss: nan - 51ms/epoch - 17ms/step\n",
            "Epoch 36/100\n",
            "3/3 - 0s - loss: nan - val_loss: nan - 48ms/epoch - 16ms/step\n",
            "Epoch 37/100\n",
            "3/3 - 0s - loss: nan - val_loss: nan - 31ms/epoch - 10ms/step\n",
            "Epoch 38/100\n",
            "3/3 - 0s - loss: nan - val_loss: nan - 31ms/epoch - 10ms/step\n",
            "Epoch 39/100\n",
            "3/3 - 0s - loss: nan - val_loss: nan - 36ms/epoch - 12ms/step\n",
            "Epoch 40/100\n",
            "3/3 - 0s - loss: nan - val_loss: nan - 30ms/epoch - 10ms/step\n",
            "Epoch 41/100\n",
            "3/3 - 0s - loss: nan - val_loss: nan - 30ms/epoch - 10ms/step\n",
            "Epoch 42/100\n",
            "3/3 - 0s - loss: nan - val_loss: nan - 33ms/epoch - 11ms/step\n",
            "Epoch 43/100\n",
            "3/3 - 0s - loss: nan - val_loss: nan - 33ms/epoch - 11ms/step\n",
            "Epoch 44/100\n",
            "3/3 - 0s - loss: nan - val_loss: nan - 35ms/epoch - 12ms/step\n",
            "Epoch 45/100\n",
            "3/3 - 0s - loss: nan - val_loss: nan - 28ms/epoch - 9ms/step\n",
            "Epoch 46/100\n",
            "3/3 - 0s - loss: nan - val_loss: nan - 30ms/epoch - 10ms/step\n",
            "Epoch 47/100\n",
            "3/3 - 0s - loss: nan - val_loss: nan - 37ms/epoch - 12ms/step\n",
            "Epoch 48/100\n",
            "3/3 - 0s - loss: nan - val_loss: nan - 29ms/epoch - 10ms/step\n",
            "Epoch 49/100\n",
            "3/3 - 0s - loss: nan - val_loss: nan - 29ms/epoch - 10ms/step\n",
            "Epoch 50/100\n",
            "3/3 - 0s - loss: nan - val_loss: nan - 49ms/epoch - 16ms/step\n",
            "Epoch 51/100\n",
            "3/3 - 0s - loss: nan - val_loss: nan - 49ms/epoch - 16ms/step\n",
            "Epoch 52/100\n",
            "3/3 - 0s - loss: nan - val_loss: nan - 28ms/epoch - 9ms/step\n",
            "Epoch 53/100\n",
            "3/3 - 0s - loss: nan - val_loss: nan - 29ms/epoch - 10ms/step\n",
            "Epoch 54/100\n",
            "3/3 - 0s - loss: nan - val_loss: nan - 28ms/epoch - 9ms/step\n",
            "Epoch 55/100\n",
            "3/3 - 0s - loss: nan - val_loss: nan - 44ms/epoch - 15ms/step\n",
            "Epoch 56/100\n",
            "3/3 - 0s - loss: nan - val_loss: nan - 31ms/epoch - 10ms/step\n",
            "Epoch 57/100\n",
            "3/3 - 0s - loss: nan - val_loss: nan - 32ms/epoch - 11ms/step\n",
            "Epoch 58/100\n",
            "3/3 - 0s - loss: nan - val_loss: nan - 42ms/epoch - 14ms/step\n",
            "Epoch 59/100\n",
            "3/3 - 0s - loss: nan - val_loss: nan - 45ms/epoch - 15ms/step\n",
            "Epoch 60/100\n",
            "3/3 - 0s - loss: nan - val_loss: nan - 31ms/epoch - 10ms/step\n",
            "Epoch 61/100\n",
            "3/3 - 0s - loss: nan - val_loss: nan - 30ms/epoch - 10ms/step\n",
            "Epoch 62/100\n",
            "3/3 - 0s - loss: nan - val_loss: nan - 31ms/epoch - 10ms/step\n",
            "Epoch 63/100\n",
            "3/3 - 0s - loss: nan - val_loss: nan - 38ms/epoch - 13ms/step\n",
            "Epoch 64/100\n",
            "3/3 - 0s - loss: nan - val_loss: nan - 53ms/epoch - 18ms/step\n",
            "Epoch 65/100\n",
            "3/3 - 0s - loss: nan - val_loss: nan - 55ms/epoch - 18ms/step\n",
            "Epoch 66/100\n",
            "3/3 - 0s - loss: nan - val_loss: nan - 32ms/epoch - 11ms/step\n",
            "Epoch 67/100\n",
            "3/3 - 0s - loss: nan - val_loss: nan - 29ms/epoch - 10ms/step\n",
            "Epoch 68/100\n",
            "3/3 - 0s - loss: nan - val_loss: nan - 30ms/epoch - 10ms/step\n",
            "Epoch 69/100\n",
            "3/3 - 0s - loss: nan - val_loss: nan - 29ms/epoch - 10ms/step\n",
            "Epoch 70/100\n",
            "3/3 - 0s - loss: nan - val_loss: nan - 28ms/epoch - 9ms/step\n",
            "Epoch 71/100\n",
            "3/3 - 0s - loss: nan - val_loss: nan - 50ms/epoch - 17ms/step\n",
            "Epoch 72/100\n",
            "3/3 - 0s - loss: nan - val_loss: nan - 35ms/epoch - 12ms/step\n",
            "Epoch 73/100\n",
            "3/3 - 0s - loss: nan - val_loss: nan - 37ms/epoch - 12ms/step\n",
            "Epoch 74/100\n",
            "3/3 - 0s - loss: nan - val_loss: nan - 49ms/epoch - 16ms/step\n",
            "Epoch 75/100\n",
            "3/3 - 0s - loss: nan - val_loss: nan - 28ms/epoch - 9ms/step\n",
            "Epoch 76/100\n",
            "3/3 - 0s - loss: nan - val_loss: nan - 27ms/epoch - 9ms/step\n",
            "Epoch 77/100\n",
            "3/3 - 0s - loss: nan - val_loss: nan - 51ms/epoch - 17ms/step\n",
            "Epoch 78/100\n",
            "3/3 - 0s - loss: nan - val_loss: nan - 28ms/epoch - 9ms/step\n",
            "Epoch 79/100\n",
            "3/3 - 0s - loss: nan - val_loss: nan - 33ms/epoch - 11ms/step\n",
            "Epoch 80/100\n",
            "3/3 - 0s - loss: nan - val_loss: nan - 31ms/epoch - 10ms/step\n",
            "Epoch 81/100\n",
            "3/3 - 0s - loss: nan - val_loss: nan - 31ms/epoch - 10ms/step\n",
            "Epoch 82/100\n",
            "3/3 - 0s - loss: nan - val_loss: nan - 29ms/epoch - 10ms/step\n",
            "Epoch 83/100\n",
            "3/3 - 0s - loss: nan - val_loss: nan - 28ms/epoch - 9ms/step\n",
            "Epoch 84/100\n",
            "3/3 - 0s - loss: nan - val_loss: nan - 37ms/epoch - 12ms/step\n",
            "Epoch 85/100\n",
            "3/3 - 0s - loss: nan - val_loss: nan - 34ms/epoch - 11ms/step\n",
            "Epoch 86/100\n",
            "3/3 - 0s - loss: nan - val_loss: nan - 30ms/epoch - 10ms/step\n",
            "Epoch 87/100\n",
            "3/3 - 0s - loss: nan - val_loss: nan - 29ms/epoch - 10ms/step\n",
            "Epoch 88/100\n",
            "3/3 - 0s - loss: nan - val_loss: nan - 29ms/epoch - 10ms/step\n",
            "Epoch 89/100\n",
            "3/3 - 0s - loss: nan - val_loss: nan - 30ms/epoch - 10ms/step\n",
            "Epoch 90/100\n",
            "3/3 - 0s - loss: nan - val_loss: nan - 30ms/epoch - 10ms/step\n",
            "Epoch 91/100\n",
            "3/3 - 0s - loss: nan - val_loss: nan - 29ms/epoch - 10ms/step\n",
            "Epoch 92/100\n",
            "3/3 - 0s - loss: nan - val_loss: nan - 33ms/epoch - 11ms/step\n",
            "Epoch 93/100\n",
            "3/3 - 0s - loss: nan - val_loss: nan - 28ms/epoch - 9ms/step\n",
            "Epoch 94/100\n",
            "3/3 - 0s - loss: nan - val_loss: nan - 26ms/epoch - 9ms/step\n",
            "Epoch 95/100\n",
            "3/3 - 0s - loss: nan - val_loss: nan - 27ms/epoch - 9ms/step\n",
            "Epoch 96/100\n",
            "3/3 - 0s - loss: nan - val_loss: nan - 29ms/epoch - 10ms/step\n",
            "Epoch 97/100\n",
            "3/3 - 0s - loss: nan - val_loss: nan - 30ms/epoch - 10ms/step\n",
            "Epoch 98/100\n",
            "3/3 - 0s - loss: nan - val_loss: nan - 29ms/epoch - 10ms/step\n",
            "Epoch 99/100\n",
            "3/3 - 0s - loss: nan - val_loss: nan - 27ms/epoch - 9ms/step\n",
            "Epoch 100/100\n",
            "3/3 - 0s - loss: nan - val_loss: nan - 30ms/epoch - 10ms/step\n"
          ]
        },
        {
          "output_type": "execute_result",
          "data": {
            "text/plain": [
              "<keras.callbacks.History at 0x7f2a3ff4a190>"
            ]
          },
          "metadata": {},
          "execution_count": 66
        }
      ]
    },
    {
      "cell_type": "code",
      "source": [],
      "metadata": {
        "id": "ypjIAcKTNupg"
      },
      "execution_count": null,
      "outputs": []
    }
  ]
}