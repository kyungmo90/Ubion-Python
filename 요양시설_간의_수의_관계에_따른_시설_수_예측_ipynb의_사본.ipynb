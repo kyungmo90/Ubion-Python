{
  "nbformat": 4,
  "nbformat_minor": 0,
  "metadata": {
    "colab": {
      "provenance": [],
      "include_colab_link": true
    },
    "kernelspec": {
      "name": "python3",
      "display_name": "Python 3"
    },
    "language_info": {
      "name": "python"
    }
  },
  "cells": [
    {
      "cell_type": "markdown",
      "metadata": {
        "id": "view-in-github",
        "colab_type": "text"
      },
      "source": [
        "<a href=\"https://colab.research.google.com/github/kyungmo90/Ubion-Python/blob/main/%EC%9A%94%EC%96%91%EC%8B%9C%EC%84%A4_%EA%B0%84%EC%9D%98_%EC%88%98%EC%9D%98_%EA%B4%80%EA%B3%84%EC%97%90_%EB%94%B0%EB%A5%B8_%EC%8B%9C%EC%84%A4_%EC%88%98_%EC%98%88%EC%B8%A1_ipynb%EC%9D%98_%EC%82%AC%EB%B3%B8.ipynb\" target=\"_parent\"><img src=\"https://colab.research.google.com/assets/colab-badge.svg\" alt=\"Open In Colab\"/></a>"
      ]
    },
    {
      "cell_type": "markdown",
      "source": [
        "# 요양시설 간의 수의 관계에 따른 시설 수 예측\n",
        "\n"
      ],
      "metadata": {
        "id": "SrmtyJLuFnTf"
      }
    },
    {
      "cell_type": "markdown",
      "source": [
        "구글 마운트"
      ],
      "metadata": {
        "id": "y__me0IFlXDC"
      }
    },
    {
      "cell_type": "code",
      "source": [
        "from google.colab import drive\n",
        "drive.mount('/content/drive')\n",
        "\n",
        "#구글 드라이브 마운트"
      ],
      "metadata": {
        "colab": {
          "base_uri": "https://localhost:8080/"
        },
        "id": "V0wzqqNfGXf1",
        "outputId": "6abdd5f0-8613-4d8c-e1ea-f9f3c06a7e49"
      },
      "execution_count": null,
      "outputs": [
        {
          "output_type": "stream",
          "name": "stdout",
          "text": [
            "Drive already mounted at /content/drive; to attempt to forcibly remount, call drive.mount(\"/content/drive\", force_remount=True).\n"
          ]
        }
      ]
    },
    {
      "cell_type": "markdown",
      "source": [
        "판다스 함수 호출 및 데이터 로드, 한글 인코딩"
      ],
      "metadata": {
        "id": "9E23mrdIlZ0d"
      }
    },
    {
      "cell_type": "code",
      "source": [
        "import pandas as pd\n",
        "\n",
        "df = pd.read_csv(\"/content/drive/MyDrive/2022년_9월_시군구별_장기요양기관_현황.CSV\", encoding = \"cp949\")\n",
        "df\n",
        "\n",
        "# 판다스 불러오고 csv파일을 한글 인코딩하고 df에 입력력"
      ],
      "metadata": {
        "colab": {
          "base_uri": "https://localhost:8080/",
          "height": 423
        },
        "id": "bv_iG8-RHCSX",
        "outputId": "87b75ef0-c806-4582-8893-e7e836a1751f"
      },
      "execution_count": null,
      "outputs": [
        {
          "output_type": "execute_result",
          "data": {
            "text/plain": [
              "          시도  노인요양시설  공동생활가정  방문요양   방문목욕  주야간보호  복지용구\n",
              "0      서울특별시       5     3.0    92   71.0   17.0  18.0\n",
              "1      서울특별시       9    13.0   111  102.0   19.0  20.0\n",
              "2      서울특별시       8    23.0    96   81.0   22.0   9.0\n",
              "3      서울특별시      20    14.0   185  144.0   31.0  30.0\n",
              "4      서울특별시      10    19.0   120  103.0   26.0  13.0\n",
              "..       ...     ...     ...   ...    ...    ...   ...\n",
              "245     경상남도      10     4.0    54   33.0    9.0   4.0\n",
              "246     경상남도       9     NaN    25   19.0   12.0   NaN\n",
              "247     경상남도       6     NaN    23   13.0    7.0   4.0\n",
              "248  제주특별자치도      19     2.0    24   19.0   20.0   4.0\n",
              "249  제주특별자치도      42     8.0    84   64.0   48.0  24.0\n",
              "\n",
              "[250 rows x 7 columns]"
            ],
            "text/html": [
              "\n",
              "  <div id=\"df-73dd60c1-6958-4da7-bc66-944e7f3586e4\">\n",
              "    <div class=\"colab-df-container\">\n",
              "      <div>\n",
              "<style scoped>\n",
              "    .dataframe tbody tr th:only-of-type {\n",
              "        vertical-align: middle;\n",
              "    }\n",
              "\n",
              "    .dataframe tbody tr th {\n",
              "        vertical-align: top;\n",
              "    }\n",
              "\n",
              "    .dataframe thead th {\n",
              "        text-align: right;\n",
              "    }\n",
              "</style>\n",
              "<table border=\"1\" class=\"dataframe\">\n",
              "  <thead>\n",
              "    <tr style=\"text-align: right;\">\n",
              "      <th></th>\n",
              "      <th>시도</th>\n",
              "      <th>노인요양시설</th>\n",
              "      <th>공동생활가정</th>\n",
              "      <th>방문요양</th>\n",
              "      <th>방문목욕</th>\n",
              "      <th>주야간보호</th>\n",
              "      <th>복지용구</th>\n",
              "    </tr>\n",
              "  </thead>\n",
              "  <tbody>\n",
              "    <tr>\n",
              "      <th>0</th>\n",
              "      <td>서울특별시</td>\n",
              "      <td>5</td>\n",
              "      <td>3.0</td>\n",
              "      <td>92</td>\n",
              "      <td>71.0</td>\n",
              "      <td>17.0</td>\n",
              "      <td>18.0</td>\n",
              "    </tr>\n",
              "    <tr>\n",
              "      <th>1</th>\n",
              "      <td>서울특별시</td>\n",
              "      <td>9</td>\n",
              "      <td>13.0</td>\n",
              "      <td>111</td>\n",
              "      <td>102.0</td>\n",
              "      <td>19.0</td>\n",
              "      <td>20.0</td>\n",
              "    </tr>\n",
              "    <tr>\n",
              "      <th>2</th>\n",
              "      <td>서울특별시</td>\n",
              "      <td>8</td>\n",
              "      <td>23.0</td>\n",
              "      <td>96</td>\n",
              "      <td>81.0</td>\n",
              "      <td>22.0</td>\n",
              "      <td>9.0</td>\n",
              "    </tr>\n",
              "    <tr>\n",
              "      <th>3</th>\n",
              "      <td>서울특별시</td>\n",
              "      <td>20</td>\n",
              "      <td>14.0</td>\n",
              "      <td>185</td>\n",
              "      <td>144.0</td>\n",
              "      <td>31.0</td>\n",
              "      <td>30.0</td>\n",
              "    </tr>\n",
              "    <tr>\n",
              "      <th>4</th>\n",
              "      <td>서울특별시</td>\n",
              "      <td>10</td>\n",
              "      <td>19.0</td>\n",
              "      <td>120</td>\n",
              "      <td>103.0</td>\n",
              "      <td>26.0</td>\n",
              "      <td>13.0</td>\n",
              "    </tr>\n",
              "    <tr>\n",
              "      <th>...</th>\n",
              "      <td>...</td>\n",
              "      <td>...</td>\n",
              "      <td>...</td>\n",
              "      <td>...</td>\n",
              "      <td>...</td>\n",
              "      <td>...</td>\n",
              "      <td>...</td>\n",
              "    </tr>\n",
              "    <tr>\n",
              "      <th>245</th>\n",
              "      <td>경상남도</td>\n",
              "      <td>10</td>\n",
              "      <td>4.0</td>\n",
              "      <td>54</td>\n",
              "      <td>33.0</td>\n",
              "      <td>9.0</td>\n",
              "      <td>4.0</td>\n",
              "    </tr>\n",
              "    <tr>\n",
              "      <th>246</th>\n",
              "      <td>경상남도</td>\n",
              "      <td>9</td>\n",
              "      <td>NaN</td>\n",
              "      <td>25</td>\n",
              "      <td>19.0</td>\n",
              "      <td>12.0</td>\n",
              "      <td>NaN</td>\n",
              "    </tr>\n",
              "    <tr>\n",
              "      <th>247</th>\n",
              "      <td>경상남도</td>\n",
              "      <td>6</td>\n",
              "      <td>NaN</td>\n",
              "      <td>23</td>\n",
              "      <td>13.0</td>\n",
              "      <td>7.0</td>\n",
              "      <td>4.0</td>\n",
              "    </tr>\n",
              "    <tr>\n",
              "      <th>248</th>\n",
              "      <td>제주특별자치도</td>\n",
              "      <td>19</td>\n",
              "      <td>2.0</td>\n",
              "      <td>24</td>\n",
              "      <td>19.0</td>\n",
              "      <td>20.0</td>\n",
              "      <td>4.0</td>\n",
              "    </tr>\n",
              "    <tr>\n",
              "      <th>249</th>\n",
              "      <td>제주특별자치도</td>\n",
              "      <td>42</td>\n",
              "      <td>8.0</td>\n",
              "      <td>84</td>\n",
              "      <td>64.0</td>\n",
              "      <td>48.0</td>\n",
              "      <td>24.0</td>\n",
              "    </tr>\n",
              "  </tbody>\n",
              "</table>\n",
              "<p>250 rows × 7 columns</p>\n",
              "</div>\n",
              "      <button class=\"colab-df-convert\" onclick=\"convertToInteractive('df-73dd60c1-6958-4da7-bc66-944e7f3586e4')\"\n",
              "              title=\"Convert this dataframe to an interactive table.\"\n",
              "              style=\"display:none;\">\n",
              "        \n",
              "  <svg xmlns=\"http://www.w3.org/2000/svg\" height=\"24px\"viewBox=\"0 0 24 24\"\n",
              "       width=\"24px\">\n",
              "    <path d=\"M0 0h24v24H0V0z\" fill=\"none\"/>\n",
              "    <path d=\"M18.56 5.44l.94 2.06.94-2.06 2.06-.94-2.06-.94-.94-2.06-.94 2.06-2.06.94zm-11 1L8.5 8.5l.94-2.06 2.06-.94-2.06-.94L8.5 2.5l-.94 2.06-2.06.94zm10 10l.94 2.06.94-2.06 2.06-.94-2.06-.94-.94-2.06-.94 2.06-2.06.94z\"/><path d=\"M17.41 7.96l-1.37-1.37c-.4-.4-.92-.59-1.43-.59-.52 0-1.04.2-1.43.59L10.3 9.45l-7.72 7.72c-.78.78-.78 2.05 0 2.83L4 21.41c.39.39.9.59 1.41.59.51 0 1.02-.2 1.41-.59l7.78-7.78 2.81-2.81c.8-.78.8-2.07 0-2.86zM5.41 20L4 18.59l7.72-7.72 1.47 1.35L5.41 20z\"/>\n",
              "  </svg>\n",
              "      </button>\n",
              "      \n",
              "  <style>\n",
              "    .colab-df-container {\n",
              "      display:flex;\n",
              "      flex-wrap:wrap;\n",
              "      gap: 12px;\n",
              "    }\n",
              "\n",
              "    .colab-df-convert {\n",
              "      background-color: #E8F0FE;\n",
              "      border: none;\n",
              "      border-radius: 50%;\n",
              "      cursor: pointer;\n",
              "      display: none;\n",
              "      fill: #1967D2;\n",
              "      height: 32px;\n",
              "      padding: 0 0 0 0;\n",
              "      width: 32px;\n",
              "    }\n",
              "\n",
              "    .colab-df-convert:hover {\n",
              "      background-color: #E2EBFA;\n",
              "      box-shadow: 0px 1px 2px rgba(60, 64, 67, 0.3), 0px 1px 3px 1px rgba(60, 64, 67, 0.15);\n",
              "      fill: #174EA6;\n",
              "    }\n",
              "\n",
              "    [theme=dark] .colab-df-convert {\n",
              "      background-color: #3B4455;\n",
              "      fill: #D2E3FC;\n",
              "    }\n",
              "\n",
              "    [theme=dark] .colab-df-convert:hover {\n",
              "      background-color: #434B5C;\n",
              "      box-shadow: 0px 1px 3px 1px rgba(0, 0, 0, 0.15);\n",
              "      filter: drop-shadow(0px 1px 2px rgba(0, 0, 0, 0.3));\n",
              "      fill: #FFFFFF;\n",
              "    }\n",
              "  </style>\n",
              "\n",
              "      <script>\n",
              "        const buttonEl =\n",
              "          document.querySelector('#df-73dd60c1-6958-4da7-bc66-944e7f3586e4 button.colab-df-convert');\n",
              "        buttonEl.style.display =\n",
              "          google.colab.kernel.accessAllowed ? 'block' : 'none';\n",
              "\n",
              "        async function convertToInteractive(key) {\n",
              "          const element = document.querySelector('#df-73dd60c1-6958-4da7-bc66-944e7f3586e4');\n",
              "          const dataTable =\n",
              "            await google.colab.kernel.invokeFunction('convertToInteractive',\n",
              "                                                     [key], {});\n",
              "          if (!dataTable) return;\n",
              "\n",
              "          const docLinkHtml = 'Like what you see? Visit the ' +\n",
              "            '<a target=\"_blank\" href=https://colab.research.google.com/notebooks/data_table.ipynb>data table notebook</a>'\n",
              "            + ' to learn more about interactive tables.';\n",
              "          element.innerHTML = '';\n",
              "          dataTable['output_type'] = 'display_data';\n",
              "          await google.colab.output.renderOutput(dataTable, element);\n",
              "          const docLink = document.createElement('div');\n",
              "          docLink.innerHTML = docLinkHtml;\n",
              "          element.appendChild(docLink);\n",
              "        }\n",
              "      </script>\n",
              "    </div>\n",
              "  </div>\n",
              "  "
            ]
          },
          "metadata": {},
          "execution_count": 2
        }
      ]
    },
    {
      "cell_type": "code",
      "source": [
        "df.info()\n",
        "\n",
        "# df 정보 불러오기기"
      ],
      "metadata": {
        "colab": {
          "base_uri": "https://localhost:8080/"
        },
        "id": "3WwNeZpYHCxv",
        "outputId": "773dece5-c772-47b6-f3de-40f10c8429b8"
      },
      "execution_count": null,
      "outputs": [
        {
          "output_type": "stream",
          "name": "stdout",
          "text": [
            "<class 'pandas.core.frame.DataFrame'>\n",
            "RangeIndex: 250 entries, 0 to 249\n",
            "Data columns (total 7 columns):\n",
            " #   Column  Non-Null Count  Dtype  \n",
            "---  ------  --------------  -----  \n",
            " 0   시도      250 non-null    object \n",
            " 1   노인요양시설  250 non-null    int64  \n",
            " 2   공동생활가정  221 non-null    float64\n",
            " 3   방문요양    250 non-null    int64  \n",
            " 4   방문목욕    248 non-null    float64\n",
            " 5   주야간보호   248 non-null    float64\n",
            " 6   복지용구    239 non-null    float64\n",
            "dtypes: float64(4), int64(2), object(1)\n",
            "memory usage: 13.8+ KB\n"
          ]
        }
      ]
    },
    {
      "cell_type": "code",
      "source": [
        "df.isnull().sum()\n",
        "\n",
        "# df null값 확인"
      ],
      "metadata": {
        "colab": {
          "base_uri": "https://localhost:8080/"
        },
        "id": "8LdOiN32Hei1",
        "outputId": "e4c98595-6ca4-4e45-d7fa-f5860cde906e"
      },
      "execution_count": null,
      "outputs": [
        {
          "output_type": "execute_result",
          "data": {
            "text/plain": [
              "시도         0\n",
              "노인요양시설     0\n",
              "공동생활가정    29\n",
              "방문요양       0\n",
              "방문목욕       2\n",
              "주야간보호      2\n",
              "복지용구      11\n",
              "dtype: int64"
            ]
          },
          "metadata": {},
          "execution_count": 4
        }
      ]
    },
    {
      "cell_type": "code",
      "source": [
        "df.fillna(0, inplace = True)\n",
        "\n",
        "# df null값 삭제"
      ],
      "metadata": {
        "id": "6599C6GQHgQ-"
      },
      "execution_count": null,
      "outputs": []
    },
    {
      "cell_type": "code",
      "source": [
        "df.isnull().sum()\n",
        "\n",
        "# df null값 삭제됐는지 확인"
      ],
      "metadata": {
        "colab": {
          "base_uri": "https://localhost:8080/"
        },
        "id": "BaVZQUNBJhLG",
        "outputId": "779f8864-d9c3-4dd0-e714-d1980f3d8415"
      },
      "execution_count": null,
      "outputs": [
        {
          "output_type": "execute_result",
          "data": {
            "text/plain": [
              "시도        0\n",
              "노인요양시설    0\n",
              "공동생활가정    0\n",
              "방문요양      0\n",
              "방문목욕      0\n",
              "주야간보호     0\n",
              "복지용구      0\n",
              "dtype: int64"
            ]
          },
          "metadata": {},
          "execution_count": 6
        }
      ]
    },
    {
      "cell_type": "code",
      "source": [
        "df.describe()\n",
        "\n",
        "# df 기술통계"
      ],
      "metadata": {
        "colab": {
          "base_uri": "https://localhost:8080/",
          "height": 300
        },
        "id": "B9SVkp9dJnV-",
        "outputId": "33281aa5-fb7b-4235-94f7-2bf3cafd23b6"
      },
      "execution_count": null,
      "outputs": [
        {
          "output_type": "execute_result",
          "data": {
            "text/plain": [
              "           노인요양시설      공동생활가정       방문요양        방문목욕       주야간보호        복지용구\n",
              "count  250.000000  250.000000  250.00000  250.000000  250.000000  250.000000\n",
              "mean    17.248000    7.172000   66.61600   46.684000   20.052000    7.892000\n",
              "std     18.427174    8.699722   47.32631   36.347499   15.023185    6.740778\n",
              "min      1.000000    0.000000    2.00000    0.000000    0.000000    0.000000\n",
              "25%      6.000000    1.250000   29.00000   19.000000    9.000000    2.250000\n",
              "50%     11.500000    4.000000   55.50000   35.000000   17.000000    6.000000\n",
              "75%     21.000000    9.000000   92.00000   66.750000   27.750000   12.000000\n",
              "max    129.000000   55.000000  236.00000  199.000000   88.000000   38.000000"
            ],
            "text/html": [
              "\n",
              "  <div id=\"df-fadd276c-3de7-4029-91d9-dac82c99fbf8\">\n",
              "    <div class=\"colab-df-container\">\n",
              "      <div>\n",
              "<style scoped>\n",
              "    .dataframe tbody tr th:only-of-type {\n",
              "        vertical-align: middle;\n",
              "    }\n",
              "\n",
              "    .dataframe tbody tr th {\n",
              "        vertical-align: top;\n",
              "    }\n",
              "\n",
              "    .dataframe thead th {\n",
              "        text-align: right;\n",
              "    }\n",
              "</style>\n",
              "<table border=\"1\" class=\"dataframe\">\n",
              "  <thead>\n",
              "    <tr style=\"text-align: right;\">\n",
              "      <th></th>\n",
              "      <th>노인요양시설</th>\n",
              "      <th>공동생활가정</th>\n",
              "      <th>방문요양</th>\n",
              "      <th>방문목욕</th>\n",
              "      <th>주야간보호</th>\n",
              "      <th>복지용구</th>\n",
              "    </tr>\n",
              "  </thead>\n",
              "  <tbody>\n",
              "    <tr>\n",
              "      <th>count</th>\n",
              "      <td>250.000000</td>\n",
              "      <td>250.000000</td>\n",
              "      <td>250.00000</td>\n",
              "      <td>250.000000</td>\n",
              "      <td>250.000000</td>\n",
              "      <td>250.000000</td>\n",
              "    </tr>\n",
              "    <tr>\n",
              "      <th>mean</th>\n",
              "      <td>17.248000</td>\n",
              "      <td>7.172000</td>\n",
              "      <td>66.61600</td>\n",
              "      <td>46.684000</td>\n",
              "      <td>20.052000</td>\n",
              "      <td>7.892000</td>\n",
              "    </tr>\n",
              "    <tr>\n",
              "      <th>std</th>\n",
              "      <td>18.427174</td>\n",
              "      <td>8.699722</td>\n",
              "      <td>47.32631</td>\n",
              "      <td>36.347499</td>\n",
              "      <td>15.023185</td>\n",
              "      <td>6.740778</td>\n",
              "    </tr>\n",
              "    <tr>\n",
              "      <th>min</th>\n",
              "      <td>1.000000</td>\n",
              "      <td>0.000000</td>\n",
              "      <td>2.00000</td>\n",
              "      <td>0.000000</td>\n",
              "      <td>0.000000</td>\n",
              "      <td>0.000000</td>\n",
              "    </tr>\n",
              "    <tr>\n",
              "      <th>25%</th>\n",
              "      <td>6.000000</td>\n",
              "      <td>1.250000</td>\n",
              "      <td>29.00000</td>\n",
              "      <td>19.000000</td>\n",
              "      <td>9.000000</td>\n",
              "      <td>2.250000</td>\n",
              "    </tr>\n",
              "    <tr>\n",
              "      <th>50%</th>\n",
              "      <td>11.500000</td>\n",
              "      <td>4.000000</td>\n",
              "      <td>55.50000</td>\n",
              "      <td>35.000000</td>\n",
              "      <td>17.000000</td>\n",
              "      <td>6.000000</td>\n",
              "    </tr>\n",
              "    <tr>\n",
              "      <th>75%</th>\n",
              "      <td>21.000000</td>\n",
              "      <td>9.000000</td>\n",
              "      <td>92.00000</td>\n",
              "      <td>66.750000</td>\n",
              "      <td>27.750000</td>\n",
              "      <td>12.000000</td>\n",
              "    </tr>\n",
              "    <tr>\n",
              "      <th>max</th>\n",
              "      <td>129.000000</td>\n",
              "      <td>55.000000</td>\n",
              "      <td>236.00000</td>\n",
              "      <td>199.000000</td>\n",
              "      <td>88.000000</td>\n",
              "      <td>38.000000</td>\n",
              "    </tr>\n",
              "  </tbody>\n",
              "</table>\n",
              "</div>\n",
              "      <button class=\"colab-df-convert\" onclick=\"convertToInteractive('df-fadd276c-3de7-4029-91d9-dac82c99fbf8')\"\n",
              "              title=\"Convert this dataframe to an interactive table.\"\n",
              "              style=\"display:none;\">\n",
              "        \n",
              "  <svg xmlns=\"http://www.w3.org/2000/svg\" height=\"24px\"viewBox=\"0 0 24 24\"\n",
              "       width=\"24px\">\n",
              "    <path d=\"M0 0h24v24H0V0z\" fill=\"none\"/>\n",
              "    <path d=\"M18.56 5.44l.94 2.06.94-2.06 2.06-.94-2.06-.94-.94-2.06-.94 2.06-2.06.94zm-11 1L8.5 8.5l.94-2.06 2.06-.94-2.06-.94L8.5 2.5l-.94 2.06-2.06.94zm10 10l.94 2.06.94-2.06 2.06-.94-2.06-.94-.94-2.06-.94 2.06-2.06.94z\"/><path d=\"M17.41 7.96l-1.37-1.37c-.4-.4-.92-.59-1.43-.59-.52 0-1.04.2-1.43.59L10.3 9.45l-7.72 7.72c-.78.78-.78 2.05 0 2.83L4 21.41c.39.39.9.59 1.41.59.51 0 1.02-.2 1.41-.59l7.78-7.78 2.81-2.81c.8-.78.8-2.07 0-2.86zM5.41 20L4 18.59l7.72-7.72 1.47 1.35L5.41 20z\"/>\n",
              "  </svg>\n",
              "      </button>\n",
              "      \n",
              "  <style>\n",
              "    .colab-df-container {\n",
              "      display:flex;\n",
              "      flex-wrap:wrap;\n",
              "      gap: 12px;\n",
              "    }\n",
              "\n",
              "    .colab-df-convert {\n",
              "      background-color: #E8F0FE;\n",
              "      border: none;\n",
              "      border-radius: 50%;\n",
              "      cursor: pointer;\n",
              "      display: none;\n",
              "      fill: #1967D2;\n",
              "      height: 32px;\n",
              "      padding: 0 0 0 0;\n",
              "      width: 32px;\n",
              "    }\n",
              "\n",
              "    .colab-df-convert:hover {\n",
              "      background-color: #E2EBFA;\n",
              "      box-shadow: 0px 1px 2px rgba(60, 64, 67, 0.3), 0px 1px 3px 1px rgba(60, 64, 67, 0.15);\n",
              "      fill: #174EA6;\n",
              "    }\n",
              "\n",
              "    [theme=dark] .colab-df-convert {\n",
              "      background-color: #3B4455;\n",
              "      fill: #D2E3FC;\n",
              "    }\n",
              "\n",
              "    [theme=dark] .colab-df-convert:hover {\n",
              "      background-color: #434B5C;\n",
              "      box-shadow: 0px 1px 3px 1px rgba(0, 0, 0, 0.15);\n",
              "      filter: drop-shadow(0px 1px 2px rgba(0, 0, 0, 0.3));\n",
              "      fill: #FFFFFF;\n",
              "    }\n",
              "  </style>\n",
              "\n",
              "      <script>\n",
              "        const buttonEl =\n",
              "          document.querySelector('#df-fadd276c-3de7-4029-91d9-dac82c99fbf8 button.colab-df-convert');\n",
              "        buttonEl.style.display =\n",
              "          google.colab.kernel.accessAllowed ? 'block' : 'none';\n",
              "\n",
              "        async function convertToInteractive(key) {\n",
              "          const element = document.querySelector('#df-fadd276c-3de7-4029-91d9-dac82c99fbf8');\n",
              "          const dataTable =\n",
              "            await google.colab.kernel.invokeFunction('convertToInteractive',\n",
              "                                                     [key], {});\n",
              "          if (!dataTable) return;\n",
              "\n",
              "          const docLinkHtml = 'Like what you see? Visit the ' +\n",
              "            '<a target=\"_blank\" href=https://colab.research.google.com/notebooks/data_table.ipynb>data table notebook</a>'\n",
              "            + ' to learn more about interactive tables.';\n",
              "          element.innerHTML = '';\n",
              "          dataTable['output_type'] = 'display_data';\n",
              "          await google.colab.output.renderOutput(dataTable, element);\n",
              "          const docLink = document.createElement('div');\n",
              "          docLink.innerHTML = docLinkHtml;\n",
              "          element.appendChild(docLink);\n",
              "        }\n",
              "      </script>\n",
              "    </div>\n",
              "  </div>\n",
              "  "
            ]
          },
          "metadata": {},
          "execution_count": 7
        }
      ]
    },
    {
      "cell_type": "markdown",
      "source": [
        "박스플롯으로 이상치 확인(40위로 짜를 예정)"
      ],
      "metadata": {
        "id": "bsrywQkjlk3q"
      }
    },
    {
      "cell_type": "code",
      "source": [
        "df.boxplot(column=\"노인요양시설\", return_type=\"both\")\n",
        "#boxplot: 최솟값,Q1(lower), Q2(중앙값), Q3(upper), 최댓값\n",
        "#통계를 낼 때 평균이나 표준편차를 많이 사용하는데 데이터에 이상치가 있으면 왜곡된 의미 전달 가능성 높음\n",
        "#이상치가 있는지 확인하기 위해 박스플롯을 활용하여 이상치가 얼마나 포함되어 있는지 판단"
      ],
      "metadata": {
        "colab": {
          "base_uri": "https://localhost:8080/",
          "height": 787
        },
        "id": "YlAwBWbrhYvj",
        "outputId": "d656fa75-3288-4053-c43f-4b9ee0564ecf"
      },
      "execution_count": null,
      "outputs": [
        {
          "output_type": "execute_result",
          "data": {
            "text/plain": [
              "BP(ax=<matplotlib.axes._subplots.AxesSubplot object at 0x7f5996b587f0>, lines={'whiskers': [<matplotlib.lines.Line2D object at 0x7f5996b44490>, <matplotlib.lines.Line2D object at 0x7f5996b447f0>], 'caps': [<matplotlib.lines.Line2D object at 0x7f5996b44b50>, <matplotlib.lines.Line2D object at 0x7f5996b44eb0>], 'boxes': [<matplotlib.lines.Line2D object at 0x7f5996b44130>], 'medians': [<matplotlib.lines.Line2D object at 0x7f5996ad1250>], 'fliers': [<matplotlib.lines.Line2D object at 0x7f5996ad1550>], 'means': []})"
            ]
          },
          "metadata": {},
          "execution_count": 8
        },
        {
          "output_type": "stream",
          "name": "stderr",
          "text": [
            "/usr/local/lib/python3.8/dist-packages/matplotlib/backends/backend_agg.py:214: RuntimeWarning: Glyph 45432 missing from current font.\n",
            "  font.set_text(s, 0.0, flags=flags)\n",
            "/usr/local/lib/python3.8/dist-packages/matplotlib/backends/backend_agg.py:214: RuntimeWarning: Glyph 51064 missing from current font.\n",
            "  font.set_text(s, 0.0, flags=flags)\n",
            "/usr/local/lib/python3.8/dist-packages/matplotlib/backends/backend_agg.py:214: RuntimeWarning: Glyph 50836 missing from current font.\n",
            "  font.set_text(s, 0.0, flags=flags)\n",
            "/usr/local/lib/python3.8/dist-packages/matplotlib/backends/backend_agg.py:214: RuntimeWarning: Glyph 50577 missing from current font.\n",
            "  font.set_text(s, 0.0, flags=flags)\n",
            "/usr/local/lib/python3.8/dist-packages/matplotlib/backends/backend_agg.py:214: RuntimeWarning: Glyph 49884 missing from current font.\n",
            "  font.set_text(s, 0.0, flags=flags)\n",
            "/usr/local/lib/python3.8/dist-packages/matplotlib/backends/backend_agg.py:214: RuntimeWarning: Glyph 49444 missing from current font.\n",
            "  font.set_text(s, 0.0, flags=flags)\n",
            "/usr/local/lib/python3.8/dist-packages/matplotlib/backends/backend_agg.py:183: RuntimeWarning: Glyph 45432 missing from current font.\n",
            "  font.set_text(s, 0, flags=flags)\n",
            "/usr/local/lib/python3.8/dist-packages/matplotlib/backends/backend_agg.py:183: RuntimeWarning: Glyph 51064 missing from current font.\n",
            "  font.set_text(s, 0, flags=flags)\n",
            "/usr/local/lib/python3.8/dist-packages/matplotlib/backends/backend_agg.py:183: RuntimeWarning: Glyph 50836 missing from current font.\n",
            "  font.set_text(s, 0, flags=flags)\n",
            "/usr/local/lib/python3.8/dist-packages/matplotlib/backends/backend_agg.py:183: RuntimeWarning: Glyph 50577 missing from current font.\n",
            "  font.set_text(s, 0, flags=flags)\n",
            "/usr/local/lib/python3.8/dist-packages/matplotlib/backends/backend_agg.py:183: RuntimeWarning: Glyph 49884 missing from current font.\n",
            "  font.set_text(s, 0, flags=flags)\n",
            "/usr/local/lib/python3.8/dist-packages/matplotlib/backends/backend_agg.py:183: RuntimeWarning: Glyph 49444 missing from current font.\n",
            "  font.set_text(s, 0, flags=flags)\n"
          ]
        },
        {
          "output_type": "display_data",
          "data": {
            "text/plain": [
              "<Figure size 432x288 with 1 Axes>"
            ],
            "image/png": "[encoded data removed]"
          },
          "metadata": {
            "needs_background": "light"
          }
        }
      ]
    },
    {
      "cell_type": "code",
      "source": [
        "df[\"노인요양시설\"].hist() #hist는 막대그래프"
      ],
      "metadata": {
        "colab": {
          "base_uri": "https://localhost:8080/",
          "height": 284
        },
        "id": "UFd55qY8jb6m",
        "outputId": "c0f66412-15cc-4972-9c2a-c4a1cadc14df"
      },
      "execution_count": null,
      "outputs": [
        {
          "output_type": "execute_result",
          "data": {
            "text/plain": [
              "<matplotlib.axes._subplots.AxesSubplot at 0x7f5996ab1460>"
            ]
          },
          "metadata": {},
          "execution_count": 9
        },
        {
          "output_type": "display_data",
          "data": {
            "text/plain": [
              "<Figure size 432x288 with 1 Axes>"
            ],
            "image/png": "[encoded data removed]"
          },
          "metadata": {
            "needs_background": "light"
          }
        }
      ]
    },
    {
      "cell_type": "markdown",
      "source": [
        "IQR 배운거 그대로 사용했습니다."
      ],
      "metadata": {
        "id": "LsyLtGFDl3-S"
      }
    },
    {
      "cell_type": "code",
      "source": [
        "q1 = df[\"노인요양시설\"].quantile(q=0.25)\n",
        "q3 = df[\"노인요양시설\"].quantile(q=0.75)\n",
        "IQR = q3-q1 #Q3 - Q1: 사분위수의 상위 75% 지점의 값과 하위 25% 지점의 값 차이\n",
        "IQR #Interquartile range(사분위간 범위)"
      ],
      "metadata": {
        "colab": {
          "base_uri": "https://localhost:8080/"
        },
        "id": "TN_hM_0ejqZ4",
        "outputId": "cdea2489-e37d-4c85-a9f1-02587a8cd09c"
      },
      "execution_count": null,
      "outputs": [
        {
          "output_type": "execute_result",
          "data": {
            "text/plain": [
              "15.0"
            ]
          },
          "metadata": {},
          "execution_count": 10
        }
      ]
    },
    {
      "cell_type": "code",
      "source": [
        "data_IQR = df[(df[\"노인요양시설\"] < q3 + IQR * 1.5) & (df[\"노인요양시설\"] > q1 - IQR * 1.5)] #1.5는 약속\n",
        "data_IQR"
      ],
      "metadata": {
        "colab": {
          "base_uri": "https://localhost:8080/",
          "height": 423
        },
        "id": "zMgK2c41jvRI",
        "outputId": "f7595293-8ca7-49dc-a4d8-063655a8d63d"
      },
      "execution_count": null,
      "outputs": [
        {
          "output_type": "execute_result",
          "data": {
            "text/plain": [
              "          시도  노인요양시설  공동생활가정  방문요양   방문목욕  주야간보호  복지용구\n",
              "0      서울특별시       5     3.0    92   71.0   17.0  18.0\n",
              "1      서울특별시       9    13.0   111  102.0   19.0  20.0\n",
              "2      서울특별시       8    23.0    96   81.0   22.0   9.0\n",
              "3      서울특별시      20    14.0   185  144.0   31.0  30.0\n",
              "4      서울특별시      10    19.0   120  103.0   26.0  13.0\n",
              "..       ...     ...     ...   ...    ...    ...   ...\n",
              "245     경상남도      10     4.0    54   33.0    9.0   4.0\n",
              "246     경상남도       9     0.0    25   19.0   12.0   0.0\n",
              "247     경상남도       6     0.0    23   13.0    7.0   4.0\n",
              "248  제주특별자치도      19     2.0    24   19.0   20.0   4.0\n",
              "249  제주특별자치도      42     8.0    84   64.0   48.0  24.0\n",
              "\n",
              "[231 rows x 7 columns]"
            ],
            "text/html": [
              "\n",
              "  <div id=\"df-9af8aad9-56ee-47e2-8cb9-19af6410b8d4\">\n",
              "    <div class=\"colab-df-container\">\n",
              "      <div>\n",
              "<style scoped>\n",
              "    .dataframe tbody tr th:only-of-type {\n",
              "        vertical-align: middle;\n",
              "    }\n",
              "\n",
              "    .dataframe tbody tr th {\n",
              "        vertical-align: top;\n",
              "    }\n",
              "\n",
              "    .dataframe thead th {\n",
              "        text-align: right;\n",
              "    }\n",
              "</style>\n",
              "<table border=\"1\" class=\"dataframe\">\n",
              "  <thead>\n",
              "    <tr style=\"text-align: right;\">\n",
              "      <th></th>\n",
              "      <th>시도</th>\n",
              "      <th>노인요양시설</th>\n",
              "      <th>공동생활가정</th>\n",
              "      <th>방문요양</th>\n",
              "      <th>방문목욕</th>\n",
              "      <th>주야간보호</th>\n",
              "      <th>복지용구</th>\n",
              "    </tr>\n",
              "  </thead>\n",
              "  <tbody>\n",
              "    <tr>\n",
              "      <th>0</th>\n",
              "      <td>서울특별시</td>\n",
              "      <td>5</td>\n",
              "      <td>3.0</td>\n",
              "      <td>92</td>\n",
              "      <td>71.0</td>\n",
              "      <td>17.0</td>\n",
              "      <td>18.0</td>\n",
              "    </tr>\n",
              "    <tr>\n",
              "      <th>1</th>\n",
              "      <td>서울특별시</td>\n",
              "      <td>9</td>\n",
              "      <td>13.0</td>\n",
              "      <td>111</td>\n",
              "      <td>102.0</td>\n",
              "      <td>19.0</td>\n",
              "      <td>20.0</td>\n",
              "    </tr>\n",
              "    <tr>\n",
              "      <th>2</th>\n",
              "      <td>서울특별시</td>\n",
              "      <td>8</td>\n",
              "      <td>23.0</td>\n",
              "      <td>96</td>\n",
              "      <td>81.0</td>\n",
              "      <td>22.0</td>\n",
              "      <td>9.0</td>\n",
              "    </tr>\n",
              "    <tr>\n",
              "      <th>3</th>\n",
              "      <td>서울특별시</td>\n",
              "      <td>20</td>\n",
              "      <td>14.0</td>\n",
              "      <td>185</td>\n",
              "      <td>144.0</td>\n",
              "      <td>31.0</td>\n",
              "      <td>30.0</td>\n",
              "    </tr>\n",
              "    <tr>\n",
              "      <th>4</th>\n",
              "      <td>서울특별시</td>\n",
              "      <td>10</td>\n",
              "      <td>19.0</td>\n",
              "      <td>120</td>\n",
              "      <td>103.0</td>\n",
              "      <td>26.0</td>\n",
              "      <td>13.0</td>\n",
              "    </tr>\n",
              "    <tr>\n",
              "      <th>...</th>\n",
              "      <td>...</td>\n",
              "      <td>...</td>\n",
              "      <td>...</td>\n",
              "      <td>...</td>\n",
              "      <td>...</td>\n",
              "      <td>...</td>\n",
              "      <td>...</td>\n",
              "    </tr>\n",
              "    <tr>\n",
              "      <th>245</th>\n",
              "      <td>경상남도</td>\n",
              "      <td>10</td>\n",
              "      <td>4.0</td>\n",
              "      <td>54</td>\n",
              "      <td>33.0</td>\n",
              "      <td>9.0</td>\n",
              "      <td>4.0</td>\n",
              "    </tr>\n",
              "    <tr>\n",
              "      <th>246</th>\n",
              "      <td>경상남도</td>\n",
              "      <td>9</td>\n",
              "      <td>0.0</td>\n",
              "      <td>25</td>\n",
              "      <td>19.0</td>\n",
              "      <td>12.0</td>\n",
              "      <td>0.0</td>\n",
              "    </tr>\n",
              "    <tr>\n",
              "      <th>247</th>\n",
              "      <td>경상남도</td>\n",
              "      <td>6</td>\n",
              "      <td>0.0</td>\n",
              "      <td>23</td>\n",
              "      <td>13.0</td>\n",
              "      <td>7.0</td>\n",
              "      <td>4.0</td>\n",
              "    </tr>\n",
              "    <tr>\n",
              "      <th>248</th>\n",
              "      <td>제주특별자치도</td>\n",
              "      <td>19</td>\n",
              "      <td>2.0</td>\n",
              "      <td>24</td>\n",
              "      <td>19.0</td>\n",
              "      <td>20.0</td>\n",
              "      <td>4.0</td>\n",
              "    </tr>\n",
              "    <tr>\n",
              "      <th>249</th>\n",
              "      <td>제주특별자치도</td>\n",
              "      <td>42</td>\n",
              "      <td>8.0</td>\n",
              "      <td>84</td>\n",
              "      <td>64.0</td>\n",
              "      <td>48.0</td>\n",
              "      <td>24.0</td>\n",
              "    </tr>\n",
              "  </tbody>\n",
              "</table>\n",
              "<p>231 rows × 7 columns</p>\n",
              "</div>\n",
              "      <button class=\"colab-df-convert\" onclick=\"convertToInteractive('df-9af8aad9-56ee-47e2-8cb9-19af6410b8d4')\"\n",
              "              title=\"Convert this dataframe to an interactive table.\"\n",
              "              style=\"display:none;\">\n",
              "        \n",
              "  <svg xmlns=\"http://www.w3.org/2000/svg\" height=\"24px\"viewBox=\"0 0 24 24\"\n",
              "       width=\"24px\">\n",
              "    <path d=\"M0 0h24v24H0V0z\" fill=\"none\"/>\n",
              "    <path d=\"M18.56 5.44l.94 2.06.94-2.06 2.06-.94-2.06-.94-.94-2.06-.94 2.06-2.06.94zm-11 1L8.5 8.5l.94-2.06 2.06-.94-2.06-.94L8.5 2.5l-.94 2.06-2.06.94zm10 10l.94 2.06.94-2.06 2.06-.94-2.06-.94-.94-2.06-.94 2.06-2.06.94z\"/><path d=\"M17.41 7.96l-1.37-1.37c-.4-.4-.92-.59-1.43-.59-.52 0-1.04.2-1.43.59L10.3 9.45l-7.72 7.72c-.78.78-.78 2.05 0 2.83L4 21.41c.39.39.9.59 1.41.59.51 0 1.02-.2 1.41-.59l7.78-7.78 2.81-2.81c.8-.78.8-2.07 0-2.86zM5.41 20L4 18.59l7.72-7.72 1.47 1.35L5.41 20z\"/>\n",
              "  </svg>\n",
              "      </button>\n",
              "      \n",
              "  <style>\n",
              "    .colab-df-container {\n",
              "      display:flex;\n",
              "      flex-wrap:wrap;\n",
              "      gap: 12px;\n",
              "    }\n",
              "\n",
              "    .colab-df-convert {\n",
              "      background-color: #E8F0FE;\n",
              "      border: none;\n",
              "      border-radius: 50%;\n",
              "      cursor: pointer;\n",
              "      display: none;\n",
              "      fill: #1967D2;\n",
              "      height: 32px;\n",
              "      padding: 0 0 0 0;\n",
              "      width: 32px;\n",
              "    }\n",
              "\n",
              "    .colab-df-convert:hover {\n",
              "      background-color: #E2EBFA;\n",
              "      box-shadow: 0px 1px 2px rgba(60, 64, 67, 0.3), 0px 1px 3px 1px rgba(60, 64, 67, 0.15);\n",
              "      fill: #174EA6;\n",
              "    }\n",
              "\n",
              "    [theme=dark] .colab-df-convert {\n",
              "      background-color: #3B4455;\n",
              "      fill: #D2E3FC;\n",
              "    }\n",
              "\n",
              "    [theme=dark] .colab-df-convert:hover {\n",
              "      background-color: #434B5C;\n",
              "      box-shadow: 0px 1px 3px 1px rgba(0, 0, 0, 0.15);\n",
              "      filter: drop-shadow(0px 1px 2px rgba(0, 0, 0, 0.3));\n",
              "      fill: #FFFFFF;\n",
              "    }\n",
              "  </style>\n",
              "\n",
              "      <script>\n",
              "        const buttonEl =\n",
              "          document.querySelector('#df-9af8aad9-56ee-47e2-8cb9-19af6410b8d4 button.colab-df-convert');\n",
              "        buttonEl.style.display =\n",
              "          google.colab.kernel.accessAllowed ? 'block' : 'none';\n",
              "\n",
              "        async function convertToInteractive(key) {\n",
              "          const element = document.querySelector('#df-9af8aad9-56ee-47e2-8cb9-19af6410b8d4');\n",
              "          const dataTable =\n",
              "            await google.colab.kernel.invokeFunction('convertToInteractive',\n",
              "                                                     [key], {});\n",
              "          if (!dataTable) return;\n",
              "\n",
              "          const docLinkHtml = 'Like what you see? Visit the ' +\n",
              "            '<a target=\"_blank\" href=https://colab.research.google.com/notebooks/data_table.ipynb>data table notebook</a>'\n",
              "            + ' to learn more about interactive tables.';\n",
              "          element.innerHTML = '';\n",
              "          dataTable['output_type'] = 'display_data';\n",
              "          await google.colab.output.renderOutput(dataTable, element);\n",
              "          const docLink = document.createElement('div');\n",
              "          docLink.innerHTML = docLinkHtml;\n",
              "          element.appendChild(docLink);\n",
              "        }\n",
              "      </script>\n",
              "    </div>\n",
              "  </div>\n",
              "  "
            ]
          },
          "metadata": {},
          "execution_count": 11
        }
      ]
    },
    {
      "cell_type": "code",
      "source": [
        "!sudo apt-get install -y fonts-nanum #폰트 다운로드 리눅스 명령어\n",
        "!sudo fc-cache -f -vv\n",
        "!rm ~/.cache/matplotlib -rf"
      ],
      "metadata": {
        "colab": {
          "base_uri": "https://localhost:8080/"
        },
        "id": "ZQVD0rjwk3qx",
        "outputId": "475aa49d-fb09-4a17-eea0-07a24d38e8da"
      },
      "execution_count": null,
      "outputs": [
        {
          "output_type": "stream",
          "name": "stdout",
          "text": [
            "Reading package lists... Done\n",
            "Building dependency tree       \n",
            "Reading state information... Done\n",
            "fonts-nanum is already the newest version (20170925-1).\n",
            "The following package was automatically installed and is no longer required:\n",
            "  libnvidia-common-460\n",
            "Use 'sudo apt autoremove' to remove it.\n",
            "0 upgraded, 0 newly installed, 0 to remove and 21 not upgraded.\n",
            "/usr/share/fonts: caching, new cache contents: 0 fonts, 1 dirs\n",
            "/usr/share/fonts/truetype: caching, new cache contents: 0 fonts, 3 dirs\n",
            "/usr/share/fonts/truetype/humor-sans: caching, new cache contents: 1 fonts, 0 dirs\n",
            "/usr/share/fonts/truetype/liberation: caching, new cache contents: 16 fonts, 0 dirs\n",
            "/usr/share/fonts/truetype/nanum: caching, new cache contents: 10 fonts, 0 dirs\n",
            "/usr/local/share/fonts: caching, new cache contents: 0 fonts, 0 dirs\n",
            "/root/.local/share/fonts: skipping, no such directory\n",
            "/root/.fonts: skipping, no such directory\n",
            "/var/cache/fontconfig: cleaning cache directory\n",
            "/root/.cache/fontconfig: not cleaning non-existent cache directory\n",
            "/root/.fontconfig: not cleaning non-existent cache directory\n",
            "fc-cache: succeeded\n"
          ]
        }
      ]
    },
    {
      "cell_type": "markdown",
      "source": [
        "이상치 제거한 그래프를 이전 그래프와 비교"
      ],
      "metadata": {
        "id": "Gmcpx1tQl9zg"
      }
    },
    {
      "cell_type": "code",
      "source": [
        "\n",
        "import matplotlib.pyplot as plt\n",
        "plt.rc('font', family = 'NanumBarunGothic') #폰트 지정"
      ],
      "metadata": {
        "id": "LJZDT0DokNom"
      },
      "execution_count": null,
      "outputs": []
    },
    {
      "cell_type": "code",
      "source": [
        "import seaborn as sns"
      ],
      "metadata": {
        "id": "7fjEvXQinCrz"
      },
      "execution_count": null,
      "outputs": []
    },
    {
      "cell_type": "code",
      "source": [
        "fig, ax = plt.subplots(ncols=2, figsize=(10,10))\n",
        "sns.histplot(df[\"노인요양시설\"], ax=ax[0])\n",
        "sns.histplot(data_IQR[\"노인요양시설\"], ax=ax[1])"
      ],
      "metadata": {
        "colab": {
          "base_uri": "https://localhost:8080/",
          "height": 625
        },
        "id": "IZo3HRL7kKOb",
        "outputId": "bb35da8e-0e7a-4239-c79e-eb6910b3d85b"
      },
      "execution_count": null,
      "outputs": [
        {
          "output_type": "execute_result",
          "data": {
            "text/plain": [
              "<matplotlib.axes._subplots.AxesSubplot at 0x7f592aa1a850>"
            ]
          },
          "metadata": {},
          "execution_count": 33
        },
        {
          "output_type": "display_data",
          "data": {
            "text/plain": [
              "<Figure size 720x720 with 2 Axes>"
            ],
            "image/png": "[encoded data removed]"
          },
          "metadata": {
            "needs_background": "light"
          }
        }
      ]
    },
    {
      "cell_type": "code",
      "source": [
        "\n",
        "from matplotlib import pyplot as plt\n",
        "#matplotlib: 정적, 애니메이션 및 대화형 시각화를 생성하기 위한 포괄적인 라이브러리\n",
        "#pyplot:matplotlib가 MATLAB처럼 작동하도록 하는 함수 모음\n",
        "from pandas import DataFrame\n",
        "#pandas:오픈 소스 데이터 분석 및 조작 도구\n",
        "#DataFrame:행과 열로 이루어진 데이터 객체를 만들어 다룰 수 있으며 안정적으로 대용량의 데이터들을 처리하는데 매우 편리한 도구\n",
        "import numpy as np\n",
        "#numpy:행렬/배열 처리 및 연산\n",
        "from pandas import *\n",
        "     "
      ],
      "metadata": {
        "id": "Wp6oJyYliV5e"
      },
      "execution_count": null,
      "outputs": []
    },
    {
      "cell_type": "code",
      "source": [
        "from sklearn.model_selection import train_test_split\n",
        "from sklearn.compose import ColumnTransformer\n",
        "from sklearn.preprocessing import StandardScaler\n",
        "from sklearn.preprocessing import OneHotEncoder\n",
        "from imblearn.over_sampling import SMOTE\n",
        "\n",
        "# 트레인셋 나누는 것과 칼럼트랜스포머, 스케일러 모듈 불러오기"
      ],
      "metadata": {
        "id": "LJ697aDdKNXi"
      },
      "execution_count": null,
      "outputs": []
    },
    {
      "cell_type": "code",
      "source": [
        "df.columns\n",
        "\n",
        "# 칼럼 확인해보기"
      ],
      "metadata": {
        "colab": {
          "base_uri": "https://localhost:8080/"
        },
        "id": "Hlbi4XJVKWtV",
        "outputId": "13cc3a08-bc06-4851-eabf-9e77f000d637"
      },
      "execution_count": null,
      "outputs": [
        {
          "output_type": "execute_result",
          "data": {
            "text/plain": [
              "Index(['시도', '노인요양시설', '공동생활가정', '방문요양', '방문목욕', '주야간보호', '복지용구'], dtype='object')"
            ]
          },
          "metadata": {},
          "execution_count": 28
        }
      ]
    },
    {
      "cell_type": "markdown",
      "source": [
        "# 인공신경망"
      ],
      "metadata": {
        "id": "6FqlpDvWMT_s"
      }
    },
    {
      "cell_type": "code",
      "source": [
        "import numpy as np\n",
        "\n",
        "#1. 변수선택\n",
        "X = df[['방문요양', '공동생활가정', '방문목욕', '주야간보호','복지용구']]\n",
        "Y = df['노인요양시설']\n",
        "\n",
        "#2. train = test split\n",
        "X_train, X_test, Y_train, Y_test = train_test_split(X, Y, test_size=0.3, random_state=0)\n",
        "\n",
        "#3. 데이터 전처리(preprocessing)\n",
        "ct = ColumnTransformer([(\"scaling\", StandardScaler(), ['방문요양', '공동생활가정', '방문목욕', '주야간보호','복지용구'])])\n",
        "ct.fit(X_train)\n",
        "X_train = ct.transform(X_train)\n",
        "X_test = ct.transform(X_test)"
      ],
      "metadata": {
        "id": "CwE_tK1aKYgZ"
      },
      "execution_count": null,
      "outputs": []
    },
    {
      "cell_type": "code",
      "source": [
        "#4. 모델링\n",
        "from sklearn.neural_network import MLPRegressor\n",
        "\n",
        "#4-1. 모델 생성\n",
        "nn_reg_model = MLPRegressor(random_state=0, alpha=1, max_iter=1000, hidden_layer_sizes=[50, 50])\n",
        "                            \n",
        "#5. 모형학습 및 예측\n",
        "nn_reg_model.fit(X_train, Y_train)\n",
        "Y_pred = nn_reg_model.predict(X_test)\n",
        "\n",
        "#6. 결과값 보고\n",
        "print(\"Y predict value: \\n\", Y_pred)\n",
        "print(\"trian accuracy : {:.3f}\".format(nn_reg_model.score(X_train, Y_train)))\n",
        "from sklearn.metrics import mean_squared_error\n",
        "from math import sqrt\n",
        "rmse = sqrt(mean_squared_error(Y_test, Y_pred))\n",
        "print(\"RMSE : {:3f}\".format(rmse)) "
      ],
      "metadata": {
        "colab": {
          "base_uri": "https://localhost:8080/"
        },
        "id": "yuLczyujLOhQ",
        "outputId": "d806983a-3e66-4a6f-9ead-578f8642ce95"
      },
      "execution_count": null,
      "outputs": [
        {
          "output_type": "stream",
          "name": "stdout",
          "text": [
            "Y predict value: \n",
            " [11.05293582  2.05857952  2.55038899 10.96007832 12.56363145 30.9769583\n",
            "  3.81723982 13.89486604  2.00919218 15.33229728  1.33640401 17.00591281\n",
            " 13.07725388  7.73360097 60.42769807  8.91677602 26.13985773 10.05946328\n",
            " 25.02297741 12.99819609 15.95750522 70.3983231  13.59338917 11.62124593\n",
            " 11.22751602  6.59245473 38.24964114 28.19127016  5.93264605  8.88154461\n",
            "  4.65922535 41.69660593 46.33780754 38.04407498 22.0175843   4.50160792\n",
            "  2.37032144 10.38409346  4.84061531  1.43685192  3.13613345  2.53618961\n",
            " 24.99328335 20.49790453 13.06644658 26.16041961  5.69549199 28.84536463\n",
            " 25.57697477  4.99804628 13.80886709 28.54507006  6.83254416 12.85146897\n",
            "  9.54197241 37.40286319  9.97704772 22.23505636  8.91252759 13.1616445\n",
            "  8.6352488  12.44315509 12.24209271  9.88396079 14.65445023  7.01988252\n",
            "  7.56979776 42.29271426 32.25565876 10.79219201  5.37277389  9.77819124\n",
            "  9.99219461 21.45254052 34.59076246]\n",
            "trian accuracy : 0.848\n",
            "RMSE : 14.115676\n"
          ]
        },
        {
          "output_type": "stream",
          "name": "stderr",
          "text": [
            "/usr/local/lib/python3.8/dist-packages/sklearn/neural_network/_multilayer_perceptron.py:692: ConvergenceWarning: Stochastic Optimizer: Maximum iterations (1000) reached and the optimization hasn't converged yet.\n",
            "  warnings.warn(\n"
          ]
        }
      ]
    },
    {
      "cell_type": "markdown",
      "source": [
        "*predict값과 train 정확도 RMSE값 어느정도 잘 나온것 확인*"
      ],
      "metadata": {
        "id": "kuZjL35J3U0-"
      }
    },
    {
      "cell_type": "code",
      "source": [],
      "metadata": {
        "id": "l_2_RX0JL8-r"
      },
      "execution_count": null,
      "outputs": []
    },
    {
      "cell_type": "markdown",
      "source": [
        "딥러닝"
      ],
      "metadata": {
        "id": "xt81nOYmMW4a"
      }
    },
    {
      "cell_type": "code",
      "source": [
        "import warnings\n",
        "warnings.filterwarnings(\"ignore\")\n",
        "\n",
        "# 딥러닝 할 때 경고문이 잘 떠서 무시하는 모듈 소환"
      ],
      "metadata": {
        "id": "B5JG0zmKMdkq"
      },
      "execution_count": null,
      "outputs": []
    },
    {
      "cell_type": "markdown",
      "source": [
        "DNN(Deep learning : Deep Neural Network)"
      ],
      "metadata": {
        "id": "2TgwKyzzMhux"
      }
    },
    {
      "cell_type": "markdown",
      "source": [
        "회귀예측"
      ],
      "metadata": {
        "id": "Gpdt3qYkMkAc"
      }
    },
    {
      "cell_type": "code",
      "source": [
        "df.info()\n",
        "\n",
        "# 예의상 정보 확인인"
      ],
      "metadata": {
        "colab": {
          "base_uri": "https://localhost:8080/"
        },
        "id": "OAoAQnVlyd27",
        "outputId": "d108ca00-2822-4ef6-c303-f56e86b1fa91"
      },
      "execution_count": null,
      "outputs": [
        {
          "output_type": "stream",
          "name": "stdout",
          "text": [
            "<class 'pandas.core.frame.DataFrame'>\n",
            "RangeIndex: 250 entries, 0 to 249\n",
            "Data columns (total 7 columns):\n",
            " #   Column  Non-Null Count  Dtype  \n",
            "---  ------  --------------  -----  \n",
            " 0   시도      250 non-null    object \n",
            " 1   노인요양시설  250 non-null    int64  \n",
            " 2   공동생활가정  250 non-null    float64\n",
            " 3   방문요양    250 non-null    int64  \n",
            " 4   방문목욕    250 non-null    float64\n",
            " 5   주야간보호   250 non-null    float64\n",
            " 6   복지용구    250 non-null    float64\n",
            "dtypes: float64(4), int64(2), object(1)\n",
            "memory usage: 13.8+ KB\n"
          ]
        }
      ]
    },
    {
      "cell_type": "code",
      "source": [
        "import keras\n",
        "import tensorflow as tf\n",
        "\n",
        "#1. 변수선택\n",
        "X = df[['방문요양', '공동생활가정', '방문목욕', '주야간보호','복지용구']]\n",
        "Y = np.log1p(df['노인요양시설'])"
      ],
      "metadata": {
        "id": "WWALMfa7MfmA"
      },
      "execution_count": null,
      "outputs": []
    },
    {
      "cell_type": "code",
      "source": [
        "#2. train - test split\n",
        "X_train, X_test, Y_train, Y_test = train_test_split(X,Y,test_size=0.3, random_state=0)\n",
        "\n",
        "#3 데이터 전처러(preprocessing)\n",
        "scaler = StandardScaler().fit(X_train)\n",
        "X_train = scaler.transform(X_train)\n",
        "X_test = scaler.transform(X_test)\n",
        "\n",
        "#4. seed 값 설정\n",
        "np.random.seed(0)\n",
        "tf.random.set_seed(0)\n",
        "\n",
        "#5. 모형생성\n",
        "model = keras.models.Sequential()\n",
        "model.add(keras.layers.Dense(64, input_dim=5, activation=\"relu\"))\n",
        "model.add(keras.layers.Dense(64, activation=\"relu\"))\n",
        "model.add(keras.layers.Dense(64, activation=\"relu\"))\n",
        "\n",
        "#6. 모형 학습\n",
        "model.compile(loss = \"mse\", optimizer = \"SGD\") # 확률적 경사 하강법(SGD): \n",
        "Y_pred = np.round(model.predict(X_test[:5], verbose=0), 3)\n",
        "print(\"Y predict value \\n\", Y_pred)\n",
        "\n",
        "#7. 모형 평가\n",
        "train_score = model.evaluate(X_train, Y_train,verbose=0)\n",
        "test_score = model.evaluate(X_test, Y_test, verbose=0)\n",
        "print(\"train mse: {:.3f}\".format(train_score))\n",
        "print(\"test mse: {:.3f}\".format(test_score))"
      ],
      "metadata": {
        "colab": {
          "base_uri": "https://localhost:8080/"
        },
        "id": "pofUXe7kxY6a",
        "outputId": "db609133-6fc0-4ce5-aa48-d987a1c70eb7"
      },
      "execution_count": null,
      "outputs": [
        {
          "output_type": "stream",
          "name": "stdout",
          "text": [
            "Y predict value \n",
            " [[0.    0.023 0.    0.    0.    0.223 0.    0.    0.    0.    0.    0.\n",
            "  0.    0.    0.119 0.04  0.001 0.    0.019 0.    0.103 0.    0.236 0.141\n",
            "  0.    0.    0.    0.01  0.    0.    0.077 0.061 0.016 0.068 0.    0.015\n",
            "  0.112 0.    0.    0.    0.022 0.045 0.    0.    0.    0.    0.    0.\n",
            "  0.12  0.108 0.035 0.206 0.    0.    0.038 0.    0.    0.    0.    0.011\n",
            "  0.085 0.    0.01  0.026]\n",
            " [0.    0.    0.092 0.083 0.    0.    0.149 0.    0.202 0.    0.098 0.224\n",
            "  0.015 0.    0.382 0.035 0.044 0.165 0.149 0.    0.    0.    0.488 0.134\n",
            "  0.    0.    0.    0.    0.    0.    0.31  0.    0.    0.09  0.    0.\n",
            "  0.    0.    0.    0.26  0.045 0.    0.    0.    0.    0.    0.065 0.045\n",
            "  0.    0.231 0.004 0.    0.    0.432 0.033 0.    0.284 0.438 0.    0.669\n",
            "  0.    0.    0.345 0.   ]\n",
            " [0.    0.    0.005 0.077 0.    0.    0.001 0.    0.035 0.    0.    0.125\n",
            "  0.003 0.02  0.162 0.111 0.    0.    0.052 0.018 0.009 0.    0.167 0.068\n",
            "  0.    0.    0.    0.045 0.    0.    0.096 0.    0.017 0.036 0.    0.005\n",
            "  0.    0.003 0.    0.02  0.005 0.    0.    0.    0.    0.    0.    0.025\n",
            "  0.    0.08  0.057 0.018 0.    0.105 0.    0.    0.01  0.1   0.    0.162\n",
            "  0.    0.    0.059 0.025]\n",
            " [0.    0.    0.02  0.059 0.    0.    0.088 0.    0.071 0.    0.009 0.147\n",
            "  0.    0.    0.168 0.046 0.    0.068 0.055 0.    0.    0.    0.28  0.088\n",
            "  0.    0.    0.    0.    0.    0.    0.137 0.    0.    0.07  0.    0.\n",
            "  0.    0.    0.    0.141 0.    0.    0.    0.    0.    0.    0.04  0.028\n",
            "  0.    0.124 0.    0.    0.    0.144 0.008 0.    0.079 0.202 0.    0.234\n",
            "  0.    0.    0.124 0.   ]\n",
            " [0.    0.    0.035 0.029 0.    0.    0.059 0.    0.076 0.    0.043 0.099\n",
            "  0.005 0.    0.168 0.027 0.03  0.069 0.062 0.    0.    0.    0.21  0.048\n",
            "  0.    0.    0.    0.    0.    0.    0.12  0.    0.    0.042 0.    0.\n",
            "  0.    0.    0.    0.106 0.    0.    0.    0.    0.    0.    0.024 0.013\n",
            "  0.    0.096 0.01  0.    0.    0.151 0.016 0.    0.115 0.183 0.    0.267\n",
            "  0.    0.    0.149 0.   ]]\n",
            "train mse: 6.712\n",
            "test mse: 7.306\n"
          ]
        }
      ]
    },
    {
      "cell_type": "markdown",
      "source": [
        "train mse와 test mse 확인"
      ],
      "metadata": {
        "id": "I40KWSrH31MW"
      }
    },
    {
      "cell_type": "code",
      "source": [
        "# Predict on the test data\n",
        "predictions = model.predict(test_data)\n",
        "\n",
        "# Calculate the MSE\n",
        "mse = np.mean((predictions - test_labels)**2)\n",
        "\n",
        "# Plot the MSE over the number of epochs\n",
        "plt.plot(range(len(epochs)), mse, label='MSE')\n",
        "plt.xlabel('Epochs')\n",
        "plt.ylabel('MSE')\n",
        "plt.legend()\n",
        "plt.show()"
      ],
      "metadata": {
        "id": "ypjIAcKTNupg",
        "colab": {
          "base_uri": "https://localhost:8080/",
          "height": 250
        },
        "outputId": "bf3262bf-01df-4823-cf9c-11664173d3ac"
      },
      "execution_count": null,
      "outputs": [
        {
          "output_type": "error",
          "ename": "NameError",
          "evalue": "ignored",
          "traceback": [
            "\u001b[0;31m---------------------------------------------------------------------------\u001b[0m",
            "\u001b[0;31mNameError\u001b[0m                                 Traceback (most recent call last)",
            "\u001b[0;32m<ipython-input-25-9bbe95a851d2>\u001b[0m in \u001b[0;36m<module>\u001b[0;34m\u001b[0m\n\u001b[1;32m      1\u001b[0m \u001b[0;31m# Predict on the test data\u001b[0m\u001b[0;34m\u001b[0m\u001b[0;34m\u001b[0m\u001b[0;34m\u001b[0m\u001b[0m\n\u001b[0;32m----> 2\u001b[0;31m \u001b[0mpredictions\u001b[0m \u001b[0;34m=\u001b[0m \u001b[0mmodel\u001b[0m\u001b[0;34m.\u001b[0m\u001b[0mpredict\u001b[0m\u001b[0;34m(\u001b[0m\u001b[0mtest_data\u001b[0m\u001b[0;34m)\u001b[0m\u001b[0;34m\u001b[0m\u001b[0;34m\u001b[0m\u001b[0m\n\u001b[0m\u001b[1;32m      3\u001b[0m \u001b[0;34m\u001b[0m\u001b[0m\n\u001b[1;32m      4\u001b[0m \u001b[0;31m# Calculate the MSE\u001b[0m\u001b[0;34m\u001b[0m\u001b[0;34m\u001b[0m\u001b[0;34m\u001b[0m\u001b[0m\n\u001b[1;32m      5\u001b[0m \u001b[0mmse\u001b[0m \u001b[0;34m=\u001b[0m \u001b[0mnp\u001b[0m\u001b[0;34m.\u001b[0m\u001b[0mmean\u001b[0m\u001b[0;34m(\u001b[0m\u001b[0;34m(\u001b[0m\u001b[0mpredictions\u001b[0m \u001b[0;34m-\u001b[0m \u001b[0mtest_labels\u001b[0m\u001b[0;34m)\u001b[0m\u001b[0;34m**\u001b[0m\u001b[0;36m2\u001b[0m\u001b[0;34m)\u001b[0m\u001b[0;34m\u001b[0m\u001b[0;34m\u001b[0m\u001b[0m\n",
            "\u001b[0;31mNameError\u001b[0m: name 'test_data' is not defined"
          ]
        }
      ]
    },
    {
      "cell_type": "markdown",
      "source": [
        "# 앙상블"
      ],
      "metadata": {
        "id": "DuIJsG4qzqtj"
      }
    },
    {
      "cell_type": "markdown",
      "source": [
        "회귀예측"
      ],
      "metadata": {
        "id": "5ySfVE6WzsYZ"
      }
    },
    {
      "cell_type": "code",
      "source": [
        "#1. 변수선택\n",
        "X = df[['방문요양', '공동생활가정', '방문목욕', '주야간보호','복지용구']]\n",
        "Y = np.log1p(df['노인요양시설'])\n",
        "\n",
        "#2. train - test split\n",
        "X_train, X_test, Y_train, Y_test = train_test_split(X,Y,test_size=0.3, random_state=0)\n",
        "\n",
        "#3 데이터 전처러(preprocessing)\n",
        "scaler = StandardScaler().fit(X_train)\n",
        "X_train = scaler.transform(X_train)\n",
        "X_test = scaler.transform(X_test)"
      ],
      "metadata": {
        "id": "GhBWdhPEzxL1"
      },
      "execution_count": null,
      "outputs": []
    },
    {
      "cell_type": "code",
      "source": [
        "#4. 단일 모형 생성\n",
        "from sklearn.ensemble import VotingRegressor\n",
        "from sklearn.neural_network import MLPRegressor\n",
        "from sklearn.svm import SVR\n",
        "\n",
        "svr = SVR()\n",
        "mlp = MLPRegressor(random_state=0)\n",
        "\n",
        "#5. voting model 생성\n",
        "model = VotingRegressor(estimators = [(\"SVR\", svr), (\"MLP\", mlp)])\n",
        "\n",
        "#6. 모형학습\n",
        "model.fit(X_train, Y_train)\n",
        "\n",
        "#7. 예측 및 모형 성능 평가\n",
        "Y_pred = model.predict(X_test)\n",
        "print(\"Y predict value: \\n\", Y_pred)\n",
        "#8-1. 보팅모형 정확도\n",
        "print(\"voting regressor accuracy(R2) : {0:.3f}\".format(model.score(X_test, Y_test)))\n",
        "#8-2. 개별모형 정확도\n",
        "Regressors = [svr, mlp]\n",
        "for Regressor in Regressors :\n",
        "  Regressor.fit(X_train, Y_train)\n",
        "  Regressor.fit(X_train, Y_train)\n",
        "  class_name = Regressor.__class__.__name__\n",
        "  print(\"{0} accuracy : {1:3f}\".format(class_name, Regressor.score(X_test, Y_test)))"
      ],
      "metadata": {
        "id": "hukb3WSwz7lj"
      },
      "execution_count": null,
      "outputs": []
    },
    {
      "cell_type": "markdown",
      "source": [
        "정확도가 전반적으로 잘 안나오고 MLP accuracy는 완전 이상합니다."
      ],
      "metadata": {
        "id": "OjSMWXHB4xF8"
      }
    },
    {
      "cell_type": "code",
      "source": [],
      "metadata": {
        "id": "A_Ktq4HK0FUL"
      },
      "execution_count": null,
      "outputs": []
    },
    {
      "cell_type": "markdown",
      "source": [
        "# 랜덤포레스트"
      ],
      "metadata": {
        "id": "P9sXzE6Z0bdm"
      }
    },
    {
      "cell_type": "markdown",
      "source": [
        "회귀예측"
      ],
      "metadata": {
        "id": "oU486IwB0eB4"
      }
    },
    {
      "cell_type": "code",
      "source": [
        "#1. 변수선택\n",
        "X = df[['방문요양', '공동생활가정', '방문목욕', '주야간보호','복지용구']]\n",
        "Y = np.log1p(df['노인요양시설'])\n",
        "\n",
        "#2. train - test split\n",
        "X_train, X_test, Y_train, Y_test = train_test_split(X,Y,test_size=0.3, random_state=0)\n",
        "\n",
        "#3 데이터 전처러(preprocessing)\n",
        "scaler = StandardScaler().fit(X_train)\n",
        "X_train = scaler.transform(X_train)\n",
        "X_test = scaler.transform(X_test)"
      ],
      "metadata": {
        "id": "T8z-aXlU0dmu"
      },
      "execution_count": null,
      "outputs": []
    },
    {
      "cell_type": "code",
      "source": [
        "#4. 모형 생성\n",
        "from sklearn.ensemble import RandomForestRegressor\n",
        "model = RandomForestRegressor(random_state = 0, n_estimators = 100, max_depth = 4)\n",
        "\n",
        "#5. 모형 예측 평가\n",
        "model.fit(X_train, Y_train)\n",
        "Y_pred = model.predict(X_test)\n",
        "print(\"Y predict value : \\n\",Y_pred)\n",
        "print(\"accuracy(R2) : {:.3f}\".format(model.score(X_train, Y_train)))\n",
        "rmse = sqrt(mean_squared_error(Y_test, Y_pred))\n",
        "print(\"RMSE :\", rmse)"
      ],
      "metadata": {
        "id": "w2cLJi350q1o"
      },
      "execution_count": null,
      "outputs": []
    },
    {
      "cell_type": "markdown",
      "source": [
        "회귀모델 예측 정확도를 나타내는 R2 accuracy와 실제값과 예측값 사이의 오차를 나타내는 RMSE 모두 만족할만한 수치가 나왔습니다."
      ],
      "metadata": {
        "id": "vzLeO-7Q470F"
      }
    },
    {
      "cell_type": "code",
      "source": [],
      "metadata": {
        "id": "f_QD0aUi5e0E"
      },
      "execution_count": null,
      "outputs": []
    },
    {
      "cell_type": "markdown",
      "source": [
        "# 그래디언트 회귀예측"
      ],
      "metadata": {
        "id": "iy7aWS5i5pOE"
      }
    },
    {
      "cell_type": "code",
      "source": [
        "#1. 변수선택\n",
        "X = df[['방문요양', '공동생활가정', '방문목욕', '주야간보호','복지용구']]\n",
        "Y = np.log1p(df['노인요양시설'])\n",
        "\n",
        "#2. train - test split\n",
        "X_train, X_test, Y_train, Y_test = train_test_split(X,Y,test_size=0.3, random_state=0)\n",
        "\n",
        "#3 데이터 전처러(preprocessing)\n",
        "scaler = StandardScaler().fit(X_train)\n",
        "X_train = scaler.transform(X_train)\n",
        "X_test = scaler.transform(X_test)"
      ],
      "metadata": {
        "id": "56XYLb2i5qlL"
      },
      "execution_count": null,
      "outputs": []
    },
    {
      "cell_type": "code",
      "source": [
        "#4. 모형생성\n",
        "from sklearn.ensemble import GradientBoostingRegressor\n",
        "model = GradientBoostingRegressor(random_state = 0, n_estimators = 100, max_depth = 4, learning_rate = 0.1)\n",
        "\n",
        "#5. 모형 학습 예측\n",
        "model.fit(X_train, Y_train)\n",
        "Y_pred = model.predict(X_test)\n",
        "print(\"Y predict value: \\n\", Y_pred)\n",
        "print(\"accuracy(test) : {:.3f}\".format(model.score(X_test, Y_test)))\n",
        "rmse = sqrt(mean_squared_error(Y_test, Y_pred))\n",
        "print(\"RMSE :\", rmse)"
      ],
      "metadata": {
        "id": "XcxiymBO5rP3"
      },
      "execution_count": null,
      "outputs": []
    },
    {
      "cell_type": "markdown",
      "source": [
        "test 정확도와 RMSE모두 만족할만한 수치로 나왔습니다."
      ],
      "metadata": {
        "id": "UUXO6cGb5x70"
      }
    },
    {
      "cell_type": "code",
      "source": [],
      "metadata": {
        "id": "K7vOueXm5wYU"
      },
      "execution_count": null,
      "outputs": []
    }
  ]
}